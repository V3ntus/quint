{
 "cells": [
  {
   "cell_type": "code",
   "execution_count": 1,
   "metadata": {},
   "outputs": [],
   "source": [
    "from transformers import AutoTokenizer, AutoModelForSeq2SeqLM"
   ]
  },
  {
   "cell_type": "code",
   "execution_count": 2,
   "metadata": {},
   "outputs": [],
   "source": [
    "# sample text\n",
    "\n",
    "text = \"\"\"\n",
    "\n",
    "Most of us have experienced turbulence while traveling: when your plane flies through clashing bodies of air moving at widely different speeds.\n",
    "Severe turbulence can put even the most seasoned flier on edge and make five minutes seem like an eternity. Usually it results in nothing more than a bumpy ride, but in the worst cases it can cause damages and injuries.\n",
    "In nonfatal accidents, turbulence is the leading cause of injuries to flight attendants and passengers, according to the Federal Aviation Administration, and it's one of the most common airline accident types today, according to the US National Transportation Safety Board. It costs US airlines -- due to injuries, delays and damages -- up to $500 million per year, according to the National Center for Atmospheric Research.\n",
    "\"There is a scale for measuring how strong turbulence is,\" says Paul Williams, a professor of atmospheric science at the University of Reading in the UK. \"There's light turbulence, which is a bit of strain against your seat belt, but food service can continue and you can probably walk around the cabin, maybe with some difficulty.\n",
    "\"Then there's moderate turbulence, a definite strain against seat belts, anything that's not secured will be dislodged, and walking is difficult; flight attendants are usually instructed to take their seats.\n",
    "\"The worst kind is severe turbulence: this is stronger than gravity, so it can pin you to your seat and if you're not wearing your seat belt you'll be tossed around inside the cabin. This is the kind of turbulence that causes serious Injuries -- it's been known to break bones, for example.\"\n",
    "\n",
    "\"\"\""
   ]
  },
  {
   "cell_type": "code",
   "execution_count": 3,
   "metadata": {},
   "outputs": [],
   "source": [
    "# set variables\n",
    "summary_min_length = 0\n",
    "summary_max_length = 150"
   ]
  },
  {
   "cell_type": "markdown",
   "metadata": {},
   "source": [
    "## VERSION 1\n",
    "*** model and tokenizer are initialized from hugginface repository ***"
   ]
  },
  {
   "cell_type": "code",
   "execution_count": 4,
   "metadata": {},
   "outputs": [],
   "source": [
    "tokenizer = AutoTokenizer.from_pretrained(\"knkarthick/MEETING-SUMMARY-BART-LARGE-XSUM-SAMSUM-DIALOGSUM\")\n",
    "model = AutoModelForSeq2SeqLM.from_pretrained(\"knkarthick/MEETING-SUMMARY-BART-LARGE-XSUM-SAMSUM-DIALOGSUM\")"
   ]
  },
  {
   "cell_type": "markdown",
   "metadata": {},
   "source": [
    "note: knkarthick model is a pytorch based model"
   ]
  },
  {
   "cell_type": "markdown",
   "metadata": {},
   "source": [
    "## VERSION 2\n",
    "*** model and tokenizer are initialized from local disk ***"
   ]
  },
  {
   "cell_type": "code",
   "execution_count": 5,
   "metadata": {},
   "outputs": [],
   "source": [
    "model = AutoModelForSeq2SeqLM.from_pretrained(\"/Users/jan_kratochvil/code/JanKratochvil1/Final_Project/onnx/model/\")\n",
    "tokenizer = AutoTokenizer.from_pretrained(\"/Users/jan_kratochvil/code/JanKratochvil1/Final_Project/onnx/tokenizer/\")"
   ]
  },
  {
   "cell_type": "markdown",
   "metadata": {},
   "source": [
    "## tokenization and model predictions"
   ]
  },
  {
   "cell_type": "markdown",
   "metadata": {},
   "source": [
    "*** tokenize the input text ***"
   ]
  },
  {
   "cell_type": "code",
   "execution_count": 6,
   "metadata": {},
   "outputs": [],
   "source": [
    "tokens = tokenizer.encode(text, return_tensors='pt', truncation=True)"
   ]
  },
  {
   "cell_type": "markdown",
   "metadata": {},
   "source": [
    "*** call model with tokens input ***"
   ]
  },
  {
   "cell_type": "code",
   "execution_count": 7,
   "metadata": {},
   "outputs": [],
   "source": [
    "ids = model.generate(tokens, min_length=summary_min_length, max_length=summary_max_length)\n",
    "summary = tokenizer.decode(ids[0], skip_special_tokens=True)"
   ]
  },
  {
   "cell_type": "markdown",
   "metadata": {},
   "source": [
    "*** print summary ***"
   ]
  },
  {
   "cell_type": "code",
   "execution_count": 8,
   "metadata": {},
   "outputs": [
    {
     "name": "stdout",
     "output_type": "stream",
     "text": [
      "summary of the input text is: \n",
      "Severe turbulence is the leading cause of injuries to flight attendants and passengers. It costs US airlines up to $500 million per year.\n"
     ]
    }
   ],
   "source": [
    "print(\"summary of the input text is: \")\n",
    "print(summary)"
   ]
  }
 ],
 "metadata": {
  "kernelspec": {
   "display_name": "Python 3.8.12 64-bit ('shims')",
   "language": "python",
   "name": "python3"
  },
  "language_info": {
   "codemirror_mode": {
    "name": "ipython",
    "version": 3
   },
   "file_extension": ".py",
   "mimetype": "text/x-python",
   "name": "python",
   "nbconvert_exporter": "python",
   "pygments_lexer": "ipython3",
   "version": "3.8.12"
  },
  "orig_nbformat": 4,
  "vscode": {
   "interpreter": {
    "hash": "82044278e2c5f7fd168fba520d5268c1317f361e2c92cdba95ccef1badd69173"
   }
  }
 },
 "nbformat": 4,
 "nbformat_minor": 2
}
