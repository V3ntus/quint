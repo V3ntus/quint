{
 "cells": [
  {
   "cell_type": "markdown",
   "metadata": {},
   "source": [
    "Install Berthopic"
   ]
  },
  {
   "cell_type": "code",
   "execution_count": 32,
   "metadata": {},
   "outputs": [],
   "source": [
    "# #!pip install bertopic\n",
    "# !pip install python-docx"
   ]
  },
  {
   "cell_type": "code",
   "execution_count": 222,
   "metadata": {},
   "outputs": [],
   "source": [
    "from bertopic import BERTopic\n",
    "#from sklearn.datasets import fetch_20newsgroups\n",
    "import pandas as pd\n",
    "import nltk"
   ]
  },
  {
   "cell_type": "code",
   "execution_count": 223,
   "metadata": {},
   "outputs": [],
   "source": [
    "with open('../quint/data/sample_texts/joe_rogan_tr.txt') as f:\n",
    "    doc = f.readlines()\n",
    "doc = doc[0].replace(\"?\", \".\")\n",
    "sentences = doc.split('.')\n"
   ]
  },
  {
   "cell_type": "code",
   "execution_count": 224,
   "metadata": {},
   "outputs": [],
   "source": [
    "from nltk.corpus import stopwords \n",
    "import string\n",
    "from nltk.stem.wordnet import WordNetLemmatizer\n",
    "from nltk import word_tokenize \n",
    "\n",
    "def clean (text):\n",
    "    for punctuation in string.punctuation:\n",
    "        text = text.replace(punctuation, ' ') # Remove Punctuation\n",
    "    lowercased = text.lower() # Lower Case\n",
    "    tokenized = word_tokenize(lowercased) # Tokenize\n",
    "    words_only = [word for word in tokenized if word.isalpha()] # Remove numbers\n",
    "    stop_words = set(stopwords.words('english')) # Make stopword list\n",
    "    without_stopwords = [word for word in words_only if not word in stop_words] # Remove Stop Words\n",
    "    lemma=WordNetLemmatizer() # Initiate Lemmatizer\n",
    "    lemmatized = [lemma.lemmatize(word) for word in without_stopwords] # Lemmatize\n",
    "    return lemmatized\n",
    "\n"
   ]
  },
  {
   "cell_type": "code",
   "execution_count": null,
   "metadata": {},
   "outputs": [],
   "source": []
  },
  {
   "cell_type": "code",
   "execution_count": 225,
   "metadata": {},
   "outputs": [],
   "source": [
    "sentences_clean = [' '.join(clean(each)) for each in sentences]"
   ]
  },
  {
   "cell_type": "code",
   "execution_count": 226,
   "metadata": {},
   "outputs": [],
   "source": [
    "data = pd.DataFrame(sentences_clean)\n",
    "data.columns = ['text']\n",
    "data['len'] = data['text'].apply(lambda x: len(x))\n",
    "data['len_cum'] = data['len'].cumsum()\n",
    "data['row'] = sentences"
   ]
  },
  {
   "cell_type": "code",
   "execution_count": 235,
   "metadata": {},
   "outputs": [
    {
     "name": "stderr",
     "output_type": "stream",
     "text": [
      "Batches: 100%|██████████| 60/60 [00:11<00:00,  5.17it/s]\n",
      "2022-08-31 10:32:03,642 - BERTopic - Transformed documents to Embeddings\n",
      "2022-08-31 10:32:08,903 - BERTopic - Reduced dimensionality\n",
      "2022-08-31 10:32:09,103 - BERTopic - Clustered reduced embeddings\n",
      "2022-08-31 10:32:24,192 - BERTopic - Reduced number of topics from 48 to 35\n"
     ]
    }
   ],
   "source": [
    "from bertopic import BERTopic\n",
    "from sklearn.feature_extraction.text import TfidfVectorizer\n",
    "\n",
    "# Train BERTopic with a custom CountVectorizer\n",
    "vectorizer_model = TfidfVectorizer(min_df=5, max_df=95, ngram_range=(1, 3), stop_words=\"english\")\n",
    "topic_model = BERTopic(vectorizer_model=vectorizer_model, language=\"english\", calculate_probabilities=True, verbose=True, nr_topics='auto', n_gram_range=(1, 3),diversity=0.5)\n",
    "topics, probs = topic_model.fit_transform(sentences_clean)"
   ]
  },
  {
   "cell_type": "code",
   "execution_count": 236,
   "metadata": {},
   "outputs": [
    {
     "name": "stderr",
     "output_type": "stream",
     "text": [
      "100it [02:08,  1.29s/it]\n"
     ]
    }
   ],
   "source": [
    "topics_over_time = topic_model.topics_over_time(sentences_clean, topics, data['len_cum'], nr_bins=100)\n"
   ]
  },
  {
   "cell_type": "code",
   "execution_count": null,
   "metadata": {},
   "outputs": [
    {
     "data": {
      "text/html": [
       "<div>\n",
       "<style scoped>\n",
       "    .dataframe tbody tr th:only-of-type {\n",
       "        vertical-align: middle;\n",
       "    }\n",
       "\n",
       "    .dataframe tbody tr th {\n",
       "        vertical-align: top;\n",
       "    }\n",
       "\n",
       "    .dataframe thead th {\n",
       "        text-align: right;\n",
       "    }\n",
       "</style>\n",
       "<table border=\"1\" class=\"dataframe\">\n",
       "  <thead>\n",
       "    <tr style=\"text-align: right;\">\n",
       "      <th></th>\n",
       "      <th>Topic</th>\n",
       "      <th>Words</th>\n",
       "      <th>Frequency</th>\n",
       "      <th>Timestamp</th>\n",
       "      <th>Name</th>\n",
       "    </tr>\n",
       "  </thead>\n",
       "  <tbody>\n",
       "    <tr>\n",
       "      <th>0</th>\n",
       "      <td>-1</td>\n",
       "      <td>work, thing, president, time, program</td>\n",
       "      <td>13</td>\n",
       "      <td>-77.678</td>\n",
       "      <td>-1_thing_president_think_program</td>\n",
       "    </tr>\n",
       "    <tr>\n",
       "      <th>1</th>\n",
       "      <td>0</td>\n",
       "      <td>work, think, state, idea, thing</td>\n",
       "      <td>2</td>\n",
       "      <td>-77.678</td>\n",
       "      <td>0_work_like_think_state</td>\n",
       "    </tr>\n",
       "    <tr>\n",
       "      <th>2</th>\n",
       "      <td>2</td>\n",
       "      <td>thing, like, say, saying, place</td>\n",
       "      <td>1</td>\n",
       "      <td>-77.678</td>\n",
       "      <td>2_like_thing_say_saying</td>\n",
       "    </tr>\n",
       "    <tr>\n",
       "      <th>3</th>\n",
       "      <td>3</td>\n",
       "      <td>like, make, life, country, stuff</td>\n",
       "      <td>2</td>\n",
       "      <td>-77.678</td>\n",
       "      <td>3_yeah_make_life_country</td>\n",
       "    </tr>\n",
       "    <tr>\n",
       "      <th>4</th>\n",
       "      <td>4</td>\n",
       "      <td>government, time, state, say, year</td>\n",
       "      <td>1</td>\n",
       "      <td>-77.678</td>\n",
       "      <td>4_government_time_state_say</td>\n",
       "    </tr>\n",
       "    <tr>\n",
       "      <th>...</th>\n",
       "      <td>...</td>\n",
       "      <td>...</td>\n",
       "      <td>...</td>\n",
       "      <td>...</td>\n",
       "      <td>...</td>\n",
       "    </tr>\n",
       "    <tr>\n",
       "      <th>588</th>\n",
       "      <td>1</td>\n",
       "      <td>government, program, say, state, united state</td>\n",
       "      <td>1</td>\n",
       "      <td>81028.576</td>\n",
       "      <td>1_government_program_say_state</td>\n",
       "    </tr>\n",
       "    <tr>\n",
       "      <th>589</th>\n",
       "      <td>-1</td>\n",
       "      <td>think, thing, president, program, say</td>\n",
       "      <td>10</td>\n",
       "      <td>81355.288</td>\n",
       "      <td>-1_thing_president_think_program</td>\n",
       "    </tr>\n",
       "    <tr>\n",
       "      <th>590</th>\n",
       "      <td>0</td>\n",
       "      <td>think, work, idea, thing, fact</td>\n",
       "      <td>1</td>\n",
       "      <td>81355.288</td>\n",
       "      <td>0_work_like_think_state</td>\n",
       "    </tr>\n",
       "    <tr>\n",
       "      <th>591</th>\n",
       "      <td>1</td>\n",
       "      <td>government, program, say, state, united state</td>\n",
       "      <td>1</td>\n",
       "      <td>81355.288</td>\n",
       "      <td>1_government_program_say_state</td>\n",
       "    </tr>\n",
       "    <tr>\n",
       "      <th>592</th>\n",
       "      <td>3</td>\n",
       "      <td>yeah, make, life, country, stuff</td>\n",
       "      <td>4</td>\n",
       "      <td>81355.288</td>\n",
       "      <td>3_yeah_make_life_country</td>\n",
       "    </tr>\n",
       "  </tbody>\n",
       "</table>\n",
       "<p>593 rows × 5 columns</p>\n",
       "</div>"
      ],
      "text/plain": [
       "     Topic                                          Words  Frequency  \\\n",
       "0       -1          work, thing, president, time, program         13   \n",
       "1        0                work, think, state, idea, thing          2   \n",
       "2        2                thing, like, say, saying, place          1   \n",
       "3        3               like, make, life, country, stuff          2   \n",
       "4        4             government, time, state, say, year          1   \n",
       "..     ...                                            ...        ...   \n",
       "588      1  government, program, say, state, united state          1   \n",
       "589     -1          think, thing, president, program, say         10   \n",
       "590      0                 think, work, idea, thing, fact          1   \n",
       "591      1  government, program, say, state, united state          1   \n",
       "592      3               yeah, make, life, country, stuff          4   \n",
       "\n",
       "     Timestamp                              Name  \n",
       "0      -77.678  -1_thing_president_think_program  \n",
       "1      -77.678           0_work_like_think_state  \n",
       "2      -77.678           2_like_thing_say_saying  \n",
       "3      -77.678          3_yeah_make_life_country  \n",
       "4      -77.678       4_government_time_state_say  \n",
       "..         ...                               ...  \n",
       "588  81028.576    1_government_program_say_state  \n",
       "589  81355.288  -1_thing_president_think_program  \n",
       "590  81355.288           0_work_like_think_state  \n",
       "591  81355.288    1_government_program_say_state  \n",
       "592  81355.288          3_yeah_make_life_country  \n",
       "\n",
       "[593 rows x 5 columns]"
      ]
     },
     "execution_count": 176,
     "metadata": {},
     "output_type": "execute_result"
    }
   ],
   "source": [
    "topics_over_time"
   ]
  },
  {
   "cell_type": "code",
   "execution_count": 213,
   "metadata": {},
   "outputs": [
    {
     "data": {
      "text/html": [
       "<div>\n",
       "<style scoped>\n",
       "    .dataframe tbody tr th:only-of-type {\n",
       "        vertical-align: middle;\n",
       "    }\n",
       "\n",
       "    .dataframe tbody tr th {\n",
       "        vertical-align: top;\n",
       "    }\n",
       "\n",
       "    .dataframe thead th {\n",
       "        text-align: right;\n",
       "    }\n",
       "</style>\n",
       "<table border=\"1\" class=\"dataframe\">\n",
       "  <thead>\n",
       "    <tr style=\"text-align: right;\">\n",
       "      <th></th>\n",
       "      <th>text</th>\n",
       "      <th>len</th>\n",
       "      <th>len_cum</th>\n",
       "    </tr>\n",
       "  </thead>\n",
       "  <tbody>\n",
       "    <tr>\n",
       "      <th>0</th>\n",
       "      <td>okay</td>\n",
       "      <td>4</td>\n",
       "      <td>4</td>\n",
       "    </tr>\n",
       "    <tr>\n",
       "      <th>1</th>\n",
       "      <td>professional</td>\n",
       "      <td>12</td>\n",
       "      <td>16</td>\n",
       "    </tr>\n",
       "    <tr>\n",
       "      <th>2</th>\n",
       "      <td>people like live</td>\n",
       "      <td>16</td>\n",
       "      <td>32</td>\n",
       "    </tr>\n",
       "    <tr>\n",
       "      <th>3</th>\n",
       "      <td>thing like</td>\n",
       "      <td>10</td>\n",
       "      <td>42</td>\n",
       "    </tr>\n",
       "    <tr>\n",
       "      <th>4</th>\n",
       "      <td>taking money russian</td>\n",
       "      <td>20</td>\n",
       "      <td>62</td>\n",
       "    </tr>\n",
       "    <tr>\n",
       "      <th>...</th>\n",
       "      <td>...</td>\n",
       "      <td>...</td>\n",
       "      <td>...</td>\n",
       "    </tr>\n",
       "    <tr>\n",
       "      <th>1884</th>\n",
       "      <td>open possibility</td>\n",
       "      <td>16</td>\n",
       "      <td>81661</td>\n",
       "    </tr>\n",
       "    <tr>\n",
       "      <th>1885</th>\n",
       "      <td>take care</td>\n",
       "      <td>9</td>\n",
       "      <td>81670</td>\n",
       "    </tr>\n",
       "    <tr>\n",
       "      <th>1886</th>\n",
       "      <td>bye</td>\n",
       "      <td>3</td>\n",
       "      <td>81673</td>\n",
       "    </tr>\n",
       "    <tr>\n",
       "      <th>1887</th>\n",
       "      <td>take care</td>\n",
       "      <td>9</td>\n",
       "      <td>81682</td>\n",
       "    </tr>\n",
       "    <tr>\n",
       "      <th>1888</th>\n",
       "      <td></td>\n",
       "      <td>0</td>\n",
       "      <td>81682</td>\n",
       "    </tr>\n",
       "  </tbody>\n",
       "</table>\n",
       "<p>1889 rows × 3 columns</p>\n",
       "</div>"
      ],
      "text/plain": [
       "                      text  len  len_cum\n",
       "0                     okay    4        4\n",
       "1             professional   12       16\n",
       "2         people like live   16       32\n",
       "3               thing like   10       42\n",
       "4     taking money russian   20       62\n",
       "...                    ...  ...      ...\n",
       "1884      open possibility   16    81661\n",
       "1885             take care    9    81670\n",
       "1886                   bye    3    81673\n",
       "1887             take care    9    81682\n",
       "1888                          0    81682\n",
       "\n",
       "[1889 rows x 3 columns]"
      ]
     },
     "execution_count": 213,
     "metadata": {},
     "output_type": "execute_result"
    }
   ],
   "source": [
    "data"
   ]
  },
  {
   "cell_type": "code",
   "execution_count": 250,
   "metadata": {},
   "outputs": [],
   "source": [
    "import numpy as np\n",
    "from scipy.signal import butter,filtfilt\n",
    "\n",
    "# Filter requirements.\n",
    "T = 5.0         # Sample Period\n",
    "fs = 30.0       # sample rate, Hz\n",
    "cutoff = 3      # desired cutoff frequency of the filter, Hz ,      slightly higher than actual 1.2 Hz\n",
    "nyq = 0.4 * fs  # Nyquist Frequency\n",
    "order = 6      # sin wave can be approx represented as quadratic\n",
    "n = int(T * fs) # total number of samples"
   ]
  },
  {
   "cell_type": "code",
   "execution_count": 251,
   "metadata": {},
   "outputs": [],
   "source": [
    "def butter_lowpass_filter(data, cutoff, fs, order):\n",
    "    normal_cutoff = cutoff / nyq\n",
    "    # Get the filter coefficients \n",
    "    b, a = butter(order, normal_cutoff, btype='low', analog=False)\n",
    "    y = filtfilt(b, a, data)\n",
    "    return y\n",
    "\n",
    "topic1 = topics_over_time.loc[topics_over_time.Topic ==1][['Timestamp', 'Frequency']]\n",
    "array = butter_lowpass_filter(topic1['Frequency'],cutoff, fs, order)"
   ]
  },
  {
   "cell_type": "code",
   "execution_count": 252,
   "metadata": {},
   "outputs": [
    {
     "name": "stdout",
     "output_type": "stream",
     "text": [
      " It was a document tailor made to deceive and mislead the Congress and the public of the United States\n",
      " And it was effective in doing that\n",
      " And in 2012, what I realized was this is what real world conspiracies look like, right\n",
      " It doesn't have to be smoking men behind closed doors\n",
      " It's lawyers and politicians\n",
      " It's ordinary people from the working level to the management level who go, if we don't explain this in a certain way, we're all going to lose our jobs or the other way they go, we're going to get something out of this if we all work together\n",
      " Civilization is the history of conspiracy, right\n",
      " What is civilization but a conspiracy for all of us to do better by working together\n",
      " But it's this kind of thing that I think too often we forget because it's boring as hell\n",
      " I want all your listeners, right, to go to the Washington Post because this document that I discovered that really changed me has been published courtesy of the Washington Post\n",
      " It's called the Inspector General's Report on Stellar Wind\n",
      " And you can look at the actual document that I saw that was unredacted, right\n",
      " I had no blacked out pages on mine\n",
      " And what I believe it shows is that some of the most senior officials in the United States, elected and unelected, worked together to actively undermine the rights of the American people to give themselves expanded powers\n",
      " Now, in their defense, they said they were seeking these powers for a good and just and noble cause\n",
      " They say they were trying to keep us safe\n",
      " But that's what they always say\n",
      " That's what every government says\n",
      " That's no different than what the Chinese government says or the Russian government says\n",
      " And the question is, if they are truly keeping us safe, why wouldn't they simply just tell us that\n",
      " Why wouldn't they have that debate in Congress\n",
      " Why wouldn't they put that to a vote\n",
      " Because if they were, and they could convince us that they were, they'd win the vote\n",
      " And particularly we all know, like the Patriot act passed\n",
      " One of the worst pieces of legislation in modern history passed\n",
      " Why didn't we get a vote\n",
      " And I think if you read the report, the answer will be clear\n",
      " So I'm sorry, Joe, I went on for very long\n",
      " No, it was amazing\n",
      " Don't apologize at all\n",
      " It's just completely fascinating that the continuation of this policy came down to one man and the president having this discussion that is much more but literally the president at the heart of it\n",
      " Yes, at the heart of it in every expression of executive power, right\n",
      " And by executive, we mean the white house here, the CIA, the NSA, the FBI, the DOJ, right\n",
      " These guys exist as a part of the executive branch of government in a real way\n",
      " They work for the white house\n",
      " Now, there are laws and regulations and policies that are supposed to say they're supposed to do this and they're supposed to say they're not supposed to do that\n",
      " But when you look at federal regulations, when you look at policies as an employee of government, when you violate these policies, the worst thing that happens to you is you lose your job because there's no criminal penalty for the violation of these laws\n",
      " And so it's very easy for people who exist in these structures, particularly at the very top levels of these structures, to go, look, we have a given set of lawful authorities, and these are defined very broadly to give us leeway, to do whatever it is we think is proper and appropriate and just\n",
      " Now take that proper and appropriate just from the perspective of any given individual, right, any given president\n",
      " Now intersect that with what's good for them politically, and that's where problems begin to arise\n",
      " Now, the safety measure that's supposed to protect us from this in the US\n",
      " System and democracy broadly is these people are supposed to be what are called public officials\n",
      " That means we know their decisions\n",
      " That means we know their policies\n",
      " That means we know their programs and prerogatives and powers like what they are doing both in our name and what they're doing against us\n",
      " And because they are transparent to us, we the people, can then police their activities\n",
      " We can go, I disagree with this\n",
      " We can protest it, we can campaign against it, right\n",
      " We can try to become the president, do whatever\n",
      " They are public officials, and we are private citizens\n",
      " They're not supposed to know anything about us, right\n",
      " Because we, in relative terms, hold no power, and they hold all the power\n",
      " So they have to be under the tightest constraints we need to be in the freest circumstances\n",
      " And yet the rise of the state secrets doctrine, this whole classification system that goes all the way back to last century, about the middle of the last century, I believe, is when it really started getting test in court\n",
      " And I think you know more about this in many cases than I do\n",
      " When you start talking about what happened in the FBI and the CIA and the NSA's sort of old dirty work in the 20th century, they abused their powers repeatedly and continuously\n",
      " They did active harm to domestic politics in the United States\n",
      " The FBI was spying on Martin Luther King and trying to get Martin Luther King to kill himself before the Nobel Prize was going to be awarded\n",
      " In fact, after MLK gave his I Have a Dream speech two days later, the FBI classified him as the greatest national Earth\n",
      " I think it was the greatest national security threat in the United States\n",
      " And yet this is the FBI\n",
      " This is the group that everybody's applauding today saying all these wonderful patriots and heroes\n",
      " Now, I'm not saying everybody the FBI is bad\n",
      " I'm not saying everybody at the CIA and the NSA is bad\n",
      " I'm saying that you don't become patriot based on where you work\n",
      " Patriotism is not about loyalty to government\n",
      " Patriotism, in fact, it's not about loyalty to anything\n",
      " Patriotism is a constant effort to do good for the people of your country, right\n",
      " It's not about the government\n",
      " It's not about the state\n",
      " We'll get into loyalty later because I think one of the big criticisms against me that should be talked about is they go, look, this guy is disloyal\n",
      " He broke an oath\n",
      " He did whatever\n",
      " Loyalty is a good thing when it's in the service of something good, but it is only good when it's in the service of something good\n",
      " If you're loyal to a bad person, if you're loyal to a bad program, if you're loyal to a bad government, that loyalty is actively harmful\n",
      " And I think that's overlooked\n",
      " But, yeah, when you get back into this whole thing about sort of where it came from, why it happened, how it could come out of just this small group, and then they could slowly kind of poison by implication, by complicity, by bringing them into the conspiracy and then having them not say anything about it, a wider and wider broad body of people\n",
      " And then once you've got enough people in on it, it's much easier to convince other people that it's legitimate because they can go, look, we've got 30 people who know about this, and none of them have objected to it\n",
      " Why are you going to object to this\n",
      " All of this derives from the original sin, which is, in a democracy, creating a system of government that is, in fact, a secret government, a body of secret law, a body of secret policy that is far beyond what legitimate government secrets could be\n",
      " This is not to say, like, government can have no secrecy at all if the government wants to investigate someone without having them respond, right\n",
      " We're talking traditional law enforcement\n",
      " Sure you're not going to tell this mobster, hey, we're going to start investigating you\n",
      " We, the public, don't need to know the names of every terrorist\n",
      " Suspect out in the world, right\n",
      " But we do need to know again the powers and programs, the policies that the government is asserting, at least the broad outlines of it, because otherwise, how can we control it\n",
      " How do we know if the government is applying its authorities that are supposed to be granted to it by us if we don't know what it is that they're doing\n",
      " This is the main thing\n",
      " And really the story behind the title Permanent Record is, look, Joe, when I was a kid, when you were a teenager running, like, what's the worst thing you ever said\n",
      " Did you say anything you weren't proud of\n",
      " Did you do anything that you weren't proud of\n",
      " Something that today, in, like the wokeest of Twitterland, you would get in trouble for, I'm sure\n",
      " And that's right\n",
      " One of the horrible things about kids growing up today is that they do have all this stuff out there on social media forever, and they can be judged horribly by something they did when they were 13\n",
      " It's exactly that\n",
      " Our worst mistakes are our deepest shames were forgotten\n",
      " They were lost\n",
      " They were ephemeral\n",
      " Even the things we did get caught for, they were known for a time\n",
      " Maybe they're still remembered by people who are closest to us, whether we like them or dislike them\n",
      " But there were people connected to us\n",
      " Now we're forced to live in a real way, naked before power\n",
      " Whether we're talking about Facebook, whether we're talking about Google, whether we're talking about the government of any country, they know everything about us, or much about us, rather, and we know very little about them, and we're not allowed to know more\n",
      " Everything that we do now lasts forever, not because we want to remember, but because we're not allowed to forget\n",
      " Just carrying a phone in your pocket is enough for your movements to be moralized, because every cell phone tower that you pass is keeping a record of that\n",
      " And at and T keeps those records going back to 2008 under a program called Hemisphere\n",
      " If you search for Hemisphere and at and T, you'll get a story in the Daily Beast about it\n",
      " At Amp\n",
      " T keeps your phone records going back to if any of your listeners were born after 1983, right\n",
      " Born after me\n",
      " Or it might be 1987, if they were born after 1987 and they're an at and T customer, or their calls across ATC's network\n",
      " At and T has every phone call they ever made, rather the record that it happened, not necessarily the content that's on the phone call\n",
      " Let me turn this around for you, Joe, because I feel like I've just been given a speech\n",
      " When you look at this stuff, right, when you look at what's happening with government, when you look at what's happening with the Trump White House, the Obama White House, the Bush White House, you could see this trend happening\n",
      " When you look at what's happening with Facebook\n",
      " When you look at what's happening with Google, when you look at the fact that you go to every restaurant today and you see people looking at phones, you get on a bus, you get on a subway, you see somebody sitting next to you in traffic, you see people looking at phones\n",
      " These devices are connected all the time now\n",
      " People are getting Alexa right now\n",
      " People have OK, Google, they have Siri on their phones that are in their house\n",
      " They've always got these connected microphones\n",
      " Where do you think this leads, and what is it that gives you sort of trust in the system, faith in the system\n",
      " So we can start a conversation here\n",
      " What strikes you about this\n",
      " Well, it's completely alien and it's new\n",
      " This is something that's unprecedented\n",
      " We don't have a long human history of being completely connected via technology\n",
      " This is something we're navigating right now for the first time\n",
      " And it's probably the most powerful thing that the human race has ever seen in terms of the distribution of information\n",
      " There's nothing that even comes close to it in all of human history\n",
      " And we're figuring it out as we go along\n",
      " And what you exposed is that not only are we figuring out as we go along, but that to cover their ass, the cell phone companies in cahoots with the government have made it legal for them to gather up all of your phone calls, all of your text messages, all of your emails, and store them somewhere\n",
      " So that retroactively\n",
      " If you ever say anything they don't like or do something they don't like, they can go back, find that, and use it against you\n",
      " And we don't know who they are\n",
      " We don't know why they're doing it, and we didn't know they could do it until you exposed it\n",
      " The connection of human beings via technology is both amazing and powerful and incredible in terms of our access to knowledge, but terrifying in terms of the government's ability to track our movements, track your phone calls, track everything\n",
      " And under the guise of protecting us from terrorists and protecting us from sleeper cells, protecting us from attacks, if they really are protecting us from these attacks, that's great, but there's no provision in the Constitution that allows any of this\n",
      " And this is where it gets really squirrely, because they're making up the rules as they go along, and they're making up these rules\n",
      " The way you're describing it is, step by step, this has happened to sort of protect their ass and keep themselves from being implicated in what has been a violation of our rights and our privacy and the Fourth Amendment\n",
      " Yeah, I mean, I think one of the things that everybody needs to understand when you look at these things and the reason we talked about before when I got this information, why I didn't just put it on the Internet and people criticize me for this they go, I didn't share enough information because the journalists are gatekeeping, right\n",
      " They've got a big archive, and they haven't published everything from it, and I told them not to publish everything from it\n",
      " Why did you do that\n",
      " Why did you do that\n",
      " Again, it gets back to legitimate secrets and illegitimate secrets\n",
      " Some spying\n",
      " From my perspective, career spy is okay, right\n",
      " Agreed\n",
      " If you have hacked a terrorist phone and you're getting some information about that, useful\n",
      " Agreed\n",
      " Yeah\n",
      " If you're spying on a Russian general in charge of a rocket division, useful\n",
      " Right\n",
      " But there are lines and degrees in that where it's not useful\n",
      " Now, the examples that I just gave you, these are targeted\n",
      " This is where you're spying on an individual they're known, named person that is being monitored for specific reason that is related, hopefully from a warranty, right\n",
      " Well, even for foreign intelligence, in some indications, you don't need a warrant strictly, although I think they should have warrants for all of these investigations because they established a court for precisely this reason called the Foreign Intelligence Surveillance Court, right\n",
      " And there's not a judge in the world who wouldn't stamp a warrant saying, hey, spy on Abu Jihad over here, right\n",
      " And if you want to spy on another guy, boris Badanov of the rocket Division, right, that's okay\n",
      " They're going to go with that\n",
      " But then you look at these edge cases in the archive that I provided to journalists\n",
      " There have been stories that have come out where they've spied on journalists, right\n",
      " They've spied on human rights groups and these kind of things I think people miss\n",
      " I'm going to throw up some slides here, so forgive me if this gets weird and I put up the wrong ones, but since I came forward, this Foreign Intelligence Surveillance Court that the government says authorized these programs 15 different times was overruled by the first open courts to look at the program\n",
      " These are federal courts here, right, that said, no, actually, these programs are unlawful\n",
      " They're likely unconstitutional\n",
      " When you start looking at the facts, you see even within the context of the very loose restrictions and laws that apply to the NSA and surveillance, they say they broke their own laws 2776 times in a single year\n",
      " And then you ask about that thing that motivates me, like why I came forward\n",
      " We had been trying as a country before I came forward to prove the existence of these programs legally, because this is our means of last sort of recourse in our system\n",
      " We got the executive, we got the legislature, we got the judiciary\n",
      " So Congress makes the laws\n",
      " The executive is supposed to carry them out\n",
      " The courts are supposed to play referee\n",
      " The executive had broken the laws\n",
      " Congress was turning a blind eye to the laws, and the courts were\n",
      " And this is just months before I came forward going, well, it does appear that the ACLU and Amnesty International like all of these human rights groups and nongovernmental organizations had established that these programs are likely unlawful\n",
      " They likely exist, they're simply classified\n",
      " But the government responded with this argument that you just saw\n",
      " Saying that\n",
      " Well\n",
      " It's a state secret if they do exist\n",
      " You\n",
      " The plaintiffs\n",
      " Don't have hard\n",
      " Concrete evidence that they do exist\n",
      " And the government is saying legally\n",
      " You have no right to discover evidence from the government\n",
      " Write documents\n",
      " Demand documents\n",
      " And demand and answers from the government as to whether or not these things exist\n",
      " Because the government's just going to give its standard what they call global response\n",
      " We can neither confirm nor deny that these things exist\n",
      " Which leaves you out in the cold, which leaves the courts out in the cold\n",
      " The courts go, look, the government could be breaking the law here\n",
      " Look, they could be violating the constitution here, but because you can't prove it, and because the government doesn't want to play ball, and the government says if we were doing this, it would be legal and it would be necessary for national security or whatever, the court can't presume to know national security better than the executive because the courts aren't elected\n",
      " And so this leads to this fundamentally broken system where, OK, the only way to have the courts review the legality of the programs is to establish the programs exist, but the programs are classified, so you can't establish they exist unless you have evidence\n",
      " But providing that evidence to courts, to journalists, to anyone, is a felony\n",
      " That's punishable by ten years per count under the espionage act\n",
      " And the government has charged every source of public interest journalism who has really made a significant difference in these kind of cases since Daniel Ellsberg, really going back to that under the same espionage act, it's always the same law\n",
      " And there's no distinction to government between whether you sold information to a foreign government for private benefit or whether you provided information only to journalists for the public interest\n",
      " And then that's a fundamentally harmful thing\n",
      " I think when you look at things that have come in the wake of this, we're talking about the post 2013 court rulings that found what the government was doing was unlawful\n",
      " You see the courts saying actually that leaks, or air quotes leaks can actually be beneficial\n",
      " Leak is used in the governance, and this is from a federal court\n",
      " These are not exactly my biggest supporters\n"
     ]
    }
   ],
   "source": [
    "__ = data.loc[(data['len_cum']>40000) & (data['len_cum']<50000)]\n",
    "for each in __.row:\n",
    "    print(each)"
   ]
  },
  {
   "cell_type": "code",
   "execution_count": 253,
   "metadata": {},
   "outputs": [
    {
     "data": {
      "text/html": [
       "<div>\n",
       "<style scoped>\n",
       "    .dataframe tbody tr th:only-of-type {\n",
       "        vertical-align: middle;\n",
       "    }\n",
       "\n",
       "    .dataframe tbody tr th {\n",
       "        vertical-align: top;\n",
       "    }\n",
       "\n",
       "    .dataframe thead th {\n",
       "        text-align: right;\n",
       "    }\n",
       "</style>\n",
       "<table border=\"1\" class=\"dataframe\">\n",
       "  <thead>\n",
       "    <tr style=\"text-align: right;\">\n",
       "      <th></th>\n",
       "      <th>Topic</th>\n",
       "      <th>Words</th>\n",
       "      <th>Frequency</th>\n",
       "      <th>Timestamp</th>\n",
       "    </tr>\n",
       "  </thead>\n",
       "  <tbody>\n",
       "    <tr>\n",
       "      <th>0</th>\n",
       "      <td>-1</td>\n",
       "      <td>post, sort, happened, mean, government</td>\n",
       "      <td>9</td>\n",
       "      <td>-77.678</td>\n",
       "    </tr>\n",
       "    <tr>\n",
       "      <th>1</th>\n",
       "      <td>0</td>\n",
       "      <td>book, talk, government, like, sort</td>\n",
       "      <td>3</td>\n",
       "      <td>-77.678</td>\n",
       "    </tr>\n",
       "    <tr>\n",
       "      <th>3</th>\n",
       "      <td>4</td>\n",
       "      <td>know, thing, turn, happy, took</td>\n",
       "      <td>2</td>\n",
       "      <td>-77.678</td>\n",
       "    </tr>\n",
       "    <tr>\n",
       "      <th>4</th>\n",
       "      <td>8</td>\n",
       "      <td>book, read, permanent, case, let</td>\n",
       "      <td>4</td>\n",
       "      <td>-77.678</td>\n",
       "    </tr>\n",
       "    <tr>\n",
       "      <th>5</th>\n",
       "      <td>11</td>\n",
       "      <td>okay, sorry, sure, completely, good</td>\n",
       "      <td>1</td>\n",
       "      <td>-77.678</td>\n",
       "    </tr>\n",
       "    <tr>\n",
       "      <th>...</th>\n",
       "      <td>...</td>\n",
       "      <td>...</td>\n",
       "      <td>...</td>\n",
       "      <td>...</td>\n",
       "    </tr>\n",
       "    <tr>\n",
       "      <th>730</th>\n",
       "      <td>16</td>\n",
       "      <td>happening, kind, time, actively, chance</td>\n",
       "      <td>1</td>\n",
       "      <td>80865.220</td>\n",
       "    </tr>\n",
       "    <tr>\n",
       "      <th>731</th>\n",
       "      <td>19</td>\n",
       "      <td>say, said, yeah, told, maybe</td>\n",
       "      <td>1</td>\n",
       "      <td>80865.220</td>\n",
       "    </tr>\n",
       "    <tr>\n",
       "      <th>732</th>\n",
       "      <td>23</td>\n",
       "      <td>record, permanent, called, read, warrant</td>\n",
       "      <td>1</td>\n",
       "      <td>80865.220</td>\n",
       "    </tr>\n",
       "    <tr>\n",
       "      <th>733</th>\n",
       "      <td>27</td>\n",
       "      <td>really, body, good, pretty, man</td>\n",
       "      <td>4</td>\n",
       "      <td>80865.220</td>\n",
       "    </tr>\n",
       "    <tr>\n",
       "      <th>734</th>\n",
       "      <td>29</td>\n",
       "      <td>beginning, lot people, reason, think, big</td>\n",
       "      <td>1</td>\n",
       "      <td>80865.220</td>\n",
       "    </tr>\n",
       "  </tbody>\n",
       "</table>\n",
       "<p>676 rows × 4 columns</p>\n",
       "</div>"
      ],
      "text/plain": [
       "     Topic                                      Words  Frequency  Timestamp\n",
       "0       -1     post, sort, happened, mean, government          9    -77.678\n",
       "1        0         book, talk, government, like, sort          3    -77.678\n",
       "3        4             know, thing, turn, happy, took          2    -77.678\n",
       "4        8           book, read, permanent, case, let          4    -77.678\n",
       "5       11        okay, sorry, sure, completely, good          1    -77.678\n",
       "..     ...                                        ...        ...        ...\n",
       "730     16    happening, kind, time, actively, chance          1  80865.220\n",
       "731     19               say, said, yeah, told, maybe          1  80865.220\n",
       "732     23   record, permanent, called, read, warrant          1  80865.220\n",
       "733     27            really, body, good, pretty, man          4  80865.220\n",
       "734     29  beginning, lot people, reason, think, big          1  80865.220\n",
       "\n",
       "[676 rows x 4 columns]"
      ]
     },
     "execution_count": 253,
     "metadata": {},
     "output_type": "execute_result"
    }
   ],
   "source": [
    "topics_over_time_clean"
   ]
  },
  {
   "cell_type": "code",
   "execution_count": 254,
   "metadata": {},
   "outputs": [
    {
     "data": {
      "text/plain": [
       "Timestamp\n",
       "-77.678       24\n",
       " 820.780      29\n",
       " 1637.560     28\n",
       " 2454.340     29\n",
       " 3271.120     22\n",
       "              ..\n",
       " 77598.100    18\n",
       " 78414.880    29\n",
       " 79231.660    23\n",
       " 80048.440    23\n",
       " 80865.220    29\n",
       "Name: Topic, Length: 100, dtype: int64"
      ]
     },
     "execution_count": 254,
     "metadata": {},
     "output_type": "execute_result"
    }
   ],
   "source": [
    "topics_over_time_clean = topics_over_time.loc[topics_over_time.Topic != 1]\n",
    "topics_over_time_clean.groupby('Timestamp')['Topic'].max()"
   ]
  },
  {
   "cell_type": "code",
   "execution_count": 256,
   "metadata": {},
   "outputs": [
    {
     "data": {
      "image/png": "[encoded data removed]",
      "text/plain": [
       "<Figure size 640x480 with 1 Axes>"
      ]
     },
     "metadata": {},
     "output_type": "display_data"
    }
   ],
   "source": [
    "import seaborn as sns\n",
    "df_final = pd.DataFrame()\n",
    "for each in set(topics_over_time['Topic']) - set([-1]):\n",
    "    try:\n",
    "        df_temp = topics_over_time.loc[topics_over_time.Topic == each][['Timestamp', 'Frequency']]\n",
    "        array = butter_lowpass_filter(df_temp['Frequency'],cutoff, fs, order)\n",
    "        sns.lineplot(y=array, x=df_temp['Timestamp'], label=each)\n",
    "        \n",
    "    except Exception:\n",
    "        continue"
   ]
  },
  {
   "cell_type": "code",
   "execution_count": 244,
   "metadata": {},
   "outputs": [
    {
     "data": {
      "text/html": [
       "<div>\n",
       "<style scoped>\n",
       "    .dataframe tbody tr th:only-of-type {\n",
       "        vertical-align: middle;\n",
       "    }\n",
       "\n",
       "    .dataframe tbody tr th {\n",
       "        vertical-align: top;\n",
       "    }\n",
       "\n",
       "    .dataframe thead th {\n",
       "        text-align: right;\n",
       "    }\n",
       "</style>\n",
       "<table border=\"1\" class=\"dataframe\">\n",
       "  <thead>\n",
       "    <tr style=\"text-align: right;\">\n",
       "      <th></th>\n",
       "      <th>Timestamp</th>\n",
       "      <th>Frequency</th>\n",
       "      <th>Topic</th>\n",
       "    </tr>\n",
       "  </thead>\n",
       "  <tbody>\n",
       "    <tr>\n",
       "      <th>1</th>\n",
       "      <td>NaN</td>\n",
       "      <td>2.987334</td>\n",
       "      <td>0</td>\n",
       "    </tr>\n",
       "    <tr>\n",
       "      <th>11</th>\n",
       "      <td>NaN</td>\n",
       "      <td>2.983861</td>\n",
       "      <td>0</td>\n",
       "    </tr>\n",
       "    <tr>\n",
       "      <th>21</th>\n",
       "      <td>NaN</td>\n",
       "      <td>2.921842</td>\n",
       "      <td>0</td>\n",
       "    </tr>\n",
       "    <tr>\n",
       "      <th>32</th>\n",
       "      <td>NaN</td>\n",
       "      <td>2.767925</td>\n",
       "      <td>0</td>\n",
       "    </tr>\n",
       "    <tr>\n",
       "      <th>40</th>\n",
       "      <td>NaN</td>\n",
       "      <td>2.535044</td>\n",
       "      <td>0</td>\n",
       "    </tr>\n",
       "    <tr>\n",
       "      <th>...</th>\n",
       "      <td>...</td>\n",
       "      <td>...</td>\n",
       "      <td>...</td>\n",
       "    </tr>\n",
       "    <tr>\n",
       "      <th>698</th>\n",
       "      <td>NaN</td>\n",
       "      <td>3.835018</td>\n",
       "      <td>0</td>\n",
       "    </tr>\n",
       "    <tr>\n",
       "      <th>702</th>\n",
       "      <td>NaN</td>\n",
       "      <td>3.935450</td>\n",
       "      <td>0</td>\n",
       "    </tr>\n",
       "    <tr>\n",
       "      <th>709</th>\n",
       "      <td>NaN</td>\n",
       "      <td>3.578599</td>\n",
       "      <td>0</td>\n",
       "    </tr>\n",
       "    <tr>\n",
       "      <th>716</th>\n",
       "      <td>NaN</td>\n",
       "      <td>2.850561</td>\n",
       "      <td>0</td>\n",
       "    </tr>\n",
       "    <tr>\n",
       "      <th>722</th>\n",
       "      <td>NaN</td>\n",
       "      <td>1.931497</td>\n",
       "      <td>0</td>\n",
       "    </tr>\n",
       "  </tbody>\n",
       "</table>\n",
       "<p>82 rows × 3 columns</p>\n",
       "</div>"
      ],
      "text/plain": [
       "     Timestamp  Frequency  Topic\n",
       "1          NaN   2.987334      0\n",
       "11         NaN   2.983861      0\n",
       "21         NaN   2.921842      0\n",
       "32         NaN   2.767925      0\n",
       "40         NaN   2.535044      0\n",
       "..         ...        ...    ...\n",
       "698        NaN   3.835018      0\n",
       "702        NaN   3.935450      0\n",
       "709        NaN   3.578599      0\n",
       "716        NaN   2.850561      0\n",
       "722        NaN   1.931497      0\n",
       "\n",
       "[82 rows x 3 columns]"
      ]
     },
     "execution_count": 244,
     "metadata": {},
     "output_type": "execute_result"
    }
   ],
   "source": [
    "df_final"
   ]
  },
  {
   "cell_type": "code",
   "execution_count": 188,
   "metadata": {},
   "outputs": [
    {
     "data": {
      "text/plain": [
       "<AxesSubplot:xlabel='Timestamp'>"
      ]
     },
     "execution_count": 188,
     "metadata": {},
     "output_type": "execute_result"
    },
    {
     "data": {
      "image/png": "[encoded data removed]",
      "text/plain": [
       "<Figure size 640x480 with 1 Axes>"
      ]
     },
     "metadata": {},
     "output_type": "display_data"
    }
   ],
   "source": [
    "topics_over_time_clean.groupby('Timestamp')['Topic'].max()"
   ]
  },
  {
   "cell_type": "code",
   "execution_count": null,
   "metadata": {},
   "outputs": [],
   "source": [
    "for topic in topics_over_time.Topics.unique():\n",
    "    "
   ]
  },
  {
   "cell_type": "code",
   "execution_count": 232,
   "metadata": {},
   "outputs": [
    {
     "data": {
      "application/vnd.plotly.v1+json": {
       "config": {
        "plotlyServerURL": "https://plot.ly"
       },
       "data": [
        {
         "hoverinfo": "text",
         "hovertext": [
          "<b>Topic 0</b><br>Words: record, president, network, information, power",
          "<b>Topic 0</b><br>Words: reason, security, record, president, information",
          "<b>Topic 0</b><br>Words: record, president, information, power, program",
          "<b>Topic 0</b><br>Words: program, record, president, network, information",
          "<b>Topic 0</b><br>Words: record, president, network, information, power",
          "<b>Topic 0</b><br>Words: record, want, history, united state, state",
          "<b>Topic 0</b><br>Words: program, record, president, network, information",
          "<b>Topic 0</b><br>Words: change, president, record, information, power",
          "<b>Topic 0</b><br>Words: started, program, thing, record, president",
          "<b>Topic 0</b><br>Words: community, started, technology, world, president",
          "<b>Topic 0</b><br>Words: started, lot people, community, start, program",
          "<b>Topic 0</b><br>Words: day, record, president, information, power",
          "<b>Topic 0</b><br>Words: bush, position, united state, world, record",
          "<b>Topic 0</b><br>Words: information, record, president, network, power",
          "<b>Topic 0</b><br>Words: sort, thing, record, president, information",
          "<b>Topic 0</b><br>Words: record, power, changed, moment, public",
          "<b>Topic 0</b><br>Words: president, office, year, record, information",
          "<b>Topic 0</b><br>Words: record, president, information, power, program",
          "<b>Topic 0</b><br>Words: happened, record, president, information, program",
          "<b>Topic 0</b><br>Words: government, record, president, information, program",
          "<b>Topic 0</b><br>Words: record, president, information, power, program",
          "<b>Topic 0</b><br>Words: record, president, information, power, program",
          "<b>Topic 0</b><br>Words: power, forward, record, president, information",
          "<b>Topic 0</b><br>Words: record, information, intelligence, thing, president",
          "<b>Topic 0</b><br>Words: information, record, president, power, program",
          "<b>Topic 0</b><br>Words: record, job, president, information, power",
          "<b>Topic 0</b><br>Words: network, community, information, intelligence, power",
          "<b>Topic 0</b><br>Words: record, network, office, agency, job",
          "<b>Topic 0</b><br>Words: job, called, record, president, information",
          "<b>Topic 0</b><br>Words: information, office, heard, day, read",
          "<b>Topic 0</b><br>Words: called, little, came, mean, information",
          "<b>Topic 0</b><br>Words: record, day, united state, government, president",
          "<b>Topic 0</b><br>Words: went, program, record, information, called",
          "<b>Topic 0</b><br>Words: american, power, united state, job, state",
          "<b>Topic 0</b><br>Words: president, executive, power, record, network",
          "<b>Topic 0</b><br>Words: power, president, program, record, information",
          "<b>Topic 0</b><br>Words: record, president, information, power, program",
          "<b>Topic 0</b><br>Words: talking, country, government, president, information",
          "<b>Topic 0</b><br>Words: record, network, today, happening, program",
          "<b>Topic 0</b><br>Words: technology, legal, information, government, record",
          "<b>Topic 0</b><br>Words: information, record, president, network, power",
          "<b>Topic 0</b><br>Words: record, president, network, information, power",
          "<b>Topic 0</b><br>Words: program, thing, record, president, information",
          "<b>Topic 0</b><br>Words: need, record, president, information, program",
          "<b>Topic 0</b><br>Words: record, president, network, information, power",
          "<b>Topic 0</b><br>Words: day, president, program, record, information",
          "<b>Topic 0</b><br>Words: president, record, network, information, power",
          "<b>Topic 0</b><br>Words: president, head, program, record, thing",
          "<b>Topic 0</b><br>Words: president, office, position, record, network",
          "<b>Topic 0</b><br>Words: president, job, power, american, united state",
          "<b>Topic 0</b><br>Words: power, idea, president, government, record",
          "<b>Topic 0</b><br>Words: happy, record, president, information, power",
          "<b>Topic 0</b><br>Words: weird, year, thing, record, president",
          "<b>Topic 0</b><br>Words: record, president, network, information, power",
          "<b>Topic 0</b><br>Words: record, president, network, information, power",
          "<b>Topic 0</b><br>Words: record, president, information, power, program",
          "<b>Topic 0</b><br>Words: big, changed, record, thing, president",
          "<b>Topic 0</b><br>Words: network, change, exist, president, thing",
          "<b>Topic 0</b><br>Words: network, record, president, information, power",
          "<b>Topic 0</b><br>Words: network, talking, record, start, problem",
          "<b>Topic 0</b><br>Words: record, thing, president, network, information",
          "<b>Topic 0</b><br>Words: power, technology, thing like, fact, thing",
          "<b>Topic 0</b><br>Words: open, record, president, network, information",
          "<b>Topic 0</b><br>Words: talk, network, idea, lot people, state",
          "<b>Topic 0</b><br>Words: talk, talking, record, problem, president",
          "<b>Topic 0</b><br>Words: president, united state, government, record, think",
          "<b>Topic 0</b><br>Words: record, information, thing, president, power",
          "<b>Topic 0</b><br>Words: network, sort, record, president, information",
          "<b>Topic 0</b><br>Words: record, legal, network, information, power",
          "<b>Topic 0</b><br>Words: record, house, day, past, president",
          "<b>Topic 0</b><br>Words: record, life, president, network, information",
          "<b>Topic 0</b><br>Words: record, president, network, information, power"
         ],
         "marker": {
          "color": "#E69F00"
         },
         "mode": "lines",
         "name": "0_record_president_network_information",
         "type": "scatter",
         "x": [
          -77.678,
          1637.56,
          2454.34,
          4904.68,
          5721.46,
          7355.02,
          8171.8,
          8988.58,
          9805.36,
          10622.14,
          11438.92,
          12255.7,
          17156.38,
          17973.16,
          18789.94,
          19606.72,
          20423.5,
          22057.06,
          23690.62,
          25324.18,
          26140.96,
          26957.74,
          27774.52,
          28591.3,
          29408.08,
          30224.86,
          31041.64,
          31858.42,
          32675.2,
          33491.98,
          34308.76,
          35942.32,
          36759.1,
          40026.22,
          40843,
          41659.78,
          43293.34,
          44110.12,
          44926.9,
          45743.68,
          46560.46,
          49827.58,
          52277.92,
          53094.7,
          53911.48,
          54728.26,
          55545.04,
          56361.82,
          57178.6,
          57995.38,
          58812.16,
          59628.94,
          60445.72,
          61262.5,
          63712.84,
          66979.96,
          68613.52,
          69430.3,
          70247.08,
          71063.86,
          71880.64,
          72697.42,
          73514.2,
          74330.98,
          75147.76,
          75964.54,
          76781.32,
          77598.1,
          78414.88,
          79231.66,
          80048.44,
          80865.22
         ],
         "y": [
          3,
          3,
          2,
          1,
          1,
          7,
          2,
          1,
          5,
          6,
          4,
          1,
          1,
          1,
          2,
          4,
          4,
          2,
          2,
          3,
          1,
          1,
          3,
          4,
          1,
          5,
          1,
          7,
          3,
          5,
          3,
          1,
          4,
          3,
          2,
          2,
          1,
          1,
          11,
          4,
          2,
          1,
          1,
          2,
          1,
          2,
          1,
          4,
          4,
          4,
          1,
          2,
          4,
          1,
          1,
          1,
          6,
          19,
          8,
          10,
          10,
          10,
          5,
          14,
          13,
          7,
          4,
          6,
          4,
          6,
          13,
          1
         ]
        },
        {
         "hoverinfo": "text",
         "hovertext": [
          "<b>Topic 1</b><br>Words: government, legal, case, state, agency",
          "<b>Topic 1</b><br>Words: case, government, legal, agency, public",
          "<b>Topic 1</b><br>Words: program, idea, government, legal, case",
          "<b>Topic 1</b><br>Words: government, power, couple, legal, case",
          "<b>Topic 1</b><br>Words: legal, government, case, state, public",
          "<b>Topic 1</b><br>Words: changed, secret, case, united state, government",
          "<b>Topic 1</b><br>Words: government, want say, clear, public, legal",
          "<b>Topic 1</b><br>Words: executive, government, legal, case, state",
          "<b>Topic 1</b><br>Words: government, legal, case, state, agency",
          "<b>Topic 1</b><br>Words: government, legal, case, state, agency",
          "<b>Topic 1</b><br>Words: program, government, legal, case, state",
          "<b>Topic 1</b><br>Words: funny, government, agency, community, state",
          "<b>Topic 1</b><br>Words: government, agency, history, legal, case",
          "<b>Topic 1</b><br>Words: government, legal, agency, case, fact",
          "<b>Topic 1</b><br>Words: government, legal, program, case, state",
          "<b>Topic 1</b><br>Words: government, legal, case, state, agency",
          "<b>Topic 1</b><br>Words: information, government, legal, case, state",
          "<b>Topic 1</b><br>Words: history, government, legal, case, state",
          "<b>Topic 1</b><br>Words: changed, government, legal, case, state",
          "<b>Topic 1</b><br>Words: government, legal, case, state, agency",
          "<b>Topic 1</b><br>Words: government, legal, case, state, public",
          "<b>Topic 1</b><br>Words: government, legal, case, state, agency",
          "<b>Topic 1</b><br>Words: need, government, legal, program, case",
          "<b>Topic 1</b><br>Words: happened, government, legal, case, state",
          "<b>Topic 1</b><br>Words: american, intelligence, government, thing, legal",
          "<b>Topic 1</b><br>Words: agency, legal, government, intelligence, program",
          "<b>Topic 1</b><br>Words: government, legal, case, state, agency",
          "<b>Topic 1</b><br>Words: public, government, united state, legal, case",
          "<b>Topic 1</b><br>Words: government, legal, case, state, agency",
          "<b>Topic 1</b><br>Words: government, different, job, legal, case",
          "<b>Topic 1</b><br>Words: public, government, legal, case, state",
          "<b>Topic 1</b><br>Words: government, legal, case, state, agency",
          "<b>Topic 1</b><br>Words: reason, happened, government, legal, state",
          "<b>Topic 1</b><br>Words: government, program, intelligence, group, context",
          "<b>Topic 1</b><br>Words: government, forward, program, group, sort",
          "<b>Topic 1</b><br>Words: government, program, exist, legal, executive",
          "<b>Topic 1</b><br>Words: air, government, legal, case, state",
          "<b>Topic 1</b><br>Words: legal, case, intelligence, problem, government",
          "<b>Topic 1</b><br>Words: place, position, information, government, agency",
          "<b>Topic 1</b><br>Words: group, bush, government, case, agency",
          "<b>Topic 1</b><br>Words: country, fact, government, legal, case",
          "<b>Topic 1</b><br>Words: office, change, history, moment, government",
          "<b>Topic 1</b><br>Words: program, government, legal, case, state",
          "<b>Topic 1</b><br>Words: government, legal, case, state, agency",
          "<b>Topic 1</b><br>Words: government, legal, program, case, state",
          "<b>Topic 1</b><br>Words: state, president, government, say, legal",
          "<b>Topic 1</b><br>Words: government, thing like, legal, case, agency",
          "<b>Topic 1</b><br>Words: life, government, legal, program, case",
          "<b>Topic 1</b><br>Words: government, program, chance, mean, thing",
          "<b>Topic 1</b><br>Words: government, fact, lot people, believe, say",
          "<b>Topic 1</b><br>Words: government, context, case, united state, public",
          "<b>Topic 1</b><br>Words: head, government, context, thing like, legal",
          "<b>Topic 1</b><br>Words: government, long time, state, country, story",
          "<b>Topic 1</b><br>Words: government, context, united state, president, legal",
          "<b>Topic 1</b><br>Words: case, government, history, year, legal",
          "<b>Topic 1</b><br>Words: government, home, thing think, story, say",
          "<b>Topic 1</b><br>Words: state, government, legal, case, agency",
          "<b>Topic 1</b><br>Words: matter, government, legal, case, state",
          "<b>Topic 1</b><br>Words: government, legal, case, state, agency",
          "<b>Topic 1</b><br>Words: state, government, legal, program, case",
          "<b>Topic 1</b><br>Words: technology, government, legal, case, state",
          "<b>Topic 1</b><br>Words: legal, government, case, talked, state",
          "<b>Topic 1</b><br>Words: government, legal, program, case, state",
          "<b>Topic 1</b><br>Words: record, case, government, legal, state",
          "<b>Topic 1</b><br>Words: change, government, information, problem, legal"
         ],
         "marker": {
          "color": "#56B4E9"
         },
         "mode": "lines",
         "name": "1_government_legal_case_state",
         "type": "scatter",
         "x": [
          -77.678,
          820.78,
          2454.34,
          3271.12,
          4087.9,
          4904.68,
          5721.46,
          6538.24,
          7355.02,
          8171.8,
          8988.58,
          10622.14,
          13889.26,
          15522.82,
          17156.38,
          17973.16,
          18789.94,
          20423.5,
          21240.28,
          27774.52,
          30224.86,
          32675.2,
          35125.54,
          35942.32,
          36759.1,
          37575.88,
          38392.66,
          39209.44,
          40026.22,
          40843,
          41659.78,
          42476.56,
          46560.46,
          47377.24,
          48194.02,
          49010.8,
          49827.58,
          50644.36,
          51461.14,
          52277.92,
          53094.7,
          53911.48,
          54728.26,
          55545.04,
          56361.82,
          57995.38,
          58812.16,
          60445.72,
          61262.5,
          62079.28,
          62896.06,
          63712.84,
          64529.62,
          65346.4,
          66163.18,
          66979.96,
          68613.52,
          71063.86,
          73514.2,
          76781.32,
          77598.1,
          78414.88,
          79231.66,
          80048.44,
          80865.22
         ],
         "y": [
          1,
          2,
          3,
          4,
          2,
          5,
          5,
          2,
          1,
          3,
          1,
          2,
          2,
          3,
          4,
          1,
          1,
          3,
          1,
          1,
          1,
          2,
          1,
          1,
          6,
          4,
          1,
          4,
          1,
          5,
          3,
          3,
          4,
          7,
          11,
          3,
          2,
          5,
          1,
          3,
          1,
          2,
          1,
          1,
          1,
          1,
          4,
          3,
          11,
          8,
          11,
          4,
          7,
          5,
          7,
          6,
          1,
          1,
          1,
          2,
          4,
          7,
          2,
          1,
          3
         ]
        },
        {
         "hoverinfo": "text",
         "hovertext": [
          "<b>Topic 2</b><br>Words: thing like, past, went, happy, context",
          "<b>Topic 2</b><br>Words: context, thing like, past, moment, went",
          "<b>Topic 2</b><br>Words: little, remember, said, past, moment",
          "<b>Topic 2</b><br>Words: thing like, past, went, happy, context",
          "<b>Topic 2</b><br>Words: later, thing like, past, moment, went",
          "<b>Topic 2</b><br>Words: wanted, thing like, went, said, happy",
          "<b>Topic 2</b><br>Words: thing like, past, went, happy, context",
          "<b>Topic 2</b><br>Words: thing like, past, went, happy, context",
          "<b>Topic 2</b><br>Words: thing like, went, said, happy, context",
          "<b>Topic 2</b><br>Words: past, working, thing like, moment, went",
          "<b>Topic 2</b><br>Words: moment, thing like, past, went, happy",
          "<b>Topic 2</b><br>Words: thing like, past, went, happy, context",
          "<b>Topic 2</b><br>Words: network, went, thing like, past, said",
          "<b>Topic 2</b><br>Words: thing like, past, went, happy, context",
          "<b>Topic 2</b><br>Words: past, thing like, moment, went, context",
          "<b>Topic 2</b><br>Words: thing like, went, said, happy, context",
          "<b>Topic 2</b><br>Words: thing like, pretty, somebody, came, book",
          "<b>Topic 2</b><br>Words: moment, said, thing like, past, went",
          "<b>Topic 2</b><br>Words: thing like, past, went, happy, context",
          "<b>Topic 2</b><br>Words: start, thing like, past, went, happy",
          "<b>Topic 2</b><br>Words: thing like, past, moment, went, context",
          "<b>Topic 2</b><br>Words: mean, time, thing like, moment, said",
          "<b>Topic 2</b><br>Words: thing like, past, went, happy, context",
          "<b>Topic 2</b><br>Words: went, thing like, past, said, happy",
          "<b>Topic 2</b><br>Words: thing like, past, went, happy, context",
          "<b>Topic 2</b><br>Words: thing like, past, went, happy, context",
          "<b>Topic 2</b><br>Words: record, said, story, thing like, past",
          "<b>Topic 2</b><br>Words: thing like, past, went, happy, context",
          "<b>Topic 2</b><br>Words: thing like, past, moment, went, happy",
          "<b>Topic 2</b><br>Words: thing like, past, went, happy, context",
          "<b>Topic 2</b><br>Words: thing like, past, went, happy, context",
          "<b>Topic 2</b><br>Words: thing like, past, went, happy, context",
          "<b>Topic 2</b><br>Words: thing like, past, went, happy, context",
          "<b>Topic 2</b><br>Words: thing like, past, went, happy, context",
          "<b>Topic 2</b><br>Words: thing like, past, went, happy, context",
          "<b>Topic 2</b><br>Words: state, thing like, past, went, happy",
          "<b>Topic 2</b><br>Words: happy, clear, home, thing like, past",
          "<b>Topic 2</b><br>Words: thing like, past, went, said, context",
          "<b>Topic 2</b><br>Words: thing like, past, went, happy, context",
          "<b>Topic 2</b><br>Words: thing like, past, went, said, happy",
          "<b>Topic 2</b><br>Words: thing like, past, went, happy, context",
          "<b>Topic 2</b><br>Words: thing like, past, went, happy, context",
          "<b>Topic 2</b><br>Words: thing like, past, went, happy, context"
         ],
         "marker": {
          "color": "#009E73"
         },
         "mode": "lines",
         "name": "2_thing like_past_went_happy",
         "type": "scatter",
         "x": [
          -77.678,
          820.78,
          1637.56,
          2454.34,
          4904.68,
          5721.46,
          7355.02,
          8988.58,
          9805.36,
          11438.92,
          12255.7,
          13889.26,
          14706.04,
          17156.38,
          19606.72,
          21240.28,
          22873.84,
          23690.62,
          24507.4,
          26140.96,
          26957.74,
          29408.08,
          31858.42,
          40843,
          41659.78,
          43293.34,
          44110.12,
          44926.9,
          45743.68,
          47377.24,
          50644.36,
          52277.92,
          53911.48,
          58812.16,
          59628.94,
          63712.84,
          66979.96,
          68613.52,
          70247.08,
          71063.86,
          72697.42,
          78414.88,
          80865.22
         ],
         "y": [
          3,
          1,
          5,
          1,
          1,
          1,
          1,
          2,
          1,
          1,
          2,
          3,
          2,
          1,
          1,
          2,
          8,
          9,
          2,
          1,
          1,
          2,
          1,
          1,
          1,
          1,
          1,
          1,
          2,
          1,
          4,
          1,
          1,
          1,
          2,
          1,
          1,
          2,
          1,
          1,
          1,
          1,
          1
         ]
        },
        {
         "hoverinfo": "text",
         "hovertext": [
          "<b>Topic 3</b><br>Words: people, country, matter, world, moment",
          "<b>Topic 3</b><br>Words: threat, government, country, matter, world",
          "<b>Topic 3</b><br>Words: people, country, matter, world, moment",
          "<b>Topic 3</b><br>Words: happened, government, country, matter, world",
          "<b>Topic 3</b><br>Words: country, everybody, matter, world, moment",
          "<b>Topic 3</b><br>Words: people, country, matter, world, moment",
          "<b>Topic 3</b><br>Words: moment, secret, agency, fact, country",
          "<b>Topic 3</b><br>Words: feel, country, matter, world, moment",
          "<b>Topic 3</b><br>Words: matter, country, moment, start, world",
          "<b>Topic 3</b><br>Words: moment, place, believe, happen, government",
          "<b>Topic 3</b><br>Words: feel, country, matter, forget, united",
          "<b>Topic 3</b><br>Words: country, matter, world, moment, people",
          "<b>Topic 3</b><br>Words: people, country, matter, world, moment",
          "<b>Topic 3</b><br>Words: people, matter, world, government, group",
          "<b>Topic 3</b><br>Words: country, matter, moment, government, saying",
          "<b>Topic 3</b><br>Words: say, country, matter, world, moment",
          "<b>Topic 3</b><br>Words: country, matter, world, moment, people",
          "<b>Topic 3</b><br>Words: country, matter, world, moment, government",
          "<b>Topic 3</b><br>Words: country, saying, group, talked, everybody",
          "<b>Topic 3</b><br>Words: program, government, country, world, people",
          "<b>Topic 3</b><br>Words: country, problem, matter, world, people",
          "<b>Topic 3</b><br>Words: bad, country, look, people, matter",
          "<b>Topic 3</b><br>Words: group, technology, fact, program, country",
          "<b>Topic 3</b><br>Words: saying, people, country, matter, world",
          "<b>Topic 3</b><br>Words: clear, world, happening, government, country",
          "<b>Topic 3</b><br>Words: country, people, think, matter, world",
          "<b>Topic 3</b><br>Words: american, everybody, country, matter, world",
          "<b>Topic 3</b><br>Words: happy, people, country, matter, world",
          "<b>Topic 3</b><br>Words: world, day, matter, end, country",
          "<b>Topic 3</b><br>Words: country, matter, world, moment, government",
          "<b>Topic 3</b><br>Words: people, country, matter, world, moment",
          "<b>Topic 3</b><br>Words: matter, country, world, moment, people",
          "<b>Topic 3</b><br>Words: country, matter, world, moment, people",
          "<b>Topic 3</b><br>Words: country, matter, world, moment, people"
         ],
         "marker": {
          "color": "#F0E442"
         },
         "mode": "lines",
         "name": "3_country_matter_world_moment",
         "type": "scatter",
         "x": [
          1637.56,
          3271.12,
          4904.68,
          6538.24,
          12255.7,
          13889.26,
          16339.6,
          19606.72,
          20423.5,
          21240.28,
          22057.06,
          28591.3,
          30224.86,
          36759.1,
          38392.66,
          40026.22,
          40843,
          41659.78,
          42476.56,
          43293.34,
          53911.48,
          55545.04,
          56361.82,
          57178.6,
          59628.94,
          64529.62,
          65346.4,
          66979.96,
          67796.74,
          68613.52,
          70247.08,
          71063.86,
          72697.42,
          80865.22
         ],
         "y": [
          1,
          1,
          1,
          1,
          2,
          1,
          2,
          1,
          5,
          3,
          3,
          1,
          2,
          2,
          1,
          1,
          1,
          1,
          7,
          1,
          2,
          2,
          2,
          4,
          5,
          1,
          4,
          3,
          7,
          3,
          1,
          1,
          1,
          3
         ]
        },
        {
         "hoverinfo": "text",
         "hovertext": [
          "<b>Topic 4</b><br>Words: book, day, government, agency, information",
          "<b>Topic 4</b><br>Words: agency, information, work, secret, security",
          "<b>Topic 4</b><br>Words: legal, agency, office, house, information",
          "<b>Topic 4</b><br>Words: agency, information, work, secret, intelligence",
          "<b>Topic 4</b><br>Words: agency, information, work, secret, wanted",
          "<b>Topic 4</b><br>Words: agency, information, work, secret, security",
          "<b>Topic 4</b><br>Words: funny, agency, information, work, secret",
          "<b>Topic 4</b><br>Words: home, past, agency, information, work",
          "<b>Topic 4</b><br>Words: agency, information, work, secret, intelligence",
          "<b>Topic 4</b><br>Words: work, agency, information, secret, intelligence",
          "<b>Topic 4</b><br>Words: network, idea, agency, information, work",
          "<b>Topic 4</b><br>Words: agency, information, work, secret, security",
          "<b>Topic 4</b><br>Words: agency, place, information, country, people",
          "<b>Topic 4</b><br>Words: information, agency, case, wanted, work",
          "<b>Topic 4</b><br>Words: agency, information, work, secret, security",
          "<b>Topic 4</b><br>Words: agency, information, work, secret, security",
          "<b>Topic 4</b><br>Words: agency, information, work, secret, security",
          "<b>Topic 4</b><br>Words: secret, security, work, agency, information",
          "<b>Topic 4</b><br>Words: suddenly, job, security, government, agency",
          "<b>Topic 4</b><br>Words: work, kind, agency, information, secret",
          "<b>Topic 4</b><br>Words: end, basically, agency, information, work",
          "<b>Topic 4</b><br>Words: country, sort, agency, information, work",
          "<b>Topic 4</b><br>Words: working, agency, information, work, secret",
          "<b>Topic 4</b><br>Words: technology, agency, information, work, secret",
          "<b>Topic 4</b><br>Words: history, intelligence, agency, information, work",
          "<b>Topic 4</b><br>Words: seen, network, agency, information, work",
          "<b>Topic 4</b><br>Words: office, work, idea, agency, information",
          "<b>Topic 4</b><br>Words: need, agency, information, work, secret",
          "<b>Topic 4</b><br>Words: program, state, president, house, agency",
          "<b>Topic 4</b><br>Words: executive, house, agency, information, work",
          "<b>Topic 4</b><br>Words: day, power, happened, talking, work",
          "<b>Topic 4</b><br>Words: start, agency, information, work, secret",
          "<b>Topic 4</b><br>Words: american, program, question, agency, information",
          "<b>Topic 4</b><br>Words: agency, information, work, secret, security",
          "<b>Topic 4</b><br>Words: secret, case, thing, agency, information",
          "<b>Topic 4</b><br>Words: head, agency, position, long time, job",
          "<b>Topic 4</b><br>Words: agency, information, work, secret, intelligence",
          "<b>Topic 4</b><br>Words: intelligence, agency, information, work, secret",
          "<b>Topic 4</b><br>Words: agency, information, work, secret, intelligence",
          "<b>Topic 4</b><br>Words: working, agency, information, work, secret",
          "<b>Topic 4</b><br>Words: day, united state, state, intelligence, agency"
         ],
         "marker": {
          "color": "#D55E00"
         },
         "mode": "lines",
         "name": "4_agency_information_work_secret",
         "type": "scatter",
         "x": [
          -77.678,
          2454.34,
          4087.9,
          8171.8,
          9805.36,
          10622.14,
          11438.92,
          12255.7,
          13072.48,
          13889.26,
          14706.04,
          15522.82,
          17156.38,
          17973.16,
          19606.72,
          21240.28,
          23690.62,
          25324.18,
          26140.96,
          26957.74,
          27774.52,
          28591.3,
          29408.08,
          30224.86,
          31041.64,
          31858.42,
          32675.2,
          33491.98,
          38392.66,
          40843,
          42476.56,
          43293.34,
          50644.36,
          52277.92,
          53094.7,
          57995.38,
          60445.72,
          66163.18,
          66979.96,
          72697.42,
          77598.1
         ],
         "y": [
          1,
          1,
          1,
          1,
          1,
          1,
          2,
          6,
          3,
          3,
          1,
          3,
          1,
          5,
          1,
          1,
          1,
          2,
          3,
          4,
          2,
          1,
          5,
          1,
          1,
          1,
          3,
          1,
          2,
          1,
          5,
          1,
          2,
          1,
          2,
          1,
          1,
          1,
          1,
          1,
          1
         ]
        }
       ],
       "layout": {
        "height": 450,
        "hoverlabel": {
         "bgcolor": "white",
         "font": {
          "family": "Rockwell",
          "size": 16
         }
        },
        "legend": {
         "title": {
          "text": "<b>Global Topic Representation"
         }
        },
        "template": {
         "data": {
          "bar": [
           {
            "error_x": {
             "color": "rgb(36,36,36)"
            },
            "error_y": {
             "color": "rgb(36,36,36)"
            },
            "marker": {
             "line": {
              "color": "white",
              "width": 0.5
             },
             "pattern": {
              "fillmode": "overlay",
              "size": 10,
              "solidity": 0.2
             }
            },
            "type": "bar"
           }
          ],
          "barpolar": [
           {
            "marker": {
             "line": {
              "color": "white",
              "width": 0.5
             },
             "pattern": {
              "fillmode": "overlay",
              "size": 10,
              "solidity": 0.2
             }
            },
            "type": "barpolar"
           }
          ],
          "carpet": [
           {
            "aaxis": {
             "endlinecolor": "rgb(36,36,36)",
             "gridcolor": "white",
             "linecolor": "white",
             "minorgridcolor": "white",
             "startlinecolor": "rgb(36,36,36)"
            },
            "baxis": {
             "endlinecolor": "rgb(36,36,36)",
             "gridcolor": "white",
             "linecolor": "white",
             "minorgridcolor": "white",
             "startlinecolor": "rgb(36,36,36)"
            },
            "type": "carpet"
           }
          ],
          "choropleth": [
           {
            "colorbar": {
             "outlinewidth": 1,
             "tickcolor": "rgb(36,36,36)",
             "ticks": "outside"
            },
            "type": "choropleth"
           }
          ],
          "contour": [
           {
            "colorbar": {
             "outlinewidth": 1,
             "tickcolor": "rgb(36,36,36)",
             "ticks": "outside"
            },
            "colorscale": [
             [
              0,
              "#440154"
             ],
             [
              0.1111111111111111,
              "#482878"
             ],
             [
              0.2222222222222222,
              "#3e4989"
             ],
             [
              0.3333333333333333,
              "#31688e"
             ],
             [
              0.4444444444444444,
              "#26828e"
             ],
             [
              0.5555555555555556,
              "#1f9e89"
             ],
             [
              0.6666666666666666,
              "#35b779"
             ],
             [
              0.7777777777777778,
              "#6ece58"
             ],
             [
              0.8888888888888888,
              "#b5de2b"
             ],
             [
              1,
              "#fde725"
             ]
            ],
            "type": "contour"
           }
          ],
          "contourcarpet": [
           {
            "colorbar": {
             "outlinewidth": 1,
             "tickcolor": "rgb(36,36,36)",
             "ticks": "outside"
            },
            "type": "contourcarpet"
           }
          ],
          "heatmap": [
           {
            "colorbar": {
             "outlinewidth": 1,
             "tickcolor": "rgb(36,36,36)",
             "ticks": "outside"
            },
            "colorscale": [
             [
              0,
              "#440154"
             ],
             [
              0.1111111111111111,
              "#482878"
             ],
             [
              0.2222222222222222,
              "#3e4989"
             ],
             [
              0.3333333333333333,
              "#31688e"
             ],
             [
              0.4444444444444444,
              "#26828e"
             ],
             [
              0.5555555555555556,
              "#1f9e89"
             ],
             [
              0.6666666666666666,
              "#35b779"
             ],
             [
              0.7777777777777778,
              "#6ece58"
             ],
             [
              0.8888888888888888,
              "#b5de2b"
             ],
             [
              1,
              "#fde725"
             ]
            ],
            "type": "heatmap"
           }
          ],
          "heatmapgl": [
           {
            "colorbar": {
             "outlinewidth": 1,
             "tickcolor": "rgb(36,36,36)",
             "ticks": "outside"
            },
            "colorscale": [
             [
              0,
              "#440154"
             ],
             [
              0.1111111111111111,
              "#482878"
             ],
             [
              0.2222222222222222,
              "#3e4989"
             ],
             [
              0.3333333333333333,
              "#31688e"
             ],
             [
              0.4444444444444444,
              "#26828e"
             ],
             [
              0.5555555555555556,
              "#1f9e89"
             ],
             [
              0.6666666666666666,
              "#35b779"
             ],
             [
              0.7777777777777778,
              "#6ece58"
             ],
             [
              0.8888888888888888,
              "#b5de2b"
             ],
             [
              1,
              "#fde725"
             ]
            ],
            "type": "heatmapgl"
           }
          ],
          "histogram": [
           {
            "marker": {
             "line": {
              "color": "white",
              "width": 0.6
             }
            },
            "type": "histogram"
           }
          ],
          "histogram2d": [
           {
            "colorbar": {
             "outlinewidth": 1,
             "tickcolor": "rgb(36,36,36)",
             "ticks": "outside"
            },
            "colorscale": [
             [
              0,
              "#440154"
             ],
             [
              0.1111111111111111,
              "#482878"
             ],
             [
              0.2222222222222222,
              "#3e4989"
             ],
             [
              0.3333333333333333,
              "#31688e"
             ],
             [
              0.4444444444444444,
              "#26828e"
             ],
             [
              0.5555555555555556,
              "#1f9e89"
             ],
             [
              0.6666666666666666,
              "#35b779"
             ],
             [
              0.7777777777777778,
              "#6ece58"
             ],
             [
              0.8888888888888888,
              "#b5de2b"
             ],
             [
              1,
              "#fde725"
             ]
            ],
            "type": "histogram2d"
           }
          ],
          "histogram2dcontour": [
           {
            "colorbar": {
             "outlinewidth": 1,
             "tickcolor": "rgb(36,36,36)",
             "ticks": "outside"
            },
            "colorscale": [
             [
              0,
              "#440154"
             ],
             [
              0.1111111111111111,
              "#482878"
             ],
             [
              0.2222222222222222,
              "#3e4989"
             ],
             [
              0.3333333333333333,
              "#31688e"
             ],
             [
              0.4444444444444444,
              "#26828e"
             ],
             [
              0.5555555555555556,
              "#1f9e89"
             ],
             [
              0.6666666666666666,
              "#35b779"
             ],
             [
              0.7777777777777778,
              "#6ece58"
             ],
             [
              0.8888888888888888,
              "#b5de2b"
             ],
             [
              1,
              "#fde725"
             ]
            ],
            "type": "histogram2dcontour"
           }
          ],
          "mesh3d": [
           {
            "colorbar": {
             "outlinewidth": 1,
             "tickcolor": "rgb(36,36,36)",
             "ticks": "outside"
            },
            "type": "mesh3d"
           }
          ],
          "parcoords": [
           {
            "line": {
             "colorbar": {
              "outlinewidth": 1,
              "tickcolor": "rgb(36,36,36)",
              "ticks": "outside"
             }
            },
            "type": "parcoords"
           }
          ],
          "pie": [
           {
            "automargin": true,
            "type": "pie"
           }
          ],
          "scatter": [
           {
            "fillpattern": {
             "fillmode": "overlay",
             "size": 10,
             "solidity": 0.2
            },
            "type": "scatter"
           }
          ],
          "scatter3d": [
           {
            "line": {
             "colorbar": {
              "outlinewidth": 1,
              "tickcolor": "rgb(36,36,36)",
              "ticks": "outside"
             }
            },
            "marker": {
             "colorbar": {
              "outlinewidth": 1,
              "tickcolor": "rgb(36,36,36)",
              "ticks": "outside"
             }
            },
            "type": "scatter3d"
           }
          ],
          "scattercarpet": [
           {
            "marker": {
             "colorbar": {
              "outlinewidth": 1,
              "tickcolor": "rgb(36,36,36)",
              "ticks": "outside"
             }
            },
            "type": "scattercarpet"
           }
          ],
          "scattergeo": [
           {
            "marker": {
             "colorbar": {
              "outlinewidth": 1,
              "tickcolor": "rgb(36,36,36)",
              "ticks": "outside"
             }
            },
            "type": "scattergeo"
           }
          ],
          "scattergl": [
           {
            "marker": {
             "colorbar": {
              "outlinewidth": 1,
              "tickcolor": "rgb(36,36,36)",
              "ticks": "outside"
             }
            },
            "type": "scattergl"
           }
          ],
          "scattermapbox": [
           {
            "marker": {
             "colorbar": {
              "outlinewidth": 1,
              "tickcolor": "rgb(36,36,36)",
              "ticks": "outside"
             }
            },
            "type": "scattermapbox"
           }
          ],
          "scatterpolar": [
           {
            "marker": {
             "colorbar": {
              "outlinewidth": 1,
              "tickcolor": "rgb(36,36,36)",
              "ticks": "outside"
             }
            },
            "type": "scatterpolar"
           }
          ],
          "scatterpolargl": [
           {
            "marker": {
             "colorbar": {
              "outlinewidth": 1,
              "tickcolor": "rgb(36,36,36)",
              "ticks": "outside"
             }
            },
            "type": "scatterpolargl"
           }
          ],
          "scatterternary": [
           {
            "marker": {
             "colorbar": {
              "outlinewidth": 1,
              "tickcolor": "rgb(36,36,36)",
              "ticks": "outside"
             }
            },
            "type": "scatterternary"
           }
          ],
          "surface": [
           {
            "colorbar": {
             "outlinewidth": 1,
             "tickcolor": "rgb(36,36,36)",
             "ticks": "outside"
            },
            "colorscale": [
             [
              0,
              "#440154"
             ],
             [
              0.1111111111111111,
              "#482878"
             ],
             [
              0.2222222222222222,
              "#3e4989"
             ],
             [
              0.3333333333333333,
              "#31688e"
             ],
             [
              0.4444444444444444,
              "#26828e"
             ],
             [
              0.5555555555555556,
              "#1f9e89"
             ],
             [
              0.6666666666666666,
              "#35b779"
             ],
             [
              0.7777777777777778,
              "#6ece58"
             ],
             [
              0.8888888888888888,
              "#b5de2b"
             ],
             [
              1,
              "#fde725"
             ]
            ],
            "type": "surface"
           }
          ],
          "table": [
           {
            "cells": {
             "fill": {
              "color": "rgb(237,237,237)"
             },
             "line": {
              "color": "white"
             }
            },
            "header": {
             "fill": {
              "color": "rgb(217,217,217)"
             },
             "line": {
              "color": "white"
             }
            },
            "type": "table"
           }
          ]
         },
         "layout": {
          "annotationdefaults": {
           "arrowhead": 0,
           "arrowwidth": 1
          },
          "autotypenumbers": "strict",
          "coloraxis": {
           "colorbar": {
            "outlinewidth": 1,
            "tickcolor": "rgb(36,36,36)",
            "ticks": "outside"
           }
          },
          "colorscale": {
           "diverging": [
            [
             0,
             "rgb(103,0,31)"
            ],
            [
             0.1,
             "rgb(178,24,43)"
            ],
            [
             0.2,
             "rgb(214,96,77)"
            ],
            [
             0.3,
             "rgb(244,165,130)"
            ],
            [
             0.4,
             "rgb(253,219,199)"
            ],
            [
             0.5,
             "rgb(247,247,247)"
            ],
            [
             0.6,
             "rgb(209,229,240)"
            ],
            [
             0.7,
             "rgb(146,197,222)"
            ],
            [
             0.8,
             "rgb(67,147,195)"
            ],
            [
             0.9,
             "rgb(33,102,172)"
            ],
            [
             1,
             "rgb(5,48,97)"
            ]
           ],
           "sequential": [
            [
             0,
             "#440154"
            ],
            [
             0.1111111111111111,
             "#482878"
            ],
            [
             0.2222222222222222,
             "#3e4989"
            ],
            [
             0.3333333333333333,
             "#31688e"
            ],
            [
             0.4444444444444444,
             "#26828e"
            ],
            [
             0.5555555555555556,
             "#1f9e89"
            ],
            [
             0.6666666666666666,
             "#35b779"
            ],
            [
             0.7777777777777778,
             "#6ece58"
            ],
            [
             0.8888888888888888,
             "#b5de2b"
            ],
            [
             1,
             "#fde725"
            ]
           ],
           "sequentialminus": [
            [
             0,
             "#440154"
            ],
            [
             0.1111111111111111,
             "#482878"
            ],
            [
             0.2222222222222222,
             "#3e4989"
            ],
            [
             0.3333333333333333,
             "#31688e"
            ],
            [
             0.4444444444444444,
             "#26828e"
            ],
            [
             0.5555555555555556,
             "#1f9e89"
            ],
            [
             0.6666666666666666,
             "#35b779"
            ],
            [
             0.7777777777777778,
             "#6ece58"
            ],
            [
             0.8888888888888888,
             "#b5de2b"
            ],
            [
             1,
             "#fde725"
            ]
           ]
          },
          "colorway": [
           "#1F77B4",
           "#FF7F0E",
           "#2CA02C",
           "#D62728",
           "#9467BD",
           "#8C564B",
           "#E377C2",
           "#7F7F7F",
           "#BCBD22",
           "#17BECF"
          ],
          "font": {
           "color": "rgb(36,36,36)"
          },
          "geo": {
           "bgcolor": "white",
           "lakecolor": "white",
           "landcolor": "white",
           "showlakes": true,
           "showland": true,
           "subunitcolor": "white"
          },
          "hoverlabel": {
           "align": "left"
          },
          "hovermode": "closest",
          "mapbox": {
           "style": "light"
          },
          "paper_bgcolor": "white",
          "plot_bgcolor": "white",
          "polar": {
           "angularaxis": {
            "gridcolor": "rgb(232,232,232)",
            "linecolor": "rgb(36,36,36)",
            "showgrid": false,
            "showline": true,
            "ticks": "outside"
           },
           "bgcolor": "white",
           "radialaxis": {
            "gridcolor": "rgb(232,232,232)",
            "linecolor": "rgb(36,36,36)",
            "showgrid": false,
            "showline": true,
            "ticks": "outside"
           }
          },
          "scene": {
           "xaxis": {
            "backgroundcolor": "white",
            "gridcolor": "rgb(232,232,232)",
            "gridwidth": 2,
            "linecolor": "rgb(36,36,36)",
            "showbackground": true,
            "showgrid": false,
            "showline": true,
            "ticks": "outside",
            "zeroline": false,
            "zerolinecolor": "rgb(36,36,36)"
           },
           "yaxis": {
            "backgroundcolor": "white",
            "gridcolor": "rgb(232,232,232)",
            "gridwidth": 2,
            "linecolor": "rgb(36,36,36)",
            "showbackground": true,
            "showgrid": false,
            "showline": true,
            "ticks": "outside",
            "zeroline": false,
            "zerolinecolor": "rgb(36,36,36)"
           },
           "zaxis": {
            "backgroundcolor": "white",
            "gridcolor": "rgb(232,232,232)",
            "gridwidth": 2,
            "linecolor": "rgb(36,36,36)",
            "showbackground": true,
            "showgrid": false,
            "showline": true,
            "ticks": "outside",
            "zeroline": false,
            "zerolinecolor": "rgb(36,36,36)"
           }
          },
          "shapedefaults": {
           "fillcolor": "black",
           "line": {
            "width": 0
           },
           "opacity": 0.3
          },
          "ternary": {
           "aaxis": {
            "gridcolor": "rgb(232,232,232)",
            "linecolor": "rgb(36,36,36)",
            "showgrid": false,
            "showline": true,
            "ticks": "outside"
           },
           "baxis": {
            "gridcolor": "rgb(232,232,232)",
            "linecolor": "rgb(36,36,36)",
            "showgrid": false,
            "showline": true,
            "ticks": "outside"
           },
           "bgcolor": "white",
           "caxis": {
            "gridcolor": "rgb(232,232,232)",
            "linecolor": "rgb(36,36,36)",
            "showgrid": false,
            "showline": true,
            "ticks": "outside"
           }
          },
          "title": {
           "x": 0.05
          },
          "xaxis": {
           "automargin": true,
           "gridcolor": "rgb(232,232,232)",
           "linecolor": "rgb(36,36,36)",
           "showgrid": false,
           "showline": true,
           "ticks": "outside",
           "title": {
            "standoff": 15
           },
           "zeroline": false,
           "zerolinecolor": "rgb(36,36,36)"
          },
          "yaxis": {
           "automargin": true,
           "gridcolor": "rgb(232,232,232)",
           "linecolor": "rgb(36,36,36)",
           "showgrid": false,
           "showline": true,
           "ticks": "outside",
           "title": {
            "standoff": 15
           },
           "zeroline": false,
           "zerolinecolor": "rgb(36,36,36)"
          }
         }
        },
        "title": {
         "font": {
          "color": "Black",
          "size": 22
         },
         "text": "<b>Topics over Time",
         "x": 0.4,
         "xanchor": "center",
         "y": 0.95,
         "yanchor": "top"
        },
        "width": 1250,
        "xaxis": {
         "showgrid": true
        },
        "yaxis": {
         "showgrid": true,
         "title": {
          "text": "Frequency"
         }
        }
       }
      },
      "text/html": [
       "<div>                            <div id=\"34829023-e20d-4a33-ad01-ca8d1e2c986b\" class=\"plotly-graph-div\" style=\"height:450px; width:1250px;\"></div>            <script type=\"text/javascript\">                require([\"plotly\"], function(Plotly) {                    window.PLOTLYENV=window.PLOTLYENV || {};                                    if (document.getElementById(\"34829023-e20d-4a33-ad01-ca8d1e2c986b\")) {                    Plotly.newPlot(                        \"34829023-e20d-4a33-ad01-ca8d1e2c986b\",                        [{\"hoverinfo\":\"text\",\"hovertext\":[\"<b>Topic 0</b><br>Words: record, president, network, information, power\",\"<b>Topic 0</b><br>Words: reason, security, record, president, information\",\"<b>Topic 0</b><br>Words: record, president, information, power, program\",\"<b>Topic 0</b><br>Words: program, record, president, network, information\",\"<b>Topic 0</b><br>Words: record, president, network, information, power\",\"<b>Topic 0</b><br>Words: record, want, history, united state, state\",\"<b>Topic 0</b><br>Words: program, record, president, network, information\",\"<b>Topic 0</b><br>Words: change, president, record, information, power\",\"<b>Topic 0</b><br>Words: started, program, thing, record, president\",\"<b>Topic 0</b><br>Words: community, started, technology, world, president\",\"<b>Topic 0</b><br>Words: started, lot people, community, start, program\",\"<b>Topic 0</b><br>Words: day, record, president, information, power\",\"<b>Topic 0</b><br>Words: bush, position, united state, world, record\",\"<b>Topic 0</b><br>Words: information, record, president, network, power\",\"<b>Topic 0</b><br>Words: sort, thing, record, president, information\",\"<b>Topic 0</b><br>Words: record, power, changed, moment, public\",\"<b>Topic 0</b><br>Words: president, office, year, record, information\",\"<b>Topic 0</b><br>Words: record, president, information, power, program\",\"<b>Topic 0</b><br>Words: happened, record, president, information, program\",\"<b>Topic 0</b><br>Words: government, record, president, information, program\",\"<b>Topic 0</b><br>Words: record, president, information, power, program\",\"<b>Topic 0</b><br>Words: record, president, information, power, program\",\"<b>Topic 0</b><br>Words: power, forward, record, president, information\",\"<b>Topic 0</b><br>Words: record, information, intelligence, thing, president\",\"<b>Topic 0</b><br>Words: information, record, president, power, program\",\"<b>Topic 0</b><br>Words: record, job, president, information, power\",\"<b>Topic 0</b><br>Words: network, community, information, intelligence, power\",\"<b>Topic 0</b><br>Words: record, network, office, agency, job\",\"<b>Topic 0</b><br>Words: job, called, record, president, information\",\"<b>Topic 0</b><br>Words: information, office, heard, day, read\",\"<b>Topic 0</b><br>Words: called, little, came, mean, information\",\"<b>Topic 0</b><br>Words: record, day, united state, government, president\",\"<b>Topic 0</b><br>Words: went, program, record, information, called\",\"<b>Topic 0</b><br>Words: american, power, united state, job, state\",\"<b>Topic 0</b><br>Words: president, executive, power, record, network\",\"<b>Topic 0</b><br>Words: power, president, program, record, information\",\"<b>Topic 0</b><br>Words: record, president, information, power, program\",\"<b>Topic 0</b><br>Words: talking, country, government, president, information\",\"<b>Topic 0</b><br>Words: record, network, today, happening, program\",\"<b>Topic 0</b><br>Words: technology, legal, information, government, record\",\"<b>Topic 0</b><br>Words: information, record, president, network, power\",\"<b>Topic 0</b><br>Words: record, president, network, information, power\",\"<b>Topic 0</b><br>Words: program, thing, record, president, information\",\"<b>Topic 0</b><br>Words: need, record, president, information, program\",\"<b>Topic 0</b><br>Words: record, president, network, information, power\",\"<b>Topic 0</b><br>Words: day, president, program, record, information\",\"<b>Topic 0</b><br>Words: president, record, network, information, power\",\"<b>Topic 0</b><br>Words: president, head, program, record, thing\",\"<b>Topic 0</b><br>Words: president, office, position, record, network\",\"<b>Topic 0</b><br>Words: president, job, power, american, united state\",\"<b>Topic 0</b><br>Words: power, idea, president, government, record\",\"<b>Topic 0</b><br>Words: happy, record, president, information, power\",\"<b>Topic 0</b><br>Words: weird, year, thing, record, president\",\"<b>Topic 0</b><br>Words: record, president, network, information, power\",\"<b>Topic 0</b><br>Words: record, president, network, information, power\",\"<b>Topic 0</b><br>Words: record, president, information, power, program\",\"<b>Topic 0</b><br>Words: big, changed, record, thing, president\",\"<b>Topic 0</b><br>Words: network, change, exist, president, thing\",\"<b>Topic 0</b><br>Words: network, record, president, information, power\",\"<b>Topic 0</b><br>Words: network, talking, record, start, problem\",\"<b>Topic 0</b><br>Words: record, thing, president, network, information\",\"<b>Topic 0</b><br>Words: power, technology, thing like, fact, thing\",\"<b>Topic 0</b><br>Words: open, record, president, network, information\",\"<b>Topic 0</b><br>Words: talk, network, idea, lot people, state\",\"<b>Topic 0</b><br>Words: talk, talking, record, problem, president\",\"<b>Topic 0</b><br>Words: president, united state, government, record, think\",\"<b>Topic 0</b><br>Words: record, information, thing, president, power\",\"<b>Topic 0</b><br>Words: network, sort, record, president, information\",\"<b>Topic 0</b><br>Words: record, legal, network, information, power\",\"<b>Topic 0</b><br>Words: record, house, day, past, president\",\"<b>Topic 0</b><br>Words: record, life, president, network, information\",\"<b>Topic 0</b><br>Words: record, president, network, information, power\"],\"marker\":{\"color\":\"#E69F00\"},\"mode\":\"lines\",\"name\":\"0_record_president_network_information\",\"x\":[-77.678,1637.56,2454.34,4904.68,5721.46,7355.02,8171.8,8988.58,9805.36,10622.14,11438.92,12255.7,17156.38,17973.16,18789.94,19606.72,20423.5,22057.06,23690.62,25324.18,26140.96,26957.74,27774.52,28591.3,29408.08,30224.86,31041.64,31858.42,32675.2,33491.98,34308.76,35942.32,36759.1,40026.22,40843.0,41659.78,43293.34,44110.12,44926.9,45743.68,46560.46,49827.58,52277.92,53094.7,53911.48,54728.26,55545.04,56361.82,57178.6,57995.38,58812.16,59628.94,60445.72,61262.5,63712.84,66979.96,68613.52,69430.3,70247.08,71063.86,71880.64,72697.42,73514.2,74330.98,75147.76,75964.54,76781.32,77598.1,78414.88,79231.66,80048.44,80865.22],\"y\":[3,3,2,1,1,7,2,1,5,6,4,1,1,1,2,4,4,2,2,3,1,1,3,4,1,5,1,7,3,5,3,1,4,3,2,2,1,1,11,4,2,1,1,2,1,2,1,4,4,4,1,2,4,1,1,1,6,19,8,10,10,10,5,14,13,7,4,6,4,6,13,1],\"type\":\"scatter\"},{\"hoverinfo\":\"text\",\"hovertext\":[\"<b>Topic 1</b><br>Words: government, legal, case, state, agency\",\"<b>Topic 1</b><br>Words: case, government, legal, agency, public\",\"<b>Topic 1</b><br>Words: program, idea, government, legal, case\",\"<b>Topic 1</b><br>Words: government, power, couple, legal, case\",\"<b>Topic 1</b><br>Words: legal, government, case, state, public\",\"<b>Topic 1</b><br>Words: changed, secret, case, united state, government\",\"<b>Topic 1</b><br>Words: government, want say, clear, public, legal\",\"<b>Topic 1</b><br>Words: executive, government, legal, case, state\",\"<b>Topic 1</b><br>Words: government, legal, case, state, agency\",\"<b>Topic 1</b><br>Words: government, legal, case, state, agency\",\"<b>Topic 1</b><br>Words: program, government, legal, case, state\",\"<b>Topic 1</b><br>Words: funny, government, agency, community, state\",\"<b>Topic 1</b><br>Words: government, agency, history, legal, case\",\"<b>Topic 1</b><br>Words: government, legal, agency, case, fact\",\"<b>Topic 1</b><br>Words: government, legal, program, case, state\",\"<b>Topic 1</b><br>Words: government, legal, case, state, agency\",\"<b>Topic 1</b><br>Words: information, government, legal, case, state\",\"<b>Topic 1</b><br>Words: history, government, legal, case, state\",\"<b>Topic 1</b><br>Words: changed, government, legal, case, state\",\"<b>Topic 1</b><br>Words: government, legal, case, state, agency\",\"<b>Topic 1</b><br>Words: government, legal, case, state, public\",\"<b>Topic 1</b><br>Words: government, legal, case, state, agency\",\"<b>Topic 1</b><br>Words: need, government, legal, program, case\",\"<b>Topic 1</b><br>Words: happened, government, legal, case, state\",\"<b>Topic 1</b><br>Words: american, intelligence, government, thing, legal\",\"<b>Topic 1</b><br>Words: agency, legal, government, intelligence, program\",\"<b>Topic 1</b><br>Words: government, legal, case, state, agency\",\"<b>Topic 1</b><br>Words: public, government, united state, legal, case\",\"<b>Topic 1</b><br>Words: government, legal, case, state, agency\",\"<b>Topic 1</b><br>Words: government, different, job, legal, case\",\"<b>Topic 1</b><br>Words: public, government, legal, case, state\",\"<b>Topic 1</b><br>Words: government, legal, case, state, agency\",\"<b>Topic 1</b><br>Words: reason, happened, government, legal, state\",\"<b>Topic 1</b><br>Words: government, program, intelligence, group, context\",\"<b>Topic 1</b><br>Words: government, forward, program, group, sort\",\"<b>Topic 1</b><br>Words: government, program, exist, legal, executive\",\"<b>Topic 1</b><br>Words: air, government, legal, case, state\",\"<b>Topic 1</b><br>Words: legal, case, intelligence, problem, government\",\"<b>Topic 1</b><br>Words: place, position, information, government, agency\",\"<b>Topic 1</b><br>Words: group, bush, government, case, agency\",\"<b>Topic 1</b><br>Words: country, fact, government, legal, case\",\"<b>Topic 1</b><br>Words: office, change, history, moment, government\",\"<b>Topic 1</b><br>Words: program, government, legal, case, state\",\"<b>Topic 1</b><br>Words: government, legal, case, state, agency\",\"<b>Topic 1</b><br>Words: government, legal, program, case, state\",\"<b>Topic 1</b><br>Words: state, president, government, say, legal\",\"<b>Topic 1</b><br>Words: government, thing like, legal, case, agency\",\"<b>Topic 1</b><br>Words: life, government, legal, program, case\",\"<b>Topic 1</b><br>Words: government, program, chance, mean, thing\",\"<b>Topic 1</b><br>Words: government, fact, lot people, believe, say\",\"<b>Topic 1</b><br>Words: government, context, case, united state, public\",\"<b>Topic 1</b><br>Words: head, government, context, thing like, legal\",\"<b>Topic 1</b><br>Words: government, long time, state, country, story\",\"<b>Topic 1</b><br>Words: government, context, united state, president, legal\",\"<b>Topic 1</b><br>Words: case, government, history, year, legal\",\"<b>Topic 1</b><br>Words: government, home, thing think, story, say\",\"<b>Topic 1</b><br>Words: state, government, legal, case, agency\",\"<b>Topic 1</b><br>Words: matter, government, legal, case, state\",\"<b>Topic 1</b><br>Words: government, legal, case, state, agency\",\"<b>Topic 1</b><br>Words: state, government, legal, program, case\",\"<b>Topic 1</b><br>Words: technology, government, legal, case, state\",\"<b>Topic 1</b><br>Words: legal, government, case, talked, state\",\"<b>Topic 1</b><br>Words: government, legal, program, case, state\",\"<b>Topic 1</b><br>Words: record, case, government, legal, state\",\"<b>Topic 1</b><br>Words: change, government, information, problem, legal\"],\"marker\":{\"color\":\"#56B4E9\"},\"mode\":\"lines\",\"name\":\"1_government_legal_case_state\",\"x\":[-77.678,820.78,2454.34,3271.12,4087.9,4904.68,5721.46,6538.24,7355.02,8171.8,8988.58,10622.14,13889.26,15522.82,17156.38,17973.16,18789.94,20423.5,21240.28,27774.52,30224.86,32675.2,35125.54,35942.32,36759.1,37575.88,38392.66,39209.44,40026.22,40843.0,41659.78,42476.56,46560.46,47377.24,48194.02,49010.8,49827.58,50644.36,51461.14,52277.92,53094.7,53911.48,54728.26,55545.04,56361.82,57995.38,58812.16,60445.72,61262.5,62079.28,62896.06,63712.84,64529.62,65346.4,66163.18,66979.96,68613.52,71063.86,73514.2,76781.32,77598.1,78414.88,79231.66,80048.44,80865.22],\"y\":[1,2,3,4,2,5,5,2,1,3,1,2,2,3,4,1,1,3,1,1,1,2,1,1,6,4,1,4,1,5,3,3,4,7,11,3,2,5,1,3,1,2,1,1,1,1,4,3,11,8,11,4,7,5,7,6,1,1,1,2,4,7,2,1,3],\"type\":\"scatter\"},{\"hoverinfo\":\"text\",\"hovertext\":[\"<b>Topic 2</b><br>Words: thing like, past, went, happy, context\",\"<b>Topic 2</b><br>Words: context, thing like, past, moment, went\",\"<b>Topic 2</b><br>Words: little, remember, said, past, moment\",\"<b>Topic 2</b><br>Words: thing like, past, went, happy, context\",\"<b>Topic 2</b><br>Words: later, thing like, past, moment, went\",\"<b>Topic 2</b><br>Words: wanted, thing like, went, said, happy\",\"<b>Topic 2</b><br>Words: thing like, past, went, happy, context\",\"<b>Topic 2</b><br>Words: thing like, past, went, happy, context\",\"<b>Topic 2</b><br>Words: thing like, went, said, happy, context\",\"<b>Topic 2</b><br>Words: past, working, thing like, moment, went\",\"<b>Topic 2</b><br>Words: moment, thing like, past, went, happy\",\"<b>Topic 2</b><br>Words: thing like, past, went, happy, context\",\"<b>Topic 2</b><br>Words: network, went, thing like, past, said\",\"<b>Topic 2</b><br>Words: thing like, past, went, happy, context\",\"<b>Topic 2</b><br>Words: past, thing like, moment, went, context\",\"<b>Topic 2</b><br>Words: thing like, went, said, happy, context\",\"<b>Topic 2</b><br>Words: thing like, pretty, somebody, came, book\",\"<b>Topic 2</b><br>Words: moment, said, thing like, past, went\",\"<b>Topic 2</b><br>Words: thing like, past, went, happy, context\",\"<b>Topic 2</b><br>Words: start, thing like, past, went, happy\",\"<b>Topic 2</b><br>Words: thing like, past, moment, went, context\",\"<b>Topic 2</b><br>Words: mean, time, thing like, moment, said\",\"<b>Topic 2</b><br>Words: thing like, past, went, happy, context\",\"<b>Topic 2</b><br>Words: went, thing like, past, said, happy\",\"<b>Topic 2</b><br>Words: thing like, past, went, happy, context\",\"<b>Topic 2</b><br>Words: thing like, past, went, happy, context\",\"<b>Topic 2</b><br>Words: record, said, story, thing like, past\",\"<b>Topic 2</b><br>Words: thing like, past, went, happy, context\",\"<b>Topic 2</b><br>Words: thing like, past, moment, went, happy\",\"<b>Topic 2</b><br>Words: thing like, past, went, happy, context\",\"<b>Topic 2</b><br>Words: thing like, past, went, happy, context\",\"<b>Topic 2</b><br>Words: thing like, past, went, happy, context\",\"<b>Topic 2</b><br>Words: thing like, past, went, happy, context\",\"<b>Topic 2</b><br>Words: thing like, past, went, happy, context\",\"<b>Topic 2</b><br>Words: thing like, past, went, happy, context\",\"<b>Topic 2</b><br>Words: state, thing like, past, went, happy\",\"<b>Topic 2</b><br>Words: happy, clear, home, thing like, past\",\"<b>Topic 2</b><br>Words: thing like, past, went, said, context\",\"<b>Topic 2</b><br>Words: thing like, past, went, happy, context\",\"<b>Topic 2</b><br>Words: thing like, past, went, said, happy\",\"<b>Topic 2</b><br>Words: thing like, past, went, happy, context\",\"<b>Topic 2</b><br>Words: thing like, past, went, happy, context\",\"<b>Topic 2</b><br>Words: thing like, past, went, happy, context\"],\"marker\":{\"color\":\"#009E73\"},\"mode\":\"lines\",\"name\":\"2_thing like_past_went_happy\",\"x\":[-77.678,820.78,1637.56,2454.34,4904.68,5721.46,7355.02,8988.58,9805.36,11438.92,12255.7,13889.26,14706.04,17156.38,19606.72,21240.28,22873.84,23690.62,24507.4,26140.96,26957.74,29408.08,31858.42,40843.0,41659.78,43293.34,44110.12,44926.9,45743.68,47377.24,50644.36,52277.92,53911.48,58812.16,59628.94,63712.84,66979.96,68613.52,70247.08,71063.86,72697.42,78414.88,80865.22],\"y\":[3,1,5,1,1,1,1,2,1,1,2,3,2,1,1,2,8,9,2,1,1,2,1,1,1,1,1,1,2,1,4,1,1,1,2,1,1,2,1,1,1,1,1],\"type\":\"scatter\"},{\"hoverinfo\":\"text\",\"hovertext\":[\"<b>Topic 3</b><br>Words: people, country, matter, world, moment\",\"<b>Topic 3</b><br>Words: threat, government, country, matter, world\",\"<b>Topic 3</b><br>Words: people, country, matter, world, moment\",\"<b>Topic 3</b><br>Words: happened, government, country, matter, world\",\"<b>Topic 3</b><br>Words: country, everybody, matter, world, moment\",\"<b>Topic 3</b><br>Words: people, country, matter, world, moment\",\"<b>Topic 3</b><br>Words: moment, secret, agency, fact, country\",\"<b>Topic 3</b><br>Words: feel, country, matter, world, moment\",\"<b>Topic 3</b><br>Words: matter, country, moment, start, world\",\"<b>Topic 3</b><br>Words: moment, place, believe, happen, government\",\"<b>Topic 3</b><br>Words: feel, country, matter, forget, united\",\"<b>Topic 3</b><br>Words: country, matter, world, moment, people\",\"<b>Topic 3</b><br>Words: people, country, matter, world, moment\",\"<b>Topic 3</b><br>Words: people, matter, world, government, group\",\"<b>Topic 3</b><br>Words: country, matter, moment, government, saying\",\"<b>Topic 3</b><br>Words: say, country, matter, world, moment\",\"<b>Topic 3</b><br>Words: country, matter, world, moment, people\",\"<b>Topic 3</b><br>Words: country, matter, world, moment, government\",\"<b>Topic 3</b><br>Words: country, saying, group, talked, everybody\",\"<b>Topic 3</b><br>Words: program, government, country, world, people\",\"<b>Topic 3</b><br>Words: country, problem, matter, world, people\",\"<b>Topic 3</b><br>Words: bad, country, look, people, matter\",\"<b>Topic 3</b><br>Words: group, technology, fact, program, country\",\"<b>Topic 3</b><br>Words: saying, people, country, matter, world\",\"<b>Topic 3</b><br>Words: clear, world, happening, government, country\",\"<b>Topic 3</b><br>Words: country, people, think, matter, world\",\"<b>Topic 3</b><br>Words: american, everybody, country, matter, world\",\"<b>Topic 3</b><br>Words: happy, people, country, matter, world\",\"<b>Topic 3</b><br>Words: world, day, matter, end, country\",\"<b>Topic 3</b><br>Words: country, matter, world, moment, government\",\"<b>Topic 3</b><br>Words: people, country, matter, world, moment\",\"<b>Topic 3</b><br>Words: matter, country, world, moment, people\",\"<b>Topic 3</b><br>Words: country, matter, world, moment, people\",\"<b>Topic 3</b><br>Words: country, matter, world, moment, people\"],\"marker\":{\"color\":\"#F0E442\"},\"mode\":\"lines\",\"name\":\"3_country_matter_world_moment\",\"x\":[1637.56,3271.12,4904.68,6538.24,12255.7,13889.26,16339.6,19606.72,20423.5,21240.28,22057.06,28591.3,30224.86,36759.1,38392.66,40026.22,40843.0,41659.78,42476.56,43293.34,53911.48,55545.04,56361.82,57178.6,59628.94,64529.62,65346.4,66979.96,67796.74,68613.52,70247.08,71063.86,72697.42,80865.22],\"y\":[1,1,1,1,2,1,2,1,5,3,3,1,2,2,1,1,1,1,7,1,2,2,2,4,5,1,4,3,7,3,1,1,1,3],\"type\":\"scatter\"},{\"hoverinfo\":\"text\",\"hovertext\":[\"<b>Topic 4</b><br>Words: book, day, government, agency, information\",\"<b>Topic 4</b><br>Words: agency, information, work, secret, security\",\"<b>Topic 4</b><br>Words: legal, agency, office, house, information\",\"<b>Topic 4</b><br>Words: agency, information, work, secret, intelligence\",\"<b>Topic 4</b><br>Words: agency, information, work, secret, wanted\",\"<b>Topic 4</b><br>Words: agency, information, work, secret, security\",\"<b>Topic 4</b><br>Words: funny, agency, information, work, secret\",\"<b>Topic 4</b><br>Words: home, past, agency, information, work\",\"<b>Topic 4</b><br>Words: agency, information, work, secret, intelligence\",\"<b>Topic 4</b><br>Words: work, agency, information, secret, intelligence\",\"<b>Topic 4</b><br>Words: network, idea, agency, information, work\",\"<b>Topic 4</b><br>Words: agency, information, work, secret, security\",\"<b>Topic 4</b><br>Words: agency, place, information, country, people\",\"<b>Topic 4</b><br>Words: information, agency, case, wanted, work\",\"<b>Topic 4</b><br>Words: agency, information, work, secret, security\",\"<b>Topic 4</b><br>Words: agency, information, work, secret, security\",\"<b>Topic 4</b><br>Words: agency, information, work, secret, security\",\"<b>Topic 4</b><br>Words: secret, security, work, agency, information\",\"<b>Topic 4</b><br>Words: suddenly, job, security, government, agency\",\"<b>Topic 4</b><br>Words: work, kind, agency, information, secret\",\"<b>Topic 4</b><br>Words: end, basically, agency, information, work\",\"<b>Topic 4</b><br>Words: country, sort, agency, information, work\",\"<b>Topic 4</b><br>Words: working, agency, information, work, secret\",\"<b>Topic 4</b><br>Words: technology, agency, information, work, secret\",\"<b>Topic 4</b><br>Words: history, intelligence, agency, information, work\",\"<b>Topic 4</b><br>Words: seen, network, agency, information, work\",\"<b>Topic 4</b><br>Words: office, work, idea, agency, information\",\"<b>Topic 4</b><br>Words: need, agency, information, work, secret\",\"<b>Topic 4</b><br>Words: program, state, president, house, agency\",\"<b>Topic 4</b><br>Words: executive, house, agency, information, work\",\"<b>Topic 4</b><br>Words: day, power, happened, talking, work\",\"<b>Topic 4</b><br>Words: start, agency, information, work, secret\",\"<b>Topic 4</b><br>Words: american, program, question, agency, information\",\"<b>Topic 4</b><br>Words: agency, information, work, secret, security\",\"<b>Topic 4</b><br>Words: secret, case, thing, agency, information\",\"<b>Topic 4</b><br>Words: head, agency, position, long time, job\",\"<b>Topic 4</b><br>Words: agency, information, work, secret, intelligence\",\"<b>Topic 4</b><br>Words: intelligence, agency, information, work, secret\",\"<b>Topic 4</b><br>Words: agency, information, work, secret, intelligence\",\"<b>Topic 4</b><br>Words: working, agency, information, work, secret\",\"<b>Topic 4</b><br>Words: day, united state, state, intelligence, agency\"],\"marker\":{\"color\":\"#D55E00\"},\"mode\":\"lines\",\"name\":\"4_agency_information_work_secret\",\"x\":[-77.678,2454.34,4087.9,8171.8,9805.36,10622.14,11438.92,12255.7,13072.48,13889.26,14706.04,15522.82,17156.38,17973.16,19606.72,21240.28,23690.62,25324.18,26140.96,26957.74,27774.52,28591.3,29408.08,30224.86,31041.64,31858.42,32675.2,33491.98,38392.66,40843.0,42476.56,43293.34,50644.36,52277.92,53094.7,57995.38,60445.72,66163.18,66979.96,72697.42,77598.1],\"y\":[1,1,1,1,1,1,2,6,3,3,1,3,1,5,1,1,1,2,3,4,2,1,5,1,1,1,3,1,2,1,5,1,2,1,2,1,1,1,1,1,1],\"type\":\"scatter\"}],                        {\"template\":{\"data\":{\"barpolar\":[{\"marker\":{\"line\":{\"color\":\"white\",\"width\":0.5},\"pattern\":{\"fillmode\":\"overlay\",\"size\":10,\"solidity\":0.2}},\"type\":\"barpolar\"}],\"bar\":[{\"error_x\":{\"color\":\"rgb(36,36,36)\"},\"error_y\":{\"color\":\"rgb(36,36,36)\"},\"marker\":{\"line\":{\"color\":\"white\",\"width\":0.5},\"pattern\":{\"fillmode\":\"overlay\",\"size\":10,\"solidity\":0.2}},\"type\":\"bar\"}],\"carpet\":[{\"aaxis\":{\"endlinecolor\":\"rgb(36,36,36)\",\"gridcolor\":\"white\",\"linecolor\":\"white\",\"minorgridcolor\":\"white\",\"startlinecolor\":\"rgb(36,36,36)\"},\"baxis\":{\"endlinecolor\":\"rgb(36,36,36)\",\"gridcolor\":\"white\",\"linecolor\":\"white\",\"minorgridcolor\":\"white\",\"startlinecolor\":\"rgb(36,36,36)\"},\"type\":\"carpet\"}],\"choropleth\":[{\"colorbar\":{\"outlinewidth\":1,\"tickcolor\":\"rgb(36,36,36)\",\"ticks\":\"outside\"},\"type\":\"choropleth\"}],\"contourcarpet\":[{\"colorbar\":{\"outlinewidth\":1,\"tickcolor\":\"rgb(36,36,36)\",\"ticks\":\"outside\"},\"type\":\"contourcarpet\"}],\"contour\":[{\"colorbar\":{\"outlinewidth\":1,\"tickcolor\":\"rgb(36,36,36)\",\"ticks\":\"outside\"},\"colorscale\":[[0.0,\"#440154\"],[0.1111111111111111,\"#482878\"],[0.2222222222222222,\"#3e4989\"],[0.3333333333333333,\"#31688e\"],[0.4444444444444444,\"#26828e\"],[0.5555555555555556,\"#1f9e89\"],[0.6666666666666666,\"#35b779\"],[0.7777777777777778,\"#6ece58\"],[0.8888888888888888,\"#b5de2b\"],[1.0,\"#fde725\"]],\"type\":\"contour\"}],\"heatmapgl\":[{\"colorbar\":{\"outlinewidth\":1,\"tickcolor\":\"rgb(36,36,36)\",\"ticks\":\"outside\"},\"colorscale\":[[0.0,\"#440154\"],[0.1111111111111111,\"#482878\"],[0.2222222222222222,\"#3e4989\"],[0.3333333333333333,\"#31688e\"],[0.4444444444444444,\"#26828e\"],[0.5555555555555556,\"#1f9e89\"],[0.6666666666666666,\"#35b779\"],[0.7777777777777778,\"#6ece58\"],[0.8888888888888888,\"#b5de2b\"],[1.0,\"#fde725\"]],\"type\":\"heatmapgl\"}],\"heatmap\":[{\"colorbar\":{\"outlinewidth\":1,\"tickcolor\":\"rgb(36,36,36)\",\"ticks\":\"outside\"},\"colorscale\":[[0.0,\"#440154\"],[0.1111111111111111,\"#482878\"],[0.2222222222222222,\"#3e4989\"],[0.3333333333333333,\"#31688e\"],[0.4444444444444444,\"#26828e\"],[0.5555555555555556,\"#1f9e89\"],[0.6666666666666666,\"#35b779\"],[0.7777777777777778,\"#6ece58\"],[0.8888888888888888,\"#b5de2b\"],[1.0,\"#fde725\"]],\"type\":\"heatmap\"}],\"histogram2dcontour\":[{\"colorbar\":{\"outlinewidth\":1,\"tickcolor\":\"rgb(36,36,36)\",\"ticks\":\"outside\"},\"colorscale\":[[0.0,\"#440154\"],[0.1111111111111111,\"#482878\"],[0.2222222222222222,\"#3e4989\"],[0.3333333333333333,\"#31688e\"],[0.4444444444444444,\"#26828e\"],[0.5555555555555556,\"#1f9e89\"],[0.6666666666666666,\"#35b779\"],[0.7777777777777778,\"#6ece58\"],[0.8888888888888888,\"#b5de2b\"],[1.0,\"#fde725\"]],\"type\":\"histogram2dcontour\"}],\"histogram2d\":[{\"colorbar\":{\"outlinewidth\":1,\"tickcolor\":\"rgb(36,36,36)\",\"ticks\":\"outside\"},\"colorscale\":[[0.0,\"#440154\"],[0.1111111111111111,\"#482878\"],[0.2222222222222222,\"#3e4989\"],[0.3333333333333333,\"#31688e\"],[0.4444444444444444,\"#26828e\"],[0.5555555555555556,\"#1f9e89\"],[0.6666666666666666,\"#35b779\"],[0.7777777777777778,\"#6ece58\"],[0.8888888888888888,\"#b5de2b\"],[1.0,\"#fde725\"]],\"type\":\"histogram2d\"}],\"histogram\":[{\"marker\":{\"line\":{\"color\":\"white\",\"width\":0.6}},\"type\":\"histogram\"}],\"mesh3d\":[{\"colorbar\":{\"outlinewidth\":1,\"tickcolor\":\"rgb(36,36,36)\",\"ticks\":\"outside\"},\"type\":\"mesh3d\"}],\"parcoords\":[{\"line\":{\"colorbar\":{\"outlinewidth\":1,\"tickcolor\":\"rgb(36,36,36)\",\"ticks\":\"outside\"}},\"type\":\"parcoords\"}],\"pie\":[{\"automargin\":true,\"type\":\"pie\"}],\"scatter3d\":[{\"line\":{\"colorbar\":{\"outlinewidth\":1,\"tickcolor\":\"rgb(36,36,36)\",\"ticks\":\"outside\"}},\"marker\":{\"colorbar\":{\"outlinewidth\":1,\"tickcolor\":\"rgb(36,36,36)\",\"ticks\":\"outside\"}},\"type\":\"scatter3d\"}],\"scattercarpet\":[{\"marker\":{\"colorbar\":{\"outlinewidth\":1,\"tickcolor\":\"rgb(36,36,36)\",\"ticks\":\"outside\"}},\"type\":\"scattercarpet\"}],\"scattergeo\":[{\"marker\":{\"colorbar\":{\"outlinewidth\":1,\"tickcolor\":\"rgb(36,36,36)\",\"ticks\":\"outside\"}},\"type\":\"scattergeo\"}],\"scattergl\":[{\"marker\":{\"colorbar\":{\"outlinewidth\":1,\"tickcolor\":\"rgb(36,36,36)\",\"ticks\":\"outside\"}},\"type\":\"scattergl\"}],\"scattermapbox\":[{\"marker\":{\"colorbar\":{\"outlinewidth\":1,\"tickcolor\":\"rgb(36,36,36)\",\"ticks\":\"outside\"}},\"type\":\"scattermapbox\"}],\"scatterpolargl\":[{\"marker\":{\"colorbar\":{\"outlinewidth\":1,\"tickcolor\":\"rgb(36,36,36)\",\"ticks\":\"outside\"}},\"type\":\"scatterpolargl\"}],\"scatterpolar\":[{\"marker\":{\"colorbar\":{\"outlinewidth\":1,\"tickcolor\":\"rgb(36,36,36)\",\"ticks\":\"outside\"}},\"type\":\"scatterpolar\"}],\"scatter\":[{\"fillpattern\":{\"fillmode\":\"overlay\",\"size\":10,\"solidity\":0.2},\"type\":\"scatter\"}],\"scatterternary\":[{\"marker\":{\"colorbar\":{\"outlinewidth\":1,\"tickcolor\":\"rgb(36,36,36)\",\"ticks\":\"outside\"}},\"type\":\"scatterternary\"}],\"surface\":[{\"colorbar\":{\"outlinewidth\":1,\"tickcolor\":\"rgb(36,36,36)\",\"ticks\":\"outside\"},\"colorscale\":[[0.0,\"#440154\"],[0.1111111111111111,\"#482878\"],[0.2222222222222222,\"#3e4989\"],[0.3333333333333333,\"#31688e\"],[0.4444444444444444,\"#26828e\"],[0.5555555555555556,\"#1f9e89\"],[0.6666666666666666,\"#35b779\"],[0.7777777777777778,\"#6ece58\"],[0.8888888888888888,\"#b5de2b\"],[1.0,\"#fde725\"]],\"type\":\"surface\"}],\"table\":[{\"cells\":{\"fill\":{\"color\":\"rgb(237,237,237)\"},\"line\":{\"color\":\"white\"}},\"header\":{\"fill\":{\"color\":\"rgb(217,217,217)\"},\"line\":{\"color\":\"white\"}},\"type\":\"table\"}]},\"layout\":{\"annotationdefaults\":{\"arrowhead\":0,\"arrowwidth\":1},\"autotypenumbers\":\"strict\",\"coloraxis\":{\"colorbar\":{\"outlinewidth\":1,\"tickcolor\":\"rgb(36,36,36)\",\"ticks\":\"outside\"}},\"colorscale\":{\"diverging\":[[0.0,\"rgb(103,0,31)\"],[0.1,\"rgb(178,24,43)\"],[0.2,\"rgb(214,96,77)\"],[0.3,\"rgb(244,165,130)\"],[0.4,\"rgb(253,219,199)\"],[0.5,\"rgb(247,247,247)\"],[0.6,\"rgb(209,229,240)\"],[0.7,\"rgb(146,197,222)\"],[0.8,\"rgb(67,147,195)\"],[0.9,\"rgb(33,102,172)\"],[1.0,\"rgb(5,48,97)\"]],\"sequential\":[[0.0,\"#440154\"],[0.1111111111111111,\"#482878\"],[0.2222222222222222,\"#3e4989\"],[0.3333333333333333,\"#31688e\"],[0.4444444444444444,\"#26828e\"],[0.5555555555555556,\"#1f9e89\"],[0.6666666666666666,\"#35b779\"],[0.7777777777777778,\"#6ece58\"],[0.8888888888888888,\"#b5de2b\"],[1.0,\"#fde725\"]],\"sequentialminus\":[[0.0,\"#440154\"],[0.1111111111111111,\"#482878\"],[0.2222222222222222,\"#3e4989\"],[0.3333333333333333,\"#31688e\"],[0.4444444444444444,\"#26828e\"],[0.5555555555555556,\"#1f9e89\"],[0.6666666666666666,\"#35b779\"],[0.7777777777777778,\"#6ece58\"],[0.8888888888888888,\"#b5de2b\"],[1.0,\"#fde725\"]]},\"colorway\":[\"#1F77B4\",\"#FF7F0E\",\"#2CA02C\",\"#D62728\",\"#9467BD\",\"#8C564B\",\"#E377C2\",\"#7F7F7F\",\"#BCBD22\",\"#17BECF\"],\"font\":{\"color\":\"rgb(36,36,36)\"},\"geo\":{\"bgcolor\":\"white\",\"lakecolor\":\"white\",\"landcolor\":\"white\",\"showlakes\":true,\"showland\":true,\"subunitcolor\":\"white\"},\"hoverlabel\":{\"align\":\"left\"},\"hovermode\":\"closest\",\"mapbox\":{\"style\":\"light\"},\"paper_bgcolor\":\"white\",\"plot_bgcolor\":\"white\",\"polar\":{\"angularaxis\":{\"gridcolor\":\"rgb(232,232,232)\",\"linecolor\":\"rgb(36,36,36)\",\"showgrid\":false,\"showline\":true,\"ticks\":\"outside\"},\"bgcolor\":\"white\",\"radialaxis\":{\"gridcolor\":\"rgb(232,232,232)\",\"linecolor\":\"rgb(36,36,36)\",\"showgrid\":false,\"showline\":true,\"ticks\":\"outside\"}},\"scene\":{\"xaxis\":{\"backgroundcolor\":\"white\",\"gridcolor\":\"rgb(232,232,232)\",\"gridwidth\":2,\"linecolor\":\"rgb(36,36,36)\",\"showbackground\":true,\"showgrid\":false,\"showline\":true,\"ticks\":\"outside\",\"zeroline\":false,\"zerolinecolor\":\"rgb(36,36,36)\"},\"yaxis\":{\"backgroundcolor\":\"white\",\"gridcolor\":\"rgb(232,232,232)\",\"gridwidth\":2,\"linecolor\":\"rgb(36,36,36)\",\"showbackground\":true,\"showgrid\":false,\"showline\":true,\"ticks\":\"outside\",\"zeroline\":false,\"zerolinecolor\":\"rgb(36,36,36)\"},\"zaxis\":{\"backgroundcolor\":\"white\",\"gridcolor\":\"rgb(232,232,232)\",\"gridwidth\":2,\"linecolor\":\"rgb(36,36,36)\",\"showbackground\":true,\"showgrid\":false,\"showline\":true,\"ticks\":\"outside\",\"zeroline\":false,\"zerolinecolor\":\"rgb(36,36,36)\"}},\"shapedefaults\":{\"fillcolor\":\"black\",\"line\":{\"width\":0},\"opacity\":0.3},\"ternary\":{\"aaxis\":{\"gridcolor\":\"rgb(232,232,232)\",\"linecolor\":\"rgb(36,36,36)\",\"showgrid\":false,\"showline\":true,\"ticks\":\"outside\"},\"baxis\":{\"gridcolor\":\"rgb(232,232,232)\",\"linecolor\":\"rgb(36,36,36)\",\"showgrid\":false,\"showline\":true,\"ticks\":\"outside\"},\"bgcolor\":\"white\",\"caxis\":{\"gridcolor\":\"rgb(232,232,232)\",\"linecolor\":\"rgb(36,36,36)\",\"showgrid\":false,\"showline\":true,\"ticks\":\"outside\"}},\"title\":{\"x\":0.05},\"xaxis\":{\"automargin\":true,\"gridcolor\":\"rgb(232,232,232)\",\"linecolor\":\"rgb(36,36,36)\",\"showgrid\":false,\"showline\":true,\"ticks\":\"outside\",\"title\":{\"standoff\":15},\"zeroline\":false,\"zerolinecolor\":\"rgb(36,36,36)\"},\"yaxis\":{\"automargin\":true,\"gridcolor\":\"rgb(232,232,232)\",\"linecolor\":\"rgb(36,36,36)\",\"showgrid\":false,\"showline\":true,\"ticks\":\"outside\",\"title\":{\"standoff\":15},\"zeroline\":false,\"zerolinecolor\":\"rgb(36,36,36)\"}}},\"xaxis\":{\"showgrid\":true},\"yaxis\":{\"showgrid\":true,\"title\":{\"text\":\"Frequency\"}},\"title\":{\"font\":{\"size\":22,\"color\":\"Black\"},\"text\":\"<b>Topics over Time\",\"y\":0.95,\"x\":0.4,\"xanchor\":\"center\",\"yanchor\":\"top\"},\"hoverlabel\":{\"font\":{\"size\":16,\"family\":\"Rockwell\"},\"bgcolor\":\"white\"},\"width\":1250,\"height\":450,\"legend\":{\"title\":{\"text\":\"<b>Global Topic Representation\"}}},                        {\"responsive\": true}                    ).then(function(){\n",
       "                            \n",
       "var gd = document.getElementById('34829023-e20d-4a33-ad01-ca8d1e2c986b');\n",
       "var x = new MutationObserver(function (mutations, observer) {{\n",
       "        var display = window.getComputedStyle(gd).display;\n",
       "        if (!display || display === 'none') {{\n",
       "            console.log([gd, 'removed!']);\n",
       "            Plotly.purge(gd);\n",
       "            observer.disconnect();\n",
       "        }}\n",
       "}});\n",
       "\n",
       "// Listen for the removal of the full notebook cells\n",
       "var notebookContainer = gd.closest('#notebook-container');\n",
       "if (notebookContainer) {{\n",
       "    x.observe(notebookContainer, {childList: true});\n",
       "}}\n",
       "\n",
       "// Listen for the clearing of the current output cell\n",
       "var outputEl = gd.closest('.output');\n",
       "if (outputEl) {{\n",
       "    x.observe(outputEl, {childList: true});\n",
       "}}\n",
       "\n",
       "                        })                };                });            </script>        </div>"
      ]
     },
     "metadata": {},
     "output_type": "display_data"
    }
   ],
   "source": [
    "topic_model.visualize_topics_over_time(topics_over_time, top_n_topics=5)\n"
   ]
  },
  {
   "cell_type": "code",
   "execution_count": 154,
   "metadata": {},
   "outputs": [
    {
     "data": {
      "text/plain": [
       "['-1_government_system_like',\n",
       " '0_government_story_new',\n",
       " '1_bad_world_changed',\n",
       " '2_call_use_network',\n",
       " '3_office_information_system',\n",
       " '4_working_agency_building',\n",
       " '5_understand_think_many',\n",
       " '6_go_back_going',\n",
       " '7_remember_forget_matter',\n",
       " '8_right_wrong_exactly',\n",
       " '9_public_across_happening',\n",
       " '10_book_read_lot',\n",
       " '11_stay_make_need',\n",
       " '12_president_administration_power',\n",
       " '13_see_talking_might',\n",
       " '14_law_court_legal',\n",
       " '15_thing_new_funny',\n",
       " '16_okay_sorry_well',\n",
       " '17_happened_happening_never',\n",
       " '18_court_defense_even',\n",
       " '19___',\n",
       " '20_end_call_go',\n",
       " '21_intelligence_community_sort',\n",
       " '22_got_take_put',\n",
       " '23_say_done_said',\n",
       " '24_talk_nobody_talking',\n",
       " '25_answer_know_fact',\n",
       " '26_guy_want say_top',\n",
       " '27_good_man_pretty',\n",
       " '28_year_month_long time',\n",
       " '29_program_unless_access',\n",
       " '30_house_hit_today',\n",
       " '31_record_company_permanent',\n",
       " '32_exactly_yeah_always',\n",
       " '33_google_internet_could see']"
      ]
     },
     "execution_count": 154,
     "metadata": {},
     "output_type": "execute_result"
    }
   ],
   "source": [
    "topic_model.generate_topic_labels()"
   ]
  },
  {
   "cell_type": "code",
   "execution_count": 105,
   "metadata": {},
   "outputs": [
    {
     "data": {
      "text/plain": [
       "[('think', 0.21057979951448294),\n",
       " ('like', 0.14080845073486772),\n",
       " ('go', 0.12430413138397448),\n",
       " ('good', 0.11233035516129458),\n",
       " ('long', 0.09362489792867251),\n",
       " ('time', 0.08702623295152322),\n",
       " ('look', 0.06986673962613954),\n",
       " ('way', 0.06057086750213187),\n",
       " ('kind', 0.060434014892468677),\n",
       " ('people', 0.05905976052509297)]"
      ]
     },
     "execution_count": 105,
     "metadata": {},
     "output_type": "execute_result"
    }
   ],
   "source": [
    "topic_model.get_topics()[3]"
   ]
  },
  {
   "cell_type": "code",
   "execution_count": 107,
   "metadata": {},
   "outputs": [
    {
     "name": "stderr",
     "output_type": "stream",
     "text": [
      "100%|██████████| 4/4 [00:00<00:00, 190.29it/s]\n"
     ]
    }
   ],
   "source": [
    "hierarchical_topics = topic_model.hierarchical_topics(sentences_clean, topics)"
   ]
  },
  {
   "cell_type": "code",
   "execution_count": 108,
   "metadata": {},
   "outputs": [
    {
     "data": {
      "application/vnd.plotly.v1+json": {
       "config": {
        "plotlyServerURL": "https://plot.ly"
       },
       "data": [
        {
         "hoverinfo": "text",
         "marker": {
          "color": "rgb(61,153,112)"
         },
         "mode": "lines",
         "text": [
          "get_going_like_want_one",
          "",
          "",
          "right_every_little_know_even"
         ],
         "type": "scatter",
         "x": [
          0,
          0.40052462959233903,
          0.40052462959233903,
          0
         ],
         "xaxis": "x",
         "y": [
          -25,
          -25,
          -35,
          -35
         ],
         "yaxis": "y"
        },
        {
         "hoverinfo": "text",
         "marker": {
          "color": "rgb(61,153,112)"
         },
         "mode": "lines",
         "text": [
          "thing_time_say_said_got",
          "",
          "",
          "right_going_get_every_like"
         ],
         "type": "scatter",
         "x": [
          0,
          0.5629559165906983,
          0.5629559165906983,
          0.40052462959233903
         ],
         "xaxis": "x",
         "y": [
          -15,
          -15,
          -30,
          -30
         ],
         "yaxis": "y"
        },
        {
         "hoverinfo": "text",
         "marker": {
          "color": "rgb(61,153,112)"
         },
         "mode": "lines",
         "text": [
          "thing_right_got_get_time",
          "",
          "",
          "think_like_go_good_long"
         ],
         "type": "scatter",
         "x": [
          0.5629559165906983,
          0.7097206746965548,
          0.7097206746965548,
          0
         ],
         "xaxis": "x",
         "y": [
          -22.5,
          -22.5,
          -45,
          -45
         ],
         "yaxis": "y"
        },
        {
         "hoverinfo": "text",
         "marker": {
          "color": "rgb(61,153,112)"
         },
         "mode": "lines",
         "text": [
          "right_yeah_make_good_need",
          "",
          "",
          "thing_like_think_go_time"
         ],
         "type": "scatter",
         "x": [
          0,
          0.929775763944337,
          0.929775763944337,
          0.7097206746965548
         ],
         "xaxis": "x",
         "y": [
          -5,
          -5,
          -33.75,
          -33.75
         ],
         "yaxis": "y"
        },
        {
         "hoverinfo": "text",
         "hovertext": [
          "thing_right_got_get_time"
         ],
         "marker": {
          "color": "black"
         },
         "mode": "markers",
         "showlegend": false,
         "type": "scatter",
         "x": [
          0.5629559165906983
         ],
         "y": [
          -22.5
         ]
        },
        {
         "hoverinfo": "text",
         "hovertext": [
          "right_going_get_every_like",
          "thing_like_think_go_time"
         ],
         "marker": {
          "color": "black"
         },
         "mode": "markers",
         "showlegend": false,
         "type": "scatter",
         "x": [
          0.40052462959233903,
          0.7097206746965548
         ],
         "y": [
          -30,
          -33.75
         ]
        }
       ],
       "layout": {
        "autosize": false,
        "height": 275,
        "hoverlabel": {
         "bgcolor": "white",
         "font": {
          "family": "Rockwell",
          "size": 16
         }
        },
        "hovermode": "closest",
        "plot_bgcolor": "#ECEFF1",
        "showlegend": false,
        "template": {
         "data": {
          "bar": [
           {
            "error_x": {
             "color": "#2a3f5f"
            },
            "error_y": {
             "color": "#2a3f5f"
            },
            "marker": {
             "line": {
              "color": "white",
              "width": 0.5
             },
             "pattern": {
              "fillmode": "overlay",
              "size": 10,
              "solidity": 0.2
             }
            },
            "type": "bar"
           }
          ],
          "barpolar": [
           {
            "marker": {
             "line": {
              "color": "white",
              "width": 0.5
             },
             "pattern": {
              "fillmode": "overlay",
              "size": 10,
              "solidity": 0.2
             }
            },
            "type": "barpolar"
           }
          ],
          "carpet": [
           {
            "aaxis": {
             "endlinecolor": "#2a3f5f",
             "gridcolor": "#C8D4E3",
             "linecolor": "#C8D4E3",
             "minorgridcolor": "#C8D4E3",
             "startlinecolor": "#2a3f5f"
            },
            "baxis": {
             "endlinecolor": "#2a3f5f",
             "gridcolor": "#C8D4E3",
             "linecolor": "#C8D4E3",
             "minorgridcolor": "#C8D4E3",
             "startlinecolor": "#2a3f5f"
            },
            "type": "carpet"
           }
          ],
          "choropleth": [
           {
            "colorbar": {
             "outlinewidth": 0,
             "ticks": ""
            },
            "type": "choropleth"
           }
          ],
          "contour": [
           {
            "colorbar": {
             "outlinewidth": 0,
             "ticks": ""
            },
            "colorscale": [
             [
              0,
              "#0d0887"
             ],
             [
              0.1111111111111111,
              "#46039f"
             ],
             [
              0.2222222222222222,
              "#7201a8"
             ],
             [
              0.3333333333333333,
              "#9c179e"
             ],
             [
              0.4444444444444444,
              "#bd3786"
             ],
             [
              0.5555555555555556,
              "#d8576b"
             ],
             [
              0.6666666666666666,
              "#ed7953"
             ],
             [
              0.7777777777777778,
              "#fb9f3a"
             ],
             [
              0.8888888888888888,
              "#fdca26"
             ],
             [
              1,
              "#f0f921"
             ]
            ],
            "type": "contour"
           }
          ],
          "contourcarpet": [
           {
            "colorbar": {
             "outlinewidth": 0,
             "ticks": ""
            },
            "type": "contourcarpet"
           }
          ],
          "heatmap": [
           {
            "colorbar": {
             "outlinewidth": 0,
             "ticks": ""
            },
            "colorscale": [
             [
              0,
              "#0d0887"
             ],
             [
              0.1111111111111111,
              "#46039f"
             ],
             [
              0.2222222222222222,
              "#7201a8"
             ],
             [
              0.3333333333333333,
              "#9c179e"
             ],
             [
              0.4444444444444444,
              "#bd3786"
             ],
             [
              0.5555555555555556,
              "#d8576b"
             ],
             [
              0.6666666666666666,
              "#ed7953"
             ],
             [
              0.7777777777777778,
              "#fb9f3a"
             ],
             [
              0.8888888888888888,
              "#fdca26"
             ],
             [
              1,
              "#f0f921"
             ]
            ],
            "type": "heatmap"
           }
          ],
          "heatmapgl": [
           {
            "colorbar": {
             "outlinewidth": 0,
             "ticks": ""
            },
            "colorscale": [
             [
              0,
              "#0d0887"
             ],
             [
              0.1111111111111111,
              "#46039f"
             ],
             [
              0.2222222222222222,
              "#7201a8"
             ],
             [
              0.3333333333333333,
              "#9c179e"
             ],
             [
              0.4444444444444444,
              "#bd3786"
             ],
             [
              0.5555555555555556,
              "#d8576b"
             ],
             [
              0.6666666666666666,
              "#ed7953"
             ],
             [
              0.7777777777777778,
              "#fb9f3a"
             ],
             [
              0.8888888888888888,
              "#fdca26"
             ],
             [
              1,
              "#f0f921"
             ]
            ],
            "type": "heatmapgl"
           }
          ],
          "histogram": [
           {
            "marker": {
             "pattern": {
              "fillmode": "overlay",
              "size": 10,
              "solidity": 0.2
             }
            },
            "type": "histogram"
           }
          ],
          "histogram2d": [
           {
            "colorbar": {
             "outlinewidth": 0,
             "ticks": ""
            },
            "colorscale": [
             [
              0,
              "#0d0887"
             ],
             [
              0.1111111111111111,
              "#46039f"
             ],
             [
              0.2222222222222222,
              "#7201a8"
             ],
             [
              0.3333333333333333,
              "#9c179e"
             ],
             [
              0.4444444444444444,
              "#bd3786"
             ],
             [
              0.5555555555555556,
              "#d8576b"
             ],
             [
              0.6666666666666666,
              "#ed7953"
             ],
             [
              0.7777777777777778,
              "#fb9f3a"
             ],
             [
              0.8888888888888888,
              "#fdca26"
             ],
             [
              1,
              "#f0f921"
             ]
            ],
            "type": "histogram2d"
           }
          ],
          "histogram2dcontour": [
           {
            "colorbar": {
             "outlinewidth": 0,
             "ticks": ""
            },
            "colorscale": [
             [
              0,
              "#0d0887"
             ],
             [
              0.1111111111111111,
              "#46039f"
             ],
             [
              0.2222222222222222,
              "#7201a8"
             ],
             [
              0.3333333333333333,
              "#9c179e"
             ],
             [
              0.4444444444444444,
              "#bd3786"
             ],
             [
              0.5555555555555556,
              "#d8576b"
             ],
             [
              0.6666666666666666,
              "#ed7953"
             ],
             [
              0.7777777777777778,
              "#fb9f3a"
             ],
             [
              0.8888888888888888,
              "#fdca26"
             ],
             [
              1,
              "#f0f921"
             ]
            ],
            "type": "histogram2dcontour"
           }
          ],
          "mesh3d": [
           {
            "colorbar": {
             "outlinewidth": 0,
             "ticks": ""
            },
            "type": "mesh3d"
           }
          ],
          "parcoords": [
           {
            "line": {
             "colorbar": {
              "outlinewidth": 0,
              "ticks": ""
             }
            },
            "type": "parcoords"
           }
          ],
          "pie": [
           {
            "automargin": true,
            "type": "pie"
           }
          ],
          "scatter": [
           {
            "fillpattern": {
             "fillmode": "overlay",
             "size": 10,
             "solidity": 0.2
            },
            "type": "scatter"
           }
          ],
          "scatter3d": [
           {
            "line": {
             "colorbar": {
              "outlinewidth": 0,
              "ticks": ""
             }
            },
            "marker": {
             "colorbar": {
              "outlinewidth": 0,
              "ticks": ""
             }
            },
            "type": "scatter3d"
           }
          ],
          "scattercarpet": [
           {
            "marker": {
             "colorbar": {
              "outlinewidth": 0,
              "ticks": ""
             }
            },
            "type": "scattercarpet"
           }
          ],
          "scattergeo": [
           {
            "marker": {
             "colorbar": {
              "outlinewidth": 0,
              "ticks": ""
             }
            },
            "type": "scattergeo"
           }
          ],
          "scattergl": [
           {
            "marker": {
             "colorbar": {
              "outlinewidth": 0,
              "ticks": ""
             }
            },
            "type": "scattergl"
           }
          ],
          "scattermapbox": [
           {
            "marker": {
             "colorbar": {
              "outlinewidth": 0,
              "ticks": ""
             }
            },
            "type": "scattermapbox"
           }
          ],
          "scatterpolar": [
           {
            "marker": {
             "colorbar": {
              "outlinewidth": 0,
              "ticks": ""
             }
            },
            "type": "scatterpolar"
           }
          ],
          "scatterpolargl": [
           {
            "marker": {
             "colorbar": {
              "outlinewidth": 0,
              "ticks": ""
             }
            },
            "type": "scatterpolargl"
           }
          ],
          "scatterternary": [
           {
            "marker": {
             "colorbar": {
              "outlinewidth": 0,
              "ticks": ""
             }
            },
            "type": "scatterternary"
           }
          ],
          "surface": [
           {
            "colorbar": {
             "outlinewidth": 0,
             "ticks": ""
            },
            "colorscale": [
             [
              0,
              "#0d0887"
             ],
             [
              0.1111111111111111,
              "#46039f"
             ],
             [
              0.2222222222222222,
              "#7201a8"
             ],
             [
              0.3333333333333333,
              "#9c179e"
             ],
             [
              0.4444444444444444,
              "#bd3786"
             ],
             [
              0.5555555555555556,
              "#d8576b"
             ],
             [
              0.6666666666666666,
              "#ed7953"
             ],
             [
              0.7777777777777778,
              "#fb9f3a"
             ],
             [
              0.8888888888888888,
              "#fdca26"
             ],
             [
              1,
              "#f0f921"
             ]
            ],
            "type": "surface"
           }
          ],
          "table": [
           {
            "cells": {
             "fill": {
              "color": "#EBF0F8"
             },
             "line": {
              "color": "white"
             }
            },
            "header": {
             "fill": {
              "color": "#C8D4E3"
             },
             "line": {
              "color": "white"
             }
            },
            "type": "table"
           }
          ]
         },
         "layout": {
          "annotationdefaults": {
           "arrowcolor": "#2a3f5f",
           "arrowhead": 0,
           "arrowwidth": 1
          },
          "autotypenumbers": "strict",
          "coloraxis": {
           "colorbar": {
            "outlinewidth": 0,
            "ticks": ""
           }
          },
          "colorscale": {
           "diverging": [
            [
             0,
             "#8e0152"
            ],
            [
             0.1,
             "#c51b7d"
            ],
            [
             0.2,
             "#de77ae"
            ],
            [
             0.3,
             "#f1b6da"
            ],
            [
             0.4,
             "#fde0ef"
            ],
            [
             0.5,
             "#f7f7f7"
            ],
            [
             0.6,
             "#e6f5d0"
            ],
            [
             0.7,
             "#b8e186"
            ],
            [
             0.8,
             "#7fbc41"
            ],
            [
             0.9,
             "#4d9221"
            ],
            [
             1,
             "#276419"
            ]
           ],
           "sequential": [
            [
             0,
             "#0d0887"
            ],
            [
             0.1111111111111111,
             "#46039f"
            ],
            [
             0.2222222222222222,
             "#7201a8"
            ],
            [
             0.3333333333333333,
             "#9c179e"
            ],
            [
             0.4444444444444444,
             "#bd3786"
            ],
            [
             0.5555555555555556,
             "#d8576b"
            ],
            [
             0.6666666666666666,
             "#ed7953"
            ],
            [
             0.7777777777777778,
             "#fb9f3a"
            ],
            [
             0.8888888888888888,
             "#fdca26"
            ],
            [
             1,
             "#f0f921"
            ]
           ],
           "sequentialminus": [
            [
             0,
             "#0d0887"
            ],
            [
             0.1111111111111111,
             "#46039f"
            ],
            [
             0.2222222222222222,
             "#7201a8"
            ],
            [
             0.3333333333333333,
             "#9c179e"
            ],
            [
             0.4444444444444444,
             "#bd3786"
            ],
            [
             0.5555555555555556,
             "#d8576b"
            ],
            [
             0.6666666666666666,
             "#ed7953"
            ],
            [
             0.7777777777777778,
             "#fb9f3a"
            ],
            [
             0.8888888888888888,
             "#fdca26"
            ],
            [
             1,
             "#f0f921"
            ]
           ]
          },
          "colorway": [
           "#636efa",
           "#EF553B",
           "#00cc96",
           "#ab63fa",
           "#FFA15A",
           "#19d3f3",
           "#FF6692",
           "#B6E880",
           "#FF97FF",
           "#FECB52"
          ],
          "font": {
           "color": "#2a3f5f"
          },
          "geo": {
           "bgcolor": "white",
           "lakecolor": "white",
           "landcolor": "white",
           "showlakes": true,
           "showland": true,
           "subunitcolor": "#C8D4E3"
          },
          "hoverlabel": {
           "align": "left"
          },
          "hovermode": "closest",
          "mapbox": {
           "style": "light"
          },
          "paper_bgcolor": "white",
          "plot_bgcolor": "white",
          "polar": {
           "angularaxis": {
            "gridcolor": "#EBF0F8",
            "linecolor": "#EBF0F8",
            "ticks": ""
           },
           "bgcolor": "white",
           "radialaxis": {
            "gridcolor": "#EBF0F8",
            "linecolor": "#EBF0F8",
            "ticks": ""
           }
          },
          "scene": {
           "xaxis": {
            "backgroundcolor": "white",
            "gridcolor": "#DFE8F3",
            "gridwidth": 2,
            "linecolor": "#EBF0F8",
            "showbackground": true,
            "ticks": "",
            "zerolinecolor": "#EBF0F8"
           },
           "yaxis": {
            "backgroundcolor": "white",
            "gridcolor": "#DFE8F3",
            "gridwidth": 2,
            "linecolor": "#EBF0F8",
            "showbackground": true,
            "ticks": "",
            "zerolinecolor": "#EBF0F8"
           },
           "zaxis": {
            "backgroundcolor": "white",
            "gridcolor": "#DFE8F3",
            "gridwidth": 2,
            "linecolor": "#EBF0F8",
            "showbackground": true,
            "ticks": "",
            "zerolinecolor": "#EBF0F8"
           }
          },
          "shapedefaults": {
           "line": {
            "color": "#2a3f5f"
           }
          },
          "ternary": {
           "aaxis": {
            "gridcolor": "#DFE8F3",
            "linecolor": "#A2B1C6",
            "ticks": ""
           },
           "baxis": {
            "gridcolor": "#DFE8F3",
            "linecolor": "#A2B1C6",
            "ticks": ""
           },
           "bgcolor": "white",
           "caxis": {
            "gridcolor": "#DFE8F3",
            "linecolor": "#A2B1C6",
            "ticks": ""
           }
          },
          "title": {
           "x": 0.05
          },
          "xaxis": {
           "automargin": true,
           "gridcolor": "#EBF0F8",
           "linecolor": "#EBF0F8",
           "ticks": "",
           "title": {
            "standoff": 15
           },
           "zerolinecolor": "#EBF0F8",
           "zerolinewidth": 2
          },
          "yaxis": {
           "automargin": true,
           "gridcolor": "#EBF0F8",
           "linecolor": "#EBF0F8",
           "ticks": "",
           "title": {
            "standoff": 15
           },
           "zerolinecolor": "#EBF0F8",
           "zerolinewidth": 2
          }
         }
        },
        "title": {
         "font": {
          "color": "Black",
          "size": 22
         },
         "text": "<b>Hierarchical Clustering",
         "x": 0.5,
         "xanchor": "center",
         "yanchor": "top"
        },
        "width": 1000,
        "xaxis": {
         "mirror": "allticks",
         "rangemode": "tozero",
         "showgrid": false,
         "showline": true,
         "showticklabels": true,
         "ticks": "outside",
         "type": "linear",
         "zeroline": false
        },
        "yaxis": {
         "mirror": "allticks",
         "range": [
          -50,
          0
         ],
         "rangemode": "tozero",
         "showgrid": false,
         "showline": true,
         "showticklabels": true,
         "tickmode": "array",
         "ticks": "outside",
         "ticktext": [
          "2_right_yeah_make",
          "4_thing_time_say",
          "0_get_going_like",
          "1_right_every_little",
          "3_think_like_go"
         ],
         "tickvals": [
          -5,
          -15,
          -25,
          -35,
          -45
         ],
         "type": "linear",
         "zeroline": false
        }
       }
      },
      "text/html": [
       "<div>                            <div id=\"03d9e77f-e88a-4391-a14a-ed73194f84d5\" class=\"plotly-graph-div\" style=\"height:275px; width:1000px;\"></div>            <script type=\"text/javascript\">                require([\"plotly\"], function(Plotly) {                    window.PLOTLYENV=window.PLOTLYENV || {};                                    if (document.getElementById(\"03d9e77f-e88a-4391-a14a-ed73194f84d5\")) {                    Plotly.newPlot(                        \"03d9e77f-e88a-4391-a14a-ed73194f84d5\",                        [{\"hoverinfo\":\"text\",\"marker\":{\"color\":\"rgb(61,153,112)\"},\"mode\":\"lines\",\"text\":[\"get_going_like_want_one\",\"\",\"\",\"right_every_little_know_even\"],\"x\":[0.0,0.40052462959233903,0.40052462959233903,0.0],\"xaxis\":\"x\",\"y\":[-25.0,-25.0,-35.0,-35.0],\"yaxis\":\"y\",\"type\":\"scatter\"},{\"hoverinfo\":\"text\",\"marker\":{\"color\":\"rgb(61,153,112)\"},\"mode\":\"lines\",\"text\":[\"thing_time_say_said_got\",\"\",\"\",\"right_going_get_every_like\"],\"x\":[0.0,0.5629559165906983,0.5629559165906983,0.40052462959233903],\"xaxis\":\"x\",\"y\":[-15.0,-15.0,-30.0,-30.0],\"yaxis\":\"y\",\"type\":\"scatter\"},{\"hoverinfo\":\"text\",\"marker\":{\"color\":\"rgb(61,153,112)\"},\"mode\":\"lines\",\"text\":[\"thing_right_got_get_time\",\"\",\"\",\"think_like_go_good_long\"],\"x\":[0.5629559165906983,0.7097206746965548,0.7097206746965548,0.0],\"xaxis\":\"x\",\"y\":[-22.5,-22.5,-45.0,-45.0],\"yaxis\":\"y\",\"type\":\"scatter\"},{\"hoverinfo\":\"text\",\"marker\":{\"color\":\"rgb(61,153,112)\"},\"mode\":\"lines\",\"text\":[\"right_yeah_make_good_need\",\"\",\"\",\"thing_like_think_go_time\"],\"x\":[0.0,0.929775763944337,0.929775763944337,0.7097206746965548],\"xaxis\":\"x\",\"y\":[-5.0,-5.0,-33.75,-33.75],\"yaxis\":\"y\",\"type\":\"scatter\"},{\"hoverinfo\":\"text\",\"hovertext\":[\"thing_right_got_get_time\"],\"marker\":{\"color\":\"black\"},\"mode\":\"markers\",\"showlegend\":false,\"x\":[0.5629559165906983],\"y\":[-22.5],\"type\":\"scatter\"},{\"hoverinfo\":\"text\",\"hovertext\":[\"right_going_get_every_like\",\"thing_like_think_go_time\"],\"marker\":{\"color\":\"black\"},\"mode\":\"markers\",\"showlegend\":false,\"x\":[0.40052462959233903,0.7097206746965548],\"y\":[-30.0,-33.75],\"type\":\"scatter\"}],                        {\"autosize\":false,\"height\":275,\"hovermode\":\"closest\",\"showlegend\":false,\"width\":1000,\"xaxis\":{\"mirror\":\"allticks\",\"rangemode\":\"tozero\",\"showgrid\":false,\"showline\":true,\"showticklabels\":true,\"ticks\":\"outside\",\"type\":\"linear\",\"zeroline\":false},\"yaxis\":{\"mirror\":\"allticks\",\"rangemode\":\"tozero\",\"showgrid\":false,\"showline\":true,\"showticklabels\":true,\"tickmode\":\"array\",\"ticks\":\"outside\",\"ticktext\":[\"2_right_yeah_make\",\"4_thing_time_say\",\"0_get_going_like\",\"1_right_every_little\",\"3_think_like_go\"],\"tickvals\":[-5.0,-15.0,-25.0,-35.0,-45.0],\"type\":\"linear\",\"zeroline\":false,\"range\":[-50.0,0.0]},\"template\":{\"data\":{\"barpolar\":[{\"marker\":{\"line\":{\"color\":\"white\",\"width\":0.5},\"pattern\":{\"fillmode\":\"overlay\",\"size\":10,\"solidity\":0.2}},\"type\":\"barpolar\"}],\"bar\":[{\"error_x\":{\"color\":\"#2a3f5f\"},\"error_y\":{\"color\":\"#2a3f5f\"},\"marker\":{\"line\":{\"color\":\"white\",\"width\":0.5},\"pattern\":{\"fillmode\":\"overlay\",\"size\":10,\"solidity\":0.2}},\"type\":\"bar\"}],\"carpet\":[{\"aaxis\":{\"endlinecolor\":\"#2a3f5f\",\"gridcolor\":\"#C8D4E3\",\"linecolor\":\"#C8D4E3\",\"minorgridcolor\":\"#C8D4E3\",\"startlinecolor\":\"#2a3f5f\"},\"baxis\":{\"endlinecolor\":\"#2a3f5f\",\"gridcolor\":\"#C8D4E3\",\"linecolor\":\"#C8D4E3\",\"minorgridcolor\":\"#C8D4E3\",\"startlinecolor\":\"#2a3f5f\"},\"type\":\"carpet\"}],\"choropleth\":[{\"colorbar\":{\"outlinewidth\":0,\"ticks\":\"\"},\"type\":\"choropleth\"}],\"contourcarpet\":[{\"colorbar\":{\"outlinewidth\":0,\"ticks\":\"\"},\"type\":\"contourcarpet\"}],\"contour\":[{\"colorbar\":{\"outlinewidth\":0,\"ticks\":\"\"},\"colorscale\":[[0.0,\"#0d0887\"],[0.1111111111111111,\"#46039f\"],[0.2222222222222222,\"#7201a8\"],[0.3333333333333333,\"#9c179e\"],[0.4444444444444444,\"#bd3786\"],[0.5555555555555556,\"#d8576b\"],[0.6666666666666666,\"#ed7953\"],[0.7777777777777778,\"#fb9f3a\"],[0.8888888888888888,\"#fdca26\"],[1.0,\"#f0f921\"]],\"type\":\"contour\"}],\"heatmapgl\":[{\"colorbar\":{\"outlinewidth\":0,\"ticks\":\"\"},\"colorscale\":[[0.0,\"#0d0887\"],[0.1111111111111111,\"#46039f\"],[0.2222222222222222,\"#7201a8\"],[0.3333333333333333,\"#9c179e\"],[0.4444444444444444,\"#bd3786\"],[0.5555555555555556,\"#d8576b\"],[0.6666666666666666,\"#ed7953\"],[0.7777777777777778,\"#fb9f3a\"],[0.8888888888888888,\"#fdca26\"],[1.0,\"#f0f921\"]],\"type\":\"heatmapgl\"}],\"heatmap\":[{\"colorbar\":{\"outlinewidth\":0,\"ticks\":\"\"},\"colorscale\":[[0.0,\"#0d0887\"],[0.1111111111111111,\"#46039f\"],[0.2222222222222222,\"#7201a8\"],[0.3333333333333333,\"#9c179e\"],[0.4444444444444444,\"#bd3786\"],[0.5555555555555556,\"#d8576b\"],[0.6666666666666666,\"#ed7953\"],[0.7777777777777778,\"#fb9f3a\"],[0.8888888888888888,\"#fdca26\"],[1.0,\"#f0f921\"]],\"type\":\"heatmap\"}],\"histogram2dcontour\":[{\"colorbar\":{\"outlinewidth\":0,\"ticks\":\"\"},\"colorscale\":[[0.0,\"#0d0887\"],[0.1111111111111111,\"#46039f\"],[0.2222222222222222,\"#7201a8\"],[0.3333333333333333,\"#9c179e\"],[0.4444444444444444,\"#bd3786\"],[0.5555555555555556,\"#d8576b\"],[0.6666666666666666,\"#ed7953\"],[0.7777777777777778,\"#fb9f3a\"],[0.8888888888888888,\"#fdca26\"],[1.0,\"#f0f921\"]],\"type\":\"histogram2dcontour\"}],\"histogram2d\":[{\"colorbar\":{\"outlinewidth\":0,\"ticks\":\"\"},\"colorscale\":[[0.0,\"#0d0887\"],[0.1111111111111111,\"#46039f\"],[0.2222222222222222,\"#7201a8\"],[0.3333333333333333,\"#9c179e\"],[0.4444444444444444,\"#bd3786\"],[0.5555555555555556,\"#d8576b\"],[0.6666666666666666,\"#ed7953\"],[0.7777777777777778,\"#fb9f3a\"],[0.8888888888888888,\"#fdca26\"],[1.0,\"#f0f921\"]],\"type\":\"histogram2d\"}],\"histogram\":[{\"marker\":{\"pattern\":{\"fillmode\":\"overlay\",\"size\":10,\"solidity\":0.2}},\"type\":\"histogram\"}],\"mesh3d\":[{\"colorbar\":{\"outlinewidth\":0,\"ticks\":\"\"},\"type\":\"mesh3d\"}],\"parcoords\":[{\"line\":{\"colorbar\":{\"outlinewidth\":0,\"ticks\":\"\"}},\"type\":\"parcoords\"}],\"pie\":[{\"automargin\":true,\"type\":\"pie\"}],\"scatter3d\":[{\"line\":{\"colorbar\":{\"outlinewidth\":0,\"ticks\":\"\"}},\"marker\":{\"colorbar\":{\"outlinewidth\":0,\"ticks\":\"\"}},\"type\":\"scatter3d\"}],\"scattercarpet\":[{\"marker\":{\"colorbar\":{\"outlinewidth\":0,\"ticks\":\"\"}},\"type\":\"scattercarpet\"}],\"scattergeo\":[{\"marker\":{\"colorbar\":{\"outlinewidth\":0,\"ticks\":\"\"}},\"type\":\"scattergeo\"}],\"scattergl\":[{\"marker\":{\"colorbar\":{\"outlinewidth\":0,\"ticks\":\"\"}},\"type\":\"scattergl\"}],\"scattermapbox\":[{\"marker\":{\"colorbar\":{\"outlinewidth\":0,\"ticks\":\"\"}},\"type\":\"scattermapbox\"}],\"scatterpolargl\":[{\"marker\":{\"colorbar\":{\"outlinewidth\":0,\"ticks\":\"\"}},\"type\":\"scatterpolargl\"}],\"scatterpolar\":[{\"marker\":{\"colorbar\":{\"outlinewidth\":0,\"ticks\":\"\"}},\"type\":\"scatterpolar\"}],\"scatter\":[{\"fillpattern\":{\"fillmode\":\"overlay\",\"size\":10,\"solidity\":0.2},\"type\":\"scatter\"}],\"scatterternary\":[{\"marker\":{\"colorbar\":{\"outlinewidth\":0,\"ticks\":\"\"}},\"type\":\"scatterternary\"}],\"surface\":[{\"colorbar\":{\"outlinewidth\":0,\"ticks\":\"\"},\"colorscale\":[[0.0,\"#0d0887\"],[0.1111111111111111,\"#46039f\"],[0.2222222222222222,\"#7201a8\"],[0.3333333333333333,\"#9c179e\"],[0.4444444444444444,\"#bd3786\"],[0.5555555555555556,\"#d8576b\"],[0.6666666666666666,\"#ed7953\"],[0.7777777777777778,\"#fb9f3a\"],[0.8888888888888888,\"#fdca26\"],[1.0,\"#f0f921\"]],\"type\":\"surface\"}],\"table\":[{\"cells\":{\"fill\":{\"color\":\"#EBF0F8\"},\"line\":{\"color\":\"white\"}},\"header\":{\"fill\":{\"color\":\"#C8D4E3\"},\"line\":{\"color\":\"white\"}},\"type\":\"table\"}]},\"layout\":{\"annotationdefaults\":{\"arrowcolor\":\"#2a3f5f\",\"arrowhead\":0,\"arrowwidth\":1},\"autotypenumbers\":\"strict\",\"coloraxis\":{\"colorbar\":{\"outlinewidth\":0,\"ticks\":\"\"}},\"colorscale\":{\"diverging\":[[0,\"#8e0152\"],[0.1,\"#c51b7d\"],[0.2,\"#de77ae\"],[0.3,\"#f1b6da\"],[0.4,\"#fde0ef\"],[0.5,\"#f7f7f7\"],[0.6,\"#e6f5d0\"],[0.7,\"#b8e186\"],[0.8,\"#7fbc41\"],[0.9,\"#4d9221\"],[1,\"#276419\"]],\"sequential\":[[0.0,\"#0d0887\"],[0.1111111111111111,\"#46039f\"],[0.2222222222222222,\"#7201a8\"],[0.3333333333333333,\"#9c179e\"],[0.4444444444444444,\"#bd3786\"],[0.5555555555555556,\"#d8576b\"],[0.6666666666666666,\"#ed7953\"],[0.7777777777777778,\"#fb9f3a\"],[0.8888888888888888,\"#fdca26\"],[1.0,\"#f0f921\"]],\"sequentialminus\":[[0.0,\"#0d0887\"],[0.1111111111111111,\"#46039f\"],[0.2222222222222222,\"#7201a8\"],[0.3333333333333333,\"#9c179e\"],[0.4444444444444444,\"#bd3786\"],[0.5555555555555556,\"#d8576b\"],[0.6666666666666666,\"#ed7953\"],[0.7777777777777778,\"#fb9f3a\"],[0.8888888888888888,\"#fdca26\"],[1.0,\"#f0f921\"]]},\"colorway\":[\"#636efa\",\"#EF553B\",\"#00cc96\",\"#ab63fa\",\"#FFA15A\",\"#19d3f3\",\"#FF6692\",\"#B6E880\",\"#FF97FF\",\"#FECB52\"],\"font\":{\"color\":\"#2a3f5f\"},\"geo\":{\"bgcolor\":\"white\",\"lakecolor\":\"white\",\"landcolor\":\"white\",\"showlakes\":true,\"showland\":true,\"subunitcolor\":\"#C8D4E3\"},\"hoverlabel\":{\"align\":\"left\"},\"hovermode\":\"closest\",\"mapbox\":{\"style\":\"light\"},\"paper_bgcolor\":\"white\",\"plot_bgcolor\":\"white\",\"polar\":{\"angularaxis\":{\"gridcolor\":\"#EBF0F8\",\"linecolor\":\"#EBF0F8\",\"ticks\":\"\"},\"bgcolor\":\"white\",\"radialaxis\":{\"gridcolor\":\"#EBF0F8\",\"linecolor\":\"#EBF0F8\",\"ticks\":\"\"}},\"scene\":{\"xaxis\":{\"backgroundcolor\":\"white\",\"gridcolor\":\"#DFE8F3\",\"gridwidth\":2,\"linecolor\":\"#EBF0F8\",\"showbackground\":true,\"ticks\":\"\",\"zerolinecolor\":\"#EBF0F8\"},\"yaxis\":{\"backgroundcolor\":\"white\",\"gridcolor\":\"#DFE8F3\",\"gridwidth\":2,\"linecolor\":\"#EBF0F8\",\"showbackground\":true,\"ticks\":\"\",\"zerolinecolor\":\"#EBF0F8\"},\"zaxis\":{\"backgroundcolor\":\"white\",\"gridcolor\":\"#DFE8F3\",\"gridwidth\":2,\"linecolor\":\"#EBF0F8\",\"showbackground\":true,\"ticks\":\"\",\"zerolinecolor\":\"#EBF0F8\"}},\"shapedefaults\":{\"line\":{\"color\":\"#2a3f5f\"}},\"ternary\":{\"aaxis\":{\"gridcolor\":\"#DFE8F3\",\"linecolor\":\"#A2B1C6\",\"ticks\":\"\"},\"baxis\":{\"gridcolor\":\"#DFE8F3\",\"linecolor\":\"#A2B1C6\",\"ticks\":\"\"},\"bgcolor\":\"white\",\"caxis\":{\"gridcolor\":\"#DFE8F3\",\"linecolor\":\"#A2B1C6\",\"ticks\":\"\"}},\"title\":{\"x\":0.05},\"xaxis\":{\"automargin\":true,\"gridcolor\":\"#EBF0F8\",\"linecolor\":\"#EBF0F8\",\"ticks\":\"\",\"title\":{\"standoff\":15},\"zerolinecolor\":\"#EBF0F8\",\"zerolinewidth\":2},\"yaxis\":{\"automargin\":true,\"gridcolor\":\"#EBF0F8\",\"linecolor\":\"#EBF0F8\",\"ticks\":\"\",\"title\":{\"standoff\":15},\"zerolinecolor\":\"#EBF0F8\",\"zerolinewidth\":2}}},\"title\":{\"font\":{\"size\":22,\"color\":\"Black\"},\"text\":\"<b>Hierarchical Clustering\",\"x\":0.5,\"xanchor\":\"center\",\"yanchor\":\"top\"},\"hoverlabel\":{\"font\":{\"size\":16,\"family\":\"Rockwell\"},\"bgcolor\":\"white\"},\"plot_bgcolor\":\"#ECEFF1\"},                        {\"responsive\": true}                    ).then(function(){\n",
       "                            \n",
       "var gd = document.getElementById('03d9e77f-e88a-4391-a14a-ed73194f84d5');\n",
       "var x = new MutationObserver(function (mutations, observer) {{\n",
       "        var display = window.getComputedStyle(gd).display;\n",
       "        if (!display || display === 'none') {{\n",
       "            console.log([gd, 'removed!']);\n",
       "            Plotly.purge(gd);\n",
       "            observer.disconnect();\n",
       "        }}\n",
       "}});\n",
       "\n",
       "// Listen for the removal of the full notebook cells\n",
       "var notebookContainer = gd.closest('#notebook-container');\n",
       "if (notebookContainer) {{\n",
       "    x.observe(notebookContainer, {childList: true});\n",
       "}}\n",
       "\n",
       "// Listen for the clearing of the current output cell\n",
       "var outputEl = gd.closest('.output');\n",
       "if (outputEl) {{\n",
       "    x.observe(outputEl, {childList: true});\n",
       "}}\n",
       "\n",
       "                        })                };                });            </script>        </div>"
      ]
     },
     "metadata": {},
     "output_type": "display_data"
    }
   ],
   "source": [
    "tree = topic_model.get_topic_tree(hierarchical_topics)\n",
    "topic_model.visualize_hierarchy(hierarchical_topics=hierarchical_topics)\n"
   ]
  },
  {
   "cell_type": "markdown",
   "metadata": {},
   "source": []
  },
  {
   "cell_type": "code",
   "execution_count": 63,
   "metadata": {},
   "outputs": [],
   "source": [
    "# topics_to_merge = [0, 1]\n",
    "# topic_model.merge_topics(sentences_clean, topics, topics_to_merge)"
   ]
  },
  {
   "cell_type": "code",
   "execution_count": 109,
   "metadata": {},
   "outputs": [
    {
     "data": {
      "application/vnd.plotly.v1+json": {
       "config": {
        "plotlyServerURL": "https://plot.ly"
       },
       "data": [
        {
         "customdata": [
          [
           0,
           "get | going | like | want | one",
           177
          ],
          [
           1,
           "right | every | little | know | even",
           98
          ],
          [
           2,
           "right | yeah | make | good | need",
           94
          ],
          [
           3,
           "think | like | go | good | long",
           64
          ],
          [
           4,
           "thing | time | say | said | got",
           57
          ]
         ],
         "hovertemplate": "<b>Topic %{customdata[0]}</b><br>Words: %{customdata[1]}<br>Size: %{customdata[2]}",
         "legendgroup": "",
         "marker": {
          "color": "#B0BEC5",
          "line": {
           "color": "DarkSlateGrey",
           "width": 2
          },
          "size": [
           177,
           98,
           94,
           64,
           57
          ],
          "sizemode": "area",
          "sizeref": 0.110625,
          "symbol": "circle"
         },
         "mode": "markers",
         "name": "",
         "orientation": "v",
         "showlegend": false,
         "type": "scatter",
         "x": [
          10.950014114379883,
          9.848769187927246,
          10.71998119354248,
          8.867067337036133,
          8.760334968566895
         ],
         "xaxis": "x",
         "y": [
          7.187502384185791,
          7.1291913986206055,
          8.110215187072754,
          9.264602661132812,
          7.350733757019043
         ],
         "yaxis": "y"
        }
       ],
       "layout": {
        "annotations": [
         {
          "showarrow": false,
          "text": "D1",
          "x": 7.4462847232818605,
          "y": 8.357052874565124,
          "yshift": 10
         },
         {
          "showarrow": false,
          "text": "D2",
          "x": 10.019400477409363,
          "xshift": 10,
          "y": 10.654293060302734
         }
        ],
        "height": 650,
        "hoverlabel": {
         "bgcolor": "white",
         "font": {
          "family": "Rockwell",
          "size": 16
         }
        },
        "legend": {
         "itemsizing": "constant",
         "tracegroupgap": 0
        },
        "margin": {
         "t": 60
        },
        "shapes": [
         {
          "line": {
           "color": "#CFD8DC",
           "width": 2
          },
          "type": "line",
          "x0": 10.019400477409363,
          "x1": 10.019400477409363,
          "y0": 6.059812688827515,
          "y1": 10.654293060302734
         },
         {
          "line": {
           "color": "#9E9E9E",
           "width": 2
          },
          "type": "line",
          "x0": 7.4462847232818605,
          "x1": 12.592516231536866,
          "y0": 8.357052874565124,
          "y1": 8.357052874565124
         }
        ],
        "sliders": [
         {
          "active": 0,
          "pad": {
           "t": 50
          },
          "steps": [
           {
            "args": [
             {
              "marker.color": [
               [
                "red",
                "#B0BEC5",
                "#B0BEC5",
                "#B0BEC5",
                "#B0BEC5"
               ]
              ]
             }
            ],
            "label": "Topic 0",
            "method": "update"
           },
           {
            "args": [
             {
              "marker.color": [
               [
                "#B0BEC5",
                "red",
                "#B0BEC5",
                "#B0BEC5",
                "#B0BEC5"
               ]
              ]
             }
            ],
            "label": "Topic 1",
            "method": "update"
           },
           {
            "args": [
             {
              "marker.color": [
               [
                "#B0BEC5",
                "#B0BEC5",
                "red",
                "#B0BEC5",
                "#B0BEC5"
               ]
              ]
             }
            ],
            "label": "Topic 2",
            "method": "update"
           },
           {
            "args": [
             {
              "marker.color": [
               [
                "#B0BEC5",
                "#B0BEC5",
                "#B0BEC5",
                "red",
                "#B0BEC5"
               ]
              ]
             }
            ],
            "label": "Topic 3",
            "method": "update"
           },
           {
            "args": [
             {
              "marker.color": [
               [
                "#B0BEC5",
                "#B0BEC5",
                "#B0BEC5",
                "#B0BEC5",
                "red"
               ]
              ]
             }
            ],
            "label": "Topic 4",
            "method": "update"
           }
          ]
         }
        ],
        "template": {
         "data": {
          "bar": [
           {
            "error_x": {
             "color": "rgb(36,36,36)"
            },
            "error_y": {
             "color": "rgb(36,36,36)"
            },
            "marker": {
             "line": {
              "color": "white",
              "width": 0.5
             },
             "pattern": {
              "fillmode": "overlay",
              "size": 10,
              "solidity": 0.2
             }
            },
            "type": "bar"
           }
          ],
          "barpolar": [
           {
            "marker": {
             "line": {
              "color": "white",
              "width": 0.5
             },
             "pattern": {
              "fillmode": "overlay",
              "size": 10,
              "solidity": 0.2
             }
            },
            "type": "barpolar"
           }
          ],
          "carpet": [
           {
            "aaxis": {
             "endlinecolor": "rgb(36,36,36)",
             "gridcolor": "white",
             "linecolor": "white",
             "minorgridcolor": "white",
             "startlinecolor": "rgb(36,36,36)"
            },
            "baxis": {
             "endlinecolor": "rgb(36,36,36)",
             "gridcolor": "white",
             "linecolor": "white",
             "minorgridcolor": "white",
             "startlinecolor": "rgb(36,36,36)"
            },
            "type": "carpet"
           }
          ],
          "choropleth": [
           {
            "colorbar": {
             "outlinewidth": 1,
             "tickcolor": "rgb(36,36,36)",
             "ticks": "outside"
            },
            "type": "choropleth"
           }
          ],
          "contour": [
           {
            "colorbar": {
             "outlinewidth": 1,
             "tickcolor": "rgb(36,36,36)",
             "ticks": "outside"
            },
            "colorscale": [
             [
              0,
              "#440154"
             ],
             [
              0.1111111111111111,
              "#482878"
             ],
             [
              0.2222222222222222,
              "#3e4989"
             ],
             [
              0.3333333333333333,
              "#31688e"
             ],
             [
              0.4444444444444444,
              "#26828e"
             ],
             [
              0.5555555555555556,
              "#1f9e89"
             ],
             [
              0.6666666666666666,
              "#35b779"
             ],
             [
              0.7777777777777778,
              "#6ece58"
             ],
             [
              0.8888888888888888,
              "#b5de2b"
             ],
             [
              1,
              "#fde725"
             ]
            ],
            "type": "contour"
           }
          ],
          "contourcarpet": [
           {
            "colorbar": {
             "outlinewidth": 1,
             "tickcolor": "rgb(36,36,36)",
             "ticks": "outside"
            },
            "type": "contourcarpet"
           }
          ],
          "heatmap": [
           {
            "colorbar": {
             "outlinewidth": 1,
             "tickcolor": "rgb(36,36,36)",
             "ticks": "outside"
            },
            "colorscale": [
             [
              0,
              "#440154"
             ],
             [
              0.1111111111111111,
              "#482878"
             ],
             [
              0.2222222222222222,
              "#3e4989"
             ],
             [
              0.3333333333333333,
              "#31688e"
             ],
             [
              0.4444444444444444,
              "#26828e"
             ],
             [
              0.5555555555555556,
              "#1f9e89"
             ],
             [
              0.6666666666666666,
              "#35b779"
             ],
             [
              0.7777777777777778,
              "#6ece58"
             ],
             [
              0.8888888888888888,
              "#b5de2b"
             ],
             [
              1,
              "#fde725"
             ]
            ],
            "type": "heatmap"
           }
          ],
          "heatmapgl": [
           {
            "colorbar": {
             "outlinewidth": 1,
             "tickcolor": "rgb(36,36,36)",
             "ticks": "outside"
            },
            "colorscale": [
             [
              0,
              "#440154"
             ],
             [
              0.1111111111111111,
              "#482878"
             ],
             [
              0.2222222222222222,
              "#3e4989"
             ],
             [
              0.3333333333333333,
              "#31688e"
             ],
             [
              0.4444444444444444,
              "#26828e"
             ],
             [
              0.5555555555555556,
              "#1f9e89"
             ],
             [
              0.6666666666666666,
              "#35b779"
             ],
             [
              0.7777777777777778,
              "#6ece58"
             ],
             [
              0.8888888888888888,
              "#b5de2b"
             ],
             [
              1,
              "#fde725"
             ]
            ],
            "type": "heatmapgl"
           }
          ],
          "histogram": [
           {
            "marker": {
             "line": {
              "color": "white",
              "width": 0.6
             }
            },
            "type": "histogram"
           }
          ],
          "histogram2d": [
           {
            "colorbar": {
             "outlinewidth": 1,
             "tickcolor": "rgb(36,36,36)",
             "ticks": "outside"
            },
            "colorscale": [
             [
              0,
              "#440154"
             ],
             [
              0.1111111111111111,
              "#482878"
             ],
             [
              0.2222222222222222,
              "#3e4989"
             ],
             [
              0.3333333333333333,
              "#31688e"
             ],
             [
              0.4444444444444444,
              "#26828e"
             ],
             [
              0.5555555555555556,
              "#1f9e89"
             ],
             [
              0.6666666666666666,
              "#35b779"
             ],
             [
              0.7777777777777778,
              "#6ece58"
             ],
             [
              0.8888888888888888,
              "#b5de2b"
             ],
             [
              1,
              "#fde725"
             ]
            ],
            "type": "histogram2d"
           }
          ],
          "histogram2dcontour": [
           {
            "colorbar": {
             "outlinewidth": 1,
             "tickcolor": "rgb(36,36,36)",
             "ticks": "outside"
            },
            "colorscale": [
             [
              0,
              "#440154"
             ],
             [
              0.1111111111111111,
              "#482878"
             ],
             [
              0.2222222222222222,
              "#3e4989"
             ],
             [
              0.3333333333333333,
              "#31688e"
             ],
             [
              0.4444444444444444,
              "#26828e"
             ],
             [
              0.5555555555555556,
              "#1f9e89"
             ],
             [
              0.6666666666666666,
              "#35b779"
             ],
             [
              0.7777777777777778,
              "#6ece58"
             ],
             [
              0.8888888888888888,
              "#b5de2b"
             ],
             [
              1,
              "#fde725"
             ]
            ],
            "type": "histogram2dcontour"
           }
          ],
          "mesh3d": [
           {
            "colorbar": {
             "outlinewidth": 1,
             "tickcolor": "rgb(36,36,36)",
             "ticks": "outside"
            },
            "type": "mesh3d"
           }
          ],
          "parcoords": [
           {
            "line": {
             "colorbar": {
              "outlinewidth": 1,
              "tickcolor": "rgb(36,36,36)",
              "ticks": "outside"
             }
            },
            "type": "parcoords"
           }
          ],
          "pie": [
           {
            "automargin": true,
            "type": "pie"
           }
          ],
          "scatter": [
           {
            "fillpattern": {
             "fillmode": "overlay",
             "size": 10,
             "solidity": 0.2
            },
            "type": "scatter"
           }
          ],
          "scatter3d": [
           {
            "line": {
             "colorbar": {
              "outlinewidth": 1,
              "tickcolor": "rgb(36,36,36)",
              "ticks": "outside"
             }
            },
            "marker": {
             "colorbar": {
              "outlinewidth": 1,
              "tickcolor": "rgb(36,36,36)",
              "ticks": "outside"
             }
            },
            "type": "scatter3d"
           }
          ],
          "scattercarpet": [
           {
            "marker": {
             "colorbar": {
              "outlinewidth": 1,
              "tickcolor": "rgb(36,36,36)",
              "ticks": "outside"
             }
            },
            "type": "scattercarpet"
           }
          ],
          "scattergeo": [
           {
            "marker": {
             "colorbar": {
              "outlinewidth": 1,
              "tickcolor": "rgb(36,36,36)",
              "ticks": "outside"
             }
            },
            "type": "scattergeo"
           }
          ],
          "scattergl": [
           {
            "marker": {
             "colorbar": {
              "outlinewidth": 1,
              "tickcolor": "rgb(36,36,36)",
              "ticks": "outside"
             }
            },
            "type": "scattergl"
           }
          ],
          "scattermapbox": [
           {
            "marker": {
             "colorbar": {
              "outlinewidth": 1,
              "tickcolor": "rgb(36,36,36)",
              "ticks": "outside"
             }
            },
            "type": "scattermapbox"
           }
          ],
          "scatterpolar": [
           {
            "marker": {
             "colorbar": {
              "outlinewidth": 1,
              "tickcolor": "rgb(36,36,36)",
              "ticks": "outside"
             }
            },
            "type": "scatterpolar"
           }
          ],
          "scatterpolargl": [
           {
            "marker": {
             "colorbar": {
              "outlinewidth": 1,
              "tickcolor": "rgb(36,36,36)",
              "ticks": "outside"
             }
            },
            "type": "scatterpolargl"
           }
          ],
          "scatterternary": [
           {
            "marker": {
             "colorbar": {
              "outlinewidth": 1,
              "tickcolor": "rgb(36,36,36)",
              "ticks": "outside"
             }
            },
            "type": "scatterternary"
           }
          ],
          "surface": [
           {
            "colorbar": {
             "outlinewidth": 1,
             "tickcolor": "rgb(36,36,36)",
             "ticks": "outside"
            },
            "colorscale": [
             [
              0,
              "#440154"
             ],
             [
              0.1111111111111111,
              "#482878"
             ],
             [
              0.2222222222222222,
              "#3e4989"
             ],
             [
              0.3333333333333333,
              "#31688e"
             ],
             [
              0.4444444444444444,
              "#26828e"
             ],
             [
              0.5555555555555556,
              "#1f9e89"
             ],
             [
              0.6666666666666666,
              "#35b779"
             ],
             [
              0.7777777777777778,
              "#6ece58"
             ],
             [
              0.8888888888888888,
              "#b5de2b"
             ],
             [
              1,
              "#fde725"
             ]
            ],
            "type": "surface"
           }
          ],
          "table": [
           {
            "cells": {
             "fill": {
              "color": "rgb(237,237,237)"
             },
             "line": {
              "color": "white"
             }
            },
            "header": {
             "fill": {
              "color": "rgb(217,217,217)"
             },
             "line": {
              "color": "white"
             }
            },
            "type": "table"
           }
          ]
         },
         "layout": {
          "annotationdefaults": {
           "arrowhead": 0,
           "arrowwidth": 1
          },
          "autotypenumbers": "strict",
          "coloraxis": {
           "colorbar": {
            "outlinewidth": 1,
            "tickcolor": "rgb(36,36,36)",
            "ticks": "outside"
           }
          },
          "colorscale": {
           "diverging": [
            [
             0,
             "rgb(103,0,31)"
            ],
            [
             0.1,
             "rgb(178,24,43)"
            ],
            [
             0.2,
             "rgb(214,96,77)"
            ],
            [
             0.3,
             "rgb(244,165,130)"
            ],
            [
             0.4,
             "rgb(253,219,199)"
            ],
            [
             0.5,
             "rgb(247,247,247)"
            ],
            [
             0.6,
             "rgb(209,229,240)"
            ],
            [
             0.7,
             "rgb(146,197,222)"
            ],
            [
             0.8,
             "rgb(67,147,195)"
            ],
            [
             0.9,
             "rgb(33,102,172)"
            ],
            [
             1,
             "rgb(5,48,97)"
            ]
           ],
           "sequential": [
            [
             0,
             "#440154"
            ],
            [
             0.1111111111111111,
             "#482878"
            ],
            [
             0.2222222222222222,
             "#3e4989"
            ],
            [
             0.3333333333333333,
             "#31688e"
            ],
            [
             0.4444444444444444,
             "#26828e"
            ],
            [
             0.5555555555555556,
             "#1f9e89"
            ],
            [
             0.6666666666666666,
             "#35b779"
            ],
            [
             0.7777777777777778,
             "#6ece58"
            ],
            [
             0.8888888888888888,
             "#b5de2b"
            ],
            [
             1,
             "#fde725"
            ]
           ],
           "sequentialminus": [
            [
             0,
             "#440154"
            ],
            [
             0.1111111111111111,
             "#482878"
            ],
            [
             0.2222222222222222,
             "#3e4989"
            ],
            [
             0.3333333333333333,
             "#31688e"
            ],
            [
             0.4444444444444444,
             "#26828e"
            ],
            [
             0.5555555555555556,
             "#1f9e89"
            ],
            [
             0.6666666666666666,
             "#35b779"
            ],
            [
             0.7777777777777778,
             "#6ece58"
            ],
            [
             0.8888888888888888,
             "#b5de2b"
            ],
            [
             1,
             "#fde725"
            ]
           ]
          },
          "colorway": [
           "#1F77B4",
           "#FF7F0E",
           "#2CA02C",
           "#D62728",
           "#9467BD",
           "#8C564B",
           "#E377C2",
           "#7F7F7F",
           "#BCBD22",
           "#17BECF"
          ],
          "font": {
           "color": "rgb(36,36,36)"
          },
          "geo": {
           "bgcolor": "white",
           "lakecolor": "white",
           "landcolor": "white",
           "showlakes": true,
           "showland": true,
           "subunitcolor": "white"
          },
          "hoverlabel": {
           "align": "left"
          },
          "hovermode": "closest",
          "mapbox": {
           "style": "light"
          },
          "paper_bgcolor": "white",
          "plot_bgcolor": "white",
          "polar": {
           "angularaxis": {
            "gridcolor": "rgb(232,232,232)",
            "linecolor": "rgb(36,36,36)",
            "showgrid": false,
            "showline": true,
            "ticks": "outside"
           },
           "bgcolor": "white",
           "radialaxis": {
            "gridcolor": "rgb(232,232,232)",
            "linecolor": "rgb(36,36,36)",
            "showgrid": false,
            "showline": true,
            "ticks": "outside"
           }
          },
          "scene": {
           "xaxis": {
            "backgroundcolor": "white",
            "gridcolor": "rgb(232,232,232)",
            "gridwidth": 2,
            "linecolor": "rgb(36,36,36)",
            "showbackground": true,
            "showgrid": false,
            "showline": true,
            "ticks": "outside",
            "zeroline": false,
            "zerolinecolor": "rgb(36,36,36)"
           },
           "yaxis": {
            "backgroundcolor": "white",
            "gridcolor": "rgb(232,232,232)",
            "gridwidth": 2,
            "linecolor": "rgb(36,36,36)",
            "showbackground": true,
            "showgrid": false,
            "showline": true,
            "ticks": "outside",
            "zeroline": false,
            "zerolinecolor": "rgb(36,36,36)"
           },
           "zaxis": {
            "backgroundcolor": "white",
            "gridcolor": "rgb(232,232,232)",
            "gridwidth": 2,
            "linecolor": "rgb(36,36,36)",
            "showbackground": true,
            "showgrid": false,
            "showline": true,
            "ticks": "outside",
            "zeroline": false,
            "zerolinecolor": "rgb(36,36,36)"
           }
          },
          "shapedefaults": {
           "fillcolor": "black",
           "line": {
            "width": 0
           },
           "opacity": 0.3
          },
          "ternary": {
           "aaxis": {
            "gridcolor": "rgb(232,232,232)",
            "linecolor": "rgb(36,36,36)",
            "showgrid": false,
            "showline": true,
            "ticks": "outside"
           },
           "baxis": {
            "gridcolor": "rgb(232,232,232)",
            "linecolor": "rgb(36,36,36)",
            "showgrid": false,
            "showline": true,
            "ticks": "outside"
           },
           "bgcolor": "white",
           "caxis": {
            "gridcolor": "rgb(232,232,232)",
            "linecolor": "rgb(36,36,36)",
            "showgrid": false,
            "showline": true,
            "ticks": "outside"
           }
          },
          "title": {
           "x": 0.05
          },
          "xaxis": {
           "automargin": true,
           "gridcolor": "rgb(232,232,232)",
           "linecolor": "rgb(36,36,36)",
           "showgrid": false,
           "showline": true,
           "ticks": "outside",
           "title": {
            "standoff": 15
           },
           "zeroline": false,
           "zerolinecolor": "rgb(36,36,36)"
          },
          "yaxis": {
           "automargin": true,
           "gridcolor": "rgb(232,232,232)",
           "linecolor": "rgb(36,36,36)",
           "showgrid": false,
           "showline": true,
           "ticks": "outside",
           "title": {
            "standoff": 15
           },
           "zeroline": false,
           "zerolinecolor": "rgb(36,36,36)"
          }
         }
        },
        "title": {
         "font": {
          "color": "Black",
          "size": 22
         },
         "text": "<b>Intertopic Distance Map",
         "x": 0.5,
         "xanchor": "center",
         "y": 0.95,
         "yanchor": "top"
        },
        "width": 650,
        "xaxis": {
         "anchor": "y",
         "domain": [
          0,
          1
         ],
         "range": [
          7.4462847232818605,
          12.592516231536866
         ],
         "title": {
          "text": ""
         },
         "visible": false
        },
        "yaxis": {
         "anchor": "x",
         "domain": [
          0,
          1
         ],
         "range": [
          6.059812688827515,
          10.654293060302734
         ],
         "title": {
          "text": ""
         },
         "visible": false
        }
       }
      },
      "text/html": [
       "<div>                            <div id=\"36178082-21ab-43dc-9374-467e41373c99\" class=\"plotly-graph-div\" style=\"height:650px; width:650px;\"></div>            <script type=\"text/javascript\">                require([\"plotly\"], function(Plotly) {                    window.PLOTLYENV=window.PLOTLYENV || {};                                    if (document.getElementById(\"36178082-21ab-43dc-9374-467e41373c99\")) {                    Plotly.newPlot(                        \"36178082-21ab-43dc-9374-467e41373c99\",                        [{\"customdata\":[[0,\"get | going | like | want | one\",177],[1,\"right | every | little | know | even\",98],[2,\"right | yeah | make | good | need\",94],[3,\"think | like | go | good | long\",64],[4,\"thing | time | say | said | got\",57]],\"hovertemplate\":\"<b>Topic %{customdata[0]}</b><br>Words: %{customdata[1]}<br>Size: %{customdata[2]}\",\"legendgroup\":\"\",\"marker\":{\"color\":\"#B0BEC5\",\"size\":[177,98,94,64,57],\"sizemode\":\"area\",\"sizeref\":0.110625,\"symbol\":\"circle\",\"line\":{\"color\":\"DarkSlateGrey\",\"width\":2}},\"mode\":\"markers\",\"name\":\"\",\"orientation\":\"v\",\"showlegend\":false,\"x\":[10.950014114379883,9.848769187927246,10.71998119354248,8.867067337036133,8.760334968566895],\"xaxis\":\"x\",\"y\":[7.187502384185791,7.1291913986206055,8.110215187072754,9.264602661132812,7.350733757019043],\"yaxis\":\"y\",\"type\":\"scatter\"}],                        {\"template\":{\"data\":{\"barpolar\":[{\"marker\":{\"line\":{\"color\":\"white\",\"width\":0.5},\"pattern\":{\"fillmode\":\"overlay\",\"size\":10,\"solidity\":0.2}},\"type\":\"barpolar\"}],\"bar\":[{\"error_x\":{\"color\":\"rgb(36,36,36)\"},\"error_y\":{\"color\":\"rgb(36,36,36)\"},\"marker\":{\"line\":{\"color\":\"white\",\"width\":0.5},\"pattern\":{\"fillmode\":\"overlay\",\"size\":10,\"solidity\":0.2}},\"type\":\"bar\"}],\"carpet\":[{\"aaxis\":{\"endlinecolor\":\"rgb(36,36,36)\",\"gridcolor\":\"white\",\"linecolor\":\"white\",\"minorgridcolor\":\"white\",\"startlinecolor\":\"rgb(36,36,36)\"},\"baxis\":{\"endlinecolor\":\"rgb(36,36,36)\",\"gridcolor\":\"white\",\"linecolor\":\"white\",\"minorgridcolor\":\"white\",\"startlinecolor\":\"rgb(36,36,36)\"},\"type\":\"carpet\"}],\"choropleth\":[{\"colorbar\":{\"outlinewidth\":1,\"tickcolor\":\"rgb(36,36,36)\",\"ticks\":\"outside\"},\"type\":\"choropleth\"}],\"contourcarpet\":[{\"colorbar\":{\"outlinewidth\":1,\"tickcolor\":\"rgb(36,36,36)\",\"ticks\":\"outside\"},\"type\":\"contourcarpet\"}],\"contour\":[{\"colorbar\":{\"outlinewidth\":1,\"tickcolor\":\"rgb(36,36,36)\",\"ticks\":\"outside\"},\"colorscale\":[[0.0,\"#440154\"],[0.1111111111111111,\"#482878\"],[0.2222222222222222,\"#3e4989\"],[0.3333333333333333,\"#31688e\"],[0.4444444444444444,\"#26828e\"],[0.5555555555555556,\"#1f9e89\"],[0.6666666666666666,\"#35b779\"],[0.7777777777777778,\"#6ece58\"],[0.8888888888888888,\"#b5de2b\"],[1.0,\"#fde725\"]],\"type\":\"contour\"}],\"heatmapgl\":[{\"colorbar\":{\"outlinewidth\":1,\"tickcolor\":\"rgb(36,36,36)\",\"ticks\":\"outside\"},\"colorscale\":[[0.0,\"#440154\"],[0.1111111111111111,\"#482878\"],[0.2222222222222222,\"#3e4989\"],[0.3333333333333333,\"#31688e\"],[0.4444444444444444,\"#26828e\"],[0.5555555555555556,\"#1f9e89\"],[0.6666666666666666,\"#35b779\"],[0.7777777777777778,\"#6ece58\"],[0.8888888888888888,\"#b5de2b\"],[1.0,\"#fde725\"]],\"type\":\"heatmapgl\"}],\"heatmap\":[{\"colorbar\":{\"outlinewidth\":1,\"tickcolor\":\"rgb(36,36,36)\",\"ticks\":\"outside\"},\"colorscale\":[[0.0,\"#440154\"],[0.1111111111111111,\"#482878\"],[0.2222222222222222,\"#3e4989\"],[0.3333333333333333,\"#31688e\"],[0.4444444444444444,\"#26828e\"],[0.5555555555555556,\"#1f9e89\"],[0.6666666666666666,\"#35b779\"],[0.7777777777777778,\"#6ece58\"],[0.8888888888888888,\"#b5de2b\"],[1.0,\"#fde725\"]],\"type\":\"heatmap\"}],\"histogram2dcontour\":[{\"colorbar\":{\"outlinewidth\":1,\"tickcolor\":\"rgb(36,36,36)\",\"ticks\":\"outside\"},\"colorscale\":[[0.0,\"#440154\"],[0.1111111111111111,\"#482878\"],[0.2222222222222222,\"#3e4989\"],[0.3333333333333333,\"#31688e\"],[0.4444444444444444,\"#26828e\"],[0.5555555555555556,\"#1f9e89\"],[0.6666666666666666,\"#35b779\"],[0.7777777777777778,\"#6ece58\"],[0.8888888888888888,\"#b5de2b\"],[1.0,\"#fde725\"]],\"type\":\"histogram2dcontour\"}],\"histogram2d\":[{\"colorbar\":{\"outlinewidth\":1,\"tickcolor\":\"rgb(36,36,36)\",\"ticks\":\"outside\"},\"colorscale\":[[0.0,\"#440154\"],[0.1111111111111111,\"#482878\"],[0.2222222222222222,\"#3e4989\"],[0.3333333333333333,\"#31688e\"],[0.4444444444444444,\"#26828e\"],[0.5555555555555556,\"#1f9e89\"],[0.6666666666666666,\"#35b779\"],[0.7777777777777778,\"#6ece58\"],[0.8888888888888888,\"#b5de2b\"],[1.0,\"#fde725\"]],\"type\":\"histogram2d\"}],\"histogram\":[{\"marker\":{\"line\":{\"color\":\"white\",\"width\":0.6}},\"type\":\"histogram\"}],\"mesh3d\":[{\"colorbar\":{\"outlinewidth\":1,\"tickcolor\":\"rgb(36,36,36)\",\"ticks\":\"outside\"},\"type\":\"mesh3d\"}],\"parcoords\":[{\"line\":{\"colorbar\":{\"outlinewidth\":1,\"tickcolor\":\"rgb(36,36,36)\",\"ticks\":\"outside\"}},\"type\":\"parcoords\"}],\"pie\":[{\"automargin\":true,\"type\":\"pie\"}],\"scatter3d\":[{\"line\":{\"colorbar\":{\"outlinewidth\":1,\"tickcolor\":\"rgb(36,36,36)\",\"ticks\":\"outside\"}},\"marker\":{\"colorbar\":{\"outlinewidth\":1,\"tickcolor\":\"rgb(36,36,36)\",\"ticks\":\"outside\"}},\"type\":\"scatter3d\"}],\"scattercarpet\":[{\"marker\":{\"colorbar\":{\"outlinewidth\":1,\"tickcolor\":\"rgb(36,36,36)\",\"ticks\":\"outside\"}},\"type\":\"scattercarpet\"}],\"scattergeo\":[{\"marker\":{\"colorbar\":{\"outlinewidth\":1,\"tickcolor\":\"rgb(36,36,36)\",\"ticks\":\"outside\"}},\"type\":\"scattergeo\"}],\"scattergl\":[{\"marker\":{\"colorbar\":{\"outlinewidth\":1,\"tickcolor\":\"rgb(36,36,36)\",\"ticks\":\"outside\"}},\"type\":\"scattergl\"}],\"scattermapbox\":[{\"marker\":{\"colorbar\":{\"outlinewidth\":1,\"tickcolor\":\"rgb(36,36,36)\",\"ticks\":\"outside\"}},\"type\":\"scattermapbox\"}],\"scatterpolargl\":[{\"marker\":{\"colorbar\":{\"outlinewidth\":1,\"tickcolor\":\"rgb(36,36,36)\",\"ticks\":\"outside\"}},\"type\":\"scatterpolargl\"}],\"scatterpolar\":[{\"marker\":{\"colorbar\":{\"outlinewidth\":1,\"tickcolor\":\"rgb(36,36,36)\",\"ticks\":\"outside\"}},\"type\":\"scatterpolar\"}],\"scatter\":[{\"fillpattern\":{\"fillmode\":\"overlay\",\"size\":10,\"solidity\":0.2},\"type\":\"scatter\"}],\"scatterternary\":[{\"marker\":{\"colorbar\":{\"outlinewidth\":1,\"tickcolor\":\"rgb(36,36,36)\",\"ticks\":\"outside\"}},\"type\":\"scatterternary\"}],\"surface\":[{\"colorbar\":{\"outlinewidth\":1,\"tickcolor\":\"rgb(36,36,36)\",\"ticks\":\"outside\"},\"colorscale\":[[0.0,\"#440154\"],[0.1111111111111111,\"#482878\"],[0.2222222222222222,\"#3e4989\"],[0.3333333333333333,\"#31688e\"],[0.4444444444444444,\"#26828e\"],[0.5555555555555556,\"#1f9e89\"],[0.6666666666666666,\"#35b779\"],[0.7777777777777778,\"#6ece58\"],[0.8888888888888888,\"#b5de2b\"],[1.0,\"#fde725\"]],\"type\":\"surface\"}],\"table\":[{\"cells\":{\"fill\":{\"color\":\"rgb(237,237,237)\"},\"line\":{\"color\":\"white\"}},\"header\":{\"fill\":{\"color\":\"rgb(217,217,217)\"},\"line\":{\"color\":\"white\"}},\"type\":\"table\"}]},\"layout\":{\"annotationdefaults\":{\"arrowhead\":0,\"arrowwidth\":1},\"autotypenumbers\":\"strict\",\"coloraxis\":{\"colorbar\":{\"outlinewidth\":1,\"tickcolor\":\"rgb(36,36,36)\",\"ticks\":\"outside\"}},\"colorscale\":{\"diverging\":[[0.0,\"rgb(103,0,31)\"],[0.1,\"rgb(178,24,43)\"],[0.2,\"rgb(214,96,77)\"],[0.3,\"rgb(244,165,130)\"],[0.4,\"rgb(253,219,199)\"],[0.5,\"rgb(247,247,247)\"],[0.6,\"rgb(209,229,240)\"],[0.7,\"rgb(146,197,222)\"],[0.8,\"rgb(67,147,195)\"],[0.9,\"rgb(33,102,172)\"],[1.0,\"rgb(5,48,97)\"]],\"sequential\":[[0.0,\"#440154\"],[0.1111111111111111,\"#482878\"],[0.2222222222222222,\"#3e4989\"],[0.3333333333333333,\"#31688e\"],[0.4444444444444444,\"#26828e\"],[0.5555555555555556,\"#1f9e89\"],[0.6666666666666666,\"#35b779\"],[0.7777777777777778,\"#6ece58\"],[0.8888888888888888,\"#b5de2b\"],[1.0,\"#fde725\"]],\"sequentialminus\":[[0.0,\"#440154\"],[0.1111111111111111,\"#482878\"],[0.2222222222222222,\"#3e4989\"],[0.3333333333333333,\"#31688e\"],[0.4444444444444444,\"#26828e\"],[0.5555555555555556,\"#1f9e89\"],[0.6666666666666666,\"#35b779\"],[0.7777777777777778,\"#6ece58\"],[0.8888888888888888,\"#b5de2b\"],[1.0,\"#fde725\"]]},\"colorway\":[\"#1F77B4\",\"#FF7F0E\",\"#2CA02C\",\"#D62728\",\"#9467BD\",\"#8C564B\",\"#E377C2\",\"#7F7F7F\",\"#BCBD22\",\"#17BECF\"],\"font\":{\"color\":\"rgb(36,36,36)\"},\"geo\":{\"bgcolor\":\"white\",\"lakecolor\":\"white\",\"landcolor\":\"white\",\"showlakes\":true,\"showland\":true,\"subunitcolor\":\"white\"},\"hoverlabel\":{\"align\":\"left\"},\"hovermode\":\"closest\",\"mapbox\":{\"style\":\"light\"},\"paper_bgcolor\":\"white\",\"plot_bgcolor\":\"white\",\"polar\":{\"angularaxis\":{\"gridcolor\":\"rgb(232,232,232)\",\"linecolor\":\"rgb(36,36,36)\",\"showgrid\":false,\"showline\":true,\"ticks\":\"outside\"},\"bgcolor\":\"white\",\"radialaxis\":{\"gridcolor\":\"rgb(232,232,232)\",\"linecolor\":\"rgb(36,36,36)\",\"showgrid\":false,\"showline\":true,\"ticks\":\"outside\"}},\"scene\":{\"xaxis\":{\"backgroundcolor\":\"white\",\"gridcolor\":\"rgb(232,232,232)\",\"gridwidth\":2,\"linecolor\":\"rgb(36,36,36)\",\"showbackground\":true,\"showgrid\":false,\"showline\":true,\"ticks\":\"outside\",\"zeroline\":false,\"zerolinecolor\":\"rgb(36,36,36)\"},\"yaxis\":{\"backgroundcolor\":\"white\",\"gridcolor\":\"rgb(232,232,232)\",\"gridwidth\":2,\"linecolor\":\"rgb(36,36,36)\",\"showbackground\":true,\"showgrid\":false,\"showline\":true,\"ticks\":\"outside\",\"zeroline\":false,\"zerolinecolor\":\"rgb(36,36,36)\"},\"zaxis\":{\"backgroundcolor\":\"white\",\"gridcolor\":\"rgb(232,232,232)\",\"gridwidth\":2,\"linecolor\":\"rgb(36,36,36)\",\"showbackground\":true,\"showgrid\":false,\"showline\":true,\"ticks\":\"outside\",\"zeroline\":false,\"zerolinecolor\":\"rgb(36,36,36)\"}},\"shapedefaults\":{\"fillcolor\":\"black\",\"line\":{\"width\":0},\"opacity\":0.3},\"ternary\":{\"aaxis\":{\"gridcolor\":\"rgb(232,232,232)\",\"linecolor\":\"rgb(36,36,36)\",\"showgrid\":false,\"showline\":true,\"ticks\":\"outside\"},\"baxis\":{\"gridcolor\":\"rgb(232,232,232)\",\"linecolor\":\"rgb(36,36,36)\",\"showgrid\":false,\"showline\":true,\"ticks\":\"outside\"},\"bgcolor\":\"white\",\"caxis\":{\"gridcolor\":\"rgb(232,232,232)\",\"linecolor\":\"rgb(36,36,36)\",\"showgrid\":false,\"showline\":true,\"ticks\":\"outside\"}},\"title\":{\"x\":0.05},\"xaxis\":{\"automargin\":true,\"gridcolor\":\"rgb(232,232,232)\",\"linecolor\":\"rgb(36,36,36)\",\"showgrid\":false,\"showline\":true,\"ticks\":\"outside\",\"title\":{\"standoff\":15},\"zeroline\":false,\"zerolinecolor\":\"rgb(36,36,36)\"},\"yaxis\":{\"automargin\":true,\"gridcolor\":\"rgb(232,232,232)\",\"linecolor\":\"rgb(36,36,36)\",\"showgrid\":false,\"showline\":true,\"ticks\":\"outside\",\"title\":{\"standoff\":15},\"zeroline\":false,\"zerolinecolor\":\"rgb(36,36,36)\"}}},\"xaxis\":{\"anchor\":\"y\",\"domain\":[0.0,1.0],\"title\":{\"text\":\"\"},\"visible\":false,\"range\":[7.4462847232818605,12.592516231536866]},\"yaxis\":{\"anchor\":\"x\",\"domain\":[0.0,1.0],\"title\":{\"text\":\"\"},\"visible\":false,\"range\":[6.059812688827515,10.654293060302734]},\"legend\":{\"tracegroupgap\":0,\"itemsizing\":\"constant\"},\"margin\":{\"t\":60},\"title\":{\"font\":{\"size\":22,\"color\":\"Black\"},\"text\":\"<b>Intertopic Distance Map\",\"y\":0.95,\"x\":0.5,\"xanchor\":\"center\",\"yanchor\":\"top\"},\"hoverlabel\":{\"font\":{\"size\":16,\"family\":\"Rockwell\"},\"bgcolor\":\"white\"},\"width\":650,\"height\":650,\"sliders\":[{\"active\":0,\"pad\":{\"t\":50},\"steps\":[{\"args\":[{\"marker.color\":[[\"red\",\"#B0BEC5\",\"#B0BEC5\",\"#B0BEC5\",\"#B0BEC5\"]]}],\"label\":\"Topic 0\",\"method\":\"update\"},{\"args\":[{\"marker.color\":[[\"#B0BEC5\",\"red\",\"#B0BEC5\",\"#B0BEC5\",\"#B0BEC5\"]]}],\"label\":\"Topic 1\",\"method\":\"update\"},{\"args\":[{\"marker.color\":[[\"#B0BEC5\",\"#B0BEC5\",\"red\",\"#B0BEC5\",\"#B0BEC5\"]]}],\"label\":\"Topic 2\",\"method\":\"update\"},{\"args\":[{\"marker.color\":[[\"#B0BEC5\",\"#B0BEC5\",\"#B0BEC5\",\"red\",\"#B0BEC5\"]]}],\"label\":\"Topic 3\",\"method\":\"update\"},{\"args\":[{\"marker.color\":[[\"#B0BEC5\",\"#B0BEC5\",\"#B0BEC5\",\"#B0BEC5\",\"red\"]]}],\"label\":\"Topic 4\",\"method\":\"update\"}]}],\"shapes\":[{\"line\":{\"color\":\"#CFD8DC\",\"width\":2},\"type\":\"line\",\"x0\":10.019400477409363,\"x1\":10.019400477409363,\"y0\":6.059812688827515,\"y1\":10.654293060302734},{\"line\":{\"color\":\"#9E9E9E\",\"width\":2},\"type\":\"line\",\"x0\":7.4462847232818605,\"x1\":12.592516231536866,\"y0\":8.357052874565124,\"y1\":8.357052874565124}],\"annotations\":[{\"showarrow\":false,\"text\":\"D1\",\"x\":7.4462847232818605,\"y\":8.357052874565124,\"yshift\":10},{\"showarrow\":false,\"text\":\"D2\",\"x\":10.019400477409363,\"xshift\":10,\"y\":10.654293060302734}]},                        {\"responsive\": true}                    ).then(function(){\n",
       "                            \n",
       "var gd = document.getElementById('36178082-21ab-43dc-9374-467e41373c99');\n",
       "var x = new MutationObserver(function (mutations, observer) {{\n",
       "        var display = window.getComputedStyle(gd).display;\n",
       "        if (!display || display === 'none') {{\n",
       "            console.log([gd, 'removed!']);\n",
       "            Plotly.purge(gd);\n",
       "            observer.disconnect();\n",
       "        }}\n",
       "}});\n",
       "\n",
       "// Listen for the removal of the full notebook cells\n",
       "var notebookContainer = gd.closest('#notebook-container');\n",
       "if (notebookContainer) {{\n",
       "    x.observe(notebookContainer, {childList: true});\n",
       "}}\n",
       "\n",
       "// Listen for the clearing of the current output cell\n",
       "var outputEl = gd.closest('.output');\n",
       "if (outputEl) {{\n",
       "    x.observe(outputEl, {childList: true});\n",
       "}}\n",
       "\n",
       "                        })                };                });            </script>        </div>"
      ]
     },
     "metadata": {},
     "output_type": "display_data"
    }
   ],
   "source": [
    "topic_model.visualize_topics()"
   ]
  },
  {
   "cell_type": "code",
   "execution_count": 126,
   "metadata": {},
   "outputs": [],
   "source": [
    "df = pd.DataFrame(sentences, topics).reset_index()\n",
    "df.columns = ['topics', 'docs']\n",
    "#df = df.loc[df['topics']!=-1]"
   ]
  },
  {
   "cell_type": "code",
   "execution_count": 127,
   "metadata": {},
   "outputs": [
    {
     "data": {
      "text/plain": [
       "-1    0.740603\n",
       " 0    0.093700\n",
       " 1    0.051879\n",
       " 2    0.049762\n",
       " 3    0.033880\n",
       " 4    0.030175\n",
       "Name: topics, dtype: float64"
      ]
     },
     "execution_count": 127,
     "metadata": {},
     "output_type": "execute_result"
    }
   ],
   "source": [
    "from locale import normalize\n",
    "df.topics.value_counts(normalize=True)"
   ]
  },
  {
   "cell_type": "code",
   "execution_count": 128,
   "metadata": {},
   "outputs": [],
   "source": [
    "from scipy.stats import mode\n",
    "\n",
    "\n",
    "df['rolling'] = df['topics'].rolling(20).apply(lambda x: mode(x)[0])\n",
    "#df[['len_cum', 'rolling']].head(100).plot('rolling')\n",
    "\n",
    "df= df.fillna(-1)"
   ]
  },
  {
   "cell_type": "code",
   "execution_count": 132,
   "metadata": {},
   "outputs": [
    {
     "data": {
      "text/html": [
       "<div>\n",
       "<style scoped>\n",
       "    .dataframe tbody tr th:only-of-type {\n",
       "        vertical-align: middle;\n",
       "    }\n",
       "\n",
       "    .dataframe tbody tr th {\n",
       "        vertical-align: top;\n",
       "    }\n",
       "\n",
       "    .dataframe thead th {\n",
       "        text-align: right;\n",
       "    }\n",
       "</style>\n",
       "<table border=\"1\" class=\"dataframe\">\n",
       "  <thead>\n",
       "    <tr style=\"text-align: right;\">\n",
       "      <th></th>\n",
       "      <th>topics</th>\n",
       "      <th>docs</th>\n",
       "      <th>rolling</th>\n",
       "    </tr>\n",
       "  </thead>\n",
       "  <tbody>\n",
       "    <tr>\n",
       "      <th>0</th>\n",
       "      <td>-1</td>\n",
       "      <td>Okay</td>\n",
       "      <td>-1.0</td>\n",
       "    </tr>\n",
       "    <tr>\n",
       "      <th>2</th>\n",
       "      <td>-1</td>\n",
       "      <td>People are like, how do you live</td>\n",
       "      <td>-1.0</td>\n",
       "    </tr>\n",
       "    <tr>\n",
       "      <th>4</th>\n",
       "      <td>-1</td>\n",
       "      <td>They're taking money from the russians</td>\n",
       "      <td>-1.0</td>\n",
       "    </tr>\n",
       "    <tr>\n",
       "      <th>5</th>\n",
       "      <td>-1</td>\n",
       "      <td>And of course the answer is no, but I do this...</td>\n",
       "      <td>-1.0</td>\n",
       "    </tr>\n",
       "    <tr>\n",
       "      <th>9</th>\n",
       "      <td>-1</td>\n",
       "      <td>My own setup</td>\n",
       "      <td>-1.0</td>\n",
       "    </tr>\n",
       "    <tr>\n",
       "      <th>...</th>\n",
       "      <td>...</td>\n",
       "      <td>...</td>\n",
       "      <td>...</td>\n",
       "    </tr>\n",
       "    <tr>\n",
       "      <th>1884</th>\n",
       "      <td>-1</td>\n",
       "      <td>Open the possibility</td>\n",
       "      <td>-1.0</td>\n",
       "    </tr>\n",
       "    <tr>\n",
       "      <th>1885</th>\n",
       "      <td>-1</td>\n",
       "      <td>Take care</td>\n",
       "      <td>-1.0</td>\n",
       "    </tr>\n",
       "    <tr>\n",
       "      <th>1886</th>\n",
       "      <td>-1</td>\n",
       "      <td>Bye</td>\n",
       "      <td>-1.0</td>\n",
       "    </tr>\n",
       "    <tr>\n",
       "      <th>1887</th>\n",
       "      <td>-1</td>\n",
       "      <td>Take care</td>\n",
       "      <td>-1.0</td>\n",
       "    </tr>\n",
       "    <tr>\n",
       "      <th>1888</th>\n",
       "      <td>-1</td>\n",
       "      <td>\\n</td>\n",
       "      <td>-1.0</td>\n",
       "    </tr>\n",
       "  </tbody>\n",
       "</table>\n",
       "<p>1399 rows × 3 columns</p>\n",
       "</div>"
      ],
      "text/plain": [
       "      topics                                               docs  rolling\n",
       "0         -1                                               Okay     -1.0\n",
       "2         -1                   People are like, how do you live     -1.0\n",
       "4         -1             They're taking money from the russians     -1.0\n",
       "5         -1   And of course the answer is no, but I do this...     -1.0\n",
       "9         -1                                       My own setup     -1.0\n",
       "...      ...                                                ...      ...\n",
       "1884      -1                               Open the possibility     -1.0\n",
       "1885      -1                                          Take care     -1.0\n",
       "1886      -1                                                Bye     -1.0\n",
       "1887      -1                                          Take care     -1.0\n",
       "1888      -1                                                 \\n     -1.0\n",
       "\n",
       "[1399 rows x 3 columns]"
      ]
     },
     "execution_count": 132,
     "metadata": {},
     "output_type": "execute_result"
    }
   ],
   "source": [
    "df = df.loc[df.topics==-1]\n",
    "df"
   ]
  },
  {
   "cell_type": "code",
   "execution_count": 133,
   "metadata": {},
   "outputs": [],
   "source": [
    "\n",
    "text = ''\n",
    "for num, each in enumerate(df['docs']):\n",
    "    if df['rolling'].iloc[num] != df['rolling'].iloc[num-1]:\n",
    "        text+=f' \\n \\n  {each}. '\n",
    "    else:\n",
    "        text+=f'{each}. '"
   ]
  },
  {
   "cell_type": "code",
   "execution_count": null,
   "metadata": {},
   "outputs": [],
   "source": [
    "print(text)"
   ]
  },
  {
   "cell_type": "code",
   "execution_count": 124,
   "metadata": {},
   "outputs": [
    {
     "data": {
      "text/plain": [
       "'.\\n├─■──right_yeah_make_good_need ── Topic: 2\\n└─thing_like_think_go_time\\n     ├─thing_right_got_get_time\\n     │    ├─■──thing_time_say_said_got ── Topic: 4\\n     │    └─right_going_get_every_like\\n     │         ├─■──get_going_like_want_one ── Topic: 0\\n     │         └─■──right_every_little_know_even ── Topic: 1\\n     └─■──think_like_go_good_long ── Topic: 3\\n'"
      ]
     },
     "execution_count": 124,
     "metadata": {},
     "output_type": "execute_result"
    }
   ],
   "source": [
    "topic_model.get_topic_tree(hierarchical_topics)"
   ]
  },
  {
   "cell_type": "code",
   "execution_count": 166,
   "metadata": {},
   "outputs": [
    {
     "name": "stderr",
     "output_type": "stream",
     "text": [
      "2022-08-31 09:02:09.007777: I tensorflow/core/util/util.cc:169] oneDNN custom operations are on. You may see slightly different numerical results due to floating-point round-off errors from different computation orders. To turn them off, set the environment variable `TF_ENABLE_ONEDNN_OPTS=0`.\n",
      "2022-08-31 09:02:09.024383: W tensorflow/stream_executor/platform/default/dso_loader.cc:64] Could not load dynamic library 'libcudart.so.11.0'; dlerror: libcudart.so.11.0: cannot open shared object file: No such file or directory\n",
      "2022-08-31 09:02:09.024406: I tensorflow/stream_executor/cuda/cudart_stub.cc:29] Ignore above cudart dlerror if you do not have a GPU set up on your machine.\n"
     ]
    },
    {
     "name": "stdout",
     "output_type": "stream",
     "text": [
      "Shape of initial_state_logits: (10, 10)\n",
      "Shape of transition probs: (10, 10, 10)\n",
      "Example initial state logits for num_states==3:\n",
      "[  -0.   -0.   -0. -100. -100. -100. -100. -100. -100. -100.]\n",
      "Example transition_probs for num_states==3:\n",
      "[[0.95  0.025 0.025 0.    0.    0.    0.    0.    0.    0.   ]\n",
      " [0.025 0.95  0.025 0.    0.    0.    0.    0.    0.    0.   ]\n",
      " [0.025 0.025 0.95  0.    0.    0.    0.    0.    0.    0.   ]\n",
      " [0.    0.    0.    1.    0.    0.    0.    0.    0.    0.   ]\n",
      " [0.    0.    0.    0.    1.    0.    0.    0.    0.    0.   ]\n",
      " [0.    0.    0.    0.    0.    1.    0.    0.    0.    0.   ]\n",
      " [0.    0.    0.    0.    0.    0.    1.    0.    0.    0.   ]\n",
      " [0.    0.    0.    0.    0.    0.    0.    1.    0.    0.   ]\n",
      " [0.    0.    0.    0.    0.    0.    0.    0.    1.    0.   ]\n",
      " [0.    0.    0.    0.    0.    0.    0.    0.    0.    1.   ]]\n"
     ]
    },
    {
     "name": "stderr",
     "output_type": "stream",
     "text": [
      "2022-08-31 09:02:12.015508: W tensorflow/stream_executor/platform/default/dso_loader.cc:64] Could not load dynamic library 'libcuda.so.1'; dlerror: libcuda.so.1: cannot open shared object file: No such file or directory\n",
      "2022-08-31 09:02:12.015569: W tensorflow/stream_executor/cuda/cuda_driver.cc:269] failed call to cuInit: UNKNOWN ERROR (303)\n",
      "2022-08-31 09:02:12.015611: I tensorflow/stream_executor/cuda/cuda_diagnostics.cc:156] kernel driver does not appear to be running on this host (DESKTOP-533EO63): /proc/driver/nvidia/version does not exist\n",
      "2022-08-31 09:02:12.017494: I tensorflow/core/platform/cpu_feature_guard.cc:193] This TensorFlow binary is optimized with oneAPI Deep Neural Network Library (oneDNN) to use the following CPU instructions in performance-critical operations:  AVX2 AVX512F AVX512_VNNI FMA\n",
      "To enable them in other operations, rebuild TensorFlow with the appropriate compiler flags.\n"
     ]
    }
   ],
   "source": []
  },
  {
   "cell_type": "code",
   "execution_count": null,
   "metadata": {},
   "outputs": [],
   "source": []
  }
 ],
 "metadata": {
  "kernelspec": {
   "display_name": "Python 3.8.12 64-bit ('quint')",
   "language": "python",
   "name": "python3"
  },
  "language_info": {
   "codemirror_mode": {
    "name": "ipython",
    "version": 3
   },
   "file_extension": ".py",
   "mimetype": "text/x-python",
   "name": "python",
   "nbconvert_exporter": "python",
   "pygments_lexer": "ipython3",
   "version": "3.8.12"
  },
  "orig_nbformat": 4,
  "vscode": {
   "interpreter": {
    "hash": "8d98f679e85918cf6df43a016c8cf832b102b395abdc24b4f6327e5d97b9a7f4"
   }
  }
 },
 "nbformat": 4,
 "nbformat_minor": 2
}
