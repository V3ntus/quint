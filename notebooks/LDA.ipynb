{
 "cells": [
  {
   "cell_type": "code",
   "execution_count": 50,
   "metadata": {},
   "outputs": [],
   "source": [
    "#with open('../quint/data/sample_texts/joe_rogan_tr.txt') as f:\n",
    "with open('../quint/data/results/Joe_cut.txt') as f:\n",
    "    doc = f.readlines()\n",
    "    \n",
    "doc = doc[0].replace(\"?\", \". \")\n",
    "sentences = doc.split('. ') \n"
   ]
  },
  {
   "cell_type": "code",
   "execution_count": 31,
   "metadata": {},
   "outputs": [],
   "source": [
    "from nltk.corpus import stopwords \n",
    "import string\n",
    "from nltk.stem.wordnet import WordNetLemmatizer\n",
    "from nltk import word_tokenize \n",
    "\n",
    "def clean (text):\n",
    "    for punctuation in string.punctuation:\n",
    "        text = text.replace(punctuation, ' ') # Remove Punctuation\n",
    "    lowercased = text.lower() # Lower Case\n",
    "    tokenized = word_tokenize(lowercased) # Tokenize\n",
    "    words_only = [word for word in tokenized if word.isalpha()] # Remove numbers\n",
    "    stop_words = set(stopwords.words('english')) # Make stopword list\n",
    "    without_stopwords = [word for word in words_only if not word in stop_words] # Remove Stop Words\n",
    "    lemma=WordNetLemmatizer() # Initiate Lemmatizer\n",
    "    lemmatized = [lemma.lemmatize(word) for word in without_stopwords] # Lemmatize\n",
    "    return lemmatized"
   ]
  },
  {
   "cell_type": "code",
   "execution_count": 32,
   "metadata": {},
   "outputs": [],
   "source": [
    "dataset = [clean(each) for each in sentences]"
   ]
  },
  {
   "cell_type": "code",
   "execution_count": 33,
   "metadata": {},
   "outputs": [],
   "source": [
    "from gensim import corpora \n",
    "\n",
    "id2word = corpora.Dictionary(dataset) \n",
    "corpus = [id2word.doc2bow(text) for text in dataset] "
   ]
  },
  {
   "cell_type": "code",
   "execution_count": 42,
   "metadata": {},
   "outputs": [
    {
     "name": "stdout",
     "output_type": "stream",
     "text": [
      "(5, '0.032*\"guy\" + 0.032*\"instead\" + 0.032*\"say\" + 0.032*\"want\" + 0.032*\"criticism\"')\n",
      "(23, '0.054*\"even\" + 0.054*\"know\" + 0.028*\"act\" + 0.028*\"requirement\" + 0.028*\"completely\"')\n",
      "(18, '0.028*\"government\" + 0.022*\"capability\" + 0.022*\"yes\" + 0.022*\"sort\" + 0.022*\"person\"')\n",
      "(1, '0.044*\"would\" + 0.022*\"clickbait\" + 0.022*\"thought\" + 0.022*\"twitter\" + 0.022*\"mention\"')\n",
      "(8, '0.041*\"eight\" + 0.041*\"wanted\" + 0.021*\"lassie\" + 0.021*\"clarify\" + 0.021*\"congress\"')\n",
      "(13, '0.029*\"book\" + 0.026*\"story\" + 0.026*\"make\" + 0.015*\"permanent\" + 0.015*\"came\"')\n",
      "(4, '0.053*\"know\" + 0.044*\"terrorist\" + 0.030*\"using\" + 0.030*\"getting\" + 0.017*\"guy\"')\n",
      "(21, '0.038*\"talking\" + 0.038*\"got\" + 0.026*\"government\" + 0.019*\"tell\" + 0.019*\"table\"')\n",
      "(16, '0.033*\"surveillance\" + 0.033*\"program\" + 0.020*\"actually\" + 0.017*\"like\" + 0.017*\"obvious\"')\n",
      "(12, '0.028*\"talk\" + 0.020*\"university\" + 0.020*\"joe\" + 0.020*\"channel\" + 0.020*\"full\"')\n",
      "(7, '0.039*\"okay\" + 0.039*\"got\" + 0.039*\"know\" + 0.039*\"book\" + 0.020*\"n\"')\n",
      "(11, '0.035*\"class\" + 0.030*\"anybody\" + 0.016*\"one\" + 0.016*\"lassie\" + 0.016*\"completely\"')\n",
      "(14, '0.043*\"know\" + 0.022*\"thing\" + 0.022*\"like\" + 0.022*\"guy\" + 0.022*\"kind\"')\n",
      "(10, '0.042*\"like\" + 0.039*\"know\" + 0.029*\"people\" + 0.029*\"rogan\" + 0.029*\"joe\"')\n",
      "(19, '0.061*\"like\" + 0.050*\"rogan\" + 0.050*\"joe\" + 0.034*\"cia\" + 0.017*\"mentioned\"')\n",
      "(0, '0.049*\"right\" + 0.029*\"everybody\" + 0.029*\"people\" + 0.020*\"talked\" + 0.020*\"think\"')\n",
      "(3, '0.035*\"like\" + 0.034*\"say\" + 0.023*\"okay\" + 0.023*\"want\" + 0.022*\"know\"')\n",
      "(2, '0.069*\"like\" + 0.025*\"know\" + 0.022*\"medium\" + 0.022*\"concern\" + 0.019*\"right\"')\n",
      "(20, '0.042*\"right\" + 0.025*\"whether\" + 0.025*\"step\" + 0.025*\"talking\" + 0.017*\"public\"')\n",
      "(15, '0.066*\"like\" + 0.042*\"know\" + 0.031*\"get\" + 0.028*\"thing\" + 0.018*\"go\"')\n"
     ]
    }
   ],
   "source": [
    "import gensim\n",
    "num_topics = 25 \n",
    "lda_model = gensim.models.ldamodel.LdaModel(corpus=corpus, \n",
    "                                           id2word=id2word, \n",
    "                                           num_topics=num_topics,  \n",
    "                                       \t   alpha='auto') \n",
    "topics = lda_model.print_topics(num_words = 5)  \n",
    "for topic in topics:  \n",
    "\tprint(topic) \n"
   ]
  },
  {
   "cell_type": "code",
   "execution_count": 69,
   "metadata": {},
   "outputs": [
    {
     "name": "stderr",
     "output_type": "stream",
     "text": [
      "  4%|▍         | 4/99 [00:02<01:00,  1.58it/s]/home/poloniki/.pyenv/versions/3.8.12/envs/quint/lib/python3.8/site-packages/gensim/topic_coherence/direct_confirmation_measure.py:204: RuntimeWarning: divide by zero encountered in double_scalars\n",
      "  m_lr_i = np.log(numerator / denominator)\n",
      "/home/poloniki/.pyenv/versions/3.8.12/envs/quint/lib/python3.8/site-packages/gensim/topic_coherence/indirect_confirmation_measure.py:323: RuntimeWarning: invalid value encountered in double_scalars\n",
      "  return cv1.T.dot(cv2)[0, 0] / (_magnitude(cv1) * _magnitude(cv2))\n",
      "100%|██████████| 99/99 [03:27<00:00,  2.10s/it]\n"
     ]
    }
   ],
   "source": [
    "import pandas as pd \n",
    "from tqdm import tqdm \n",
    "from gensim import models, corpora \n",
    "#from ggplot import * \n",
    "%matplotlib inline \n",
    "from gensim.models.coherencemodel import CoherenceModel\n",
    "def lda(corpus,id2word,dataset,topic_num): \n",
    "    lda_model = gensim.models.ldamodel.LdaModel(corpus=corpus, \n",
    "                                       \tid2word=id2word,\n",
    "                                        num_topics=topic_num,  \n",
    "                                        random_state=100, \n",
    "                                        update_every=0, \n",
    "                                        chunksize=300, \n",
    "                                       \tpasses=10, \n",
    "                                       \talpha='auto', \n",
    "                                        per_word_topics=True) \n",
    "    \n",
    "    coherence_model_lda = CoherenceModel(model=lda_model, texts=dataset, dictionary=id2word, coherence='c_v') \n",
    "    coherence_lda = coherence_model_lda.get_coherence() \n",
    "    topics = lda_model.print_topics(-1) \n",
    "    return coherence_lda, topics, lda_model \n",
    "\n",
    "def find_topics(start, end, dataset): \n",
    "    id2word = corpora.Dictionary(dataset) \n",
    "    corpus = [id2word.doc2bow(text) for text in dataset] \n",
    "    coherence_array = [] \n",
    "    topics_array = [] \n",
    "    topic_range = range(start,end) \n",
    "    lda_model_array = [] \n",
    "\n",
    "    for topic_num in tqdm(topic_range): \n",
    "        coherence_lda, topics, lda_model = lda(corpus,id2word,dataset,topic_num) \n",
    "        topics_array.append(topics) \n",
    "        coherence_array.append(coherence_lda) \n",
    "        lda_model_array.append(lda_model) \n",
    "\n",
    "    return {'coherence_array': coherence_array, 'topics_array': topics_array, 'lda_model_array':lda_model_array, 'corpus':corpus, 'id2word':id2word, 'topic_range':topic_range} \n",
    "\n",
    "results = find_topics(1,100,dataset) \n",
    "coherence_plot_pd = pd.DataFrame({'y_data': results['coherence_array'], 'x_data': results['topic_range']}) "
   ]
  },
  {
   "cell_type": "code",
   "execution_count": 70,
   "metadata": {},
   "outputs": [
    {
     "data": {
      "text/plain": [
       "<AxesSubplot:xlabel='x_data', ylabel='y_data'>"
      ]
     },
     "execution_count": 70,
     "metadata": {},
     "output_type": "execute_result"
    },
    {
     "data": {
      "image/png": "[encoded data removed]",
      "text/plain": [
       "<Figure size 640x480 with 1 Axes>"
      ]
     },
     "metadata": {},
     "output_type": "display_data"
    }
   ],
   "source": [
    "import seaborn as sns\n",
    "sns.lineplot(data=coherence_plot_pd, x='x_data', y='y_data')"
   ]
  },
  {
   "cell_type": "code",
   "execution_count": 71,
   "metadata": {},
   "outputs": [
    {
     "data": {
      "text/html": [
       "<div>\n",
       "<style scoped>\n",
       "    .dataframe tbody tr th:only-of-type {\n",
       "        vertical-align: middle;\n",
       "    }\n",
       "\n",
       "    .dataframe tbody tr th {\n",
       "        vertical-align: top;\n",
       "    }\n",
       "\n",
       "    .dataframe thead th {\n",
       "        text-align: right;\n",
       "    }\n",
       "</style>\n",
       "<table border=\"1\" class=\"dataframe\">\n",
       "  <thead>\n",
       "    <tr style=\"text-align: right;\">\n",
       "      <th></th>\n",
       "      <th>y_data</th>\n",
       "      <th>x_data</th>\n",
       "    </tr>\n",
       "  </thead>\n",
       "  <tbody>\n",
       "    <tr>\n",
       "      <th>0</th>\n",
       "      <td>0.487338</td>\n",
       "      <td>1</td>\n",
       "    </tr>\n",
       "    <tr>\n",
       "      <th>1</th>\n",
       "      <td>0.561168</td>\n",
       "      <td>2</td>\n",
       "    </tr>\n",
       "    <tr>\n",
       "      <th>2</th>\n",
       "      <td>0.537306</td>\n",
       "      <td>3</td>\n",
       "    </tr>\n",
       "    <tr>\n",
       "      <th>3</th>\n",
       "      <td>0.561851</td>\n",
       "      <td>4</td>\n",
       "    </tr>\n",
       "    <tr>\n",
       "      <th>4</th>\n",
       "      <td>NaN</td>\n",
       "      <td>5</td>\n",
       "    </tr>\n",
       "    <tr>\n",
       "      <th>...</th>\n",
       "      <td>...</td>\n",
       "      <td>...</td>\n",
       "    </tr>\n",
       "    <tr>\n",
       "      <th>94</th>\n",
       "      <td>NaN</td>\n",
       "      <td>95</td>\n",
       "    </tr>\n",
       "    <tr>\n",
       "      <th>95</th>\n",
       "      <td>NaN</td>\n",
       "      <td>96</td>\n",
       "    </tr>\n",
       "    <tr>\n",
       "      <th>96</th>\n",
       "      <td>NaN</td>\n",
       "      <td>97</td>\n",
       "    </tr>\n",
       "    <tr>\n",
       "      <th>97</th>\n",
       "      <td>NaN</td>\n",
       "      <td>98</td>\n",
       "    </tr>\n",
       "    <tr>\n",
       "      <th>98</th>\n",
       "      <td>NaN</td>\n",
       "      <td>99</td>\n",
       "    </tr>\n",
       "  </tbody>\n",
       "</table>\n",
       "<p>99 rows × 2 columns</p>\n",
       "</div>"
      ],
      "text/plain": [
       "      y_data  x_data\n",
       "0   0.487338       1\n",
       "1   0.561168       2\n",
       "2   0.537306       3\n",
       "3   0.561851       4\n",
       "4        NaN       5\n",
       "..       ...     ...\n",
       "94       NaN      95\n",
       "95       NaN      96\n",
       "96       NaN      97\n",
       "97       NaN      98\n",
       "98       NaN      99\n",
       "\n",
       "[99 rows x 2 columns]"
      ]
     },
     "execution_count": 71,
     "metadata": {},
     "output_type": "execute_result"
    }
   ],
   "source": [
    "coherence_plot_pd#.y_data.plot()"
   ]
  },
  {
   "cell_type": "code",
   "execution_count": 72,
   "metadata": {},
   "outputs": [
    {
     "data": {
      "text/plain": [
       "(0.5618506846812511,\n",
       " [(0,\n",
       "   '0.021*\"know\" + 0.013*\"like\" + 0.013*\"state\" + 0.013*\"united\" + 0.012*\"right\" + 0.010*\"terrorist\" + 0.009*\"search\" + 0.009*\"box\" + 0.008*\"want\" + 0.008*\"get\"'),\n",
       "  (1,\n",
       "   '0.027*\"like\" + 0.025*\"government\" + 0.021*\"book\" + 0.020*\"know\" + 0.015*\"get\" + 0.011*\"talking\" + 0.009*\"wanted\" + 0.008*\"want\" + 0.007*\"sort\" + 0.007*\"getting\"'),\n",
       "  (2,\n",
       "   '0.029*\"know\" + 0.024*\"like\" + 0.022*\"right\" + 0.019*\"thing\" + 0.015*\"government\" + 0.014*\"could\" + 0.012*\"everybody\" + 0.011*\"get\" + 0.010*\"got\" + 0.008*\"sort\"'),\n",
       "  (3,\n",
       "   '0.026*\"like\" + 0.018*\"know\" + 0.017*\"thing\" + 0.015*\"people\" + 0.015*\"guy\" + 0.014*\"want\" + 0.014*\"joe\" + 0.014*\"rogan\" + 0.012*\"say\" + 0.010*\"go\"')],\n",
       " <gensim.models.ldamodel.LdaModel at 0x7f938c71c940>)"
      ]
     },
     "execution_count": 72,
     "metadata": {},
     "output_type": "execute_result"
    }
   ],
   "source": [
    "lda(corpus,id2word,dataset,4)"
   ]
  }
 ],
 "metadata": {
  "kernelspec": {
   "display_name": "Python 3.8.12 64-bit ('quint')",
   "language": "python",
   "name": "python3"
  },
  "language_info": {
   "codemirror_mode": {
    "name": "ipython",
    "version": 3
   },
   "file_extension": ".py",
   "mimetype": "text/x-python",
   "name": "python",
   "nbconvert_exporter": "python",
   "pygments_lexer": "ipython3",
   "version": "3.8.12"
  },
  "orig_nbformat": 4,
  "vscode": {
   "interpreter": {
    "hash": "8d98f679e85918cf6df43a016c8cf832b102b395abdc24b4f6327e5d97b9a7f4"
   }
  }
 },
 "nbformat": 4,
 "nbformat_minor": 2
}
