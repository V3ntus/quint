{
 "cells": [
  {
   "cell_type": "code",
   "execution_count": 1,
   "metadata": {},
   "outputs": [],
   "source": [
    "with open('../quint/data/sample_texts/joe_rogan_tr.txt') as f:\n",
    "    doc = f.readlines()\n",
    "doc = doc[0].replace(\"?\", \". \")\n",
    "sentences = doc.split('. ')"
   ]
  },
  {
   "cell_type": "code",
   "execution_count": 2,
   "metadata": {},
   "outputs": [
    {
     "name": "stderr",
     "output_type": "stream",
     "text": [
      "/home/poloniki/.pyenv/versions/3.8.12/envs/quint/lib/python3.8/site-packages/tqdm/auto.py:22: TqdmWarning: IProgress not found. Please update jupyter and ipywidgets. See https://ipywidgets.readthedocs.io/en/stable/user_install.html\n",
      "  from .autonotebook import tqdm as notebook_tqdm\n"
     ]
    }
   ],
   "source": [
    "from sentence_transformers import SentenceTransformer\n",
    "model = SentenceTransformer('all-MiniLM-L6-v2')\n",
    "embeddings = model.encode(sentences)\n",
    "from sklearn.metrics.pairwise import cosine_similarity\n"
   ]
  },
  {
   "cell_type": "code",
   "execution_count": null,
   "metadata": {},
   "outputs": [],
   "source": [
    "from scipy import sparse\n",
    "\n",
    "A =  embeddings\n",
    "A_sparse = sparse.csr_matrix(A)\n",
    "\n",
    "similarities = cosine_similarity(A_sparse)\n",
    "print('pairwise dense output:\\n {}\\n'.format(similarities))\n",
    "\n",
    "#also can output sparse matrices\n",
    "similarities_sparse = cosine_similarity(A_sparse,dense_output=False)\n",
    "print('pairwise sparse output:\\n {}\\n'.format(similarities_sparse))"
   ]
  },
  {
   "cell_type": "code",
   "execution_count": 14,
   "metadata": {},
   "outputs": [],
   "source": [
    "A =  embeddings[0:0+10]\n",
    "A_sparse = sparse.csr_matrix(A)\n",
    "similarities = cosine_similarity(A_sparse)\n",
    "average_sim = similarities.mean(axis=1)\n",
    "best_sentence = list(average_sim).index(average_sim.max())"
   ]
  },
  {
   "cell_type": "code",
   "execution_count": 17,
   "metadata": {},
   "outputs": [
    {
     "data": {
      "text/plain": [
       "['Okay',\n",
       " \"You're very professional\",\n",
       " 'People are like, how do you live',\n",
       " ' And things like that',\n",
       " \"They're taking money from the russians\",\n",
       " 'And of course the answer is no, but I do this for a living, like I speak',\n",
       " \"I don't have a YouTube channel where I'm joe rogan, but I give speeches at universities and things like that\",\n",
       " 'I do a lot of interviews',\n",
       " \"We're recording now, right\",\n",
       " 'My own setup',\n",
       " 'Is it possible that you could do a YouTube channel']"
      ]
     },
     "execution_count": 17,
     "metadata": {},
     "output_type": "execute_result"
    }
   ],
   "source": [
    "sentences[:11]"
   ]
  },
  {
   "cell_type": "code",
   "execution_count": 19,
   "metadata": {},
   "outputs": [],
   "source": [
    "import pandas as pd\n",
    "\n",
    "df = pd.DataFrame()\n",
    "df['sentence'] = sentences[:-1]\n",
    "df['len'] = df['sentence'].apply(lambda x: len(x))\n",
    "df['cum'] = df['len'].cumsum()"
   ]
  },
  {
   "cell_type": "code",
   "execution_count": 20,
   "metadata": {},
   "outputs": [
    {
     "data": {
      "text/html": [
       "<div>\n",
       "<style scoped>\n",
       "    .dataframe tbody tr th:only-of-type {\n",
       "        vertical-align: middle;\n",
       "    }\n",
       "\n",
       "    .dataframe tbody tr th {\n",
       "        vertical-align: top;\n",
       "    }\n",
       "\n",
       "    .dataframe thead th {\n",
       "        text-align: right;\n",
       "    }\n",
       "</style>\n",
       "<table border=\"1\" class=\"dataframe\">\n",
       "  <thead>\n",
       "    <tr style=\"text-align: right;\">\n",
       "      <th></th>\n",
       "      <th>sentence</th>\n",
       "      <th>len</th>\n",
       "      <th>cum</th>\n",
       "    </tr>\n",
       "  </thead>\n",
       "  <tbody>\n",
       "    <tr>\n",
       "      <th>0</th>\n",
       "      <td>Okay</td>\n",
       "      <td>4</td>\n",
       "      <td>4</td>\n",
       "    </tr>\n",
       "    <tr>\n",
       "      <th>1</th>\n",
       "      <td>You're very professional</td>\n",
       "      <td>24</td>\n",
       "      <td>28</td>\n",
       "    </tr>\n",
       "    <tr>\n",
       "      <th>2</th>\n",
       "      <td>People are like, how do you live</td>\n",
       "      <td>32</td>\n",
       "      <td>60</td>\n",
       "    </tr>\n",
       "    <tr>\n",
       "      <th>3</th>\n",
       "      <td>And things like that</td>\n",
       "      <td>21</td>\n",
       "      <td>81</td>\n",
       "    </tr>\n",
       "    <tr>\n",
       "      <th>4</th>\n",
       "      <td>They're taking money from the russians</td>\n",
       "      <td>38</td>\n",
       "      <td>119</td>\n",
       "    </tr>\n",
       "    <tr>\n",
       "      <th>...</th>\n",
       "      <td>...</td>\n",
       "      <td>...</td>\n",
       "      <td>...</td>\n",
       "    </tr>\n",
       "    <tr>\n",
       "      <th>1881</th>\n",
       "      <td>Open</td>\n",
       "      <td>4</td>\n",
       "      <td>151133</td>\n",
       "    </tr>\n",
       "    <tr>\n",
       "      <th>1882</th>\n",
       "      <td>Stay free</td>\n",
       "      <td>9</td>\n",
       "      <td>151142</td>\n",
       "    </tr>\n",
       "    <tr>\n",
       "      <th>1883</th>\n",
       "      <td>Open the possibility</td>\n",
       "      <td>20</td>\n",
       "      <td>151162</td>\n",
       "    </tr>\n",
       "    <tr>\n",
       "      <th>1884</th>\n",
       "      <td>Take care</td>\n",
       "      <td>9</td>\n",
       "      <td>151171</td>\n",
       "    </tr>\n",
       "    <tr>\n",
       "      <th>1885</th>\n",
       "      <td>Bye</td>\n",
       "      <td>3</td>\n",
       "      <td>151174</td>\n",
       "    </tr>\n",
       "  </tbody>\n",
       "</table>\n",
       "<p>1886 rows × 3 columns</p>\n",
       "</div>"
      ],
      "text/plain": [
       "                                    sentence  len     cum\n",
       "0                                       Okay    4       4\n",
       "1                   You're very professional   24      28\n",
       "2           People are like, how do you live   32      60\n",
       "3                       And things like that   21      81\n",
       "4     They're taking money from the russians   38     119\n",
       "...                                      ...  ...     ...\n",
       "1881                                    Open    4  151133\n",
       "1882                               Stay free    9  151142\n",
       "1883                    Open the possibility   20  151162\n",
       "1884                               Take care    9  151171\n",
       "1885                                     Bye    3  151174\n",
       "\n",
       "[1886 rows x 3 columns]"
      ]
     },
     "execution_count": 20,
     "metadata": {},
     "output_type": "execute_result"
    }
   ],
   "source": [
    "for each in range()"
   ]
  },
  {
   "cell_type": "code",
   "execution_count": 6,
   "metadata": {},
   "outputs": [
    {
     "name": "stdout",
     "output_type": "stream",
     "text": [
      "pairwise sparse output:\n",
      "   (0, 9)\t0.19151323\n",
      "  (0, 8)\t0.22045031\n",
      "  (0, 7)\t0.14725205\n",
      "  (0, 6)\t0.1281785\n",
      "  (0, 5)\t0.14565955\n",
      "  (0, 4)\t0.067412145\n",
      "  (0, 3)\t0.21776927\n",
      "  (0, 2)\t0.15213983\n",
      "  (0, 1)\t0.3092109\n",
      "  (0, 0)\t1.0000002\n",
      "  (1, 9)\t0.12053775\n",
      "  (1, 8)\t0.21650808\n",
      "  (1, 7)\t0.30153498\n",
      "  (1, 6)\t0.20621556\n",
      "  (1, 5)\t0.2685198\n",
      "  (1, 4)\t0.073092416\n",
      "  (1, 3)\t0.10510075\n",
      "  (1, 2)\t0.12392418\n",
      "  (1, 1)\t0.99999994\n",
      "  (1, 0)\t0.3092109\n",
      "  (2, 9)\t0.07830191\n",
      "  (2, 8)\t0.07087238\n",
      "  (2, 7)\t0.22705536\n",
      "  (2, 6)\t0.18541205\n",
      "  (2, 5)\t0.17548974\n",
      "  :\t:\n",
      "  (7, 4)\t0.036525737\n",
      "  (7, 3)\t0.18825786\n",
      "  (7, 2)\t0.22705536\n",
      "  (7, 1)\t0.30153498\n",
      "  (7, 0)\t0.14725205\n",
      "  (8, 9)\t0.123769745\n",
      "  (8, 8)\t1.0\n",
      "  (8, 7)\t0.17914052\n",
      "  (8, 6)\t0.1834028\n",
      "  (8, 5)\t0.13393828\n",
      "  (8, 4)\t0.10662789\n",
      "  (8, 3)\t0.11010373\n",
      "  (8, 2)\t0.07087238\n",
      "  (8, 1)\t0.21650808\n",
      "  (8, 0)\t0.22045031\n",
      "  (9, 9)\t1.0000001\n",
      "  (9, 8)\t0.123769745\n",
      "  (9, 7)\t0.117298126\n",
      "  (9, 6)\t0.040397055\n",
      "  (9, 5)\t0.025690183\n",
      "  (9, 4)\t-0.020763276\n",
      "  (9, 3)\t0.056635354\n",
      "  (9, 2)\t0.07830191\n",
      "  (9, 1)\t0.12053775\n",
      "  (9, 0)\t0.19151323\n",
      "\n"
     ]
    }
   ],
   "source": [
    "similarities_sparse = cosine_similarity(A_sparse,dense_output=False)\n",
    "print('pairwise sparse output:\\n {}\\n'.format(similarities_sparse))"
   ]
  }
 ],
 "metadata": {
  "kernelspec": {
   "display_name": "Python 3.8.12 64-bit ('quint')",
   "language": "python",
   "name": "python3"
  },
  "language_info": {
   "codemirror_mode": {
    "name": "ipython",
    "version": 3
   },
   "file_extension": ".py",
   "mimetype": "text/x-python",
   "name": "python",
   "nbconvert_exporter": "python",
   "pygments_lexer": "ipython3",
   "version": "3.8.12"
  },
  "orig_nbformat": 4,
  "vscode": {
   "interpreter": {
    "hash": "8d98f679e85918cf6df43a016c8cf832b102b395abdc24b4f6327e5d97b9a7f4"
   }
  }
 },
 "nbformat": 4,
 "nbformat_minor": 2
}
