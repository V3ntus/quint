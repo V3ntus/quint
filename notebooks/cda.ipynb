{
 "cells": [
  {
   "cell_type": "code",
   "execution_count": 2,
   "metadata": {},
   "outputs": [],
   "source": [
    "from gensim.models import ldaseqmodel\n",
    "from gensim.corpora import Dictionary, bleicorpus\n",
    "import numpy\n",
    "from gensim.matutils import hellinger"
   ]
  },
  {
   "cell_type": "code",
   "execution_count": 6,
   "metadata": {},
   "outputs": [],
   "source": [
    "with open('../quint/data/sample_texts/joe_rogan_tr.txt') as f:\n",
    "    doc = f.readlines()\n",
    "doc = doc[0].replace(\"?\", \".\")\n",
    "sentences = doc.split('.')\n",
    "import pandas as pd\n",
    "from nltk.corpus import stopwords \n",
    "import string\n",
    "from nltk.stem.wordnet import WordNetLemmatizer\n",
    "from nltk import word_tokenize \n",
    "\n",
    "def clean (text):\n",
    "    for punctuation in string.punctuation:\n",
    "        text = text.replace(punctuation, ' ') # Remove Punctuation\n",
    "    lowercased = text.lower() # Lower Case\n",
    "    tokenized = word_tokenize(lowercased) # Tokenize\n",
    "    words_only = [word for word in tokenized if word.isalpha()] # Remove numbers\n",
    "    stop_words = set(stopwords.words('english')) # Make stopword list\n",
    "    without_stopwords = [word for word in words_only if not word in stop_words] # Remove Stop Words\n",
    "    lemma=WordNetLemmatizer() # Initiate Lemmatizer\n",
    "    lemmatized = [lemma.lemmatize(word) for word in without_stopwords] # Lemmatize\n",
    "    return lemmatized\n",
    "\n",
    "sentences_clean = [' '.join(clean(each)) for each in sentences]\n",
    "\n",
    "data = pd.DataFrame(sentences_clean)\n",
    "data.columns = ['text']\n",
    "data['len'] = data['text'].apply(lambda x: len(x))\n",
    "data['len_cum'] = data['len'].cumsum()"
   ]
  },
  {
   "cell_type": "code",
   "execution_count": 12,
   "metadata": {},
   "outputs": [],
   "source": [
    "corpus = data['text']\n",
    "time_slice = data['len_cum']\n",
    "from gensim.test.utils import common_corpus"
   ]
  },
  {
   "cell_type": "code",
   "execution_count": 15,
   "metadata": {},
   "outputs": [
    {
     "name": "stderr",
     "output_type": "stream",
     "text": [
      "/home/poloniki/.pyenv/versions/3.8.12/envs/quint/lib/python3.8/site-packages/gensim/models/ldaseqmodel.py:297: RuntimeWarning: divide by zero encountered in double_scalars\n",
      "  convergence = np.fabs((bound - old_bound) / old_bound)\n"
     ]
    }
   ],
   "source": [
    "from gensim.models import LdaSeqModel\n",
    "\n",
    "ldaseq = LdaSeqModel(corpus=common_corpus, time_slice=[2, 4, 3], num_topics=2, chunksize=1)"
   ]
  },
  {
   "cell_type": "code",
   "execution_count": 18,
   "metadata": {},
   "outputs": [
    {
     "data": {
      "text/plain": [
       "[[(0, 1), (1, 1), (2, 1)],\n",
       " [(0, 1), (3, 1), (4, 1), (5, 1), (6, 1), (7, 1)],\n",
       " [(2, 1), (5, 1), (7, 1), (8, 1)],\n",
       " [(1, 1), (5, 2), (8, 1)],\n",
       " [(3, 1), (6, 1), (7, 1)],\n",
       " [(9, 1)],\n",
       " [(9, 1), (10, 1)],\n",
       " [(9, 1), (10, 1), (11, 1)],\n",
       " [(4, 1), (10, 1), (11, 1)]]"
      ]
     },
     "execution_count": 18,
     "metadata": {},
     "output_type": "execute_result"
    }
   ],
   "source": [
    "common_corpus"
   ]
  },
  {
   "cell_type": "code",
   "execution_count": 17,
   "metadata": {},
   "outputs": [
    {
     "data": {
      "text/plain": [
       "[[('5', 0.23059476234256537),\n",
       "  ('9', 0.2295908211871498),\n",
       "  ('8', 0.08445801067961985),\n",
       "  ('10', 0.08445801067961985),\n",
       "  ('1', 0.058503463936873994),\n",
       "  ('2', 0.058503463936873994),\n",
       "  ('7', 0.058503463936873994),\n",
       "  ('11', 0.058503463936873994),\n",
       "  ('0', 0.040471156500746334),\n",
       "  ('3', 0.032137794287600954),\n",
       "  ('4', 0.032137794287600954),\n",
       "  ('6', 0.032137794287600954)],\n",
       " [('0', 0.156818975299115),\n",
       "  ('3', 0.10553335346850468),\n",
       "  ('4', 0.10553335346850468),\n",
       "  ('6', 0.10553335346850468),\n",
       "  ('7', 0.10553335346850468),\n",
       "  ('2', 0.07395373545280261),\n",
       "  ('5', 0.07395373545280261),\n",
       "  ('10', 0.07395373545280261),\n",
       "  ('11', 0.07395373545280261),\n",
       "  ('9', 0.042181097684156475),\n",
       "  ('8', 0.04189437849153868),\n",
       "  ('1', 0.041157192839960596)]]"
      ]
     },
     "execution_count": 17,
     "metadata": {},
     "output_type": "execute_result"
    }
   ],
   "source": [
    "ldaseq.print_topics(time=0)\n"
   ]
  },
  {
   "cell_type": "code",
   "execution_count": 13,
   "metadata": {},
   "outputs": [
    {
     "ename": "KeyboardInterrupt",
     "evalue": "",
     "output_type": "error",
     "traceback": [
      "\u001b[0;31m---------------------------------------------------------------------------\u001b[0m",
      "\u001b[0;31mKeyboardInterrupt\u001b[0m                         Traceback (most recent call last)",
      "\u001b[1;32m/home/poloniki/code/poloniki/quint/notebooks/cda.ipynb Cell 4\u001b[0m in \u001b[0;36m<cell line: 2>\u001b[0;34m()\u001b[0m\n\u001b[1;32m      <a href='vscode-notebook-cell://wsl%2Bubuntu/home/poloniki/code/poloniki/quint/notebooks/cda.ipynb#W3sdnNjb2RlLXJlbW90ZQ%3D%3D?line=0'>1</a>\u001b[0m \u001b[39m# Have minimum Length of the sentence - append\u001b[39;00m\n\u001b[0;32m----> <a href='vscode-notebook-cell://wsl%2Bubuntu/home/poloniki/code/poloniki/quint/notebooks/cda.ipynb#W3sdnNjb2RlLXJlbW90ZQ%3D%3D?line=1'>2</a>\u001b[0m ldaseq \u001b[39m=\u001b[39m ldaseqmodel\u001b[39m.\u001b[39;49mLdaSeqModel(corpus\u001b[39m=\u001b[39;49mcommon_corpus, time_slice\u001b[39m=\u001b[39;49mtime_slice, num_topics\u001b[39m=\u001b[39;49m\u001b[39m5\u001b[39;49m)\n",
      "File \u001b[0;32m~/.pyenv/versions/3.8.12/envs/quint/lib/python3.8/site-packages/gensim/models/ldaseqmodel.py:192\u001b[0m, in \u001b[0;36mLdaSeqModel.__init__\u001b[0;34m(self, corpus, time_slice, id2word, alphas, num_topics, initialize, sstats, lda_model, obs_variance, chain_variance, passes, random_state, lda_inference_max_iter, em_min_iter, em_max_iter, chunksize)\u001b[0m\n\u001b[1;32m    189\u001b[0m \u001b[39mself\u001b[39m\u001b[39m.\u001b[39minit_ldaseq_ss(chain_variance, obs_variance, \u001b[39mself\u001b[39m\u001b[39m.\u001b[39malphas, \u001b[39mself\u001b[39m\u001b[39m.\u001b[39msstats)\n\u001b[1;32m    191\u001b[0m \u001b[39m# fit DTM\u001b[39;00m\n\u001b[0;32m--> 192\u001b[0m \u001b[39mself\u001b[39;49m\u001b[39m.\u001b[39;49mfit_lda_seq(corpus, lda_inference_max_iter, em_min_iter, em_max_iter, chunksize)\n",
      "File \u001b[0;32m~/.pyenv/versions/3.8.12/envs/quint/lib/python3.8/site-packages/gensim/models/ldaseqmodel.py:287\u001b[0m, in \u001b[0;36mLdaSeqModel.fit_lda_seq\u001b[0;34m(self, corpus, lda_inference_max_iter, em_min_iter, em_max_iter, chunksize)\u001b[0m\n\u001b[1;32m    284\u001b[0m logger\u001b[39m.\u001b[39minfo(\u001b[39m\"\u001b[39m\u001b[39mM Step\u001b[39m\u001b[39m\"\u001b[39m)\n\u001b[1;32m    286\u001b[0m \u001b[39m# fit the variational distribution. This is the M - Step\u001b[39;00m\n\u001b[0;32m--> 287\u001b[0m topic_bound \u001b[39m=\u001b[39m \u001b[39mself\u001b[39;49m\u001b[39m.\u001b[39;49mfit_lda_seq_topics(topic_suffstats)\n\u001b[1;32m    288\u001b[0m bound \u001b[39m+\u001b[39m\u001b[39m=\u001b[39m topic_bound\n\u001b[1;32m    290\u001b[0m \u001b[39mif\u001b[39;00m (bound \u001b[39m-\u001b[39m old_bound) \u001b[39m<\u001b[39m \u001b[39m0\u001b[39m:\n\u001b[1;32m    291\u001b[0m     \u001b[39m# if max_iter is too low, increase iterations.\u001b[39;00m\n",
      "File \u001b[0;32m~/.pyenv/versions/3.8.12/envs/quint/lib/python3.8/site-packages/gensim/models/ldaseqmodel.py:488\u001b[0m, in \u001b[0;36mLdaSeqModel.fit_lda_seq_topics\u001b[0;34m(self, topic_suffstats)\u001b[0m\n\u001b[1;32m    486\u001b[0m \u001b[39mfor\u001b[39;00m k, chain \u001b[39min\u001b[39;00m \u001b[39menumerate\u001b[39m(\u001b[39mself\u001b[39m\u001b[39m.\u001b[39mtopic_chains):\n\u001b[1;32m    487\u001b[0m     logger\u001b[39m.\u001b[39minfo(\u001b[39m\"\u001b[39m\u001b[39mFitting topic number \u001b[39m\u001b[39m%i\u001b[39;00m\u001b[39m\"\u001b[39m, k)\n\u001b[0;32m--> 488\u001b[0m     lhood_term \u001b[39m=\u001b[39m sslm\u001b[39m.\u001b[39;49mfit_sslm(chain, topic_suffstats[k])\n\u001b[1;32m    489\u001b[0m     lhood \u001b[39m+\u001b[39m\u001b[39m=\u001b[39m lhood_term\n\u001b[1;32m    491\u001b[0m \u001b[39mreturn\u001b[39;00m lhood\n",
      "File \u001b[0;32m~/.pyenv/versions/3.8.12/envs/quint/lib/python3.8/site-packages/gensim/models/ldaseqmodel.py:967\u001b[0m, in \u001b[0;36msslm.fit_sslm\u001b[0;34m(self, sstats)\u001b[0m\n\u001b[1;32m    965\u001b[0m iter_ \u001b[39m+\u001b[39m\u001b[39m=\u001b[39m \u001b[39m1\u001b[39m\n\u001b[1;32m    966\u001b[0m old_bound \u001b[39m=\u001b[39m bound\n\u001b[0;32m--> 967\u001b[0m \u001b[39mself\u001b[39m\u001b[39m.\u001b[39mobs, \u001b[39mself\u001b[39m\u001b[39m.\u001b[39mzeta \u001b[39m=\u001b[39m \u001b[39mself\u001b[39;49m\u001b[39m.\u001b[39;49mupdate_obs(sstats, totals)\n\u001b[1;32m    969\u001b[0m \u001b[39mif\u001b[39;00m model \u001b[39m==\u001b[39m \u001b[39m\"\u001b[39m\u001b[39mDTM\u001b[39m\u001b[39m\"\u001b[39m:\n\u001b[1;32m    970\u001b[0m     bound \u001b[39m=\u001b[39m \u001b[39mself\u001b[39m\u001b[39m.\u001b[39mcompute_bound(sstats, totals)\n",
      "File \u001b[0;32m~/.pyenv/versions/3.8.12/envs/quint/lib/python3.8/site-packages/gensim/models/ldaseqmodel.py:1106\u001b[0m, in \u001b[0;36msslm.update_obs\u001b[0;34m(self, sstats, totals)\u001b[0m\n\u001b[1;32m   1102\u001b[0m model \u001b[39m=\u001b[39m \u001b[39m\"\u001b[39m\u001b[39mDTM\u001b[39m\u001b[39m\"\u001b[39m\n\u001b[1;32m   1104\u001b[0m \u001b[39mif\u001b[39;00m model \u001b[39m==\u001b[39m \u001b[39m\"\u001b[39m\u001b[39mDTM\u001b[39m\u001b[39m\"\u001b[39m:\n\u001b[1;32m   1105\u001b[0m     \u001b[39m# slowest part of method\u001b[39;00m\n\u001b[0;32m-> 1106\u001b[0m     obs \u001b[39m=\u001b[39m optimize\u001b[39m.\u001b[39;49mfmin_cg(\n\u001b[1;32m   1107\u001b[0m         f\u001b[39m=\u001b[39;49mf_obs, fprime\u001b[39m=\u001b[39;49mdf_obs, x0\u001b[39m=\u001b[39;49mobs, gtol\u001b[39m=\u001b[39;49mTOL, args\u001b[39m=\u001b[39;49margs, epsilon\u001b[39m=\u001b[39;49mSTEP_SIZE, disp\u001b[39m=\u001b[39;49m\u001b[39m0\u001b[39;49m\n\u001b[1;32m   1108\u001b[0m     )\n\u001b[1;32m   1109\u001b[0m \u001b[39mif\u001b[39;00m model \u001b[39m==\u001b[39m \u001b[39m\"\u001b[39m\u001b[39mDIM\u001b[39m\u001b[39m\"\u001b[39m:\n\u001b[1;32m   1110\u001b[0m     \u001b[39mpass\u001b[39;00m\n",
      "File \u001b[0;32m~/.pyenv/versions/3.8.12/envs/quint/lib/python3.8/site-packages/scipy/optimize/_optimize.py:1541\u001b[0m, in \u001b[0;36mfmin_cg\u001b[0;34m(f, x0, fprime, args, gtol, norm, epsilon, maxiter, full_output, disp, retall, callback)\u001b[0m\n\u001b[1;32m   1384\u001b[0m \u001b[39m\"\"\"\u001b[39;00m\n\u001b[1;32m   1385\u001b[0m \u001b[39mMinimize a function using a nonlinear conjugate gradient algorithm.\u001b[39;00m\n\u001b[1;32m   1386\u001b[0m \n\u001b[0;32m   (...)\u001b[0m\n\u001b[1;32m   1532\u001b[0m \n\u001b[1;32m   1533\u001b[0m \u001b[39m\"\"\"\u001b[39;00m\n\u001b[1;32m   1534\u001b[0m opts \u001b[39m=\u001b[39m {\u001b[39m'\u001b[39m\u001b[39mgtol\u001b[39m\u001b[39m'\u001b[39m: gtol,\n\u001b[1;32m   1535\u001b[0m         \u001b[39m'\u001b[39m\u001b[39mnorm\u001b[39m\u001b[39m'\u001b[39m: norm,\n\u001b[1;32m   1536\u001b[0m         \u001b[39m'\u001b[39m\u001b[39meps\u001b[39m\u001b[39m'\u001b[39m: epsilon,\n\u001b[1;32m   1537\u001b[0m         \u001b[39m'\u001b[39m\u001b[39mdisp\u001b[39m\u001b[39m'\u001b[39m: disp,\n\u001b[1;32m   1538\u001b[0m         \u001b[39m'\u001b[39m\u001b[39mmaxiter\u001b[39m\u001b[39m'\u001b[39m: maxiter,\n\u001b[1;32m   1539\u001b[0m         \u001b[39m'\u001b[39m\u001b[39mreturn_all\u001b[39m\u001b[39m'\u001b[39m: retall}\n\u001b[0;32m-> 1541\u001b[0m res \u001b[39m=\u001b[39m _minimize_cg(f, x0, args, fprime, callback\u001b[39m=\u001b[39;49mcallback, \u001b[39m*\u001b[39;49m\u001b[39m*\u001b[39;49mopts)\n\u001b[1;32m   1543\u001b[0m \u001b[39mif\u001b[39;00m full_output:\n\u001b[1;32m   1544\u001b[0m     retlist \u001b[39m=\u001b[39m res[\u001b[39m'\u001b[39m\u001b[39mx\u001b[39m\u001b[39m'\u001b[39m], res[\u001b[39m'\u001b[39m\u001b[39mfun\u001b[39m\u001b[39m'\u001b[39m], res[\u001b[39m'\u001b[39m\u001b[39mnfev\u001b[39m\u001b[39m'\u001b[39m], res[\u001b[39m'\u001b[39m\u001b[39mnjev\u001b[39m\u001b[39m'\u001b[39m], res[\u001b[39m'\u001b[39m\u001b[39mstatus\u001b[39m\u001b[39m'\u001b[39m]\n",
      "File \u001b[0;32m~/.pyenv/versions/3.8.12/envs/quint/lib/python3.8/site-packages/scipy/optimize/_optimize.py:1652\u001b[0m, in \u001b[0;36m_minimize_cg\u001b[0;34m(fun, x0, args, jac, callback, gtol, norm, eps, maxiter, disp, return_all, finite_diff_rel_step, **unknown_options)\u001b[0m\n\u001b[1;32m   1648\u001b[0m     \u001b[39mreturn\u001b[39;00m np\u001b[39m.\u001b[39mdot(pk, gfk) \u001b[39m<\u001b[39m\u001b[39m=\u001b[39m \u001b[39m-\u001b[39msigma_3 \u001b[39m*\u001b[39m np\u001b[39m.\u001b[39mdot(gfk, gfk)\n\u001b[1;32m   1650\u001b[0m \u001b[39mtry\u001b[39;00m:\n\u001b[1;32m   1651\u001b[0m     alpha_k, fc, gc, old_fval, old_old_fval, gfkp1 \u001b[39m=\u001b[39m \\\n\u001b[0;32m-> 1652\u001b[0m              _line_search_wolfe12(f, myfprime, xk, pk, gfk, old_fval,\n\u001b[1;32m   1653\u001b[0m                                   old_old_fval, c2\u001b[39m=\u001b[39;49m\u001b[39m0.4\u001b[39;49m, amin\u001b[39m=\u001b[39;49m\u001b[39m1e-100\u001b[39;49m, amax\u001b[39m=\u001b[39;49m\u001b[39m1e100\u001b[39;49m,\n\u001b[1;32m   1654\u001b[0m                                   extra_condition\u001b[39m=\u001b[39;49mdescent_condition)\n\u001b[1;32m   1655\u001b[0m \u001b[39mexcept\u001b[39;00m _LineSearchError:\n\u001b[1;32m   1656\u001b[0m     \u001b[39m# Line search failed to find a better solution.\u001b[39;00m\n\u001b[1;32m   1657\u001b[0m     warnflag \u001b[39m=\u001b[39m \u001b[39m2\u001b[39m\n",
      "File \u001b[0;32m~/.pyenv/versions/3.8.12/envs/quint/lib/python3.8/site-packages/scipy/optimize/_optimize.py:1087\u001b[0m, in \u001b[0;36m_line_search_wolfe12\u001b[0;34m(f, fprime, xk, pk, gfk, old_fval, old_old_fval, **kwargs)\u001b[0m\n\u001b[1;32m   1073\u001b[0m \u001b[39m\"\"\"\u001b[39;00m\n\u001b[1;32m   1074\u001b[0m \u001b[39mSame as line_search_wolfe1, but fall back to line_search_wolfe2 if\u001b[39;00m\n\u001b[1;32m   1075\u001b[0m \u001b[39msuitable step length is not found, and raise an exception if a\u001b[39;00m\n\u001b[0;32m   (...)\u001b[0m\n\u001b[1;32m   1082\u001b[0m \n\u001b[1;32m   1083\u001b[0m \u001b[39m\"\"\"\u001b[39;00m\n\u001b[1;32m   1085\u001b[0m extra_condition \u001b[39m=\u001b[39m kwargs\u001b[39m.\u001b[39mpop(\u001b[39m'\u001b[39m\u001b[39mextra_condition\u001b[39m\u001b[39m'\u001b[39m, \u001b[39mNone\u001b[39;00m)\n\u001b[0;32m-> 1087\u001b[0m ret \u001b[39m=\u001b[39m line_search_wolfe1(f, fprime, xk, pk, gfk,\n\u001b[1;32m   1088\u001b[0m                          old_fval, old_old_fval,\n\u001b[1;32m   1089\u001b[0m                          \u001b[39m*\u001b[39;49m\u001b[39m*\u001b[39;49mkwargs)\n\u001b[1;32m   1091\u001b[0m \u001b[39mif\u001b[39;00m ret[\u001b[39m0\u001b[39m] \u001b[39mis\u001b[39;00m \u001b[39mnot\u001b[39;00m \u001b[39mNone\u001b[39;00m \u001b[39mand\u001b[39;00m extra_condition \u001b[39mis\u001b[39;00m \u001b[39mnot\u001b[39;00m \u001b[39mNone\u001b[39;00m:\n\u001b[1;32m   1092\u001b[0m     xp1 \u001b[39m=\u001b[39m xk \u001b[39m+\u001b[39m ret[\u001b[39m0\u001b[39m] \u001b[39m*\u001b[39m pk\n",
      "File \u001b[0;32m~/.pyenv/versions/3.8.12/envs/quint/lib/python3.8/site-packages/scipy/optimize/_linesearch.py:84\u001b[0m, in \u001b[0;36mline_search_wolfe1\u001b[0;34m(f, fprime, xk, pk, gfk, old_fval, old_old_fval, args, c1, c2, amax, amin, xtol)\u001b[0m\n\u001b[1;32m     80\u001b[0m     \u001b[39mreturn\u001b[39;00m np\u001b[39m.\u001b[39mdot(gval[\u001b[39m0\u001b[39m], pk)\n\u001b[1;32m     82\u001b[0m derphi0 \u001b[39m=\u001b[39m np\u001b[39m.\u001b[39mdot(gfk, pk)\n\u001b[0;32m---> 84\u001b[0m stp, fval, old_fval \u001b[39m=\u001b[39m scalar_search_wolfe1(\n\u001b[1;32m     85\u001b[0m         phi, derphi, old_fval, old_old_fval, derphi0,\n\u001b[1;32m     86\u001b[0m         c1\u001b[39m=\u001b[39;49mc1, c2\u001b[39m=\u001b[39;49mc2, amax\u001b[39m=\u001b[39;49mamax, amin\u001b[39m=\u001b[39;49mamin, xtol\u001b[39m=\u001b[39;49mxtol)\n\u001b[1;32m     88\u001b[0m \u001b[39mreturn\u001b[39;00m stp, fc[\u001b[39m0\u001b[39m], gc[\u001b[39m0\u001b[39m], fval, old_fval, gval[\u001b[39m0\u001b[39m]\n",
      "File \u001b[0;32m~/.pyenv/versions/3.8.12/envs/quint/lib/python3.8/site-packages/scipy/optimize/_linesearch.py:161\u001b[0m, in \u001b[0;36mscalar_search_wolfe1\u001b[0;34m(phi, derphi, phi0, old_phi0, derphi0, c1, c2, amax, amin, xtol)\u001b[0m\n\u001b[1;32m    159\u001b[0m     alpha1 \u001b[39m=\u001b[39m stp\n\u001b[1;32m    160\u001b[0m     phi1 \u001b[39m=\u001b[39m phi(stp)\n\u001b[0;32m--> 161\u001b[0m     derphi1 \u001b[39m=\u001b[39m derphi(stp)\n\u001b[1;32m    162\u001b[0m \u001b[39melse\u001b[39;00m:\n\u001b[1;32m    163\u001b[0m     \u001b[39mbreak\u001b[39;00m\n",
      "File \u001b[0;32m~/.pyenv/versions/3.8.12/envs/quint/lib/python3.8/site-packages/scipy/optimize/_linesearch.py:78\u001b[0m, in \u001b[0;36mline_search_wolfe1.<locals>.derphi\u001b[0;34m(s)\u001b[0m\n\u001b[1;32m     77\u001b[0m \u001b[39mdef\u001b[39;00m \u001b[39mderphi\u001b[39m(s):\n\u001b[0;32m---> 78\u001b[0m     gval[\u001b[39m0\u001b[39m] \u001b[39m=\u001b[39m fprime(xk \u001b[39m+\u001b[39;49m s\u001b[39m*\u001b[39;49mpk, \u001b[39m*\u001b[39;49margs)\n\u001b[1;32m     79\u001b[0m     gc[\u001b[39m0\u001b[39m] \u001b[39m+\u001b[39m\u001b[39m=\u001b[39m \u001b[39m1\u001b[39m\n\u001b[1;32m     80\u001b[0m     \u001b[39mreturn\u001b[39;00m np\u001b[39m.\u001b[39mdot(gval[\u001b[39m0\u001b[39m], pk)\n",
      "File \u001b[0;32m~/.pyenv/versions/3.8.12/envs/quint/lib/python3.8/site-packages/scipy/optimize/_differentiable_functions.py:273\u001b[0m, in \u001b[0;36mScalarFunction.grad\u001b[0;34m(self, x)\u001b[0m\n\u001b[1;32m    271\u001b[0m \u001b[39mif\u001b[39;00m \u001b[39mnot\u001b[39;00m np\u001b[39m.\u001b[39marray_equal(x, \u001b[39mself\u001b[39m\u001b[39m.\u001b[39mx):\n\u001b[1;32m    272\u001b[0m     \u001b[39mself\u001b[39m\u001b[39m.\u001b[39m_update_x_impl(x)\n\u001b[0;32m--> 273\u001b[0m \u001b[39mself\u001b[39;49m\u001b[39m.\u001b[39;49m_update_grad()\n\u001b[1;32m    274\u001b[0m \u001b[39mreturn\u001b[39;00m \u001b[39mself\u001b[39m\u001b[39m.\u001b[39mg\n",
      "File \u001b[0;32m~/.pyenv/versions/3.8.12/envs/quint/lib/python3.8/site-packages/scipy/optimize/_differentiable_functions.py:256\u001b[0m, in \u001b[0;36mScalarFunction._update_grad\u001b[0;34m(self)\u001b[0m\n\u001b[1;32m    254\u001b[0m \u001b[39mdef\u001b[39;00m \u001b[39m_update_grad\u001b[39m(\u001b[39mself\u001b[39m):\n\u001b[1;32m    255\u001b[0m     \u001b[39mif\u001b[39;00m \u001b[39mnot\u001b[39;00m \u001b[39mself\u001b[39m\u001b[39m.\u001b[39mg_updated:\n\u001b[0;32m--> 256\u001b[0m         \u001b[39mself\u001b[39;49m\u001b[39m.\u001b[39;49m_update_grad_impl()\n\u001b[1;32m    257\u001b[0m         \u001b[39mself\u001b[39m\u001b[39m.\u001b[39mg_updated \u001b[39m=\u001b[39m \u001b[39mTrue\u001b[39;00m\n",
      "File \u001b[0;32m~/.pyenv/versions/3.8.12/envs/quint/lib/python3.8/site-packages/scipy/optimize/_differentiable_functions.py:167\u001b[0m, in \u001b[0;36mScalarFunction.__init__.<locals>.update_grad\u001b[0;34m()\u001b[0m\n\u001b[1;32m    166\u001b[0m \u001b[39mdef\u001b[39;00m \u001b[39mupdate_grad\u001b[39m():\n\u001b[0;32m--> 167\u001b[0m     \u001b[39mself\u001b[39m\u001b[39m.\u001b[39mg \u001b[39m=\u001b[39m grad_wrapped(\u001b[39mself\u001b[39;49m\u001b[39m.\u001b[39;49mx)\n",
      "File \u001b[0;32m~/.pyenv/versions/3.8.12/envs/quint/lib/python3.8/site-packages/scipy/optimize/_differentiable_functions.py:164\u001b[0m, in \u001b[0;36mScalarFunction.__init__.<locals>.grad_wrapped\u001b[0;34m(x)\u001b[0m\n\u001b[1;32m    162\u001b[0m \u001b[39mdef\u001b[39;00m \u001b[39mgrad_wrapped\u001b[39m(x):\n\u001b[1;32m    163\u001b[0m     \u001b[39mself\u001b[39m\u001b[39m.\u001b[39mngev \u001b[39m+\u001b[39m\u001b[39m=\u001b[39m \u001b[39m1\u001b[39m\n\u001b[0;32m--> 164\u001b[0m     \u001b[39mreturn\u001b[39;00m np\u001b[39m.\u001b[39matleast_1d(grad(np\u001b[39m.\u001b[39;49mcopy(x), \u001b[39m*\u001b[39;49margs))\n",
      "File \u001b[0;32m~/.pyenv/versions/3.8.12/envs/quint/lib/python3.8/site-packages/gensim/models/ldaseqmodel.py:1640\u001b[0m, in \u001b[0;36mdf_obs\u001b[0;34m(x, *args)\u001b[0m\n\u001b[1;32m   1638\u001b[0m model \u001b[39m=\u001b[39m \u001b[39m\"\u001b[39m\u001b[39mDTM\u001b[39m\u001b[39m\"\u001b[39m\n\u001b[1;32m   1639\u001b[0m \u001b[39mif\u001b[39;00m model \u001b[39m==\u001b[39m \u001b[39m\"\u001b[39m\u001b[39mDTM\u001b[39m\u001b[39m\"\u001b[39m:\n\u001b[0;32m-> 1640\u001b[0m     deriv \u001b[39m=\u001b[39m sslm\u001b[39m.\u001b[39;49mcompute_obs_deriv(word, word_counts, totals, mean_deriv_mtx, deriv)\n\u001b[1;32m   1641\u001b[0m \u001b[39melif\u001b[39;00m model \u001b[39m==\u001b[39m \u001b[39m\"\u001b[39m\u001b[39mDIM\u001b[39m\u001b[39m\"\u001b[39m:\n\u001b[1;32m   1642\u001b[0m     deriv \u001b[39m=\u001b[39m sslm\u001b[39m.\u001b[39mcompute_obs_deriv_fixed(\n\u001b[1;32m   1643\u001b[0m         p\u001b[39m.\u001b[39mword, p\u001b[39m.\u001b[39mword_counts, p\u001b[39m.\u001b[39mtotals, p\u001b[39m.\u001b[39msslm, p\u001b[39m.\u001b[39mmean_deriv_mtx, deriv)  \u001b[39m# noqa:F821\u001b[39;00m\n",
      "File \u001b[0;32m~/.pyenv/versions/3.8.12/envs/quint/lib/python3.8/site-packages/gensim/models/ldaseqmodel.py:1227\u001b[0m, in \u001b[0;36msslm.compute_obs_deriv\u001b[0;34m(self, word, word_counts, totals, mean_deriv_mtx, deriv)\u001b[0m\n\u001b[1;32m   1224\u001b[0m dmean_u_prev \u001b[39m=\u001b[39m mean_deriv[u \u001b[39m-\u001b[39m \u001b[39m1\u001b[39m]\n\u001b[1;32m   1226\u001b[0m term1 \u001b[39m+\u001b[39m\u001b[39m=\u001b[39m (mean_u \u001b[39m-\u001b[39m mean_u_prev) \u001b[39m*\u001b[39m (dmean_u \u001b[39m-\u001b[39m dmean_u_prev)\n\u001b[0;32m-> 1227\u001b[0m term2 \u001b[39m+\u001b[39m\u001b[39m=\u001b[39m (word_counts[u \u001b[39m-\u001b[39m \u001b[39m1\u001b[39m] \u001b[39m-\u001b[39m (totals[u \u001b[39m-\u001b[39;49m \u001b[39m1\u001b[39;49m] \u001b[39m*\u001b[39m \u001b[39mself\u001b[39m\u001b[39m.\u001b[39mtemp_vect[u \u001b[39m-\u001b[39m \u001b[39m1\u001b[39m] \u001b[39m/\u001b[39m \u001b[39mself\u001b[39m\u001b[39m.\u001b[39mzeta[u \u001b[39m-\u001b[39m \u001b[39m1\u001b[39m])) \u001b[39m*\u001b[39m dmean_u\n\u001b[1;32m   1229\u001b[0m model \u001b[39m=\u001b[39m \u001b[39m\"\u001b[39m\u001b[39mDTM\u001b[39m\u001b[39m\"\u001b[39m\n\u001b[1;32m   1230\u001b[0m \u001b[39mif\u001b[39;00m model \u001b[39m==\u001b[39m \u001b[39m\"\u001b[39m\u001b[39mDIM\u001b[39m\u001b[39m\"\u001b[39m:\n\u001b[1;32m   1231\u001b[0m     \u001b[39m# do some stuff\u001b[39;00m\n",
      "\u001b[0;31mKeyboardInterrupt\u001b[0m: "
     ]
    }
   ],
   "source": [
    "# Have minimum Length of the sentence - append\n",
    "ldaseq = ldaseqmodel.LdaSeqModel(corpus=common_corpus, time_slice=time_slice, num_topics=5)\n"
   ]
  },
  {
   "cell_type": "code",
   "execution_count": 14,
   "metadata": {},
   "outputs": [
    {
     "data": {
      "text/plain": [
       "[[(0, 1), (1, 1), (2, 1)],\n",
       " [(0, 1), (3, 1), (4, 1), (5, 1), (6, 1), (7, 1)],\n",
       " [(2, 1), (5, 1), (7, 1), (8, 1)],\n",
       " [(1, 1), (5, 2), (8, 1)],\n",
       " [(3, 1), (6, 1), (7, 1)],\n",
       " [(9, 1)],\n",
       " [(9, 1), (10, 1)],\n",
       " [(9, 1), (10, 1), (11, 1)],\n",
       " [(4, 1), (10, 1), (11, 1)]]"
      ]
     },
     "execution_count": 14,
     "metadata": {},
     "output_type": "execute_result"
    }
   ],
   "source": [
    "common_corpus"
   ]
  }
 ],
 "metadata": {
  "kernelspec": {
   "display_name": "Python 3.8.12 64-bit ('quint')",
   "language": "python",
   "name": "python3"
  },
  "language_info": {
   "codemirror_mode": {
    "name": "ipython",
    "version": 3
   },
   "file_extension": ".py",
   "mimetype": "text/x-python",
   "name": "python",
   "nbconvert_exporter": "python",
   "pygments_lexer": "ipython3",
   "version": "3.8.12"
  },
  "orig_nbformat": 4,
  "vscode": {
   "interpreter": {
    "hash": "8d98f679e85918cf6df43a016c8cf832b102b395abdc24b4f6327e5d97b9a7f4"
   }
  }
 },
 "nbformat": 4,
 "nbformat_minor": 2
}
