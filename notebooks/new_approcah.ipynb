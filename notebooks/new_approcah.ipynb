{
 "cells": [
  {
   "cell_type": "code",
   "execution_count": null,
   "metadata": {},
   "outputs": [],
   "source": []
  }
 ],
 "metadata": {
  "kernelspec": {
   "display_name": "Python 3.8.12 64-bit ('quint')",
   "language": "python",
   "name": "python3"
  },
  "language_info": {
   "name": "python",
   "version": "3.8.12"
  },
  "orig_nbformat": 4,
  "vscode": {
   "interpreter": {
    "hash": "8d98f679e85918cf6df43a016c8cf832b102b395abdc24b4f6327e5d97b9a7f4"
   }
  }
 },
 "nbformat": 4,
 "nbformat_minor": 2
}
