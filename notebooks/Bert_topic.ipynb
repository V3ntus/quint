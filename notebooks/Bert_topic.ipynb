{
 "cells": [
  {
   "cell_type": "markdown",
   "metadata": {},
   "source": [
    "Install Berthopic"
   ]
  },
  {
   "cell_type": "code",
   "execution_count": 32,
   "metadata": {},
   "outputs": [],
   "source": [
    "# #!pip install bertopic\n",
    "# !pip install python-docx"
   ]
  },
  {
   "cell_type": "code",
   "execution_count": 222,
   "metadata": {},
   "outputs": [],
   "source": [
    "from bertopic import BERTopic\n",
    "#from sklearn.datasets import fetch_20newsgroups\n",
    "import pandas as pd\n",
    "import nltk"
   ]
  },
  {
   "cell_type": "code",
   "execution_count": 297,
   "metadata": {},
   "outputs": [],
   "source": [
    "with open('../quint/data/sample_texts/joe_rogan_tr.txt') as f:\n",
    "    doc = f.readlines()\n",
    "\n",
    "doc = doc[0].replace(\"?\", \". \")\n",
    "sentences = doc.split('. ')"
   ]
  },
  {
   "cell_type": "code",
   "execution_count": 298,
   "metadata": {},
   "outputs": [],
   "source": [
    "from nltk.corpus import stopwords \n",
    "import string\n",
    "from nltk.stem.wordnet import WordNetLemmatizer\n",
    "from nltk import word_tokenize \n",
    "\n",
    "def clean (text):\n",
    "    for punctuation in string.punctuation:\n",
    "        text = text.replace(punctuation, ' ') # Remove Punctuation\n",
    "    lowercased = text.lower() # Lower Case\n",
    "    tokenized = word_tokenize(lowercased) # Tokenize\n",
    "    words_only = [word for word in tokenized if word.isalpha()] # Remove numbers\n",
    "    stop_words = set(stopwords.words('english')) # Make stopword list\n",
    "    without_stopwords = [word for word in words_only if not word in stop_words] # Remove Stop Words\n",
    "    lemma=WordNetLemmatizer() # Initiate Lemmatizer\n",
    "    lemmatized = [lemma.lemmatize(word) for word in without_stopwords] # Lemmatize\n",
    "    return lemmatized\n",
    "\n"
   ]
  },
  {
   "cell_type": "code",
   "execution_count": 299,
   "metadata": {},
   "outputs": [],
   "source": [
    "sentences_clean = [' '.join(clean(each)) for each in sentences]"
   ]
  },
  {
   "cell_type": "code",
   "execution_count": 300,
   "metadata": {},
   "outputs": [
    {
     "data": {
      "text/plain": [
       "['okay',\n",
       " 'professional',\n",
       " 'people like live',\n",
       " 'thing like',\n",
       " 'taking money russian',\n",
       " 'course answer living like speak',\n",
       " 'youtube channel joe rogan give speech university thing like',\n",
       " 'lot interview',\n",
       " 'recording right',\n",
       " 'setup',\n",
       " 'possible could youtube channel',\n",
       " 'would work',\n",
       " 'yeah introduce get follower',\n",
       " 'yeah could dude',\n",
       " 'could absolutely happen',\n",
       " 'want',\n",
       " 'something want',\n",
       " '',\n",
       " 'mean big question',\n",
       " 'came written book called permanent record story life publisher make writing first book',\n",
       " 'want talk',\n",
       " 'actually changing technology changing government sort post era generation sort happened growing',\n",
       " 'cia nsa stuff day book came government hit lawsuit hit publisher book lawsuit want see book like get written',\n",
       " 'especially want see book like get read',\n",
       " 'big thing know going',\n",
       " 'know going happen',\n",
       " 'publisher course wanted badly let people know book existed case government leaned harder harder harder',\n",
       " 'know going',\n",
       " 'government still pursuing case quite strongly',\n",
       " 'focused financial censorship side basically taking money made kind warning others getting legal judgment publisher saying pay guy kind thing taking book shelf',\n",
       " 'okay book shelf',\n",
       " 'thankfully got first amendment rare good thing',\n",
       " 'anyway context like well joe rogan',\n",
       " 'heard point thing really seen really understood familiarity like talking bernie sander way much appreciated hearing lot people give guy time talk',\n",
       " 'yeah',\n",
       " 'hear sound bite really get understanding actually',\n",
       " 'right',\n",
       " 'thing',\n",
       " 'like well go major network show couple',\n",
       " 'like morning show',\n",
       " 'brian williams',\n",
       " 'broadly medium sort corporatized medium might say exactly described right',\n",
       " 'want able answer like second le',\n",
       " 'talking big massive shift society talking power talking technology control influence u future meaningful conversation within constraint',\n",
       " 'instead guy want say repeat long discredited sort criticism',\n",
       " 'know sure ask thing okay',\n",
       " 'fur question like conversation space think breathe sort discussion',\n",
       " 'anyway mentioned',\n",
       " 'like joe rogan',\n",
       " 'joe rogan',\n",
       " 'joe rogan',\n",
       " 'know name',\n",
       " 'bernie sander',\n",
       " 'looked back twitter mention funny thing fan harassing death last year',\n",
       " 'wonderful people wonderful people',\n",
       " 'like go',\n",
       " 'jill rogen go jill rogen',\n",
       " 'remember made twitter account neil degrasse tyson actually helped get twitter gave little initial boost said joe rogan linked',\n",
       " 'mouse name use desktop mobile security reason',\n",
       " 'pop get avatar man',\n",
       " 'say logo worst thing world people trying politically serious',\n",
       " 'worried national security advisory condemning like bald guy maniacal grin like third eye forehead',\n",
       " 'like oh man show look good',\n",
       " 'actually like watch great stuff man',\n",
       " 'great',\n",
       " 'first impression like almost happen',\n",
       " 'everybody talked everybody watch show think get different impression paying',\n",
       " 'wonderful thing nobody understands better right',\n",
       " 'like government ran smear campaign endlessly six month came forward june',\n",
       " 'know got way topic',\n",
       " 'get back',\n",
       " 'fine',\n",
       " 'thing topic',\n",
       " 'could talk whatever great',\n",
       " 'okay people first idea hell guy behind revelation global mass surveillance',\n",
       " 'worked cia worked nsa contractor nsa staff officer cia',\n",
       " 'undercover working embassy talked difference book contractor government official sort lost meaning',\n",
       " 'saw something wrong saw basically government violating law believe constitution united state broadly human right everyone united state around world',\n",
       " 'domestic surveillance program',\n",
       " 'mass surveillance program worked internationally',\n",
       " 'basically everything could monitor monitoring',\n",
       " 'actually like people go obvious',\n",
       " 'supposed',\n",
       " 'weird answer actually',\n",
       " 'framework constitution government supposed monitoring people individualized particularized suspicion wrongdoing',\n",
       " 'think investigative mean right',\n",
       " 'like tv show like go get warrant',\n",
       " 'reason fought revolution couple hundred year back idea king government absolute power could simply go home go guy pot smoker',\n",
       " 'get diary whatever',\n",
       " 'like find evidence crime march prison good',\n",
       " 'found evidence criminal find evidence well harm foul',\n",
       " 'government',\n",
       " 'trying build better system went yes government extraordinary capability us necessary proportionate threat presented person',\n",
       " 'afraid person got like baggie weed dresser something like',\n",
       " 'threat national security',\n",
       " 'threat public safety',\n",
       " 'happened wake whole bunch government official got together behind closed door',\n",
       " 'actually led interestingly enough vice president united state cheney',\n",
       " 'everybody remembers name hopefully look name',\n",
       " 'dick cheney personal attorney sort giuliani dick cheney guy named david addington lawyer david addington wrote secret legal interpretation one else allowed see',\n",
       " 'kept vice president safe white house',\n",
       " 'giving even told people couple people congress',\n",
       " 'nancy pelosi one',\n",
       " 'couple folk talked head agency nsa cia fbi stuff told white house office legal counsel president attorney guy decided would legal',\n",
       " 'tell',\n",
       " 'show legal authorization',\n",
       " 'got take word',\n",
       " '',\n",
       " 'became mass surveillance program called stellar wind said supposed monitor phone call internet communication email thing like everybody united state around world could get access link al qaeda',\n",
       " 'remember wake september attack saying thought could sleeper cell al qaeda peppered throughout country going spring moment course like weapon mass destruction',\n",
       " 'exist',\n",
       " 'power grab',\n",
       " 'basis started secret completely unconstitutional',\n",
       " 'completely illegal even loose requirement patriot act',\n",
       " 'long got comfortable thought really powerful capability',\n",
       " 'started using stuff terrorism',\n",
       " 'finding terrorist terrorist context looking',\n",
       " 'one terrorist',\n",
       " 'program affected guy pakistan using email phone call',\n",
       " 'getting moped cousin courier bringing letter guy run food stand whatever',\n",
       " 'bit bit time grew grew grew scandal',\n",
       " 'want drill later go',\n",
       " 'happened step step step constitutional right changed allowed know',\n",
       " 'never granted vote',\n",
       " 'even many member congress united state prohibited knowing',\n",
       " 'instead told select people',\n",
       " 'original case eight member congress called gang eight knew',\n",
       " 'people intelligence committee senate house told told partially',\n",
       " 'told full scope',\n",
       " 'told security clearance thing like allowed tell anybody else even objected',\n",
       " 'one senator ron wyden another one believe tom utah name object wanted something happen',\n",
       " 'tell anybody happening sort weird lassie bark press like grave concern way program carried nobody knew talking',\n",
       " 'journalist like got concern',\n",
       " '',\n",
       " 'lastly',\n",
       " 'trying say',\n",
       " 'tiny well getting wrong',\n",
       " 'tell happening',\n",
       " 'happened american people sort lost seat table government',\n",
       " 'longer partner government',\n",
       " 'simply become subject government',\n",
       " 'think everybody world today aware going whether administration last administration one right',\n",
       " 'seen constant kind shift public le say le influence policy government',\n",
       " 'passing year kind new class created government class public civil class held different standard behavior',\n",
       " 'start talking leaking whistleblowing becomes even clear',\n",
       " 'wanted clarify kind lassie mark',\n",
       " 'wanted everybody know going',\n",
       " 'want say government',\n",
       " 'want say guy live',\n",
       " 'say',\n",
       " 'believe everybody united state broadly',\n",
       " 'people world right violated government least understanding happening',\n",
       " 'authority sort policy program enabling',\n",
       " 'protest',\n",
       " 'cast vote',\n",
       " 'say',\n",
       " 'know',\n",
       " 'guy say okay disagree',\n",
       " 'okay',\n",
       " 'object want thing change',\n",
       " 'gathered evidence believe criminal unconstitutional activity part government',\n",
       " 'gave journalist right gave journalist strict condition published story archive information simply interesting',\n",
       " 'clickbait anything thought would make news would get award',\n",
       " 'would publish story willing make institutional judgment stand behind',\n",
       " 'three different newspaper public interest know',\n",
       " 'beyond additional could see sort happened led u pitfall system check balance supposed self regulate government failed',\n",
       " 'court abdicated role policing executive congress terrorism hot argument time',\n",
       " 'worried criticized blamed something went wrong attack go access information program ineffective',\n",
       " 'taking government word want weigh congress',\n",
       " 'even know right',\n",
       " 'one know thing',\n",
       " 'getting pocket stuffed money defense contractor getting rich building system violating right u',\n",
       " 'benefited saying nothing',\n",
       " 'executive whether talking bush whether talking obama whether talking trump guy okay constantly growing surveillance state one whose hand lever time',\n",
       " 'got aim',\n",
       " 'got use',\n",
       " 'little search box front would give email history everybody united state anybody want',\n",
       " 'could pull text message anybody want',\n",
       " 'could see anything ever typed google search box',\n",
       " 'right',\n",
       " 'joe worst thing ever typed search box last forever',\n",
       " 'record',\n",
       " 'get google',\n",
       " 'whole thing',\n",
       " 'correct',\n",
       " 'somebody want inform public something get proper channel argument later go institution get corrected institution know wrong anyway right',\n",
       " 'whole origin program want something allowed',\n",
       " '',\n",
       " 'want say president secret',\n",
       " 'want put stuff internet could',\n",
       " 'technologist right',\n",
       " 'worked journalist create adversarial step someone would argue believed hopefully journalist believe consulted document basically authenticated',\n",
       " 'get government play role',\n",
       " 'journalist published story controversial thing',\n",
       " 'people still criticize actually',\n",
       " 'say accommodated government',\n",
       " 'could right',\n",
       " 'journalist would go government give warning say run story secret program say x z',\n",
       " 'bad thing one right',\n",
       " 'government always go oh comment',\n",
       " 'two going cause harm',\n",
       " 'anybody going get hurt',\n",
       " 'program effective',\n",
       " 'something understand',\n",
       " 'something snowden understand',\n",
       " 'guy get',\n",
       " 'document fake',\n",
       " 'whatever want say run story',\n",
       " 'every case aware process followed',\n",
       " 'lot people like criticize go unsafe',\n",
       " 'caused harm people whatever',\n",
       " '',\n",
       " 'came forward story pulitzer prize public service journalism starting way back june',\n",
       " 'six year show body',\n",
       " 'six year show harm',\n",
       " 'know well government happy leak thing interest',\n",
       " 'nobody hurt result disclosure everyone involved careful',\n",
       " 'wanted maximize public benefit mitigating potential risk',\n",
       " 'think pretty good job',\n",
       " 'get back main thing original thing got u trail came forward june gave one interview people room document',\n",
       " 'laura poitrus glenn greenwald ewan mccainng',\n",
       " 'said',\n",
       " 'said',\n",
       " 'said matter constructing system turnkey tyranny',\n",
       " 'even trust obama never know whose hand going key next',\n",
       " 'turn nothing stop',\n",
       " 'thing restraining program really policy law',\n",
       " 'president time sign napkin policy change',\n",
       " 'well went six month without giving interview want people talk',\n",
       " 'wanted talk actually mattered',\n",
       " 'government course trying hard change conversation always guy',\n",
       " 'done',\n",
       " 'wrong',\n",
       " 'problem',\n",
       " 'loony guy',\n",
       " 'controversialize source story rather confront story',\n",
       " 'said really kind appreciate take medium everything like tell story people tell',\n",
       " 'say many thing misimpressions like something stupid avatar using twitter right',\n",
       " 'think certain kind show certain kind guy crazy stuff',\n",
       " 'actually listen actually look fact hear speak go actually thoughtful guy',\n",
       " 'actually somebody care want look thing deeply appearance first impression misleading',\n",
       " 'work hard',\n",
       " 'try mislead people',\n",
       " 'good',\n",
       " 'work advantage',\n",
       " 'good job man',\n",
       " 'thank',\n",
       " 'want bring back first started nsa',\n",
       " 'started contractor right',\n",
       " 'initial impression know thing really squirrely program',\n",
       " 'saying put spot',\n",
       " 'know busy guy',\n",
       " 'know done think show recently',\n",
       " 'come back break',\n",
       " 'right',\n",
       " 'read book',\n",
       " 'help book got chance read yet',\n",
       " 'read book got copy',\n",
       " 'okay well send signed copy brother',\n",
       " 'beautiful',\n",
       " 'hope read hope enjoy',\n",
       " 'right',\n",
       " 'really weird history intelligence community',\n",
       " 'grew federal family shadow fort mead',\n",
       " 'right',\n",
       " 'little suburban community maryland basically entire industry state federal government different agency',\n",
       " 'subcontractor',\n",
       " 'defense industry serve government really kind war making machine',\n",
       " 'system control country world broadly',\n",
       " 'stuff spread couple hundred mile ray dc',\n",
       " 'mother worked district court rather federal court kind funny still work court trying throw jail rest life',\n",
       " 'father worked coast guard retired year',\n",
       " 'grandfather admiral worked fbi',\n",
       " 'far back go family whole line family even generation back working government',\n",
       " 'pretty ordinary pretty expected go kind work',\n",
       " 'started super successful school felt arrogant thing world anybody say learn computer biology class',\n",
       " 'spent time focusing technology got mono dropped high school like right make',\n",
       " 'say drop high school actually going community college',\n",
       " 'right',\n",
       " 'called concurrent enrollment taking class high school',\n",
       " 'going community college instead great either',\n",
       " 'fine',\n",
       " 'enjoying',\n",
       " 'school school',\n",
       " 'wait grown',\n",
       " 'bored think lot people felt ran somebody community college ran home based business web design',\n",
       " 'could see kind technical went hey want work',\n",
       " 'like well sound great',\n",
       " 'started web design really early',\n",
       " 'like gosh know probably vintage big boom collapse followed',\n",
       " 'funny thing married nsa analyst linguist right',\n",
       " 'lived fort meade ran business home fort meade',\n",
       " 'right street nsa',\n",
       " 'even working driving past building time trying figure next step going',\n",
       " 'enjoy',\n",
       " 'good thing work well',\n",
       " 'start getting trained certified little industry stamp',\n",
       " 'got get technologist say oh know program whatever start climbing ladder',\n",
       " 'happens fort mead happened',\n",
       " 'going work',\n",
       " 'tell book detail think much worth reading people know forgotten history',\n",
       " 'old born probably year old',\n",
       " 'yeah turned couple month',\n",
       " 'people forget knew going anybody else september',\n",
       " 'intelligence community',\n",
       " '',\n",
       " 'give public warning',\n",
       " 'tell guy evacuate',\n",
       " 'say',\n",
       " 'everybody',\n",
       " 'long time',\n",
       " 'nsa director michael hayden general later became director cia ordered entire campus evacuated thousand ten thousand people actually said go home',\n",
       " 'right',\n",
       " 'cia thing',\n",
       " 'running skeleton crew moment',\n",
       " 'country needed ever',\n",
       " 'get call hear call bos wife husband calling nsa',\n",
       " 'saying hey think ed leave day employee business besides think going close base',\n",
       " 'like crazy',\n",
       " 'never close',\n",
       " 'know happening',\n",
       " 'start checking news website right',\n",
       " 'stuff suddenly big story everywhere nobody understands big yet',\n",
       " 'u like oh going mess workday',\n",
       " 'oh going mess commute',\n",
       " 'leaving hear car horn base',\n",
       " 'craziest thing military base right',\n",
       " 'right outside nsa',\n",
       " 'entered absolute state pandemonium go past canine road road travel right front nsa headquarters',\n",
       " 'parking lot far see',\n",
       " 'military police stoplight directing traffic mass evacuation still idea happening',\n",
       " 'like story still developing never forget image',\n",
       " 'people much power much money much authority moment need first one country leaving building',\n",
       " 'later said covered book believe',\n",
       " 'think james bamford interviewed director nsa gave order happening',\n",
       " 'going well called wife asking kid everything like',\n",
       " 'wanted think well could plane knew air struck yet',\n",
       " 'could headed',\n",
       " 'sort show self centric intelligence community',\n",
       " 'dc',\n",
       " 'metro area right',\n",
       " 'could hit white house could hit congress could hit supreme court',\n",
       " 'go oh going fly plane cia headquarters',\n",
       " 'going fly plane nsa headquarters',\n",
       " 'course never realistic would target basis like let get bacon pan',\n",
       " 'say sorry interest possible could attacked place',\n",
       " 'mean attacked pentagon',\n",
       " 'knew look absolutely possible could attacked denny right',\n",
       " 'question risk assessment',\n",
       " 'plane air',\n",
       " 'believe ongoing terrorist attack happening united state right',\n",
       " 'built history greatest surveillance agency',\n",
       " 'right',\n",
       " 'powerful intelligence force history specie',\n",
       " 'going take board',\n",
       " 'least majority personnel board',\n",
       " 'chance sort ground substantiating',\n",
       " 'could targeting begin simply could well',\n",
       " 'somebody else get hit',\n",
       " 'say going pentagon right',\n",
       " 'going world trade center',\n",
       " 'going someone somewhere',\n",
       " 'minute front desk higher chance even small',\n",
       " 'chance',\n",
       " 'even somebody work terrorism right',\n",
       " 'maybe somebody normally work finance north korea right go look emergency',\n",
       " 'everybody understands',\n",
       " 'need explain',\n",
       " 'go stop',\n",
       " 'look financial transaction related purchased plane ticket',\n",
       " '',\n",
       " 'go full spectrum go anything right building get hit get hit',\n",
       " 'signed',\n",
       " 'nobody want right',\n",
       " 'desired outcome',\n",
       " 'asked staff would agreed',\n",
       " 'people signed',\n",
       " 'yet director go going take risk',\n",
       " 'think say much bureaucratic character government work people rise top government',\n",
       " 'risk management',\n",
       " 'never criticized something',\n",
       " 'want get really controversial something haunt people bring',\n",
       " 'people ask people still criticize book',\n",
       " 'talk alien chemtrails thing like',\n",
       " 'fact evidence',\n",
       " 'went looking network right know joe know want alien',\n",
       " '',\n",
       " 'know neil degrasse tyson badly want alien probably right',\n",
       " 'idea hiding hiding ridiculous access network nsa cia military group',\n",
       " 'find anything right',\n",
       " 'hidden could hidden hidden really damn well even people inside',\n",
       " 'main thing conspiracy theory right',\n",
       " 'everybody want believe conspiracy theory help life make sense',\n",
       " 'help u believe somebody control somebody calling shot thing happened reason',\n",
       " 'real conspiracy typically got ten thousand people working',\n",
       " 'unless talking existence intelligence community basically constructed idea get think million million people united state hold security clearance get people talk ever journalist',\n",
       " 'look back report look back history actually happened prove right',\n",
       " 'speculate least commonly agreed fact clear someone worked intelligence community period course',\n",
       " 'young shortly thereafter attack could prevented',\n",
       " 'fact government say government go reason attack happen reason prevented call stove piping right',\n",
       " 'enough sharing needed break wall',\n",
       " 'restriction chaining poor patriot nsa cia fbi working team',\n",
       " 'extent correct right',\n",
       " 'limit way agency supposed play ball',\n",
       " 'worked know much bullshit much',\n",
       " 'procedural policy limit case legal limit shared without following process without without basically asking permission without getting sign anything like',\n",
       " 'fbi wanted send absolutely everything cia could done',\n",
       " 'cia wanted send everything fbi could done',\n",
       " 'people died result',\n",
       " 'government go bureaucratic procedural realism responsible many restriction intelligence community',\n",
       " 'led world post right sort evaporated went well restriction agency costing life',\n",
       " 'therefore naturally unchain guy everything better right',\n",
       " 'remember post moment understand actually could come persuasive might kind thing go',\n",
       " 'go right well make sense everybody terrified',\n",
       " 'people quite quickly got head back shoulder right way',\n",
       " 'never lost head protested iraq war',\n",
       " 'time daughter signing go fight volunteering army',\n",
       " 'get minute',\n",
       " 'everything followed decade past came fact moment fear lost head abandoned traditional constitutional restraint put agency abandon traditional political restraint social constraint ideological system belief limitation secret police free open society',\n",
       " 'went look terrorist',\n",
       " 'created show like jack bauer threatening knife people eyeball tell',\n",
       " 'entered era increasingly unlimited government result',\n",
       " 'hindsight go surprised time everyone panicked right',\n",
       " 'go back help',\n",
       " 'know answer fact',\n",
       " '',\n",
       " 'made thing worse',\n",
       " 'think historian going look bush administration go improved position united state world',\n",
       " 'go back wind back tape pre moment wind back tape silo wall said needed come restraining government instead rule said well share thing got basis got justification',\n",
       " 'got go trading people information like baseball card stuff',\n",
       " 'super easy intelligence officer justify sharing information suspected terrorist think planning kill people even country place something think another agency one going question',\n",
       " 'judge going question',\n",
       " 'judge world stamp warrant without even thinking go bed night without care world',\n",
       " 'spying journalist',\n",
       " 'spying human right defender right',\n",
       " 'edge case',\n",
       " 'someone believe associated al qaeda whatever',\n",
       " 'lot preamble say essential fact',\n",
       " 'government agrees everyone agrees',\n",
       " 'tax probably could prevented information shared',\n",
       " 'information shared',\n",
       " 'government say information shared restriction half true every important lie criminal truth',\n",
       " 'barrier reality barrier respected',\n",
       " 'case major terrorist plot cia sharing information fbi',\n",
       " 'fbi sharing information nsa',\n",
       " 'nsa sharing information cia case major terrorist plot',\n",
       " 'worked government worked intelligence community work large institution work company sell battery know every office fighting office budget cloud promotion',\n",
       " 'sad reality actually happened',\n",
       " 'every one agency wanted guy busted plot',\n",
       " 'wanted one got credit',\n",
       " 'realize serious late competing rather cooperating',\n",
       " 'exactly going ask issue competition agency proud cia accomplishing something fbi accomplishing something want one take credit',\n",
       " 'yeah',\n",
       " 'mean think important like defense nobody else going provide defense',\n",
       " 'actually darkly human',\n",
       " 'happens every industry',\n",
       " 'happens every sort big corporate thing want get promoted',\n",
       " 'everybody putting achievement end year',\n",
       " 'guy going straight top',\n",
       " 'solution weird delay folk listening right',\n",
       " 'solution instead someone responsible bridging gap providing information individual agency solution mass surveillance',\n",
       " 'oh different thing',\n",
       " 'woke guy right basically',\n",
       " 'went well screwed american died result',\n",
       " 'really want take hit',\n",
       " 'honest government interest putting hit',\n",
       " 'honest',\n",
       " 'public interest putting hit time everybody understood terrorism real thing',\n",
       " 'bad people world',\n",
       " 'true right',\n",
       " 'always true',\n",
       " 'always going criminal',\n",
       " 'always going terrorist whether church whether across ocean',\n",
       " 'people angry disenfranchised violent want harm something',\n",
       " 'want change something even negative way feel left criminal right',\n",
       " 'people need pity ever want stop need understand thing come drive come first place',\n",
       " 'basically everybody went right stop',\n",
       " 'nobody want feel unsafe',\n",
       " 'nobody want feel like building going come next time go',\n",
       " 'everybody went care stop',\n",
       " 'said dick cheney historic mistake',\n",
       " 'dick cheney know government work',\n",
       " 'person white house best placed know lever government interagency cooperation strong weak could allowed',\n",
       " 'took little dial allowed changed way broke snapped',\n",
       " 'nothing anymore',\n",
       " 'happening',\n",
       " '',\n",
       " '',\n",
       " 'year old',\n",
       " 'working base',\n",
       " 'drove past building',\n",
       " 'hindsight',\n",
       " 'biography',\n",
       " 'documented history',\n",
       " 'gospel edward snowden',\n",
       " 'know right',\n",
       " 'public record',\n",
       " 'know though reason bring teachable moment many people right trump administration go look guy much power',\n",
       " 'abusing immigrant abusing domestic opponent whatever',\n",
       " 'trying hurt political rival next election stuff',\n",
       " 'get stuff later want detail',\n",
       " 'bottom line going guy white house thrown elbow want hurt people',\n",
       " 'long convince american bad guy right',\n",
       " 'enemy matter far away matter close home',\n",
       " 'whoever going harm',\n",
       " 'dark thing actually elected',\n",
       " 'moment fear world start falling apart happens authoritarian country country',\n",
       " 'vladimir putin russia year right',\n",
       " 'president basically year',\n",
       " 'think',\n",
       " 'sort skipped middle dodge fact president serve many consecutive term',\n",
       " 'dropped prime minister came back president',\n",
       " 'think',\n",
       " 'get kind political longevity',\n",
       " 'know anything russian history even know much collapse soviet union extraordinarily dark time',\n",
       " 'look russian cinema gangster movie right',\n",
       " 'disintegration society thing dark broken',\n",
       " 'one trust',\n",
       " 'pension longer paid social security anymore',\n",
       " 'like nothing buy nothing job one future',\n",
       " 'went somebody lead u somebody fix find u enemy defeat enemy restore prosperity put office',\n",
       " 'see happen turkey erdogan right',\n",
       " 'seen happen successively bad government even western democracy',\n",
       " 'see happening sadly place like poland hungary',\n",
       " 'even argue happening united kingdom right',\n",
       " 'lot people arguing exactly seeing donald trump white house united state',\n",
       " 'lesson learn become fearful become vulnerable right',\n",
       " 'anyone promise make thing better even ability make thing better even actively make thing worse even make thing better buddy taking',\n",
       " 'tell make thing better believe moment fear typically lead unfortunate outcome',\n",
       " 'sorry let turn back got way track',\n",
       " 'right',\n",
       " 'want bring back initial question',\n",
       " 'working nsa',\n",
       " 'realize huge issue feel responsibility let american people know issue',\n",
       " 'contact journalist',\n",
       " 'thought process regarding',\n",
       " 'step go realize violation constitution even law patriot act patriot act thing changed radically knew wrong something felt responsibility speak',\n",
       " 'okay since gave much historical preamble let give cliff note version get u',\n",
       " 'september little bit lost',\n",
       " 'technical stuff really feel like matter anymore',\n",
       " 'like making money becoming accomplished world fire right',\n",
       " 'remember crazy mood patriotism country trying come together get',\n",
       " 'remember like people sticking dixie cup top every chain link fence every overpass',\n",
       " 'like stand together',\n",
       " 'never forget united stand flag every car',\n",
       " 'exactly',\n",
       " 'young guy especially political come military background federal family stuff',\n",
       " 'mean vulnerable kind stuff',\n",
       " 'see news bush sort crony going look al qaeda',\n",
       " 'terrorist organization',\n",
       " 'international connection',\n",
       " 'iraq dictator weapon mass destruction',\n",
       " 'holding world ransom',\n",
       " 'got colin powell un',\n",
       " 'dangling little vial like fake anthrax',\n",
       " 'felt obligation part volunteered join army',\n",
       " 'probably tell looking going top mma circuit anytime soon',\n",
       " 'work',\n",
       " 'joined special program called x ray program take street actually give shot becoming special force soldier',\n",
       " 'train harder special platoon go',\n",
       " 'ended breaking leg basically',\n",
       " 'put discharge',\n",
       " 'yeah basically',\n",
       " 'shin splint dumb get right',\n",
       " 'kept marching underweight pretty light guy begin',\n",
       " 'inch waist joined army',\n",
       " 'girl jealous',\n",
       " 'think weighed like',\n",
       " 'great shape boot camp came really quick could gain much frame active',\n",
       " 'keep running stress injury running underweight like rock sack thing like running like boot exercise army like whole chapter book',\n",
       " 'got battle buddy right never allow alone',\n",
       " 'going somebody watching',\n",
       " 'thought funny put smallest guy platoon drill sergeant biggest dude platoon like amateur bodybuilder like something like',\n",
       " 'big fellow',\n",
       " 'wood march thing like practice',\n",
       " 'buddy carry like fireman carrying thing like',\n",
       " 'throw around neck',\n",
       " 'like towel',\n",
       " 'skipping like nothing',\n",
       " 'got put like oh god',\n",
       " 'dying',\n",
       " 'weirdly fun',\n",
       " 'enjoyed good body',\n",
       " 'land navigation movement stepped log point',\n",
       " 'side log wood georgia sandhill see snake',\n",
       " 'memory like time slows north carolina grew think snake poisonous',\n",
       " 'okay',\n",
       " 'sorry',\n",
       " 'good',\n",
       " 'completely fine',\n",
       " 'fine',\n",
       " 'something happened screen',\n",
       " 'wanted make sure okay',\n",
       " 'fbi joining chat',\n",
       " 'worried',\n",
       " 'second image opened',\n",
       " 'yeah',\n",
       " 'anyway try take much longer step midair',\n",
       " 'land badly one leg like fire',\n",
       " 'limping',\n",
       " 'limping',\n",
       " 'limping',\n",
       " 'everybody say go sick call go sick call lose slot end general infantry regular infantry',\n",
       " 'go back',\n",
       " 'tough',\n",
       " 'get rack next morning get rack top bunk bed right jump leg give underneath try get get',\n",
       " 'go sick call end going hospital end x raying also x ray battle buddy got go somebody else',\n",
       " 'broken hip bring surgery',\n",
       " 'book lot detail',\n",
       " 'kind dramatic moment said bilateral tibial fracture right way leg',\n",
       " 'said spider web',\n",
       " 'next phase training jump school right got jump plane',\n",
       " 'doctor like son jump leg going turn powder',\n",
       " 'like hold back',\n",
       " 'put like six month',\n",
       " 'stay go back whole cycle start basic scratch',\n",
       " 'lose slot special force pipeline way thing scheduled everything like',\n",
       " 'basically reassigned need army probably meant going back joined army kind escape',\n",
       " 'go special kind discharge',\n",
       " 'called administrative discharge right',\n",
       " 'normally got honorable discharge dishonorable discharge thing like',\n",
       " 'something people think le six month like annulling marriage',\n",
       " 'never happened',\n",
       " 'never joined',\n",
       " 'time like wow kind',\n",
       " 'took',\n",
       " 'sent sick call sorry sick bay like medical platoon nothing think month let paperwork finish',\n",
       " 'hindsight realized take administrative discharge exempts army liability injury',\n",
       " 'actually thought kindness huge problem leg cover health insurance thing',\n",
       " 'funny thing',\n",
       " 'anyway get army crutch long time sort trying figure right well next life',\n",
       " 'gotten basic security clearance going signing military process applied security guard position university maryland said get topsecret clearance higher clearance time',\n",
       " 'went well sound good knew combined skill suddenly much relevant future top secret security clearance way work top secret security clearance tech skill get paid ridiculous amount money little work',\n",
       " 'like right well basically make twice would making private sector working government level phase talked earlier september intelligence community changed longer cared graduated college right',\n",
       " 'gotten ged going taking test',\n",
       " 'government purpose high school graduate',\n",
       " 'suddenly like door open',\n",
       " 'university maryland facility turned nsa facility',\n",
       " 'called castle',\n",
       " 'center advanced study language university maryland college park',\n",
       " 'literally security guy walking around walkie talking making sure nobody break night managing electronic alarm system thing like',\n",
       " 'foot door could start climbing ladder step step',\n",
       " 'went job fair actually people security clearance',\n",
       " 'ended going table one technical company',\n",
       " 'little tiny subcontractor nobody ever heard',\n",
       " 'said got ton position somebody like',\n",
       " 'comfortable working night',\n",
       " 'like yeah wake middle day anyway',\n",
       " 'fine',\n",
       " 'suddenly gone working nsa university weird way like nsa hold clearance formerly employee state maryland college government man',\n",
       " 'weird dodge boondoggle people employed',\n",
       " 'suddenly working cia headquarters right',\n",
       " 'place movie show swoop marble seal everything like',\n",
       " 'king castle',\n",
       " 'middle night one else',\n",
       " 'light motion sensor',\n",
       " 'creepiest thing world',\n",
       " 'like flag wall like gently billowing air conditioning like ghost',\n",
       " 'hallway light walk alongside like green building disappear behind one',\n",
       " 'go gym morning cia like see soul side building go way back',\n",
       " 'kind thing end like look night shift',\n",
       " 'nothing bad going happen',\n",
       " 'senior technical team basically handling system administration everybody washington metropolitan area right',\n",
       " 'every basically cia server computer system data stored reporting stored traffic moved stuff',\n",
       " 'circa think charge one guy night shift',\n",
       " 'interested book lot detail',\n",
       " 'get sort scouted position realize actually know lot technology',\n",
       " 'expecting basically make sure building burn system go overnight never come back',\n",
       " 'go well willing go overseas',\n",
       " 'young man age actually like hey sound kind exciting want go work overseas cia',\n",
       " 'lot people listening podcasts like',\n",
       " 'like wait cia bad guy right',\n",
       " 'yeah exactly',\n",
       " 'like going go overthrow government somewhere',\n",
       " 'understand still much true believer',\n",
       " 'government like living compressed embodiment truth goodness light',\n",
       " 'shining city hill',\n",
       " 'want part spread world',\n",
       " 'skepticism really trying establish',\n",
       " 'sign go special training school like people movie farm camp period virginia',\n",
       " 'sent actually much secret facility called hill warrenton virginia',\n",
       " 'covered time open source medium',\n",
       " 'think one book length discussion happens permanent record',\n",
       " 'yeah go training get assigned overseas end geneva switzerland undercover diplomat right',\n",
       " 'think formal title embassy like something super bland like diplomatic attache',\n",
       " 'forward deployed tech guy',\n",
       " 'send school make kind macgyver right',\n",
       " 'yes handle computer also handle connection embassy power system actual electric connection',\n",
       " 'handle hvac system right',\n",
       " 'handle lock alarm security system',\n",
       " 'basically anything got button embassy secure responsible',\n",
       " 'traveled geneva country europe sort assignment',\n",
       " 'exciting time',\n",
       " 'actually still enjoyed',\n",
       " 'first working intelligence started get doubt',\n",
       " 'story told many time go full detail cia primarily thing called human intelligence',\n",
       " 'many different type intelligence',\n",
       " 'intelligence community responsible',\n",
       " 'primary one human intelligence signal intelligence',\n",
       " 'want think signal intelligence right tapping line hacking computer sort thing provide electronic information',\n",
       " 'anything digital analog signal intercepted turned information',\n",
       " 'human intelligence fun stuff heard cia decade decade try turn people',\n",
       " 'basically say look give money sell country',\n",
       " 'even country',\n",
       " 'lot time organization',\n",
       " 'guy could working telecommunication provider want sell customer record work bank thing saw',\n",
       " 'wanted record bank customer wanted guy inside',\n",
       " 'anyway sort work',\n",
       " 'saw way aggressive lowest stake reasonable responsible',\n",
       " 'totally willing destroy somebody life chance would get information even tremendously valuable',\n",
       " 'ethically struck bit let pas learned life short though skepticism something need built time',\n",
       " 'skill something need practiced',\n",
       " 'think something develop exposure right kind like radiation poisoning positive way',\n",
       " 'start realize inconsistency hypocrisy lie notice give somebody benefit doubt trust think right time see isolated instance',\n",
       " 'pattern behavior',\n",
       " 'time exposure inconsistency build build build something longer ignore',\n",
       " 'cia went nsa japan working tokyo',\n",
       " 'couple year later went cia',\n",
       " 'working private employee dell senior technical official dell sale account cia',\n",
       " 'big company sale account cia',\n",
       " 'mean going',\n",
       " 'crazy still young man sitting across table chief enormous cia division',\n",
       " 'sitting across chief technology officer entire agency chief information officer entire cia',\n",
       " 'guy going look problem',\n",
       " 'want',\n",
       " 'job pitch system',\n",
       " 'paired sale guy whole thing go much money get government',\n",
       " 'right',\n",
       " 'whole goal build',\n",
       " 'pitching private cloud system',\n",
       " 'everybody know cloud computing',\n",
       " 'like gmail account available wherever go',\n",
       " 'facebook massive system record everyone everywhere',\n",
       " 'government wanted kind capability',\n",
       " 'dell ended getting beat amazon',\n",
       " 'people familiar',\n",
       " 'many amazon run secret cloud system government',\n",
       " 'forget rebranded massive connection industry government classified space go deeper deeper deeper deeper',\n",
       " 'point misgiving seen japan government',\n",
       " 'trying get',\n",
       " 'trying ignore conflict',\n",
       " 'trying ignore inconsistency',\n",
       " 'think state lot people large institution country around world struggle every day',\n",
       " 'got job got family got bill',\n",
       " 'trying get',\n",
       " 'know thing good thing',\n",
       " 'know thing actively wrong know happens people rock boat',\n",
       " 'eventually changed mind',\n",
       " 'gone hawaii final position career intelligence community accident history supposed position',\n",
       " 'supposed group called national threat operation center endoc',\n",
       " 'way contracting work covered book end reassigned little rinky dink office nobody ever heard hawaii called office information sharing',\n",
       " 'replacing old timer retire',\n",
       " 'really nice guy spent day reading novel nothing letting people content fact letting people forget office existed one',\n",
       " 'manager like actually larger group look sort favor',\n",
       " 'come sole employee office information sharing close enough retirement okay nothing',\n",
       " 'get ambitious come idea new system called heartbeat',\n",
       " 'heartbeat going connect basically every information repository intelligence community nsa across network boundary normally cross',\n",
       " 'worked cia nsa knew network well enough side normal worker nsa would never seen one',\n",
       " 'could actually connect together',\n",
       " 'could build bridge across kind network space draw record new kind system supposed look digital id basically sort id card say',\n",
       " 'work agency',\n",
       " 'work office',\n",
       " 'assignment group affiliation',\n",
       " 'system would able eventually aggregate record relevant job related could provide',\n",
       " 'basically could hit site',\n",
       " 'would update used call reboards manually created',\n",
       " 'go look work network defense right',\n",
       " 'thing happening network defense',\n",
       " 'work know economic takeover guatemala',\n",
       " 'going',\n",
       " 'time helped team sat next system administration team window network microsoft certified system engineer mean basically knew take care window network',\n",
       " 'guy always way much work way much work',\n",
       " 'basically work needed supposed share information something particularly demand people already knew wanted needed',\n",
       " 'basically job sit collect paycheck unless wanted get ambitious',\n",
       " 'side gig guy one running called dirty word search',\n",
       " 'dirty word search let dial back know hard track',\n",
       " 'everything nsa large part classified',\n",
       " 'everything cia large part classified',\n",
       " 'made lunch plan people office classified',\n",
       " 'policy',\n",
       " 'dumb',\n",
       " 'overclassification problem one central flaw government right',\n",
       " 'reason understand',\n",
       " 'get away breaking law violating right long five year ten year year see',\n",
       " 'routine classification right',\n",
       " 'every computer system limit level classified information supposed stored',\n",
       " 'got complicated system code word caveat establish system called compartmentation',\n",
       " 'idea work cia work nsa supposed know happening office next right',\n",
       " 'need know',\n",
       " 'right',\n",
       " 'thing movie',\n",
       " 'reason want one person able go know everything tell everybody everything',\n",
       " 'want anybody know much particularly lot bad thing risk realize many bad thing past point justify might develop sort ideological objection',\n",
       " 'well office information sharing actually basically every part career access everything',\n",
       " 'called special caveat access called privacy mean privileged access',\n",
       " 'mean kind super user',\n",
       " 'people control kind information access charge system',\n",
       " 'people need information get somewhere know',\n",
       " 'even director cia right say need know everything',\n",
       " 'know get',\n",
       " 'manager',\n",
       " 'somebody able actually cross threshold get thing',\n",
       " 'guy',\n",
       " 'dirty word search kind automated query would set go across whole network look different level classification compartmentation exceptionally controlled information',\n",
       " 'think top secret special compartment right even supposed know compartment',\n",
       " 'know code word unless work unless access unless read',\n",
       " 'well one day got hit dirty word search program never heard called stellar wind',\n",
       " 'came back little caveat called handling caveat like think like burn reading eye',\n",
       " 'one called stlw mean stellar wind',\n",
       " 'unless know stellar wind know handle',\n",
       " 'knew supposed system',\n",
       " 'little bit unusual',\n",
       " 'turned document placed system one employee worked program year come hawaii',\n",
       " 'person lawyer',\n",
       " 'believe',\n",
       " 'worked inspector general office',\n",
       " 'compiled report',\n",
       " 'part inspector general report',\n",
       " 'government investigating operation activity program',\n",
       " 'well domestic mass surveillance program talked beginning conversation started bush white house',\n",
       " 'stellar wind longer supposed really operation unveiled big scandal december new york time journalist james rising',\n",
       " 'going name want get wrong another journalist',\n",
       " 'look byline want see involvement lot history',\n",
       " 'found course bush white house constructed warrantless wiretapping program remember warrantless wiretapping scandal affecting everyone united state',\n",
       " 'well bush white house really put difficult position scandal',\n",
       " 'would lost election scandal new york time actually story october election year',\n",
       " 'ready go specific request white house talking publisher new york time salzburger bill keller executive editor new york time new york time said run story president said run story month election tight margin',\n",
       " 'recall blood hand',\n",
       " 'close',\n",
       " 'new york time went know',\n",
       " 'fine',\n",
       " 'american need know constitution violated',\n",
       " 'need know fourth amendment mean think mean',\n",
       " 'government say right secret know fine',\n",
       " 'december change',\n",
       " 'new york time suddenly run story',\n",
       " 'well james rison reporter found story written book publish book',\n",
       " 'new york time uncomfortable position explain run story got scooped journalist',\n",
       " 'finally late',\n",
       " 'bush reelected sweeping broken glass lost right',\n",
       " 'congress bush white house effective said telling select member congress program existed told program existed way object made culpable hiding existence program existence program american people',\n",
       " 'someone like nancy pelosi exactly think would buddy buddy george bush completely okay defending kind program',\n",
       " 'fact later said oh well objection program wrote letter white house never showed u letter',\n",
       " 'went oh well classified right',\n",
       " 'bag individually',\n",
       " 'great example named example',\n",
       " 'everyone know process work',\n",
       " 'white house implicate certain powerful member congress criminal activity',\n",
       " 'white house get trouble congress run cover white house',\n",
       " 'happened congress passed emergency law called protect america act first indication bad thing never name law something like unless something terrible',\n",
       " 'retroactively immunized phone company united state breaking law million time day handing record government',\n",
       " 'allowed simply basis letter president saying',\n",
       " 'please',\n",
       " 'company went',\n",
       " 'look',\n",
       " 'uncovered',\n",
       " 'shown breaking journalist shown broken law violated right american staggering scale could bankrupt company sued',\n",
       " 'longer cooperate unless pas law say people sue u done',\n",
       " 'get protect america act emergency',\n",
       " 'public history',\n",
       " 'yeah look wikipedia',\n",
       " 'go emergency law',\n",
       " 'pas',\n",
       " 'keep program active',\n",
       " 'bush going end warrantless wiretapping program continue new authority going special level oversight kind thing eventually',\n",
       " 'make sure people safe',\n",
       " 'go fear',\n",
       " 'say program terrorist attack continue',\n",
       " 'people die',\n",
       " 'blood hand',\n",
       " 'blood hand',\n",
       " 'blood hand',\n",
       " 'think child protect america act pass',\n",
       " 'company get hook',\n",
       " 'bush white house get hook',\n",
       " 'congress sharing criminal culpability authorizing rather letting thing go without stopping pass foreign intelligence surveillance act amendment',\n",
       " 'called faa fisa menu act',\n",
       " 'rather stopping unlawful sort unconstitutional activity intelligence agency continued different way simply creating legal hoop jump',\n",
       " 'say thing helpful',\n",
       " 'say useful',\n",
       " 'important understand government response scandal applies country two person caught breaking law comply law instead make activity person breaking law legal',\n",
       " 'right',\n",
       " 'make law comply agency want rather make agency comply law',\n",
       " 'problem',\n",
       " 'happened',\n",
       " 'intelligence community power actually grew response scandal congress hook wanted move get',\n",
       " 'objection',\n",
       " 'people knew bad idea pas',\n",
       " 'public took away part law requirement inspector general different intelligence community element director national intelligence submit report saying happened warrantless wiretapping program',\n",
       " 'complied law comply law',\n",
       " 'basically look back program constituted impact effect',\n",
       " 'supposed sort truth reconciliation council right',\n",
       " 'talking ancient history',\n",
       " 'well sitting classified inspector general draft report nsa',\n",
       " 'name',\n",
       " 'name',\n",
       " 'say dick cheney',\n",
       " 'say david addington',\n",
       " 'nancy pelosi',\n",
       " 'people involved program ticktok happens',\n",
       " 'say director nsa guy evacuating building beginning podcast guy asked president united state would continue program told white house department justice program lawful constitutional',\n",
       " 'president said would continue program say alone knowing risky knowing unlawful',\n",
       " 'said yes sir think necessary keep country safe',\n",
       " 'moment realized guy care law',\n",
       " 'guy care constitution',\n",
       " 'guy care american people',\n",
       " 'care continuity government',\n",
       " 'care state',\n",
       " 'right',\n",
       " 'something people lost',\n",
       " 'hear phrase national security',\n",
       " 'national security national security',\n",
       " 'meant interpret mean public safety',\n",
       " 'national security different thing public safety',\n",
       " 'national security thing previous generation refer state security',\n",
       " 'national security kind term came bush administration run cover fact elevating new kind secret police across country',\n",
       " 'mean democracy united state public partner government',\n",
       " 'public hold leash government anymore',\n",
       " 'subject government right',\n",
       " 'subordinate government even allowed know happened',\n",
       " 'book tell fact access unclassified version report back japan',\n",
       " 'interesting unclassified version report seen today thing like mueller report intelligence reporting happened last several year',\n",
       " 'government provides classified report public normally document unclassified version classified version thing',\n",
       " 'unclassified version thing blacked redacted say oh allowed know sentence paragraph page whatever',\n",
       " 'document public given warrantless wiretapping program completely different document',\n",
       " 'document tailor made deceive mislead congress public united state',\n",
       " 'effective',\n",
       " 'realized real world conspiracy look like right',\n",
       " 'smoking men behind closed door',\n",
       " 'lawyer politician',\n",
       " 'ordinary people working level management level go explain certain way going lose job way go going get something work together',\n",
       " 'civilization history conspiracy right',\n",
       " 'civilization conspiracy u better working together',\n",
       " 'kind thing think often forget boring hell',\n",
       " 'want listener right go washington post document discovered really changed published courtesy washington post',\n",
       " 'called inspector general report stellar wind',\n",
       " 'look actual document saw unredacted right',\n",
       " 'blacked page mine',\n",
       " 'believe show senior official united state elected unelected worked together actively undermine right american people give expanded power',\n",
       " 'defense said seeking power good noble cause',\n",
       " 'say trying keep u safe',\n",
       " 'always say',\n",
       " 'every government say',\n",
       " 'different chinese government say russian government say',\n",
       " 'question truly keeping u safe simply tell u',\n",
       " 'debate congress',\n",
       " 'put vote',\n",
       " 'could convince u win vote',\n",
       " 'particularly know like patriot act passed',\n",
       " 'one worst piece legislation modern history passed',\n",
       " 'get vote',\n",
       " 'think read report answer clear',\n",
       " 'sorry joe went long',\n",
       " 'amazing',\n",
       " 'apologize',\n",
       " 'completely fascinating continuation policy came one man president discussion much literally president heart',\n",
       " 'yes heart every expression executive power right',\n",
       " 'executive mean white house cia nsa fbi doj right',\n",
       " 'guy exist part executive branch government real way',\n",
       " 'work white house',\n",
       " 'law regulation policy supposed say supposed supposed say supposed',\n",
       " 'look federal regulation look policy employee government violate policy worst thing happens lose job criminal penalty violation law',\n",
       " 'easy people exist structure particularly top level structure go look given set lawful authority defined broadly give u leeway whatever think proper appropriate',\n",
       " 'take proper appropriate perspective given individual right given president',\n",
       " 'intersect good politically problem begin arise',\n",
       " 'safety measure supposed protect u u',\n",
       " 'system democracy broadly people supposed called public official',\n",
       " 'mean know decision',\n",
       " 'mean know policy',\n",
       " 'mean know program prerogative power like name u',\n",
       " 'transparent u people police activity',\n",
       " 'go disagree',\n",
       " 'protest campaign right',\n",
       " 'try become president whatever',\n",
       " 'public official private citizen',\n",
       " 'supposed know anything u right',\n",
       " 'relative term hold power hold power',\n",
       " 'tightest constraint need freest circumstance',\n",
       " 'yet rise state secret doctrine whole classification system go way back last century middle last century believe really started getting test court',\n",
       " 'think know many case',\n",
       " 'start talking happened fbi cia nsa sort old dirty work century abused power repeatedly continuously',\n",
       " 'active harm domestic politics united state',\n",
       " 'fbi spying martin luther king trying get martin luther king kill nobel prize going awarded',\n",
       " 'fact mlk gave dream speech two day later fbi classified greatest national earth',\n",
       " 'think greatest national security threat united state',\n",
       " 'yet fbi',\n",
       " 'group everybody applauding today saying wonderful patriot hero',\n",
       " 'saying everybody fbi bad',\n",
       " 'saying everybody cia nsa bad',\n",
       " 'saying become patriot based work',\n",
       " 'patriotism loyalty government',\n",
       " 'patriotism fact loyalty anything',\n",
       " 'patriotism constant effort good people country right',\n",
       " 'government',\n",
       " 'state',\n",
       " 'get loyalty later think one big criticism talked go look guy disloyal',\n",
       " 'broke oath',\n",
       " 'whatever',\n",
       " 'loyalty good thing service something good good service something good',\n",
       " 'loyal bad person loyal bad program loyal bad government loyalty actively harmful',\n",
       " ...]"
      ]
     },
     "execution_count": 300,
     "metadata": {},
     "output_type": "execute_result"
    }
   ],
   "source": [
    "sentences_clean"
   ]
  },
  {
   "cell_type": "code",
   "execution_count": 301,
   "metadata": {},
   "outputs": [],
   "source": [
    "data = pd.DataFrame(sentences_clean)\n",
    "data.columns = ['text']\n",
    "data['len'] = data['text'].apply(lambda x: len(x))\n",
    "data['len_cum'] = data['len'].cumsum()\n",
    "data['row'] = sentences"
   ]
  },
  {
   "cell_type": "code",
   "execution_count": 311,
   "metadata": {},
   "outputs": [
    {
     "name": "stderr",
     "output_type": "stream",
     "text": [
      "Batches: 100%|██████████| 59/59 [00:12<00:00,  4.86it/s]\n",
      "2022-08-31 19:29:50,568 - BERTopic - Transformed documents to Embeddings\n",
      "2022-08-31 19:29:55,782 - BERTopic - Reduced dimensionality\n",
      "2022-08-31 19:29:56,008 - BERTopic - Clustered reduced embeddings\n",
      "2022-08-31 19:30:12,048 - BERTopic - Reduced number of topics from 47 to 28\n"
     ]
    }
   ],
   "source": [
    "from bertopic import BERTopic\n",
    "from sklearn.feature_extraction.text import TfidfVectorizer\n",
    "\n",
    "# Train BERTopic with a custom CountVectorizer\n",
    "vectorizer_model = TfidfVectorizer(ngram_range=(1, 3), stop_words=\"english\")\n",
    "topic_model = BERTopic(vectorizer_model=vectorizer_model, language=\"english\", calculate_probabilities=True, verbose=True, nr_topics='auto', n_gram_range=(1, 3), diversity=0.5)\n",
    "topics, probs = topic_model.fit_transform(sentences_clean)"
   ]
  },
  {
   "cell_type": "code",
   "execution_count": 314,
   "metadata": {},
   "outputs": [
    {
     "data": {
      "text/plain": [
       "['nsa',\n",
       " 'russian',\n",
       " 'cia',\n",
       " 'court',\n",
       " 'surveillance',\n",
       " 'white house',\n",
       " 'journalist',\n",
       " 'fbi',\n",
       " 'terrorist',\n",
       " 'worked']"
      ]
     },
     "execution_count": 314,
     "metadata": {},
     "output_type": "execute_result"
    }
   ],
   "source": [
    "topic_x = topic_model.get_topics()[0]\n",
    "topics = [each[0] for each in topic_x]\n",
    "topics"
   ]
  },
  {
   "cell_type": "code",
   "execution_count": null,
   "metadata": {},
   "outputs": [
    {
     "name": "stderr",
     "output_type": "stream",
     "text": [
      "100it [02:08,  1.29s/it]\n"
     ]
    }
   ],
   "source": [
    "topics_over_time = topic_model.topics_over_time(sentences_clean, topics, data['len_cum'], nr_bins=100)\n"
   ]
  },
  {
   "cell_type": "code",
   "execution_count": null,
   "metadata": {},
   "outputs": [
    {
     "data": {
      "text/html": [
       "<div>\n",
       "<style scoped>\n",
       "    .dataframe tbody tr th:only-of-type {\n",
       "        vertical-align: middle;\n",
       "    }\n",
       "\n",
       "    .dataframe tbody tr th {\n",
       "        vertical-align: top;\n",
       "    }\n",
       "\n",
       "    .dataframe thead th {\n",
       "        text-align: right;\n",
       "    }\n",
       "</style>\n",
       "<table border=\"1\" class=\"dataframe\">\n",
       "  <thead>\n",
       "    <tr style=\"text-align: right;\">\n",
       "      <th></th>\n",
       "      <th>Topic</th>\n",
       "      <th>Words</th>\n",
       "      <th>Frequency</th>\n",
       "      <th>Timestamp</th>\n",
       "      <th>Name</th>\n",
       "    </tr>\n",
       "  </thead>\n",
       "  <tbody>\n",
       "    <tr>\n",
       "      <th>0</th>\n",
       "      <td>-1</td>\n",
       "      <td>work, thing, president, time, program</td>\n",
       "      <td>13</td>\n",
       "      <td>-77.678</td>\n",
       "      <td>-1_thing_president_think_program</td>\n",
       "    </tr>\n",
       "    <tr>\n",
       "      <th>1</th>\n",
       "      <td>0</td>\n",
       "      <td>work, think, state, idea, thing</td>\n",
       "      <td>2</td>\n",
       "      <td>-77.678</td>\n",
       "      <td>0_work_like_think_state</td>\n",
       "    </tr>\n",
       "    <tr>\n",
       "      <th>2</th>\n",
       "      <td>2</td>\n",
       "      <td>thing, like, say, saying, place</td>\n",
       "      <td>1</td>\n",
       "      <td>-77.678</td>\n",
       "      <td>2_like_thing_say_saying</td>\n",
       "    </tr>\n",
       "    <tr>\n",
       "      <th>3</th>\n",
       "      <td>3</td>\n",
       "      <td>like, make, life, country, stuff</td>\n",
       "      <td>2</td>\n",
       "      <td>-77.678</td>\n",
       "      <td>3_yeah_make_life_country</td>\n",
       "    </tr>\n",
       "    <tr>\n",
       "      <th>4</th>\n",
       "      <td>4</td>\n",
       "      <td>government, time, state, say, year</td>\n",
       "      <td>1</td>\n",
       "      <td>-77.678</td>\n",
       "      <td>4_government_time_state_say</td>\n",
       "    </tr>\n",
       "    <tr>\n",
       "      <th>...</th>\n",
       "      <td>...</td>\n",
       "      <td>...</td>\n",
       "      <td>...</td>\n",
       "      <td>...</td>\n",
       "      <td>...</td>\n",
       "    </tr>\n",
       "    <tr>\n",
       "      <th>588</th>\n",
       "      <td>1</td>\n",
       "      <td>government, program, say, state, united state</td>\n",
       "      <td>1</td>\n",
       "      <td>81028.576</td>\n",
       "      <td>1_government_program_say_state</td>\n",
       "    </tr>\n",
       "    <tr>\n",
       "      <th>589</th>\n",
       "      <td>-1</td>\n",
       "      <td>think, thing, president, program, say</td>\n",
       "      <td>10</td>\n",
       "      <td>81355.288</td>\n",
       "      <td>-1_thing_president_think_program</td>\n",
       "    </tr>\n",
       "    <tr>\n",
       "      <th>590</th>\n",
       "      <td>0</td>\n",
       "      <td>think, work, idea, thing, fact</td>\n",
       "      <td>1</td>\n",
       "      <td>81355.288</td>\n",
       "      <td>0_work_like_think_state</td>\n",
       "    </tr>\n",
       "    <tr>\n",
       "      <th>591</th>\n",
       "      <td>1</td>\n",
       "      <td>government, program, say, state, united state</td>\n",
       "      <td>1</td>\n",
       "      <td>81355.288</td>\n",
       "      <td>1_government_program_say_state</td>\n",
       "    </tr>\n",
       "    <tr>\n",
       "      <th>592</th>\n",
       "      <td>3</td>\n",
       "      <td>yeah, make, life, country, stuff</td>\n",
       "      <td>4</td>\n",
       "      <td>81355.288</td>\n",
       "      <td>3_yeah_make_life_country</td>\n",
       "    </tr>\n",
       "  </tbody>\n",
       "</table>\n",
       "<p>593 rows × 5 columns</p>\n",
       "</div>"
      ],
      "text/plain": [
       "     Topic                                          Words  Frequency  \\\n",
       "0       -1          work, thing, president, time, program         13   \n",
       "1        0                work, think, state, idea, thing          2   \n",
       "2        2                thing, like, say, saying, place          1   \n",
       "3        3               like, make, life, country, stuff          2   \n",
       "4        4             government, time, state, say, year          1   \n",
       "..     ...                                            ...        ...   \n",
       "588      1  government, program, say, state, united state          1   \n",
       "589     -1          think, thing, president, program, say         10   \n",
       "590      0                 think, work, idea, thing, fact          1   \n",
       "591      1  government, program, say, state, united state          1   \n",
       "592      3               yeah, make, life, country, stuff          4   \n",
       "\n",
       "     Timestamp                              Name  \n",
       "0      -77.678  -1_thing_president_think_program  \n",
       "1      -77.678           0_work_like_think_state  \n",
       "2      -77.678           2_like_thing_say_saying  \n",
       "3      -77.678          3_yeah_make_life_country  \n",
       "4      -77.678       4_government_time_state_say  \n",
       "..         ...                               ...  \n",
       "588  81028.576    1_government_program_say_state  \n",
       "589  81355.288  -1_thing_president_think_program  \n",
       "590  81355.288           0_work_like_think_state  \n",
       "591  81355.288    1_government_program_say_state  \n",
       "592  81355.288          3_yeah_make_life_country  \n",
       "\n",
       "[593 rows x 5 columns]"
      ]
     },
     "execution_count": 176,
     "metadata": {},
     "output_type": "execute_result"
    }
   ],
   "source": [
    "topics_over_time"
   ]
  },
  {
   "cell_type": "code",
   "execution_count": 213,
   "metadata": {},
   "outputs": [
    {
     "data": {
      "text/html": [
       "<div>\n",
       "<style scoped>\n",
       "    .dataframe tbody tr th:only-of-type {\n",
       "        vertical-align: middle;\n",
       "    }\n",
       "\n",
       "    .dataframe tbody tr th {\n",
       "        vertical-align: top;\n",
       "    }\n",
       "\n",
       "    .dataframe thead th {\n",
       "        text-align: right;\n",
       "    }\n",
       "</style>\n",
       "<table border=\"1\" class=\"dataframe\">\n",
       "  <thead>\n",
       "    <tr style=\"text-align: right;\">\n",
       "      <th></th>\n",
       "      <th>text</th>\n",
       "      <th>len</th>\n",
       "      <th>len_cum</th>\n",
       "    </tr>\n",
       "  </thead>\n",
       "  <tbody>\n",
       "    <tr>\n",
       "      <th>0</th>\n",
       "      <td>okay</td>\n",
       "      <td>4</td>\n",
       "      <td>4</td>\n",
       "    </tr>\n",
       "    <tr>\n",
       "      <th>1</th>\n",
       "      <td>professional</td>\n",
       "      <td>12</td>\n",
       "      <td>16</td>\n",
       "    </tr>\n",
       "    <tr>\n",
       "      <th>2</th>\n",
       "      <td>people like live</td>\n",
       "      <td>16</td>\n",
       "      <td>32</td>\n",
       "    </tr>\n",
       "    <tr>\n",
       "      <th>3</th>\n",
       "      <td>thing like</td>\n",
       "      <td>10</td>\n",
       "      <td>42</td>\n",
       "    </tr>\n",
       "    <tr>\n",
       "      <th>4</th>\n",
       "      <td>taking money russian</td>\n",
       "      <td>20</td>\n",
       "      <td>62</td>\n",
       "    </tr>\n",
       "    <tr>\n",
       "      <th>...</th>\n",
       "      <td>...</td>\n",
       "      <td>...</td>\n",
       "      <td>...</td>\n",
       "    </tr>\n",
       "    <tr>\n",
       "      <th>1884</th>\n",
       "      <td>open possibility</td>\n",
       "      <td>16</td>\n",
       "      <td>81661</td>\n",
       "    </tr>\n",
       "    <tr>\n",
       "      <th>1885</th>\n",
       "      <td>take care</td>\n",
       "      <td>9</td>\n",
       "      <td>81670</td>\n",
       "    </tr>\n",
       "    <tr>\n",
       "      <th>1886</th>\n",
       "      <td>bye</td>\n",
       "      <td>3</td>\n",
       "      <td>81673</td>\n",
       "    </tr>\n",
       "    <tr>\n",
       "      <th>1887</th>\n",
       "      <td>take care</td>\n",
       "      <td>9</td>\n",
       "      <td>81682</td>\n",
       "    </tr>\n",
       "    <tr>\n",
       "      <th>1888</th>\n",
       "      <td></td>\n",
       "      <td>0</td>\n",
       "      <td>81682</td>\n",
       "    </tr>\n",
       "  </tbody>\n",
       "</table>\n",
       "<p>1889 rows × 3 columns</p>\n",
       "</div>"
      ],
      "text/plain": [
       "                      text  len  len_cum\n",
       "0                     okay    4        4\n",
       "1             professional   12       16\n",
       "2         people like live   16       32\n",
       "3               thing like   10       42\n",
       "4     taking money russian   20       62\n",
       "...                    ...  ...      ...\n",
       "1884      open possibility   16    81661\n",
       "1885             take care    9    81670\n",
       "1886                   bye    3    81673\n",
       "1887             take care    9    81682\n",
       "1888                          0    81682\n",
       "\n",
       "[1889 rows x 3 columns]"
      ]
     },
     "execution_count": 213,
     "metadata": {},
     "output_type": "execute_result"
    }
   ],
   "source": [
    "data"
   ]
  },
  {
   "cell_type": "code",
   "execution_count": 266,
   "metadata": {},
   "outputs": [],
   "source": [
    "import numpy as np\n",
    "from scipy.signal import butter,filtfilt\n",
    "\n",
    "# Filter requirements.\n",
    "T = 5.0         # Sample Period\n",
    "fs = 30.0       # sample rate, Hz\n",
    "cutoff = 3      # desired cutoff frequency of the filter, Hz ,      slightly higher than actual 1.2 Hz\n",
    "nyq = 0.2 * fs  # Nyquist Frequency\n",
    "order = 6      # sin wave can be approx represented as quadratic\n",
    "n = int(T * fs) # total number of samples"
   ]
  },
  {
   "cell_type": "code",
   "execution_count": 251,
   "metadata": {},
   "outputs": [],
   "source": [
    "def butter_lowpass_filter(data, cutoff, fs, order):\n",
    "    normal_cutoff = cutoff / nyq\n",
    "    # Get the filter coefficients \n",
    "    b, a = butter(order, normal_cutoff, btype='low', analog=False)\n",
    "    y = filtfilt(b, a, data)\n",
    "    return y\n",
    "\n",
    "topic1 = topics_over_time.loc[topics_over_time.Topic ==1][['Timestamp', 'Frequency']]\n",
    "array = butter_lowpass_filter(topic1['Frequency'],cutoff, fs, order)"
   ]
  },
  {
   "cell_type": "code",
   "execution_count": 252,
   "metadata": {},
   "outputs": [
    {
     "name": "stdout",
     "output_type": "stream",
     "text": [
      " It was a document tailor made to deceive and mislead the Congress and the public of the United States\n",
      " And it was effective in doing that\n",
      " And in 2012, what I realized was this is what real world conspiracies look like, right\n",
      " It doesn't have to be smoking men behind closed doors\n",
      " It's lawyers and politicians\n",
      " It's ordinary people from the working level to the management level who go, if we don't explain this in a certain way, we're all going to lose our jobs or the other way they go, we're going to get something out of this if we all work together\n",
      " Civilization is the history of conspiracy, right\n",
      " What is civilization but a conspiracy for all of us to do better by working together\n",
      " But it's this kind of thing that I think too often we forget because it's boring as hell\n",
      " I want all your listeners, right, to go to the Washington Post because this document that I discovered that really changed me has been published courtesy of the Washington Post\n",
      " It's called the Inspector General's Report on Stellar Wind\n",
      " And you can look at the actual document that I saw that was unredacted, right\n",
      " I had no blacked out pages on mine\n",
      " And what I believe it shows is that some of the most senior officials in the United States, elected and unelected, worked together to actively undermine the rights of the American people to give themselves expanded powers\n",
      " Now, in their defense, they said they were seeking these powers for a good and just and noble cause\n",
      " They say they were trying to keep us safe\n",
      " But that's what they always say\n",
      " That's what every government says\n",
      " That's no different than what the Chinese government says or the Russian government says\n",
      " And the question is, if they are truly keeping us safe, why wouldn't they simply just tell us that\n",
      " Why wouldn't they have that debate in Congress\n",
      " Why wouldn't they put that to a vote\n",
      " Because if they were, and they could convince us that they were, they'd win the vote\n",
      " And particularly we all know, like the Patriot act passed\n",
      " One of the worst pieces of legislation in modern history passed\n",
      " Why didn't we get a vote\n",
      " And I think if you read the report, the answer will be clear\n",
      " So I'm sorry, Joe, I went on for very long\n",
      " No, it was amazing\n",
      " Don't apologize at all\n",
      " It's just completely fascinating that the continuation of this policy came down to one man and the president having this discussion that is much more but literally the president at the heart of it\n",
      " Yes, at the heart of it in every expression of executive power, right\n",
      " And by executive, we mean the white house here, the CIA, the NSA, the FBI, the DOJ, right\n",
      " These guys exist as a part of the executive branch of government in a real way\n",
      " They work for the white house\n",
      " Now, there are laws and regulations and policies that are supposed to say they're supposed to do this and they're supposed to say they're not supposed to do that\n",
      " But when you look at federal regulations, when you look at policies as an employee of government, when you violate these policies, the worst thing that happens to you is you lose your job because there's no criminal penalty for the violation of these laws\n",
      " And so it's very easy for people who exist in these structures, particularly at the very top levels of these structures, to go, look, we have a given set of lawful authorities, and these are defined very broadly to give us leeway, to do whatever it is we think is proper and appropriate and just\n",
      " Now take that proper and appropriate just from the perspective of any given individual, right, any given president\n",
      " Now intersect that with what's good for them politically, and that's where problems begin to arise\n",
      " Now, the safety measure that's supposed to protect us from this in the US\n",
      " System and democracy broadly is these people are supposed to be what are called public officials\n",
      " That means we know their decisions\n",
      " That means we know their policies\n",
      " That means we know their programs and prerogatives and powers like what they are doing both in our name and what they're doing against us\n",
      " And because they are transparent to us, we the people, can then police their activities\n",
      " We can go, I disagree with this\n",
      " We can protest it, we can campaign against it, right\n",
      " We can try to become the president, do whatever\n",
      " They are public officials, and we are private citizens\n",
      " They're not supposed to know anything about us, right\n",
      " Because we, in relative terms, hold no power, and they hold all the power\n",
      " So they have to be under the tightest constraints we need to be in the freest circumstances\n",
      " And yet the rise of the state secrets doctrine, this whole classification system that goes all the way back to last century, about the middle of the last century, I believe, is when it really started getting test in court\n",
      " And I think you know more about this in many cases than I do\n",
      " When you start talking about what happened in the FBI and the CIA and the NSA's sort of old dirty work in the 20th century, they abused their powers repeatedly and continuously\n",
      " They did active harm to domestic politics in the United States\n",
      " The FBI was spying on Martin Luther King and trying to get Martin Luther King to kill himself before the Nobel Prize was going to be awarded\n",
      " In fact, after MLK gave his I Have a Dream speech two days later, the FBI classified him as the greatest national Earth\n",
      " I think it was the greatest national security threat in the United States\n",
      " And yet this is the FBI\n",
      " This is the group that everybody's applauding today saying all these wonderful patriots and heroes\n",
      " Now, I'm not saying everybody the FBI is bad\n",
      " I'm not saying everybody at the CIA and the NSA is bad\n",
      " I'm saying that you don't become patriot based on where you work\n",
      " Patriotism is not about loyalty to government\n",
      " Patriotism, in fact, it's not about loyalty to anything\n",
      " Patriotism is a constant effort to do good for the people of your country, right\n",
      " It's not about the government\n",
      " It's not about the state\n",
      " We'll get into loyalty later because I think one of the big criticisms against me that should be talked about is they go, look, this guy is disloyal\n",
      " He broke an oath\n",
      " He did whatever\n",
      " Loyalty is a good thing when it's in the service of something good, but it is only good when it's in the service of something good\n",
      " If you're loyal to a bad person, if you're loyal to a bad program, if you're loyal to a bad government, that loyalty is actively harmful\n",
      " And I think that's overlooked\n",
      " But, yeah, when you get back into this whole thing about sort of where it came from, why it happened, how it could come out of just this small group, and then they could slowly kind of poison by implication, by complicity, by bringing them into the conspiracy and then having them not say anything about it, a wider and wider broad body of people\n",
      " And then once you've got enough people in on it, it's much easier to convince other people that it's legitimate because they can go, look, we've got 30 people who know about this, and none of them have objected to it\n",
      " Why are you going to object to this\n",
      " All of this derives from the original sin, which is, in a democracy, creating a system of government that is, in fact, a secret government, a body of secret law, a body of secret policy that is far beyond what legitimate government secrets could be\n",
      " This is not to say, like, government can have no secrecy at all if the government wants to investigate someone without having them respond, right\n",
      " We're talking traditional law enforcement\n",
      " Sure you're not going to tell this mobster, hey, we're going to start investigating you\n",
      " We, the public, don't need to know the names of every terrorist\n",
      " Suspect out in the world, right\n",
      " But we do need to know again the powers and programs, the policies that the government is asserting, at least the broad outlines of it, because otherwise, how can we control it\n",
      " How do we know if the government is applying its authorities that are supposed to be granted to it by us if we don't know what it is that they're doing\n",
      " This is the main thing\n",
      " And really the story behind the title Permanent Record is, look, Joe, when I was a kid, when you were a teenager running, like, what's the worst thing you ever said\n",
      " Did you say anything you weren't proud of\n",
      " Did you do anything that you weren't proud of\n",
      " Something that today, in, like the wokeest of Twitterland, you would get in trouble for, I'm sure\n",
      " And that's right\n",
      " One of the horrible things about kids growing up today is that they do have all this stuff out there on social media forever, and they can be judged horribly by something they did when they were 13\n",
      " It's exactly that\n",
      " Our worst mistakes are our deepest shames were forgotten\n",
      " They were lost\n",
      " They were ephemeral\n",
      " Even the things we did get caught for, they were known for a time\n",
      " Maybe they're still remembered by people who are closest to us, whether we like them or dislike them\n",
      " But there were people connected to us\n",
      " Now we're forced to live in a real way, naked before power\n",
      " Whether we're talking about Facebook, whether we're talking about Google, whether we're talking about the government of any country, they know everything about us, or much about us, rather, and we know very little about them, and we're not allowed to know more\n",
      " Everything that we do now lasts forever, not because we want to remember, but because we're not allowed to forget\n",
      " Just carrying a phone in your pocket is enough for your movements to be moralized, because every cell phone tower that you pass is keeping a record of that\n",
      " And at and T keeps those records going back to 2008 under a program called Hemisphere\n",
      " If you search for Hemisphere and at and T, you'll get a story in the Daily Beast about it\n",
      " At Amp\n",
      " T keeps your phone records going back to if any of your listeners were born after 1983, right\n",
      " Born after me\n",
      " Or it might be 1987, if they were born after 1987 and they're an at and T customer, or their calls across ATC's network\n",
      " At and T has every phone call they ever made, rather the record that it happened, not necessarily the content that's on the phone call\n",
      " Let me turn this around for you, Joe, because I feel like I've just been given a speech\n",
      " When you look at this stuff, right, when you look at what's happening with government, when you look at what's happening with the Trump White House, the Obama White House, the Bush White House, you could see this trend happening\n",
      " When you look at what's happening with Facebook\n",
      " When you look at what's happening with Google, when you look at the fact that you go to every restaurant today and you see people looking at phones, you get on a bus, you get on a subway, you see somebody sitting next to you in traffic, you see people looking at phones\n",
      " These devices are connected all the time now\n",
      " People are getting Alexa right now\n",
      " People have OK, Google, they have Siri on their phones that are in their house\n",
      " They've always got these connected microphones\n",
      " Where do you think this leads, and what is it that gives you sort of trust in the system, faith in the system\n",
      " So we can start a conversation here\n",
      " What strikes you about this\n",
      " Well, it's completely alien and it's new\n",
      " This is something that's unprecedented\n",
      " We don't have a long human history of being completely connected via technology\n",
      " This is something we're navigating right now for the first time\n",
      " And it's probably the most powerful thing that the human race has ever seen in terms of the distribution of information\n",
      " There's nothing that even comes close to it in all of human history\n",
      " And we're figuring it out as we go along\n",
      " And what you exposed is that not only are we figuring out as we go along, but that to cover their ass, the cell phone companies in cahoots with the government have made it legal for them to gather up all of your phone calls, all of your text messages, all of your emails, and store them somewhere\n",
      " So that retroactively\n",
      " If you ever say anything they don't like or do something they don't like, they can go back, find that, and use it against you\n",
      " And we don't know who they are\n",
      " We don't know why they're doing it, and we didn't know they could do it until you exposed it\n",
      " The connection of human beings via technology is both amazing and powerful and incredible in terms of our access to knowledge, but terrifying in terms of the government's ability to track our movements, track your phone calls, track everything\n",
      " And under the guise of protecting us from terrorists and protecting us from sleeper cells, protecting us from attacks, if they really are protecting us from these attacks, that's great, but there's no provision in the Constitution that allows any of this\n",
      " And this is where it gets really squirrely, because they're making up the rules as they go along, and they're making up these rules\n",
      " The way you're describing it is, step by step, this has happened to sort of protect their ass and keep themselves from being implicated in what has been a violation of our rights and our privacy and the Fourth Amendment\n",
      " Yeah, I mean, I think one of the things that everybody needs to understand when you look at these things and the reason we talked about before when I got this information, why I didn't just put it on the Internet and people criticize me for this they go, I didn't share enough information because the journalists are gatekeeping, right\n",
      " They've got a big archive, and they haven't published everything from it, and I told them not to publish everything from it\n",
      " Why did you do that\n",
      " Why did you do that\n",
      " Again, it gets back to legitimate secrets and illegitimate secrets\n",
      " Some spying\n",
      " From my perspective, career spy is okay, right\n",
      " Agreed\n",
      " If you have hacked a terrorist phone and you're getting some information about that, useful\n",
      " Agreed\n",
      " Yeah\n",
      " If you're spying on a Russian general in charge of a rocket division, useful\n",
      " Right\n",
      " But there are lines and degrees in that where it's not useful\n",
      " Now, the examples that I just gave you, these are targeted\n",
      " This is where you're spying on an individual they're known, named person that is being monitored for specific reason that is related, hopefully from a warranty, right\n",
      " Well, even for foreign intelligence, in some indications, you don't need a warrant strictly, although I think they should have warrants for all of these investigations because they established a court for precisely this reason called the Foreign Intelligence Surveillance Court, right\n",
      " And there's not a judge in the world who wouldn't stamp a warrant saying, hey, spy on Abu Jihad over here, right\n",
      " And if you want to spy on another guy, boris Badanov of the rocket Division, right, that's okay\n",
      " They're going to go with that\n",
      " But then you look at these edge cases in the archive that I provided to journalists\n",
      " There have been stories that have come out where they've spied on journalists, right\n",
      " They've spied on human rights groups and these kind of things I think people miss\n",
      " I'm going to throw up some slides here, so forgive me if this gets weird and I put up the wrong ones, but since I came forward, this Foreign Intelligence Surveillance Court that the government says authorized these programs 15 different times was overruled by the first open courts to look at the program\n",
      " These are federal courts here, right, that said, no, actually, these programs are unlawful\n",
      " They're likely unconstitutional\n",
      " When you start looking at the facts, you see even within the context of the very loose restrictions and laws that apply to the NSA and surveillance, they say they broke their own laws 2776 times in a single year\n",
      " And then you ask about that thing that motivates me, like why I came forward\n",
      " We had been trying as a country before I came forward to prove the existence of these programs legally, because this is our means of last sort of recourse in our system\n",
      " We got the executive, we got the legislature, we got the judiciary\n",
      " So Congress makes the laws\n",
      " The executive is supposed to carry them out\n",
      " The courts are supposed to play referee\n",
      " The executive had broken the laws\n",
      " Congress was turning a blind eye to the laws, and the courts were\n",
      " And this is just months before I came forward going, well, it does appear that the ACLU and Amnesty International like all of these human rights groups and nongovernmental organizations had established that these programs are likely unlawful\n",
      " They likely exist, they're simply classified\n",
      " But the government responded with this argument that you just saw\n",
      " Saying that\n",
      " Well\n",
      " It's a state secret if they do exist\n",
      " You\n",
      " The plaintiffs\n",
      " Don't have hard\n",
      " Concrete evidence that they do exist\n",
      " And the government is saying legally\n",
      " You have no right to discover evidence from the government\n",
      " Write documents\n",
      " Demand documents\n",
      " And demand and answers from the government as to whether or not these things exist\n",
      " Because the government's just going to give its standard what they call global response\n",
      " We can neither confirm nor deny that these things exist\n",
      " Which leaves you out in the cold, which leaves the courts out in the cold\n",
      " The courts go, look, the government could be breaking the law here\n",
      " Look, they could be violating the constitution here, but because you can't prove it, and because the government doesn't want to play ball, and the government says if we were doing this, it would be legal and it would be necessary for national security or whatever, the court can't presume to know national security better than the executive because the courts aren't elected\n",
      " And so this leads to this fundamentally broken system where, OK, the only way to have the courts review the legality of the programs is to establish the programs exist, but the programs are classified, so you can't establish they exist unless you have evidence\n",
      " But providing that evidence to courts, to journalists, to anyone, is a felony\n",
      " That's punishable by ten years per count under the espionage act\n",
      " And the government has charged every source of public interest journalism who has really made a significant difference in these kind of cases since Daniel Ellsberg, really going back to that under the same espionage act, it's always the same law\n",
      " And there's no distinction to government between whether you sold information to a foreign government for private benefit or whether you provided information only to journalists for the public interest\n",
      " And then that's a fundamentally harmful thing\n",
      " I think when you look at things that have come in the wake of this, we're talking about the post 2013 court rulings that found what the government was doing was unlawful\n",
      " You see the courts saying actually that leaks, or air quotes leaks can actually be beneficial\n",
      " Leak is used in the governance, and this is from a federal court\n",
      " These are not exactly my biggest supporters\n"
     ]
    }
   ],
   "source": [
    "__ = data.loc[(data['len_cum']>40000) & (data['len_cum']<50000)]\n",
    "for each in __.row:\n",
    "    print(each)"
   ]
  },
  {
   "cell_type": "code",
   "execution_count": 265,
   "metadata": {},
   "outputs": [
    {
     "data": {
      "text/html": [
       "<div>\n",
       "<style scoped>\n",
       "    .dataframe tbody tr th:only-of-type {\n",
       "        vertical-align: middle;\n",
       "    }\n",
       "\n",
       "    .dataframe tbody tr th {\n",
       "        vertical-align: top;\n",
       "    }\n",
       "\n",
       "    .dataframe thead th {\n",
       "        text-align: right;\n",
       "    }\n",
       "</style>\n",
       "<table border=\"1\" class=\"dataframe\">\n",
       "  <thead>\n",
       "    <tr style=\"text-align: right;\">\n",
       "      <th></th>\n",
       "      <th></th>\n",
       "      <th>Frequency</th>\n",
       "    </tr>\n",
       "    <tr>\n",
       "      <th>Timestamp</th>\n",
       "      <th>Topic</th>\n",
       "      <th></th>\n",
       "    </tr>\n",
       "  </thead>\n",
       "  <tbody>\n",
       "    <tr>\n",
       "      <th rowspan=\"5\" valign=\"top\">-77.678</th>\n",
       "      <th>-1</th>\n",
       "      <td>9</td>\n",
       "    </tr>\n",
       "    <tr>\n",
       "      <th>0</th>\n",
       "      <td>3</td>\n",
       "    </tr>\n",
       "    <tr>\n",
       "      <th>1</th>\n",
       "      <td>5</td>\n",
       "    </tr>\n",
       "    <tr>\n",
       "      <th>4</th>\n",
       "      <td>2</td>\n",
       "    </tr>\n",
       "    <tr>\n",
       "      <th>8</th>\n",
       "      <td>4</td>\n",
       "    </tr>\n",
       "    <tr>\n",
       "      <th>...</th>\n",
       "      <th>...</th>\n",
       "      <td>...</td>\n",
       "    </tr>\n",
       "    <tr>\n",
       "      <th rowspan=\"5\" valign=\"top\">80865.220</th>\n",
       "      <th>16</th>\n",
       "      <td>1</td>\n",
       "    </tr>\n",
       "    <tr>\n",
       "      <th>19</th>\n",
       "      <td>1</td>\n",
       "    </tr>\n",
       "    <tr>\n",
       "      <th>23</th>\n",
       "      <td>1</td>\n",
       "    </tr>\n",
       "    <tr>\n",
       "      <th>27</th>\n",
       "      <td>4</td>\n",
       "    </tr>\n",
       "    <tr>\n",
       "      <th>29</th>\n",
       "      <td>1</td>\n",
       "    </tr>\n",
       "  </tbody>\n",
       "</table>\n",
       "<p>735 rows × 1 columns</p>\n",
       "</div>"
      ],
      "text/plain": [
       "                  Frequency\n",
       "Timestamp  Topic           \n",
       "-77.678    -1             9\n",
       "            0             3\n",
       "            1             5\n",
       "            4             2\n",
       "            8             4\n",
       "...                     ...\n",
       " 80865.220  16            1\n",
       "            19            1\n",
       "            23            1\n",
       "            27            4\n",
       "            29            1\n",
       "\n",
       "[735 rows x 1 columns]"
      ]
     },
     "execution_count": 265,
     "metadata": {},
     "output_type": "execute_result"
    }
   ],
   "source": [
    "topics_over_time.sort_values('Frequency', ascending=True).groupby(['Timestamp', 'Topic']).max()[['Frequency']]"
   ]
  },
  {
   "cell_type": "code",
   "execution_count": 254,
   "metadata": {},
   "outputs": [
    {
     "data": {
      "text/plain": [
       "Timestamp\n",
       "-77.678       24\n",
       " 820.780      29\n",
       " 1637.560     28\n",
       " 2454.340     29\n",
       " 3271.120     22\n",
       "              ..\n",
       " 77598.100    18\n",
       " 78414.880    29\n",
       " 79231.660    23\n",
       " 80048.440    23\n",
       " 80865.220    29\n",
       "Name: Topic, Length: 100, dtype: int64"
      ]
     },
     "execution_count": 254,
     "metadata": {},
     "output_type": "execute_result"
    }
   ],
   "source": [
    "topics_over_time_clean = topics_over_time.loc[topics_over_time.Topic != 1]\n",
    "topics_over_time_clean.groupby('Timestamp')['Topic'].max()"
   ]
  },
  {
   "cell_type": "code",
   "execution_count": 267,
   "metadata": {},
   "outputs": [
    {
     "data": {
      "image/png": "[encoded data removed]",
      "text/plain": [
       "<Figure size 640x480 with 1 Axes>"
      ]
     },
     "metadata": {},
     "output_type": "display_data"
    }
   ],
   "source": [
    "import seaborn as sns\n",
    "df_final = pd.DataFrame()\n",
    "for each in set(topics_over_time['Topic']) - set([-1]):\n",
    "    try:\n",
    "        df_temp = topics_over_time.loc[topics_over_time.Topic == each][['Timestamp', 'Frequency']]\n",
    "        array = butter_lowpass_filter(df_temp['Frequency'],cutoff, fs, order)\n",
    "        sns.lineplot(y=array, x=df_temp['Timestamp'], label=each)\n",
    "        \n",
    "    except Exception:\n",
    "        continue"
   ]
  },
  {
   "cell_type": "code",
   "execution_count": 244,
   "metadata": {},
   "outputs": [
    {
     "data": {
      "text/html": [
       "<div>\n",
       "<style scoped>\n",
       "    .dataframe tbody tr th:only-of-type {\n",
       "        vertical-align: middle;\n",
       "    }\n",
       "\n",
       "    .dataframe tbody tr th {\n",
       "        vertical-align: top;\n",
       "    }\n",
       "\n",
       "    .dataframe thead th {\n",
       "        text-align: right;\n",
       "    }\n",
       "</style>\n",
       "<table border=\"1\" class=\"dataframe\">\n",
       "  <thead>\n",
       "    <tr style=\"text-align: right;\">\n",
       "      <th></th>\n",
       "      <th>Timestamp</th>\n",
       "      <th>Frequency</th>\n",
       "      <th>Topic</th>\n",
       "    </tr>\n",
       "  </thead>\n",
       "  <tbody>\n",
       "    <tr>\n",
       "      <th>1</th>\n",
       "      <td>NaN</td>\n",
       "      <td>2.987334</td>\n",
       "      <td>0</td>\n",
       "    </tr>\n",
       "    <tr>\n",
       "      <th>11</th>\n",
       "      <td>NaN</td>\n",
       "      <td>2.983861</td>\n",
       "      <td>0</td>\n",
       "    </tr>\n",
       "    <tr>\n",
       "      <th>21</th>\n",
       "      <td>NaN</td>\n",
       "      <td>2.921842</td>\n",
       "      <td>0</td>\n",
       "    </tr>\n",
       "    <tr>\n",
       "      <th>32</th>\n",
       "      <td>NaN</td>\n",
       "      <td>2.767925</td>\n",
       "      <td>0</td>\n",
       "    </tr>\n",
       "    <tr>\n",
       "      <th>40</th>\n",
       "      <td>NaN</td>\n",
       "      <td>2.535044</td>\n",
       "      <td>0</td>\n",
       "    </tr>\n",
       "    <tr>\n",
       "      <th>...</th>\n",
       "      <td>...</td>\n",
       "      <td>...</td>\n",
       "      <td>...</td>\n",
       "    </tr>\n",
       "    <tr>\n",
       "      <th>698</th>\n",
       "      <td>NaN</td>\n",
       "      <td>3.835018</td>\n",
       "      <td>0</td>\n",
       "    </tr>\n",
       "    <tr>\n",
       "      <th>702</th>\n",
       "      <td>NaN</td>\n",
       "      <td>3.935450</td>\n",
       "      <td>0</td>\n",
       "    </tr>\n",
       "    <tr>\n",
       "      <th>709</th>\n",
       "      <td>NaN</td>\n",
       "      <td>3.578599</td>\n",
       "      <td>0</td>\n",
       "    </tr>\n",
       "    <tr>\n",
       "      <th>716</th>\n",
       "      <td>NaN</td>\n",
       "      <td>2.850561</td>\n",
       "      <td>0</td>\n",
       "    </tr>\n",
       "    <tr>\n",
       "      <th>722</th>\n",
       "      <td>NaN</td>\n",
       "      <td>1.931497</td>\n",
       "      <td>0</td>\n",
       "    </tr>\n",
       "  </tbody>\n",
       "</table>\n",
       "<p>82 rows × 3 columns</p>\n",
       "</div>"
      ],
      "text/plain": [
       "     Timestamp  Frequency  Topic\n",
       "1          NaN   2.987334      0\n",
       "11         NaN   2.983861      0\n",
       "21         NaN   2.921842      0\n",
       "32         NaN   2.767925      0\n",
       "40         NaN   2.535044      0\n",
       "..         ...        ...    ...\n",
       "698        NaN   3.835018      0\n",
       "702        NaN   3.935450      0\n",
       "709        NaN   3.578599      0\n",
       "716        NaN   2.850561      0\n",
       "722        NaN   1.931497      0\n",
       "\n",
       "[82 rows x 3 columns]"
      ]
     },
     "execution_count": 244,
     "metadata": {},
     "output_type": "execute_result"
    }
   ],
   "source": [
    "df_final"
   ]
  },
  {
   "cell_type": "code",
   "execution_count": 188,
   "metadata": {},
   "outputs": [
    {
     "data": {
      "text/plain": [
       "<AxesSubplot:xlabel='Timestamp'>"
      ]
     },
     "execution_count": 188,
     "metadata": {},
     "output_type": "execute_result"
    },
    {
     "data": {
      "image/png": "[encoded data removed]",
      "text/plain": [
       "<Figure size 640x480 with 1 Axes>"
      ]
     },
     "metadata": {},
     "output_type": "display_data"
    }
   ],
   "source": [
    "topics_over_time_clean.groupby('Timestamp')['Topic'].max()"
   ]
  },
  {
   "cell_type": "code",
   "execution_count": null,
   "metadata": {},
   "outputs": [],
   "source": [
    "for topic in topics_over_time.Topics.unique():\n",
    "    "
   ]
  },
  {
   "cell_type": "code",
   "execution_count": 232,
   "metadata": {},
   "outputs": [
    {
     "data": {
      "application/vnd.plotly.v1+json": {
       "config": {
        "plotlyServerURL": "https://plot.ly"
       },
       "data": [
        {
         "hoverinfo": "text",
         "hovertext": [
          "<b>Topic 0</b><br>Words: record, president, network, information, power",
          "<b>Topic 0</b><br>Words: reason, security, record, president, information",
          "<b>Topic 0</b><br>Words: record, president, information, power, program",
          "<b>Topic 0</b><br>Words: program, record, president, network, information",
          "<b>Topic 0</b><br>Words: record, president, network, information, power",
          "<b>Topic 0</b><br>Words: record, want, history, united state, state",
          "<b>Topic 0</b><br>Words: program, record, president, network, information",
          "<b>Topic 0</b><br>Words: change, president, record, information, power",
          "<b>Topic 0</b><br>Words: started, program, thing, record, president",
          "<b>Topic 0</b><br>Words: community, started, technology, world, president",
          "<b>Topic 0</b><br>Words: started, lot people, community, start, program",
          "<b>Topic 0</b><br>Words: day, record, president, information, power",
          "<b>Topic 0</b><br>Words: bush, position, united state, world, record",
          "<b>Topic 0</b><br>Words: information, record, president, network, power",
          "<b>Topic 0</b><br>Words: sort, thing, record, president, information",
          "<b>Topic 0</b><br>Words: record, power, changed, moment, public",
          "<b>Topic 0</b><br>Words: president, office, year, record, information",
          "<b>Topic 0</b><br>Words: record, president, information, power, program",
          "<b>Topic 0</b><br>Words: happened, record, president, information, program",
          "<b>Topic 0</b><br>Words: government, record, president, information, program",
          "<b>Topic 0</b><br>Words: record, president, information, power, program",
          "<b>Topic 0</b><br>Words: record, president, information, power, program",
          "<b>Topic 0</b><br>Words: power, forward, record, president, information",
          "<b>Topic 0</b><br>Words: record, information, intelligence, thing, president",
          "<b>Topic 0</b><br>Words: information, record, president, power, program",
          "<b>Topic 0</b><br>Words: record, job, president, information, power",
          "<b>Topic 0</b><br>Words: network, community, information, intelligence, power",
          "<b>Topic 0</b><br>Words: record, network, office, agency, job",
          "<b>Topic 0</b><br>Words: job, called, record, president, information",
          "<b>Topic 0</b><br>Words: information, office, heard, day, read",
          "<b>Topic 0</b><br>Words: called, little, came, mean, information",
          "<b>Topic 0</b><br>Words: record, day, united state, government, president",
          "<b>Topic 0</b><br>Words: went, program, record, information, called",
          "<b>Topic 0</b><br>Words: american, power, united state, job, state",
          "<b>Topic 0</b><br>Words: president, executive, power, record, network",
          "<b>Topic 0</b><br>Words: power, president, program, record, information",
          "<b>Topic 0</b><br>Words: record, president, information, power, program",
          "<b>Topic 0</b><br>Words: talking, country, government, president, information",
          "<b>Topic 0</b><br>Words: record, network, today, happening, program",
          "<b>Topic 0</b><br>Words: technology, legal, information, government, record",
          "<b>Topic 0</b><br>Words: information, record, president, network, power",
          "<b>Topic 0</b><br>Words: record, president, network, information, power",
          "<b>Topic 0</b><br>Words: program, thing, record, president, information",
          "<b>Topic 0</b><br>Words: need, record, president, information, program",
          "<b>Topic 0</b><br>Words: record, president, network, information, power",
          "<b>Topic 0</b><br>Words: day, president, program, record, information",
          "<b>Topic 0</b><br>Words: president, record, network, information, power",
          "<b>Topic 0</b><br>Words: president, head, program, record, thing",
          "<b>Topic 0</b><br>Words: president, office, position, record, network",
          "<b>Topic 0</b><br>Words: president, job, power, american, united state",
          "<b>Topic 0</b><br>Words: power, idea, president, government, record",
          "<b>Topic 0</b><br>Words: happy, record, president, information, power",
          "<b>Topic 0</b><br>Words: weird, year, thing, record, president",
          "<b>Topic 0</b><br>Words: record, president, network, information, power",
          "<b>Topic 0</b><br>Words: record, president, network, information, power",
          "<b>Topic 0</b><br>Words: record, president, information, power, program",
          "<b>Topic 0</b><br>Words: big, changed, record, thing, president",
          "<b>Topic 0</b><br>Words: network, change, exist, president, thing",
          "<b>Topic 0</b><br>Words: network, record, president, information, power",
          "<b>Topic 0</b><br>Words: network, talking, record, start, problem",
          "<b>Topic 0</b><br>Words: record, thing, president, network, information",
          "<b>Topic 0</b><br>Words: power, technology, thing like, fact, thing",
          "<b>Topic 0</b><br>Words: open, record, president, network, information",
          "<b>Topic 0</b><br>Words: talk, network, idea, lot people, state",
          "<b>Topic 0</b><br>Words: talk, talking, record, problem, president",
          "<b>Topic 0</b><br>Words: president, united state, government, record, think",
          "<b>Topic 0</b><br>Words: record, information, thing, president, power",
          "<b>Topic 0</b><br>Words: network, sort, record, president, information",
          "<b>Topic 0</b><br>Words: record, legal, network, information, power",
          "<b>Topic 0</b><br>Words: record, house, day, past, president",
          "<b>Topic 0</b><br>Words: record, life, president, network, information",
          "<b>Topic 0</b><br>Words: record, president, network, information, power"
         ],
         "marker": {
          "color": "#E69F00"
         },
         "mode": "lines",
         "name": "0_record_president_network_information",
         "type": "scatter",
         "x": [
          -77.678,
          1637.56,
          2454.34,
          4904.68,
          5721.46,
          7355.02,
          8171.8,
          8988.58,
          9805.36,
          10622.14,
          11438.92,
          12255.7,
          17156.38,
          17973.16,
          18789.94,
          19606.72,
          20423.5,
          22057.06,
          23690.62,
          25324.18,
          26140.96,
          26957.74,
          27774.52,
          28591.3,
          29408.08,
          30224.86,
          31041.64,
          31858.42,
          32675.2,
          33491.98,
          34308.76,
          35942.32,
          36759.1,
          40026.22,
          40843,
          41659.78,
          43293.34,
          44110.12,
          44926.9,
          45743.68,
          46560.46,
          49827.58,
          52277.92,
          53094.7,
          53911.48,
          54728.26,
          55545.04,
          56361.82,
          57178.6,
          57995.38,
          58812.16,
          59628.94,
          60445.72,
          61262.5,
          63712.84,
          66979.96,
          68613.52,
          69430.3,
          70247.08,
          71063.86,
          71880.64,
          72697.42,
          73514.2,
          74330.98,
          75147.76,
          75964.54,
          76781.32,
          77598.1,
          78414.88,
          79231.66,
          80048.44,
          80865.22
         ],
         "y": [
          3,
          3,
          2,
          1,
          1,
          7,
          2,
          1,
          5,
          6,
          4,
          1,
          1,
          1,
          2,
          4,
          4,
          2,
          2,
          3,
          1,
          1,
          3,
          4,
          1,
          5,
          1,
          7,
          3,
          5,
          3,
          1,
          4,
          3,
          2,
          2,
          1,
          1,
          11,
          4,
          2,
          1,
          1,
          2,
          1,
          2,
          1,
          4,
          4,
          4,
          1,
          2,
          4,
          1,
          1,
          1,
          6,
          19,
          8,
          10,
          10,
          10,
          5,
          14,
          13,
          7,
          4,
          6,
          4,
          6,
          13,
          1
         ]
        },
        {
         "hoverinfo": "text",
         "hovertext": [
          "<b>Topic 1</b><br>Words: government, legal, case, state, agency",
          "<b>Topic 1</b><br>Words: case, government, legal, agency, public",
          "<b>Topic 1</b><br>Words: program, idea, government, legal, case",
          "<b>Topic 1</b><br>Words: government, power, couple, legal, case",
          "<b>Topic 1</b><br>Words: legal, government, case, state, public",
          "<b>Topic 1</b><br>Words: changed, secret, case, united state, government",
          "<b>Topic 1</b><br>Words: government, want say, clear, public, legal",
          "<b>Topic 1</b><br>Words: executive, government, legal, case, state",
          "<b>Topic 1</b><br>Words: government, legal, case, state, agency",
          "<b>Topic 1</b><br>Words: government, legal, case, state, agency",
          "<b>Topic 1</b><br>Words: program, government, legal, case, state",
          "<b>Topic 1</b><br>Words: funny, government, agency, community, state",
          "<b>Topic 1</b><br>Words: government, agency, history, legal, case",
          "<b>Topic 1</b><br>Words: government, legal, agency, case, fact",
          "<b>Topic 1</b><br>Words: government, legal, program, case, state",
          "<b>Topic 1</b><br>Words: government, legal, case, state, agency",
          "<b>Topic 1</b><br>Words: information, government, legal, case, state",
          "<b>Topic 1</b><br>Words: history, government, legal, case, state",
          "<b>Topic 1</b><br>Words: changed, government, legal, case, state",
          "<b>Topic 1</b><br>Words: government, legal, case, state, agency",
          "<b>Topic 1</b><br>Words: government, legal, case, state, public",
          "<b>Topic 1</b><br>Words: government, legal, case, state, agency",
          "<b>Topic 1</b><br>Words: need, government, legal, program, case",
          "<b>Topic 1</b><br>Words: happened, government, legal, case, state",
          "<b>Topic 1</b><br>Words: american, intelligence, government, thing, legal",
          "<b>Topic 1</b><br>Words: agency, legal, government, intelligence, program",
          "<b>Topic 1</b><br>Words: government, legal, case, state, agency",
          "<b>Topic 1</b><br>Words: public, government, united state, legal, case",
          "<b>Topic 1</b><br>Words: government, legal, case, state, agency",
          "<b>Topic 1</b><br>Words: government, different, job, legal, case",
          "<b>Topic 1</b><br>Words: public, government, legal, case, state",
          "<b>Topic 1</b><br>Words: government, legal, case, state, agency",
          "<b>Topic 1</b><br>Words: reason, happened, government, legal, state",
          "<b>Topic 1</b><br>Words: government, program, intelligence, group, context",
          "<b>Topic 1</b><br>Words: government, forward, program, group, sort",
          "<b>Topic 1</b><br>Words: government, program, exist, legal, executive",
          "<b>Topic 1</b><br>Words: air, government, legal, case, state",
          "<b>Topic 1</b><br>Words: legal, case, intelligence, problem, government",
          "<b>Topic 1</b><br>Words: place, position, information, government, agency",
          "<b>Topic 1</b><br>Words: group, bush, government, case, agency",
          "<b>Topic 1</b><br>Words: country, fact, government, legal, case",
          "<b>Topic 1</b><br>Words: office, change, history, moment, government",
          "<b>Topic 1</b><br>Words: program, government, legal, case, state",
          "<b>Topic 1</b><br>Words: government, legal, case, state, agency",
          "<b>Topic 1</b><br>Words: government, legal, program, case, state",
          "<b>Topic 1</b><br>Words: state, president, government, say, legal",
          "<b>Topic 1</b><br>Words: government, thing like, legal, case, agency",
          "<b>Topic 1</b><br>Words: life, government, legal, program, case",
          "<b>Topic 1</b><br>Words: government, program, chance, mean, thing",
          "<b>Topic 1</b><br>Words: government, fact, lot people, believe, say",
          "<b>Topic 1</b><br>Words: government, context, case, united state, public",
          "<b>Topic 1</b><br>Words: head, government, context, thing like, legal",
          "<b>Topic 1</b><br>Words: government, long time, state, country, story",
          "<b>Topic 1</b><br>Words: government, context, united state, president, legal",
          "<b>Topic 1</b><br>Words: case, government, history, year, legal",
          "<b>Topic 1</b><br>Words: government, home, thing think, story, say",
          "<b>Topic 1</b><br>Words: state, government, legal, case, agency",
          "<b>Topic 1</b><br>Words: matter, government, legal, case, state",
          "<b>Topic 1</b><br>Words: government, legal, case, state, agency",
          "<b>Topic 1</b><br>Words: state, government, legal, program, case",
          "<b>Topic 1</b><br>Words: technology, government, legal, case, state",
          "<b>Topic 1</b><br>Words: legal, government, case, talked, state",
          "<b>Topic 1</b><br>Words: government, legal, program, case, state",
          "<b>Topic 1</b><br>Words: record, case, government, legal, state",
          "<b>Topic 1</b><br>Words: change, government, information, problem, legal"
         ],
         "marker": {
          "color": "#56B4E9"
         },
         "mode": "lines",
         "name": "1_government_legal_case_state",
         "type": "scatter",
         "x": [
          -77.678,
          820.78,
          2454.34,
          3271.12,
          4087.9,
          4904.68,
          5721.46,
          6538.24,
          7355.02,
          8171.8,
          8988.58,
          10622.14,
          13889.26,
          15522.82,
          17156.38,
          17973.16,
          18789.94,
          20423.5,
          21240.28,
          27774.52,
          30224.86,
          32675.2,
          35125.54,
          35942.32,
          36759.1,
          37575.88,
          38392.66,
          39209.44,
          40026.22,
          40843,
          41659.78,
          42476.56,
          46560.46,
          47377.24,
          48194.02,
          49010.8,
          49827.58,
          50644.36,
          51461.14,
          52277.92,
          53094.7,
          53911.48,
          54728.26,
          55545.04,
          56361.82,
          57995.38,
          58812.16,
          60445.72,
          61262.5,
          62079.28,
          62896.06,
          63712.84,
          64529.62,
          65346.4,
          66163.18,
          66979.96,
          68613.52,
          71063.86,
          73514.2,
          76781.32,
          77598.1,
          78414.88,
          79231.66,
          80048.44,
          80865.22
         ],
         "y": [
          1,
          2,
          3,
          4,
          2,
          5,
          5,
          2,
          1,
          3,
          1,
          2,
          2,
          3,
          4,
          1,
          1,
          3,
          1,
          1,
          1,
          2,
          1,
          1,
          6,
          4,
          1,
          4,
          1,
          5,
          3,
          3,
          4,
          7,
          11,
          3,
          2,
          5,
          1,
          3,
          1,
          2,
          1,
          1,
          1,
          1,
          4,
          3,
          11,
          8,
          11,
          4,
          7,
          5,
          7,
          6,
          1,
          1,
          1,
          2,
          4,
          7,
          2,
          1,
          3
         ]
        },
        {
         "hoverinfo": "text",
         "hovertext": [
          "<b>Topic 2</b><br>Words: thing like, past, went, happy, context",
          "<b>Topic 2</b><br>Words: context, thing like, past, moment, went",
          "<b>Topic 2</b><br>Words: little, remember, said, past, moment",
          "<b>Topic 2</b><br>Words: thing like, past, went, happy, context",
          "<b>Topic 2</b><br>Words: later, thing like, past, moment, went",
          "<b>Topic 2</b><br>Words: wanted, thing like, went, said, happy",
          "<b>Topic 2</b><br>Words: thing like, past, went, happy, context",
          "<b>Topic 2</b><br>Words: thing like, past, went, happy, context",
          "<b>Topic 2</b><br>Words: thing like, went, said, happy, context",
          "<b>Topic 2</b><br>Words: past, working, thing like, moment, went",
          "<b>Topic 2</b><br>Words: moment, thing like, past, went, happy",
          "<b>Topic 2</b><br>Words: thing like, past, went, happy, context",
          "<b>Topic 2</b><br>Words: network, went, thing like, past, said",
          "<b>Topic 2</b><br>Words: thing like, past, went, happy, context",
          "<b>Topic 2</b><br>Words: past, thing like, moment, went, context",
          "<b>Topic 2</b><br>Words: thing like, went, said, happy, context",
          "<b>Topic 2</b><br>Words: thing like, pretty, somebody, came, book",
          "<b>Topic 2</b><br>Words: moment, said, thing like, past, went",
          "<b>Topic 2</b><br>Words: thing like, past, went, happy, context",
          "<b>Topic 2</b><br>Words: start, thing like, past, went, happy",
          "<b>Topic 2</b><br>Words: thing like, past, moment, went, context",
          "<b>Topic 2</b><br>Words: mean, time, thing like, moment, said",
          "<b>Topic 2</b><br>Words: thing like, past, went, happy, context",
          "<b>Topic 2</b><br>Words: went, thing like, past, said, happy",
          "<b>Topic 2</b><br>Words: thing like, past, went, happy, context",
          "<b>Topic 2</b><br>Words: thing like, past, went, happy, context",
          "<b>Topic 2</b><br>Words: record, said, story, thing like, past",
          "<b>Topic 2</b><br>Words: thing like, past, went, happy, context",
          "<b>Topic 2</b><br>Words: thing like, past, moment, went, happy",
          "<b>Topic 2</b><br>Words: thing like, past, went, happy, context",
          "<b>Topic 2</b><br>Words: thing like, past, went, happy, context",
          "<b>Topic 2</b><br>Words: thing like, past, went, happy, context",
          "<b>Topic 2</b><br>Words: thing like, past, went, happy, context",
          "<b>Topic 2</b><br>Words: thing like, past, went, happy, context",
          "<b>Topic 2</b><br>Words: thing like, past, went, happy, context",
          "<b>Topic 2</b><br>Words: state, thing like, past, went, happy",
          "<b>Topic 2</b><br>Words: happy, clear, home, thing like, past",
          "<b>Topic 2</b><br>Words: thing like, past, went, said, context",
          "<b>Topic 2</b><br>Words: thing like, past, went, happy, context",
          "<b>Topic 2</b><br>Words: thing like, past, went, said, happy",
          "<b>Topic 2</b><br>Words: thing like, past, went, happy, context",
          "<b>Topic 2</b><br>Words: thing like, past, went, happy, context",
          "<b>Topic 2</b><br>Words: thing like, past, went, happy, context"
         ],
         "marker": {
          "color": "#009E73"
         },
         "mode": "lines",
         "name": "2_thing like_past_went_happy",
         "type": "scatter",
         "x": [
          -77.678,
          820.78,
          1637.56,
          2454.34,
          4904.68,
          5721.46,
          7355.02,
          8988.58,
          9805.36,
          11438.92,
          12255.7,
          13889.26,
          14706.04,
          17156.38,
          19606.72,
          21240.28,
          22873.84,
          23690.62,
          24507.4,
          26140.96,
          26957.74,
          29408.08,
          31858.42,
          40843,
          41659.78,
          43293.34,
          44110.12,
          44926.9,
          45743.68,
          47377.24,
          50644.36,
          52277.92,
          53911.48,
          58812.16,
          59628.94,
          63712.84,
          66979.96,
          68613.52,
          70247.08,
          71063.86,
          72697.42,
          78414.88,
          80865.22
         ],
         "y": [
          3,
          1,
          5,
          1,
          1,
          1,
          1,
          2,
          1,
          1,
          2,
          3,
          2,
          1,
          1,
          2,
          8,
          9,
          2,
          1,
          1,
          2,
          1,
          1,
          1,
          1,
          1,
          1,
          2,
          1,
          4,
          1,
          1,
          1,
          2,
          1,
          1,
          2,
          1,
          1,
          1,
          1,
          1
         ]
        },
        {
         "hoverinfo": "text",
         "hovertext": [
          "<b>Topic 3</b><br>Words: people, country, matter, world, moment",
          "<b>Topic 3</b><br>Words: threat, government, country, matter, world",
          "<b>Topic 3</b><br>Words: people, country, matter, world, moment",
          "<b>Topic 3</b><br>Words: happened, government, country, matter, world",
          "<b>Topic 3</b><br>Words: country, everybody, matter, world, moment",
          "<b>Topic 3</b><br>Words: people, country, matter, world, moment",
          "<b>Topic 3</b><br>Words: moment, secret, agency, fact, country",
          "<b>Topic 3</b><br>Words: feel, country, matter, world, moment",
          "<b>Topic 3</b><br>Words: matter, country, moment, start, world",
          "<b>Topic 3</b><br>Words: moment, place, believe, happen, government",
          "<b>Topic 3</b><br>Words: feel, country, matter, forget, united",
          "<b>Topic 3</b><br>Words: country, matter, world, moment, people",
          "<b>Topic 3</b><br>Words: people, country, matter, world, moment",
          "<b>Topic 3</b><br>Words: people, matter, world, government, group",
          "<b>Topic 3</b><br>Words: country, matter, moment, government, saying",
          "<b>Topic 3</b><br>Words: say, country, matter, world, moment",
          "<b>Topic 3</b><br>Words: country, matter, world, moment, people",
          "<b>Topic 3</b><br>Words: country, matter, world, moment, government",
          "<b>Topic 3</b><br>Words: country, saying, group, talked, everybody",
          "<b>Topic 3</b><br>Words: program, government, country, world, people",
          "<b>Topic 3</b><br>Words: country, problem, matter, world, people",
          "<b>Topic 3</b><br>Words: bad, country, look, people, matter",
          "<b>Topic 3</b><br>Words: group, technology, fact, program, country",
          "<b>Topic 3</b><br>Words: saying, people, country, matter, world",
          "<b>Topic 3</b><br>Words: clear, world, happening, government, country",
          "<b>Topic 3</b><br>Words: country, people, think, matter, world",
          "<b>Topic 3</b><br>Words: american, everybody, country, matter, world",
          "<b>Topic 3</b><br>Words: happy, people, country, matter, world",
          "<b>Topic 3</b><br>Words: world, day, matter, end, country",
          "<b>Topic 3</b><br>Words: country, matter, world, moment, government",
          "<b>Topic 3</b><br>Words: people, country, matter, world, moment",
          "<b>Topic 3</b><br>Words: matter, country, world, moment, people",
          "<b>Topic 3</b><br>Words: country, matter, world, moment, people",
          "<b>Topic 3</b><br>Words: country, matter, world, moment, people"
         ],
         "marker": {
          "color": "#F0E442"
         },
         "mode": "lines",
         "name": "3_country_matter_world_moment",
         "type": "scatter",
         "x": [
          1637.56,
          3271.12,
          4904.68,
          6538.24,
          12255.7,
          13889.26,
          16339.6,
          19606.72,
          20423.5,
          21240.28,
          22057.06,
          28591.3,
          30224.86,
          36759.1,
          38392.66,
          40026.22,
          40843,
          41659.78,
          42476.56,
          43293.34,
          53911.48,
          55545.04,
          56361.82,
          57178.6,
          59628.94,
          64529.62,
          65346.4,
          66979.96,
          67796.74,
          68613.52,
          70247.08,
          71063.86,
          72697.42,
          80865.22
         ],
         "y": [
          1,
          1,
          1,
          1,
          2,
          1,
          2,
          1,
          5,
          3,
          3,
          1,
          2,
          2,
          1,
          1,
          1,
          1,
          7,
          1,
          2,
          2,
          2,
          4,
          5,
          1,
          4,
          3,
          7,
          3,
          1,
          1,
          1,
          3
         ]
        },
        {
         "hoverinfo": "text",
         "hovertext": [
          "<b>Topic 4</b><br>Words: book, day, government, agency, information",
          "<b>Topic 4</b><br>Words: agency, information, work, secret, security",
          "<b>Topic 4</b><br>Words: legal, agency, office, house, information",
          "<b>Topic 4</b><br>Words: agency, information, work, secret, intelligence",
          "<b>Topic 4</b><br>Words: agency, information, work, secret, wanted",
          "<b>Topic 4</b><br>Words: agency, information, work, secret, security",
          "<b>Topic 4</b><br>Words: funny, agency, information, work, secret",
          "<b>Topic 4</b><br>Words: home, past, agency, information, work",
          "<b>Topic 4</b><br>Words: agency, information, work, secret, intelligence",
          "<b>Topic 4</b><br>Words: work, agency, information, secret, intelligence",
          "<b>Topic 4</b><br>Words: network, idea, agency, information, work",
          "<b>Topic 4</b><br>Words: agency, information, work, secret, security",
          "<b>Topic 4</b><br>Words: agency, place, information, country, people",
          "<b>Topic 4</b><br>Words: information, agency, case, wanted, work",
          "<b>Topic 4</b><br>Words: agency, information, work, secret, security",
          "<b>Topic 4</b><br>Words: agency, information, work, secret, security",
          "<b>Topic 4</b><br>Words: agency, information, work, secret, security",
          "<b>Topic 4</b><br>Words: secret, security, work, agency, information",
          "<b>Topic 4</b><br>Words: suddenly, job, security, government, agency",
          "<b>Topic 4</b><br>Words: work, kind, agency, information, secret",
          "<b>Topic 4</b><br>Words: end, basically, agency, information, work",
          "<b>Topic 4</b><br>Words: country, sort, agency, information, work",
          "<b>Topic 4</b><br>Words: working, agency, information, work, secret",
          "<b>Topic 4</b><br>Words: technology, agency, information, work, secret",
          "<b>Topic 4</b><br>Words: history, intelligence, agency, information, work",
          "<b>Topic 4</b><br>Words: seen, network, agency, information, work",
          "<b>Topic 4</b><br>Words: office, work, idea, agency, information",
          "<b>Topic 4</b><br>Words: need, agency, information, work, secret",
          "<b>Topic 4</b><br>Words: program, state, president, house, agency",
          "<b>Topic 4</b><br>Words: executive, house, agency, information, work",
          "<b>Topic 4</b><br>Words: day, power, happened, talking, work",
          "<b>Topic 4</b><br>Words: start, agency, information, work, secret",
          "<b>Topic 4</b><br>Words: american, program, question, agency, information",
          "<b>Topic 4</b><br>Words: agency, information, work, secret, security",
          "<b>Topic 4</b><br>Words: secret, case, thing, agency, information",
          "<b>Topic 4</b><br>Words: head, agency, position, long time, job",
          "<b>Topic 4</b><br>Words: agency, information, work, secret, intelligence",
          "<b>Topic 4</b><br>Words: intelligence, agency, information, work, secret",
          "<b>Topic 4</b><br>Words: agency, information, work, secret, intelligence",
          "<b>Topic 4</b><br>Words: working, agency, information, work, secret",
          "<b>Topic 4</b><br>Words: day, united state, state, intelligence, agency"
         ],
         "marker": {
          "color": "#D55E00"
         },
         "mode": "lines",
         "name": "4_agency_information_work_secret",
         "type": "scatter",
         "x": [
          -77.678,
          2454.34,
          4087.9,
          8171.8,
          9805.36,
          10622.14,
          11438.92,
          12255.7,
          13072.48,
          13889.26,
          14706.04,
          15522.82,
          17156.38,
          17973.16,
          19606.72,
          21240.28,
          23690.62,
          25324.18,
          26140.96,
          26957.74,
          27774.52,
          28591.3,
          29408.08,
          30224.86,
          31041.64,
          31858.42,
          32675.2,
          33491.98,
          38392.66,
          40843,
          42476.56,
          43293.34,
          50644.36,
          52277.92,
          53094.7,
          57995.38,
          60445.72,
          66163.18,
          66979.96,
          72697.42,
          77598.1
         ],
         "y": [
          1,
          1,
          1,
          1,
          1,
          1,
          2,
          6,
          3,
          3,
          1,
          3,
          1,
          5,
          1,
          1,
          1,
          2,
          3,
          4,
          2,
          1,
          5,
          1,
          1,
          1,
          3,
          1,
          2,
          1,
          5,
          1,
          2,
          1,
          2,
          1,
          1,
          1,
          1,
          1,
          1
         ]
        }
       ],
       "layout": {
        "height": 450,
        "hoverlabel": {
         "bgcolor": "white",
         "font": {
          "family": "Rockwell",
          "size": 16
         }
        },
        "legend": {
         "title": {
          "text": "<b>Global Topic Representation"
         }
        },
        "template": {
         "data": {
          "bar": [
           {
            "error_x": {
             "color": "rgb(36,36,36)"
            },
            "error_y": {
             "color": "rgb(36,36,36)"
            },
            "marker": {
             "line": {
              "color": "white",
              "width": 0.5
             },
             "pattern": {
              "fillmode": "overlay",
              "size": 10,
              "solidity": 0.2
             }
            },
            "type": "bar"
           }
          ],
          "barpolar": [
           {
            "marker": {
             "line": {
              "color": "white",
              "width": 0.5
             },
             "pattern": {
              "fillmode": "overlay",
              "size": 10,
              "solidity": 0.2
             }
            },
            "type": "barpolar"
           }
          ],
          "carpet": [
           {
            "aaxis": {
             "endlinecolor": "rgb(36,36,36)",
             "gridcolor": "white",
             "linecolor": "white",
             "minorgridcolor": "white",
             "startlinecolor": "rgb(36,36,36)"
            },
            "baxis": {
             "endlinecolor": "rgb(36,36,36)",
             "gridcolor": "white",
             "linecolor": "white",
             "minorgridcolor": "white",
             "startlinecolor": "rgb(36,36,36)"
            },
            "type": "carpet"
           }
          ],
          "choropleth": [
           {
            "colorbar": {
             "outlinewidth": 1,
             "tickcolor": "rgb(36,36,36)",
             "ticks": "outside"
            },
            "type": "choropleth"
           }
          ],
          "contour": [
           {
            "colorbar": {
             "outlinewidth": 1,
             "tickcolor": "rgb(36,36,36)",
             "ticks": "outside"
            },
            "colorscale": [
             [
              0,
              "#440154"
             ],
             [
              0.1111111111111111,
              "#482878"
             ],
             [
              0.2222222222222222,
              "#3e4989"
             ],
             [
              0.3333333333333333,
              "#31688e"
             ],
             [
              0.4444444444444444,
              "#26828e"
             ],
             [
              0.5555555555555556,
              "#1f9e89"
             ],
             [
              0.6666666666666666,
              "#35b779"
             ],
             [
              0.7777777777777778,
              "#6ece58"
             ],
             [
              0.8888888888888888,
              "#b5de2b"
             ],
             [
              1,
              "#fde725"
             ]
            ],
            "type": "contour"
           }
          ],
          "contourcarpet": [
           {
            "colorbar": {
             "outlinewidth": 1,
             "tickcolor": "rgb(36,36,36)",
             "ticks": "outside"
            },
            "type": "contourcarpet"
           }
          ],
          "heatmap": [
           {
            "colorbar": {
             "outlinewidth": 1,
             "tickcolor": "rgb(36,36,36)",
             "ticks": "outside"
            },
            "colorscale": [
             [
              0,
              "#440154"
             ],
             [
              0.1111111111111111,
              "#482878"
             ],
             [
              0.2222222222222222,
              "#3e4989"
             ],
             [
              0.3333333333333333,
              "#31688e"
             ],
             [
              0.4444444444444444,
              "#26828e"
             ],
             [
              0.5555555555555556,
              "#1f9e89"
             ],
             [
              0.6666666666666666,
              "#35b779"
             ],
             [
              0.7777777777777778,
              "#6ece58"
             ],
             [
              0.8888888888888888,
              "#b5de2b"
             ],
             [
              1,
              "#fde725"
             ]
            ],
            "type": "heatmap"
           }
          ],
          "heatmapgl": [
           {
            "colorbar": {
             "outlinewidth": 1,
             "tickcolor": "rgb(36,36,36)",
             "ticks": "outside"
            },
            "colorscale": [
             [
              0,
              "#440154"
             ],
             [
              0.1111111111111111,
              "#482878"
             ],
             [
              0.2222222222222222,
              "#3e4989"
             ],
             [
              0.3333333333333333,
              "#31688e"
             ],
             [
              0.4444444444444444,
              "#26828e"
             ],
             [
              0.5555555555555556,
              "#1f9e89"
             ],
             [
              0.6666666666666666,
              "#35b779"
             ],
             [
              0.7777777777777778,
              "#6ece58"
             ],
             [
              0.8888888888888888,
              "#b5de2b"
             ],
             [
              1,
              "#fde725"
             ]
            ],
            "type": "heatmapgl"
           }
          ],
          "histogram": [
           {
            "marker": {
             "line": {
              "color": "white",
              "width": 0.6
             }
            },
            "type": "histogram"
           }
          ],
          "histogram2d": [
           {
            "colorbar": {
             "outlinewidth": 1,
             "tickcolor": "rgb(36,36,36)",
             "ticks": "outside"
            },
            "colorscale": [
             [
              0,
              "#440154"
             ],
             [
              0.1111111111111111,
              "#482878"
             ],
             [
              0.2222222222222222,
              "#3e4989"
             ],
             [
              0.3333333333333333,
              "#31688e"
             ],
             [
              0.4444444444444444,
              "#26828e"
             ],
             [
              0.5555555555555556,
              "#1f9e89"
             ],
             [
              0.6666666666666666,
              "#35b779"
             ],
             [
              0.7777777777777778,
              "#6ece58"
             ],
             [
              0.8888888888888888,
              "#b5de2b"
             ],
             [
              1,
              "#fde725"
             ]
            ],
            "type": "histogram2d"
           }
          ],
          "histogram2dcontour": [
           {
            "colorbar": {
             "outlinewidth": 1,
             "tickcolor": "rgb(36,36,36)",
             "ticks": "outside"
            },
            "colorscale": [
             [
              0,
              "#440154"
             ],
             [
              0.1111111111111111,
              "#482878"
             ],
             [
              0.2222222222222222,
              "#3e4989"
             ],
             [
              0.3333333333333333,
              "#31688e"
             ],
             [
              0.4444444444444444,
              "#26828e"
             ],
             [
              0.5555555555555556,
              "#1f9e89"
             ],
             [
              0.6666666666666666,
              "#35b779"
             ],
             [
              0.7777777777777778,
              "#6ece58"
             ],
             [
              0.8888888888888888,
              "#b5de2b"
             ],
             [
              1,
              "#fde725"
             ]
            ],
            "type": "histogram2dcontour"
           }
          ],
          "mesh3d": [
           {
            "colorbar": {
             "outlinewidth": 1,
             "tickcolor": "rgb(36,36,36)",
             "ticks": "outside"
            },
            "type": "mesh3d"
           }
          ],
          "parcoords": [
           {
            "line": {
             "colorbar": {
              "outlinewidth": 1,
              "tickcolor": "rgb(36,36,36)",
              "ticks": "outside"
             }
            },
            "type": "parcoords"
           }
          ],
          "pie": [
           {
            "automargin": true,
            "type": "pie"
           }
          ],
          "scatter": [
           {
            "fillpattern": {
             "fillmode": "overlay",
             "size": 10,
             "solidity": 0.2
            },
            "type": "scatter"
           }
          ],
          "scatter3d": [
           {
            "line": {
             "colorbar": {
              "outlinewidth": 1,
              "tickcolor": "rgb(36,36,36)",
              "ticks": "outside"
             }
            },
            "marker": {
             "colorbar": {
              "outlinewidth": 1,
              "tickcolor": "rgb(36,36,36)",
              "ticks": "outside"
             }
            },
            "type": "scatter3d"
           }
          ],
          "scattercarpet": [
           {
            "marker": {
             "colorbar": {
              "outlinewidth": 1,
              "tickcolor": "rgb(36,36,36)",
              "ticks": "outside"
             }
            },
            "type": "scattercarpet"
           }
          ],
          "scattergeo": [
           {
            "marker": {
             "colorbar": {
              "outlinewidth": 1,
              "tickcolor": "rgb(36,36,36)",
              "ticks": "outside"
             }
            },
            "type": "scattergeo"
           }
          ],
          "scattergl": [
           {
            "marker": {
             "colorbar": {
              "outlinewidth": 1,
              "tickcolor": "rgb(36,36,36)",
              "ticks": "outside"
             }
            },
            "type": "scattergl"
           }
          ],
          "scattermapbox": [
           {
            "marker": {
             "colorbar": {
              "outlinewidth": 1,
              "tickcolor": "rgb(36,36,36)",
              "ticks": "outside"
             }
            },
            "type": "scattermapbox"
           }
          ],
          "scatterpolar": [
           {
            "marker": {
             "colorbar": {
              "outlinewidth": 1,
              "tickcolor": "rgb(36,36,36)",
              "ticks": "outside"
             }
            },
            "type": "scatterpolar"
           }
          ],
          "scatterpolargl": [
           {
            "marker": {
             "colorbar": {
              "outlinewidth": 1,
              "tickcolor": "rgb(36,36,36)",
              "ticks": "outside"
             }
            },
            "type": "scatterpolargl"
           }
          ],
          "scatterternary": [
           {
            "marker": {
             "colorbar": {
              "outlinewidth": 1,
              "tickcolor": "rgb(36,36,36)",
              "ticks": "outside"
             }
            },
            "type": "scatterternary"
           }
          ],
          "surface": [
           {
            "colorbar": {
             "outlinewidth": 1,
             "tickcolor": "rgb(36,36,36)",
             "ticks": "outside"
            },
            "colorscale": [
             [
              0,
              "#440154"
             ],
             [
              0.1111111111111111,
              "#482878"
             ],
             [
              0.2222222222222222,
              "#3e4989"
             ],
             [
              0.3333333333333333,
              "#31688e"
             ],
             [
              0.4444444444444444,
              "#26828e"
             ],
             [
              0.5555555555555556,
              "#1f9e89"
             ],
             [
              0.6666666666666666,
              "#35b779"
             ],
             [
              0.7777777777777778,
              "#6ece58"
             ],
             [
              0.8888888888888888,
              "#b5de2b"
             ],
             [
              1,
              "#fde725"
             ]
            ],
            "type": "surface"
           }
          ],
          "table": [
           {
            "cells": {
             "fill": {
              "color": "rgb(237,237,237)"
             },
             "line": {
              "color": "white"
             }
            },
            "header": {
             "fill": {
              "color": "rgb(217,217,217)"
             },
             "line": {
              "color": "white"
             }
            },
            "type": "table"
           }
          ]
         },
         "layout": {
          "annotationdefaults": {
           "arrowhead": 0,
           "arrowwidth": 1
          },
          "autotypenumbers": "strict",
          "coloraxis": {
           "colorbar": {
            "outlinewidth": 1,
            "tickcolor": "rgb(36,36,36)",
            "ticks": "outside"
           }
          },
          "colorscale": {
           "diverging": [
            [
             0,
             "rgb(103,0,31)"
            ],
            [
             0.1,
             "rgb(178,24,43)"
            ],
            [
             0.2,
             "rgb(214,96,77)"
            ],
            [
             0.3,
             "rgb(244,165,130)"
            ],
            [
             0.4,
             "rgb(253,219,199)"
            ],
            [
             0.5,
             "rgb(247,247,247)"
            ],
            [
             0.6,
             "rgb(209,229,240)"
            ],
            [
             0.7,
             "rgb(146,197,222)"
            ],
            [
             0.8,
             "rgb(67,147,195)"
            ],
            [
             0.9,
             "rgb(33,102,172)"
            ],
            [
             1,
             "rgb(5,48,97)"
            ]
           ],
           "sequential": [
            [
             0,
             "#440154"
            ],
            [
             0.1111111111111111,
             "#482878"
            ],
            [
             0.2222222222222222,
             "#3e4989"
            ],
            [
             0.3333333333333333,
             "#31688e"
            ],
            [
             0.4444444444444444,
             "#26828e"
            ],
            [
             0.5555555555555556,
             "#1f9e89"
            ],
            [
             0.6666666666666666,
             "#35b779"
            ],
            [
             0.7777777777777778,
             "#6ece58"
            ],
            [
             0.8888888888888888,
             "#b5de2b"
            ],
            [
             1,
             "#fde725"
            ]
           ],
           "sequentialminus": [
            [
             0,
             "#440154"
            ],
            [
             0.1111111111111111,
             "#482878"
            ],
            [
             0.2222222222222222,
             "#3e4989"
            ],
            [
             0.3333333333333333,
             "#31688e"
            ],
            [
             0.4444444444444444,
             "#26828e"
            ],
            [
             0.5555555555555556,
             "#1f9e89"
            ],
            [
             0.6666666666666666,
             "#35b779"
            ],
            [
             0.7777777777777778,
             "#6ece58"
            ],
            [
             0.8888888888888888,
             "#b5de2b"
            ],
            [
             1,
             "#fde725"
            ]
           ]
          },
          "colorway": [
           "#1F77B4",
           "#FF7F0E",
           "#2CA02C",
           "#D62728",
           "#9467BD",
           "#8C564B",
           "#E377C2",
           "#7F7F7F",
           "#BCBD22",
           "#17BECF"
          ],
          "font": {
           "color": "rgb(36,36,36)"
          },
          "geo": {
           "bgcolor": "white",
           "lakecolor": "white",
           "landcolor": "white",
           "showlakes": true,
           "showland": true,
           "subunitcolor": "white"
          },
          "hoverlabel": {
           "align": "left"
          },
          "hovermode": "closest",
          "mapbox": {
           "style": "light"
          },
          "paper_bgcolor": "white",
          "plot_bgcolor": "white",
          "polar": {
           "angularaxis": {
            "gridcolor": "rgb(232,232,232)",
            "linecolor": "rgb(36,36,36)",
            "showgrid": false,
            "showline": true,
            "ticks": "outside"
           },
           "bgcolor": "white",
           "radialaxis": {
            "gridcolor": "rgb(232,232,232)",
            "linecolor": "rgb(36,36,36)",
            "showgrid": false,
            "showline": true,
            "ticks": "outside"
           }
          },
          "scene": {
           "xaxis": {
            "backgroundcolor": "white",
            "gridcolor": "rgb(232,232,232)",
            "gridwidth": 2,
            "linecolor": "rgb(36,36,36)",
            "showbackground": true,
            "showgrid": false,
            "showline": true,
            "ticks": "outside",
            "zeroline": false,
            "zerolinecolor": "rgb(36,36,36)"
           },
           "yaxis": {
            "backgroundcolor": "white",
            "gridcolor": "rgb(232,232,232)",
            "gridwidth": 2,
            "linecolor": "rgb(36,36,36)",
            "showbackground": true,
            "showgrid": false,
            "showline": true,
            "ticks": "outside",
            "zeroline": false,
            "zerolinecolor": "rgb(36,36,36)"
           },
           "zaxis": {
            "backgroundcolor": "white",
            "gridcolor": "rgb(232,232,232)",
            "gridwidth": 2,
            "linecolor": "rgb(36,36,36)",
            "showbackground": true,
            "showgrid": false,
            "showline": true,
            "ticks": "outside",
            "zeroline": false,
            "zerolinecolor": "rgb(36,36,36)"
           }
          },
          "shapedefaults": {
           "fillcolor": "black",
           "line": {
            "width": 0
           },
           "opacity": 0.3
          },
          "ternary": {
           "aaxis": {
            "gridcolor": "rgb(232,232,232)",
            "linecolor": "rgb(36,36,36)",
            "showgrid": false,
            "showline": true,
            "ticks": "outside"
           },
           "baxis": {
            "gridcolor": "rgb(232,232,232)",
            "linecolor": "rgb(36,36,36)",
            "showgrid": false,
            "showline": true,
            "ticks": "outside"
           },
           "bgcolor": "white",
           "caxis": {
            "gridcolor": "rgb(232,232,232)",
            "linecolor": "rgb(36,36,36)",
            "showgrid": false,
            "showline": true,
            "ticks": "outside"
           }
          },
          "title": {
           "x": 0.05
          },
          "xaxis": {
           "automargin": true,
           "gridcolor": "rgb(232,232,232)",
           "linecolor": "rgb(36,36,36)",
           "showgrid": false,
           "showline": true,
           "ticks": "outside",
           "title": {
            "standoff": 15
           },
           "zeroline": false,
           "zerolinecolor": "rgb(36,36,36)"
          },
          "yaxis": {
           "automargin": true,
           "gridcolor": "rgb(232,232,232)",
           "linecolor": "rgb(36,36,36)",
           "showgrid": false,
           "showline": true,
           "ticks": "outside",
           "title": {
            "standoff": 15
           },
           "zeroline": false,
           "zerolinecolor": "rgb(36,36,36)"
          }
         }
        },
        "title": {
         "font": {
          "color": "Black",
          "size": 22
         },
         "text": "<b>Topics over Time",
         "x": 0.4,
         "xanchor": "center",
         "y": 0.95,
         "yanchor": "top"
        },
        "width": 1250,
        "xaxis": {
         "showgrid": true
        },
        "yaxis": {
         "showgrid": true,
         "title": {
          "text": "Frequency"
         }
        }
       }
      },
      "text/html": [
       "<div>                            <div id=\"34829023-e20d-4a33-ad01-ca8d1e2c986b\" class=\"plotly-graph-div\" style=\"height:450px; width:1250px;\"></div>            <script type=\"text/javascript\">                require([\"plotly\"], function(Plotly) {                    window.PLOTLYENV=window.PLOTLYENV || {};                                    if (document.getElementById(\"34829023-e20d-4a33-ad01-ca8d1e2c986b\")) {                    Plotly.newPlot(                        \"34829023-e20d-4a33-ad01-ca8d1e2c986b\",                        [{\"hoverinfo\":\"text\",\"hovertext\":[\"<b>Topic 0</b><br>Words: record, president, network, information, power\",\"<b>Topic 0</b><br>Words: reason, security, record, president, information\",\"<b>Topic 0</b><br>Words: record, president, information, power, program\",\"<b>Topic 0</b><br>Words: program, record, president, network, information\",\"<b>Topic 0</b><br>Words: record, president, network, information, power\",\"<b>Topic 0</b><br>Words: record, want, history, united state, state\",\"<b>Topic 0</b><br>Words: program, record, president, network, information\",\"<b>Topic 0</b><br>Words: change, president, record, information, power\",\"<b>Topic 0</b><br>Words: started, program, thing, record, president\",\"<b>Topic 0</b><br>Words: community, started, technology, world, president\",\"<b>Topic 0</b><br>Words: started, lot people, community, start, program\",\"<b>Topic 0</b><br>Words: day, record, president, information, power\",\"<b>Topic 0</b><br>Words: bush, position, united state, world, record\",\"<b>Topic 0</b><br>Words: information, record, president, network, power\",\"<b>Topic 0</b><br>Words: sort, thing, record, president, information\",\"<b>Topic 0</b><br>Words: record, power, changed, moment, public\",\"<b>Topic 0</b><br>Words: president, office, year, record, information\",\"<b>Topic 0</b><br>Words: record, president, information, power, program\",\"<b>Topic 0</b><br>Words: happened, record, president, information, program\",\"<b>Topic 0</b><br>Words: government, record, president, information, program\",\"<b>Topic 0</b><br>Words: record, president, information, power, program\",\"<b>Topic 0</b><br>Words: record, president, information, power, program\",\"<b>Topic 0</b><br>Words: power, forward, record, president, information\",\"<b>Topic 0</b><br>Words: record, information, intelligence, thing, president\",\"<b>Topic 0</b><br>Words: information, record, president, power, program\",\"<b>Topic 0</b><br>Words: record, job, president, information, power\",\"<b>Topic 0</b><br>Words: network, community, information, intelligence, power\",\"<b>Topic 0</b><br>Words: record, network, office, agency, job\",\"<b>Topic 0</b><br>Words: job, called, record, president, information\",\"<b>Topic 0</b><br>Words: information, office, heard, day, read\",\"<b>Topic 0</b><br>Words: called, little, came, mean, information\",\"<b>Topic 0</b><br>Words: record, day, united state, government, president\",\"<b>Topic 0</b><br>Words: went, program, record, information, called\",\"<b>Topic 0</b><br>Words: american, power, united state, job, state\",\"<b>Topic 0</b><br>Words: president, executive, power, record, network\",\"<b>Topic 0</b><br>Words: power, president, program, record, information\",\"<b>Topic 0</b><br>Words: record, president, information, power, program\",\"<b>Topic 0</b><br>Words: talking, country, government, president, information\",\"<b>Topic 0</b><br>Words: record, network, today, happening, program\",\"<b>Topic 0</b><br>Words: technology, legal, information, government, record\",\"<b>Topic 0</b><br>Words: information, record, president, network, power\",\"<b>Topic 0</b><br>Words: record, president, network, information, power\",\"<b>Topic 0</b><br>Words: program, thing, record, president, information\",\"<b>Topic 0</b><br>Words: need, record, president, information, program\",\"<b>Topic 0</b><br>Words: record, president, network, information, power\",\"<b>Topic 0</b><br>Words: day, president, program, record, information\",\"<b>Topic 0</b><br>Words: president, record, network, information, power\",\"<b>Topic 0</b><br>Words: president, head, program, record, thing\",\"<b>Topic 0</b><br>Words: president, office, position, record, network\",\"<b>Topic 0</b><br>Words: president, job, power, american, united state\",\"<b>Topic 0</b><br>Words: power, idea, president, government, record\",\"<b>Topic 0</b><br>Words: happy, record, president, information, power\",\"<b>Topic 0</b><br>Words: weird, year, thing, record, president\",\"<b>Topic 0</b><br>Words: record, president, network, information, power\",\"<b>Topic 0</b><br>Words: record, president, network, information, power\",\"<b>Topic 0</b><br>Words: record, president, information, power, program\",\"<b>Topic 0</b><br>Words: big, changed, record, thing, president\",\"<b>Topic 0</b><br>Words: network, change, exist, president, thing\",\"<b>Topic 0</b><br>Words: network, record, president, information, power\",\"<b>Topic 0</b><br>Words: network, talking, record, start, problem\",\"<b>Topic 0</b><br>Words: record, thing, president, network, information\",\"<b>Topic 0</b><br>Words: power, technology, thing like, fact, thing\",\"<b>Topic 0</b><br>Words: open, record, president, network, information\",\"<b>Topic 0</b><br>Words: talk, network, idea, lot people, state\",\"<b>Topic 0</b><br>Words: talk, talking, record, problem, president\",\"<b>Topic 0</b><br>Words: president, united state, government, record, think\",\"<b>Topic 0</b><br>Words: record, information, thing, president, power\",\"<b>Topic 0</b><br>Words: network, sort, record, president, information\",\"<b>Topic 0</b><br>Words: record, legal, network, information, power\",\"<b>Topic 0</b><br>Words: record, house, day, past, president\",\"<b>Topic 0</b><br>Words: record, life, president, network, information\",\"<b>Topic 0</b><br>Words: record, president, network, information, power\"],\"marker\":{\"color\":\"#E69F00\"},\"mode\":\"lines\",\"name\":\"0_record_president_network_information\",\"x\":[-77.678,1637.56,2454.34,4904.68,5721.46,7355.02,8171.8,8988.58,9805.36,10622.14,11438.92,12255.7,17156.38,17973.16,18789.94,19606.72,20423.5,22057.06,23690.62,25324.18,26140.96,26957.74,27774.52,28591.3,29408.08,30224.86,31041.64,31858.42,32675.2,33491.98,34308.76,35942.32,36759.1,40026.22,40843.0,41659.78,43293.34,44110.12,44926.9,45743.68,46560.46,49827.58,52277.92,53094.7,53911.48,54728.26,55545.04,56361.82,57178.6,57995.38,58812.16,59628.94,60445.72,61262.5,63712.84,66979.96,68613.52,69430.3,70247.08,71063.86,71880.64,72697.42,73514.2,74330.98,75147.76,75964.54,76781.32,77598.1,78414.88,79231.66,80048.44,80865.22],\"y\":[3,3,2,1,1,7,2,1,5,6,4,1,1,1,2,4,4,2,2,3,1,1,3,4,1,5,1,7,3,5,3,1,4,3,2,2,1,1,11,4,2,1,1,2,1,2,1,4,4,4,1,2,4,1,1,1,6,19,8,10,10,10,5,14,13,7,4,6,4,6,13,1],\"type\":\"scatter\"},{\"hoverinfo\":\"text\",\"hovertext\":[\"<b>Topic 1</b><br>Words: government, legal, case, state, agency\",\"<b>Topic 1</b><br>Words: case, government, legal, agency, public\",\"<b>Topic 1</b><br>Words: program, idea, government, legal, case\",\"<b>Topic 1</b><br>Words: government, power, couple, legal, case\",\"<b>Topic 1</b><br>Words: legal, government, case, state, public\",\"<b>Topic 1</b><br>Words: changed, secret, case, united state, government\",\"<b>Topic 1</b><br>Words: government, want say, clear, public, legal\",\"<b>Topic 1</b><br>Words: executive, government, legal, case, state\",\"<b>Topic 1</b><br>Words: government, legal, case, state, agency\",\"<b>Topic 1</b><br>Words: government, legal, case, state, agency\",\"<b>Topic 1</b><br>Words: program, government, legal, case, state\",\"<b>Topic 1</b><br>Words: funny, government, agency, community, state\",\"<b>Topic 1</b><br>Words: government, agency, history, legal, case\",\"<b>Topic 1</b><br>Words: government, legal, agency, case, fact\",\"<b>Topic 1</b><br>Words: government, legal, program, case, state\",\"<b>Topic 1</b><br>Words: government, legal, case, state, agency\",\"<b>Topic 1</b><br>Words: information, government, legal, case, state\",\"<b>Topic 1</b><br>Words: history, government, legal, case, state\",\"<b>Topic 1</b><br>Words: changed, government, legal, case, state\",\"<b>Topic 1</b><br>Words: government, legal, case, state, agency\",\"<b>Topic 1</b><br>Words: government, legal, case, state, public\",\"<b>Topic 1</b><br>Words: government, legal, case, state, agency\",\"<b>Topic 1</b><br>Words: need, government, legal, program, case\",\"<b>Topic 1</b><br>Words: happened, government, legal, case, state\",\"<b>Topic 1</b><br>Words: american, intelligence, government, thing, legal\",\"<b>Topic 1</b><br>Words: agency, legal, government, intelligence, program\",\"<b>Topic 1</b><br>Words: government, legal, case, state, agency\",\"<b>Topic 1</b><br>Words: public, government, united state, legal, case\",\"<b>Topic 1</b><br>Words: government, legal, case, state, agency\",\"<b>Topic 1</b><br>Words: government, different, job, legal, case\",\"<b>Topic 1</b><br>Words: public, government, legal, case, state\",\"<b>Topic 1</b><br>Words: government, legal, case, state, agency\",\"<b>Topic 1</b><br>Words: reason, happened, government, legal, state\",\"<b>Topic 1</b><br>Words: government, program, intelligence, group, context\",\"<b>Topic 1</b><br>Words: government, forward, program, group, sort\",\"<b>Topic 1</b><br>Words: government, program, exist, legal, executive\",\"<b>Topic 1</b><br>Words: air, government, legal, case, state\",\"<b>Topic 1</b><br>Words: legal, case, intelligence, problem, government\",\"<b>Topic 1</b><br>Words: place, position, information, government, agency\",\"<b>Topic 1</b><br>Words: group, bush, government, case, agency\",\"<b>Topic 1</b><br>Words: country, fact, government, legal, case\",\"<b>Topic 1</b><br>Words: office, change, history, moment, government\",\"<b>Topic 1</b><br>Words: program, government, legal, case, state\",\"<b>Topic 1</b><br>Words: government, legal, case, state, agency\",\"<b>Topic 1</b><br>Words: government, legal, program, case, state\",\"<b>Topic 1</b><br>Words: state, president, government, say, legal\",\"<b>Topic 1</b><br>Words: government, thing like, legal, case, agency\",\"<b>Topic 1</b><br>Words: life, government, legal, program, case\",\"<b>Topic 1</b><br>Words: government, program, chance, mean, thing\",\"<b>Topic 1</b><br>Words: government, fact, lot people, believe, say\",\"<b>Topic 1</b><br>Words: government, context, case, united state, public\",\"<b>Topic 1</b><br>Words: head, government, context, thing like, legal\",\"<b>Topic 1</b><br>Words: government, long time, state, country, story\",\"<b>Topic 1</b><br>Words: government, context, united state, president, legal\",\"<b>Topic 1</b><br>Words: case, government, history, year, legal\",\"<b>Topic 1</b><br>Words: government, home, thing think, story, say\",\"<b>Topic 1</b><br>Words: state, government, legal, case, agency\",\"<b>Topic 1</b><br>Words: matter, government, legal, case, state\",\"<b>Topic 1</b><br>Words: government, legal, case, state, agency\",\"<b>Topic 1</b><br>Words: state, government, legal, program, case\",\"<b>Topic 1</b><br>Words: technology, government, legal, case, state\",\"<b>Topic 1</b><br>Words: legal, government, case, talked, state\",\"<b>Topic 1</b><br>Words: government, legal, program, case, state\",\"<b>Topic 1</b><br>Words: record, case, government, legal, state\",\"<b>Topic 1</b><br>Words: change, government, information, problem, legal\"],\"marker\":{\"color\":\"#56B4E9\"},\"mode\":\"lines\",\"name\":\"1_government_legal_case_state\",\"x\":[-77.678,820.78,2454.34,3271.12,4087.9,4904.68,5721.46,6538.24,7355.02,8171.8,8988.58,10622.14,13889.26,15522.82,17156.38,17973.16,18789.94,20423.5,21240.28,27774.52,30224.86,32675.2,35125.54,35942.32,36759.1,37575.88,38392.66,39209.44,40026.22,40843.0,41659.78,42476.56,46560.46,47377.24,48194.02,49010.8,49827.58,50644.36,51461.14,52277.92,53094.7,53911.48,54728.26,55545.04,56361.82,57995.38,58812.16,60445.72,61262.5,62079.28,62896.06,63712.84,64529.62,65346.4,66163.18,66979.96,68613.52,71063.86,73514.2,76781.32,77598.1,78414.88,79231.66,80048.44,80865.22],\"y\":[1,2,3,4,2,5,5,2,1,3,1,2,2,3,4,1,1,3,1,1,1,2,1,1,6,4,1,4,1,5,3,3,4,7,11,3,2,5,1,3,1,2,1,1,1,1,4,3,11,8,11,4,7,5,7,6,1,1,1,2,4,7,2,1,3],\"type\":\"scatter\"},{\"hoverinfo\":\"text\",\"hovertext\":[\"<b>Topic 2</b><br>Words: thing like, past, went, happy, context\",\"<b>Topic 2</b><br>Words: context, thing like, past, moment, went\",\"<b>Topic 2</b><br>Words: little, remember, said, past, moment\",\"<b>Topic 2</b><br>Words: thing like, past, went, happy, context\",\"<b>Topic 2</b><br>Words: later, thing like, past, moment, went\",\"<b>Topic 2</b><br>Words: wanted, thing like, went, said, happy\",\"<b>Topic 2</b><br>Words: thing like, past, went, happy, context\",\"<b>Topic 2</b><br>Words: thing like, past, went, happy, context\",\"<b>Topic 2</b><br>Words: thing like, went, said, happy, context\",\"<b>Topic 2</b><br>Words: past, working, thing like, moment, went\",\"<b>Topic 2</b><br>Words: moment, thing like, past, went, happy\",\"<b>Topic 2</b><br>Words: thing like, past, went, happy, context\",\"<b>Topic 2</b><br>Words: network, went, thing like, past, said\",\"<b>Topic 2</b><br>Words: thing like, past, went, happy, context\",\"<b>Topic 2</b><br>Words: past, thing like, moment, went, context\",\"<b>Topic 2</b><br>Words: thing like, went, said, happy, context\",\"<b>Topic 2</b><br>Words: thing like, pretty, somebody, came, book\",\"<b>Topic 2</b><br>Words: moment, said, thing like, past, went\",\"<b>Topic 2</b><br>Words: thing like, past, went, happy, context\",\"<b>Topic 2</b><br>Words: start, thing like, past, went, happy\",\"<b>Topic 2</b><br>Words: thing like, past, moment, went, context\",\"<b>Topic 2</b><br>Words: mean, time, thing like, moment, said\",\"<b>Topic 2</b><br>Words: thing like, past, went, happy, context\",\"<b>Topic 2</b><br>Words: went, thing like, past, said, happy\",\"<b>Topic 2</b><br>Words: thing like, past, went, happy, context\",\"<b>Topic 2</b><br>Words: thing like, past, went, happy, context\",\"<b>Topic 2</b><br>Words: record, said, story, thing like, past\",\"<b>Topic 2</b><br>Words: thing like, past, went, happy, context\",\"<b>Topic 2</b><br>Words: thing like, past, moment, went, happy\",\"<b>Topic 2</b><br>Words: thing like, past, went, happy, context\",\"<b>Topic 2</b><br>Words: thing like, past, went, happy, context\",\"<b>Topic 2</b><br>Words: thing like, past, went, happy, context\",\"<b>Topic 2</b><br>Words: thing like, past, went, happy, context\",\"<b>Topic 2</b><br>Words: thing like, past, went, happy, context\",\"<b>Topic 2</b><br>Words: thing like, past, went, happy, context\",\"<b>Topic 2</b><br>Words: state, thing like, past, went, happy\",\"<b>Topic 2</b><br>Words: happy, clear, home, thing like, past\",\"<b>Topic 2</b><br>Words: thing like, past, went, said, context\",\"<b>Topic 2</b><br>Words: thing like, past, went, happy, context\",\"<b>Topic 2</b><br>Words: thing like, past, went, said, happy\",\"<b>Topic 2</b><br>Words: thing like, past, went, happy, context\",\"<b>Topic 2</b><br>Words: thing like, past, went, happy, context\",\"<b>Topic 2</b><br>Words: thing like, past, went, happy, context\"],\"marker\":{\"color\":\"#009E73\"},\"mode\":\"lines\",\"name\":\"2_thing like_past_went_happy\",\"x\":[-77.678,820.78,1637.56,2454.34,4904.68,5721.46,7355.02,8988.58,9805.36,11438.92,12255.7,13889.26,14706.04,17156.38,19606.72,21240.28,22873.84,23690.62,24507.4,26140.96,26957.74,29408.08,31858.42,40843.0,41659.78,43293.34,44110.12,44926.9,45743.68,47377.24,50644.36,52277.92,53911.48,58812.16,59628.94,63712.84,66979.96,68613.52,70247.08,71063.86,72697.42,78414.88,80865.22],\"y\":[3,1,5,1,1,1,1,2,1,1,2,3,2,1,1,2,8,9,2,1,1,2,1,1,1,1,1,1,2,1,4,1,1,1,2,1,1,2,1,1,1,1,1],\"type\":\"scatter\"},{\"hoverinfo\":\"text\",\"hovertext\":[\"<b>Topic 3</b><br>Words: people, country, matter, world, moment\",\"<b>Topic 3</b><br>Words: threat, government, country, matter, world\",\"<b>Topic 3</b><br>Words: people, country, matter, world, moment\",\"<b>Topic 3</b><br>Words: happened, government, country, matter, world\",\"<b>Topic 3</b><br>Words: country, everybody, matter, world, moment\",\"<b>Topic 3</b><br>Words: people, country, matter, world, moment\",\"<b>Topic 3</b><br>Words: moment, secret, agency, fact, country\",\"<b>Topic 3</b><br>Words: feel, country, matter, world, moment\",\"<b>Topic 3</b><br>Words: matter, country, moment, start, world\",\"<b>Topic 3</b><br>Words: moment, place, believe, happen, government\",\"<b>Topic 3</b><br>Words: feel, country, matter, forget, united\",\"<b>Topic 3</b><br>Words: country, matter, world, moment, people\",\"<b>Topic 3</b><br>Words: people, country, matter, world, moment\",\"<b>Topic 3</b><br>Words: people, matter, world, government, group\",\"<b>Topic 3</b><br>Words: country, matter, moment, government, saying\",\"<b>Topic 3</b><br>Words: say, country, matter, world, moment\",\"<b>Topic 3</b><br>Words: country, matter, world, moment, people\",\"<b>Topic 3</b><br>Words: country, matter, world, moment, government\",\"<b>Topic 3</b><br>Words: country, saying, group, talked, everybody\",\"<b>Topic 3</b><br>Words: program, government, country, world, people\",\"<b>Topic 3</b><br>Words: country, problem, matter, world, people\",\"<b>Topic 3</b><br>Words: bad, country, look, people, matter\",\"<b>Topic 3</b><br>Words: group, technology, fact, program, country\",\"<b>Topic 3</b><br>Words: saying, people, country, matter, world\",\"<b>Topic 3</b><br>Words: clear, world, happening, government, country\",\"<b>Topic 3</b><br>Words: country, people, think, matter, world\",\"<b>Topic 3</b><br>Words: american, everybody, country, matter, world\",\"<b>Topic 3</b><br>Words: happy, people, country, matter, world\",\"<b>Topic 3</b><br>Words: world, day, matter, end, country\",\"<b>Topic 3</b><br>Words: country, matter, world, moment, government\",\"<b>Topic 3</b><br>Words: people, country, matter, world, moment\",\"<b>Topic 3</b><br>Words: matter, country, world, moment, people\",\"<b>Topic 3</b><br>Words: country, matter, world, moment, people\",\"<b>Topic 3</b><br>Words: country, matter, world, moment, people\"],\"marker\":{\"color\":\"#F0E442\"},\"mode\":\"lines\",\"name\":\"3_country_matter_world_moment\",\"x\":[1637.56,3271.12,4904.68,6538.24,12255.7,13889.26,16339.6,19606.72,20423.5,21240.28,22057.06,28591.3,30224.86,36759.1,38392.66,40026.22,40843.0,41659.78,42476.56,43293.34,53911.48,55545.04,56361.82,57178.6,59628.94,64529.62,65346.4,66979.96,67796.74,68613.52,70247.08,71063.86,72697.42,80865.22],\"y\":[1,1,1,1,2,1,2,1,5,3,3,1,2,2,1,1,1,1,7,1,2,2,2,4,5,1,4,3,7,3,1,1,1,3],\"type\":\"scatter\"},{\"hoverinfo\":\"text\",\"hovertext\":[\"<b>Topic 4</b><br>Words: book, day, government, agency, information\",\"<b>Topic 4</b><br>Words: agency, information, work, secret, security\",\"<b>Topic 4</b><br>Words: legal, agency, office, house, information\",\"<b>Topic 4</b><br>Words: agency, information, work, secret, intelligence\",\"<b>Topic 4</b><br>Words: agency, information, work, secret, wanted\",\"<b>Topic 4</b><br>Words: agency, information, work, secret, security\",\"<b>Topic 4</b><br>Words: funny, agency, information, work, secret\",\"<b>Topic 4</b><br>Words: home, past, agency, information, work\",\"<b>Topic 4</b><br>Words: agency, information, work, secret, intelligence\",\"<b>Topic 4</b><br>Words: work, agency, information, secret, intelligence\",\"<b>Topic 4</b><br>Words: network, idea, agency, information, work\",\"<b>Topic 4</b><br>Words: agency, information, work, secret, security\",\"<b>Topic 4</b><br>Words: agency, place, information, country, people\",\"<b>Topic 4</b><br>Words: information, agency, case, wanted, work\",\"<b>Topic 4</b><br>Words: agency, information, work, secret, security\",\"<b>Topic 4</b><br>Words: agency, information, work, secret, security\",\"<b>Topic 4</b><br>Words: agency, information, work, secret, security\",\"<b>Topic 4</b><br>Words: secret, security, work, agency, information\",\"<b>Topic 4</b><br>Words: suddenly, job, security, government, agency\",\"<b>Topic 4</b><br>Words: work, kind, agency, information, secret\",\"<b>Topic 4</b><br>Words: end, basically, agency, information, work\",\"<b>Topic 4</b><br>Words: country, sort, agency, information, work\",\"<b>Topic 4</b><br>Words: working, agency, information, work, secret\",\"<b>Topic 4</b><br>Words: technology, agency, information, work, secret\",\"<b>Topic 4</b><br>Words: history, intelligence, agency, information, work\",\"<b>Topic 4</b><br>Words: seen, network, agency, information, work\",\"<b>Topic 4</b><br>Words: office, work, idea, agency, information\",\"<b>Topic 4</b><br>Words: need, agency, information, work, secret\",\"<b>Topic 4</b><br>Words: program, state, president, house, agency\",\"<b>Topic 4</b><br>Words: executive, house, agency, information, work\",\"<b>Topic 4</b><br>Words: day, power, happened, talking, work\",\"<b>Topic 4</b><br>Words: start, agency, information, work, secret\",\"<b>Topic 4</b><br>Words: american, program, question, agency, information\",\"<b>Topic 4</b><br>Words: agency, information, work, secret, security\",\"<b>Topic 4</b><br>Words: secret, case, thing, agency, information\",\"<b>Topic 4</b><br>Words: head, agency, position, long time, job\",\"<b>Topic 4</b><br>Words: agency, information, work, secret, intelligence\",\"<b>Topic 4</b><br>Words: intelligence, agency, information, work, secret\",\"<b>Topic 4</b><br>Words: agency, information, work, secret, intelligence\",\"<b>Topic 4</b><br>Words: working, agency, information, work, secret\",\"<b>Topic 4</b><br>Words: day, united state, state, intelligence, agency\"],\"marker\":{\"color\":\"#D55E00\"},\"mode\":\"lines\",\"name\":\"4_agency_information_work_secret\",\"x\":[-77.678,2454.34,4087.9,8171.8,9805.36,10622.14,11438.92,12255.7,13072.48,13889.26,14706.04,15522.82,17156.38,17973.16,19606.72,21240.28,23690.62,25324.18,26140.96,26957.74,27774.52,28591.3,29408.08,30224.86,31041.64,31858.42,32675.2,33491.98,38392.66,40843.0,42476.56,43293.34,50644.36,52277.92,53094.7,57995.38,60445.72,66163.18,66979.96,72697.42,77598.1],\"y\":[1,1,1,1,1,1,2,6,3,3,1,3,1,5,1,1,1,2,3,4,2,1,5,1,1,1,3,1,2,1,5,1,2,1,2,1,1,1,1,1,1],\"type\":\"scatter\"}],                        {\"template\":{\"data\":{\"barpolar\":[{\"marker\":{\"line\":{\"color\":\"white\",\"width\":0.5},\"pattern\":{\"fillmode\":\"overlay\",\"size\":10,\"solidity\":0.2}},\"type\":\"barpolar\"}],\"bar\":[{\"error_x\":{\"color\":\"rgb(36,36,36)\"},\"error_y\":{\"color\":\"rgb(36,36,36)\"},\"marker\":{\"line\":{\"color\":\"white\",\"width\":0.5},\"pattern\":{\"fillmode\":\"overlay\",\"size\":10,\"solidity\":0.2}},\"type\":\"bar\"}],\"carpet\":[{\"aaxis\":{\"endlinecolor\":\"rgb(36,36,36)\",\"gridcolor\":\"white\",\"linecolor\":\"white\",\"minorgridcolor\":\"white\",\"startlinecolor\":\"rgb(36,36,36)\"},\"baxis\":{\"endlinecolor\":\"rgb(36,36,36)\",\"gridcolor\":\"white\",\"linecolor\":\"white\",\"minorgridcolor\":\"white\",\"startlinecolor\":\"rgb(36,36,36)\"},\"type\":\"carpet\"}],\"choropleth\":[{\"colorbar\":{\"outlinewidth\":1,\"tickcolor\":\"rgb(36,36,36)\",\"ticks\":\"outside\"},\"type\":\"choropleth\"}],\"contourcarpet\":[{\"colorbar\":{\"outlinewidth\":1,\"tickcolor\":\"rgb(36,36,36)\",\"ticks\":\"outside\"},\"type\":\"contourcarpet\"}],\"contour\":[{\"colorbar\":{\"outlinewidth\":1,\"tickcolor\":\"rgb(36,36,36)\",\"ticks\":\"outside\"},\"colorscale\":[[0.0,\"#440154\"],[0.1111111111111111,\"#482878\"],[0.2222222222222222,\"#3e4989\"],[0.3333333333333333,\"#31688e\"],[0.4444444444444444,\"#26828e\"],[0.5555555555555556,\"#1f9e89\"],[0.6666666666666666,\"#35b779\"],[0.7777777777777778,\"#6ece58\"],[0.8888888888888888,\"#b5de2b\"],[1.0,\"#fde725\"]],\"type\":\"contour\"}],\"heatmapgl\":[{\"colorbar\":{\"outlinewidth\":1,\"tickcolor\":\"rgb(36,36,36)\",\"ticks\":\"outside\"},\"colorscale\":[[0.0,\"#440154\"],[0.1111111111111111,\"#482878\"],[0.2222222222222222,\"#3e4989\"],[0.3333333333333333,\"#31688e\"],[0.4444444444444444,\"#26828e\"],[0.5555555555555556,\"#1f9e89\"],[0.6666666666666666,\"#35b779\"],[0.7777777777777778,\"#6ece58\"],[0.8888888888888888,\"#b5de2b\"],[1.0,\"#fde725\"]],\"type\":\"heatmapgl\"}],\"heatmap\":[{\"colorbar\":{\"outlinewidth\":1,\"tickcolor\":\"rgb(36,36,36)\",\"ticks\":\"outside\"},\"colorscale\":[[0.0,\"#440154\"],[0.1111111111111111,\"#482878\"],[0.2222222222222222,\"#3e4989\"],[0.3333333333333333,\"#31688e\"],[0.4444444444444444,\"#26828e\"],[0.5555555555555556,\"#1f9e89\"],[0.6666666666666666,\"#35b779\"],[0.7777777777777778,\"#6ece58\"],[0.8888888888888888,\"#b5de2b\"],[1.0,\"#fde725\"]],\"type\":\"heatmap\"}],\"histogram2dcontour\":[{\"colorbar\":{\"outlinewidth\":1,\"tickcolor\":\"rgb(36,36,36)\",\"ticks\":\"outside\"},\"colorscale\":[[0.0,\"#440154\"],[0.1111111111111111,\"#482878\"],[0.2222222222222222,\"#3e4989\"],[0.3333333333333333,\"#31688e\"],[0.4444444444444444,\"#26828e\"],[0.5555555555555556,\"#1f9e89\"],[0.6666666666666666,\"#35b779\"],[0.7777777777777778,\"#6ece58\"],[0.8888888888888888,\"#b5de2b\"],[1.0,\"#fde725\"]],\"type\":\"histogram2dcontour\"}],\"histogram2d\":[{\"colorbar\":{\"outlinewidth\":1,\"tickcolor\":\"rgb(36,36,36)\",\"ticks\":\"outside\"},\"colorscale\":[[0.0,\"#440154\"],[0.1111111111111111,\"#482878\"],[0.2222222222222222,\"#3e4989\"],[0.3333333333333333,\"#31688e\"],[0.4444444444444444,\"#26828e\"],[0.5555555555555556,\"#1f9e89\"],[0.6666666666666666,\"#35b779\"],[0.7777777777777778,\"#6ece58\"],[0.8888888888888888,\"#b5de2b\"],[1.0,\"#fde725\"]],\"type\":\"histogram2d\"}],\"histogram\":[{\"marker\":{\"line\":{\"color\":\"white\",\"width\":0.6}},\"type\":\"histogram\"}],\"mesh3d\":[{\"colorbar\":{\"outlinewidth\":1,\"tickcolor\":\"rgb(36,36,36)\",\"ticks\":\"outside\"},\"type\":\"mesh3d\"}],\"parcoords\":[{\"line\":{\"colorbar\":{\"outlinewidth\":1,\"tickcolor\":\"rgb(36,36,36)\",\"ticks\":\"outside\"}},\"type\":\"parcoords\"}],\"pie\":[{\"automargin\":true,\"type\":\"pie\"}],\"scatter3d\":[{\"line\":{\"colorbar\":{\"outlinewidth\":1,\"tickcolor\":\"rgb(36,36,36)\",\"ticks\":\"outside\"}},\"marker\":{\"colorbar\":{\"outlinewidth\":1,\"tickcolor\":\"rgb(36,36,36)\",\"ticks\":\"outside\"}},\"type\":\"scatter3d\"}],\"scattercarpet\":[{\"marker\":{\"colorbar\":{\"outlinewidth\":1,\"tickcolor\":\"rgb(36,36,36)\",\"ticks\":\"outside\"}},\"type\":\"scattercarpet\"}],\"scattergeo\":[{\"marker\":{\"colorbar\":{\"outlinewidth\":1,\"tickcolor\":\"rgb(36,36,36)\",\"ticks\":\"outside\"}},\"type\":\"scattergeo\"}],\"scattergl\":[{\"marker\":{\"colorbar\":{\"outlinewidth\":1,\"tickcolor\":\"rgb(36,36,36)\",\"ticks\":\"outside\"}},\"type\":\"scattergl\"}],\"scattermapbox\":[{\"marker\":{\"colorbar\":{\"outlinewidth\":1,\"tickcolor\":\"rgb(36,36,36)\",\"ticks\":\"outside\"}},\"type\":\"scattermapbox\"}],\"scatterpolargl\":[{\"marker\":{\"colorbar\":{\"outlinewidth\":1,\"tickcolor\":\"rgb(36,36,36)\",\"ticks\":\"outside\"}},\"type\":\"scatterpolargl\"}],\"scatterpolar\":[{\"marker\":{\"colorbar\":{\"outlinewidth\":1,\"tickcolor\":\"rgb(36,36,36)\",\"ticks\":\"outside\"}},\"type\":\"scatterpolar\"}],\"scatter\":[{\"fillpattern\":{\"fillmode\":\"overlay\",\"size\":10,\"solidity\":0.2},\"type\":\"scatter\"}],\"scatterternary\":[{\"marker\":{\"colorbar\":{\"outlinewidth\":1,\"tickcolor\":\"rgb(36,36,36)\",\"ticks\":\"outside\"}},\"type\":\"scatterternary\"}],\"surface\":[{\"colorbar\":{\"outlinewidth\":1,\"tickcolor\":\"rgb(36,36,36)\",\"ticks\":\"outside\"},\"colorscale\":[[0.0,\"#440154\"],[0.1111111111111111,\"#482878\"],[0.2222222222222222,\"#3e4989\"],[0.3333333333333333,\"#31688e\"],[0.4444444444444444,\"#26828e\"],[0.5555555555555556,\"#1f9e89\"],[0.6666666666666666,\"#35b779\"],[0.7777777777777778,\"#6ece58\"],[0.8888888888888888,\"#b5de2b\"],[1.0,\"#fde725\"]],\"type\":\"surface\"}],\"table\":[{\"cells\":{\"fill\":{\"color\":\"rgb(237,237,237)\"},\"line\":{\"color\":\"white\"}},\"header\":{\"fill\":{\"color\":\"rgb(217,217,217)\"},\"line\":{\"color\":\"white\"}},\"type\":\"table\"}]},\"layout\":{\"annotationdefaults\":{\"arrowhead\":0,\"arrowwidth\":1},\"autotypenumbers\":\"strict\",\"coloraxis\":{\"colorbar\":{\"outlinewidth\":1,\"tickcolor\":\"rgb(36,36,36)\",\"ticks\":\"outside\"}},\"colorscale\":{\"diverging\":[[0.0,\"rgb(103,0,31)\"],[0.1,\"rgb(178,24,43)\"],[0.2,\"rgb(214,96,77)\"],[0.3,\"rgb(244,165,130)\"],[0.4,\"rgb(253,219,199)\"],[0.5,\"rgb(247,247,247)\"],[0.6,\"rgb(209,229,240)\"],[0.7,\"rgb(146,197,222)\"],[0.8,\"rgb(67,147,195)\"],[0.9,\"rgb(33,102,172)\"],[1.0,\"rgb(5,48,97)\"]],\"sequential\":[[0.0,\"#440154\"],[0.1111111111111111,\"#482878\"],[0.2222222222222222,\"#3e4989\"],[0.3333333333333333,\"#31688e\"],[0.4444444444444444,\"#26828e\"],[0.5555555555555556,\"#1f9e89\"],[0.6666666666666666,\"#35b779\"],[0.7777777777777778,\"#6ece58\"],[0.8888888888888888,\"#b5de2b\"],[1.0,\"#fde725\"]],\"sequentialminus\":[[0.0,\"#440154\"],[0.1111111111111111,\"#482878\"],[0.2222222222222222,\"#3e4989\"],[0.3333333333333333,\"#31688e\"],[0.4444444444444444,\"#26828e\"],[0.5555555555555556,\"#1f9e89\"],[0.6666666666666666,\"#35b779\"],[0.7777777777777778,\"#6ece58\"],[0.8888888888888888,\"#b5de2b\"],[1.0,\"#fde725\"]]},\"colorway\":[\"#1F77B4\",\"#FF7F0E\",\"#2CA02C\",\"#D62728\",\"#9467BD\",\"#8C564B\",\"#E377C2\",\"#7F7F7F\",\"#BCBD22\",\"#17BECF\"],\"font\":{\"color\":\"rgb(36,36,36)\"},\"geo\":{\"bgcolor\":\"white\",\"lakecolor\":\"white\",\"landcolor\":\"white\",\"showlakes\":true,\"showland\":true,\"subunitcolor\":\"white\"},\"hoverlabel\":{\"align\":\"left\"},\"hovermode\":\"closest\",\"mapbox\":{\"style\":\"light\"},\"paper_bgcolor\":\"white\",\"plot_bgcolor\":\"white\",\"polar\":{\"angularaxis\":{\"gridcolor\":\"rgb(232,232,232)\",\"linecolor\":\"rgb(36,36,36)\",\"showgrid\":false,\"showline\":true,\"ticks\":\"outside\"},\"bgcolor\":\"white\",\"radialaxis\":{\"gridcolor\":\"rgb(232,232,232)\",\"linecolor\":\"rgb(36,36,36)\",\"showgrid\":false,\"showline\":true,\"ticks\":\"outside\"}},\"scene\":{\"xaxis\":{\"backgroundcolor\":\"white\",\"gridcolor\":\"rgb(232,232,232)\",\"gridwidth\":2,\"linecolor\":\"rgb(36,36,36)\",\"showbackground\":true,\"showgrid\":false,\"showline\":true,\"ticks\":\"outside\",\"zeroline\":false,\"zerolinecolor\":\"rgb(36,36,36)\"},\"yaxis\":{\"backgroundcolor\":\"white\",\"gridcolor\":\"rgb(232,232,232)\",\"gridwidth\":2,\"linecolor\":\"rgb(36,36,36)\",\"showbackground\":true,\"showgrid\":false,\"showline\":true,\"ticks\":\"outside\",\"zeroline\":false,\"zerolinecolor\":\"rgb(36,36,36)\"},\"zaxis\":{\"backgroundcolor\":\"white\",\"gridcolor\":\"rgb(232,232,232)\",\"gridwidth\":2,\"linecolor\":\"rgb(36,36,36)\",\"showbackground\":true,\"showgrid\":false,\"showline\":true,\"ticks\":\"outside\",\"zeroline\":false,\"zerolinecolor\":\"rgb(36,36,36)\"}},\"shapedefaults\":{\"fillcolor\":\"black\",\"line\":{\"width\":0},\"opacity\":0.3},\"ternary\":{\"aaxis\":{\"gridcolor\":\"rgb(232,232,232)\",\"linecolor\":\"rgb(36,36,36)\",\"showgrid\":false,\"showline\":true,\"ticks\":\"outside\"},\"baxis\":{\"gridcolor\":\"rgb(232,232,232)\",\"linecolor\":\"rgb(36,36,36)\",\"showgrid\":false,\"showline\":true,\"ticks\":\"outside\"},\"bgcolor\":\"white\",\"caxis\":{\"gridcolor\":\"rgb(232,232,232)\",\"linecolor\":\"rgb(36,36,36)\",\"showgrid\":false,\"showline\":true,\"ticks\":\"outside\"}},\"title\":{\"x\":0.05},\"xaxis\":{\"automargin\":true,\"gridcolor\":\"rgb(232,232,232)\",\"linecolor\":\"rgb(36,36,36)\",\"showgrid\":false,\"showline\":true,\"ticks\":\"outside\",\"title\":{\"standoff\":15},\"zeroline\":false,\"zerolinecolor\":\"rgb(36,36,36)\"},\"yaxis\":{\"automargin\":true,\"gridcolor\":\"rgb(232,232,232)\",\"linecolor\":\"rgb(36,36,36)\",\"showgrid\":false,\"showline\":true,\"ticks\":\"outside\",\"title\":{\"standoff\":15},\"zeroline\":false,\"zerolinecolor\":\"rgb(36,36,36)\"}}},\"xaxis\":{\"showgrid\":true},\"yaxis\":{\"showgrid\":true,\"title\":{\"text\":\"Frequency\"}},\"title\":{\"font\":{\"size\":22,\"color\":\"Black\"},\"text\":\"<b>Topics over Time\",\"y\":0.95,\"x\":0.4,\"xanchor\":\"center\",\"yanchor\":\"top\"},\"hoverlabel\":{\"font\":{\"size\":16,\"family\":\"Rockwell\"},\"bgcolor\":\"white\"},\"width\":1250,\"height\":450,\"legend\":{\"title\":{\"text\":\"<b>Global Topic Representation\"}}},                        {\"responsive\": true}                    ).then(function(){\n",
       "                            \n",
       "var gd = document.getElementById('34829023-e20d-4a33-ad01-ca8d1e2c986b');\n",
       "var x = new MutationObserver(function (mutations, observer) {{\n",
       "        var display = window.getComputedStyle(gd).display;\n",
       "        if (!display || display === 'none') {{\n",
       "            console.log([gd, 'removed!']);\n",
       "            Plotly.purge(gd);\n",
       "            observer.disconnect();\n",
       "        }}\n",
       "}});\n",
       "\n",
       "// Listen for the removal of the full notebook cells\n",
       "var notebookContainer = gd.closest('#notebook-container');\n",
       "if (notebookContainer) {{\n",
       "    x.observe(notebookContainer, {childList: true});\n",
       "}}\n",
       "\n",
       "// Listen for the clearing of the current output cell\n",
       "var outputEl = gd.closest('.output');\n",
       "if (outputEl) {{\n",
       "    x.observe(outputEl, {childList: true});\n",
       "}}\n",
       "\n",
       "                        })                };                });            </script>        </div>"
      ]
     },
     "metadata": {},
     "output_type": "display_data"
    }
   ],
   "source": [
    "topic_model.visualize_topics_over_time(topics_over_time, top_n_topics=5)\n"
   ]
  },
  {
   "cell_type": "code",
   "execution_count": 154,
   "metadata": {},
   "outputs": [
    {
     "data": {
      "text/plain": [
       "['-1_government_system_like',\n",
       " '0_government_story_new',\n",
       " '1_bad_world_changed',\n",
       " '2_call_use_network',\n",
       " '3_office_information_system',\n",
       " '4_working_agency_building',\n",
       " '5_understand_think_many',\n",
       " '6_go_back_going',\n",
       " '7_remember_forget_matter',\n",
       " '8_right_wrong_exactly',\n",
       " '9_public_across_happening',\n",
       " '10_book_read_lot',\n",
       " '11_stay_make_need',\n",
       " '12_president_administration_power',\n",
       " '13_see_talking_might',\n",
       " '14_law_court_legal',\n",
       " '15_thing_new_funny',\n",
       " '16_okay_sorry_well',\n",
       " '17_happened_happening_never',\n",
       " '18_court_defense_even',\n",
       " '19___',\n",
       " '20_end_call_go',\n",
       " '21_intelligence_community_sort',\n",
       " '22_got_take_put',\n",
       " '23_say_done_said',\n",
       " '24_talk_nobody_talking',\n",
       " '25_answer_know_fact',\n",
       " '26_guy_want say_top',\n",
       " '27_good_man_pretty',\n",
       " '28_year_month_long time',\n",
       " '29_program_unless_access',\n",
       " '30_house_hit_today',\n",
       " '31_record_company_permanent',\n",
       " '32_exactly_yeah_always',\n",
       " '33_google_internet_could see']"
      ]
     },
     "execution_count": 154,
     "metadata": {},
     "output_type": "execute_result"
    }
   ],
   "source": [
    "topic_model.generate_topic_labels()"
   ]
  },
  {
   "cell_type": "code",
   "execution_count": 105,
   "metadata": {},
   "outputs": [
    {
     "data": {
      "text/plain": [
       "[('think', 0.21057979951448294),\n",
       " ('like', 0.14080845073486772),\n",
       " ('go', 0.12430413138397448),\n",
       " ('good', 0.11233035516129458),\n",
       " ('long', 0.09362489792867251),\n",
       " ('time', 0.08702623295152322),\n",
       " ('look', 0.06986673962613954),\n",
       " ('way', 0.06057086750213187),\n",
       " ('kind', 0.060434014892468677),\n",
       " ('people', 0.05905976052509297)]"
      ]
     },
     "execution_count": 105,
     "metadata": {},
     "output_type": "execute_result"
    }
   ],
   "source": [
    "topic_model.get_topics()[3]"
   ]
  },
  {
   "cell_type": "code",
   "execution_count": 107,
   "metadata": {},
   "outputs": [
    {
     "name": "stderr",
     "output_type": "stream",
     "text": [
      "100%|██████████| 4/4 [00:00<00:00, 190.29it/s]\n"
     ]
    }
   ],
   "source": [
    "hierarchical_topics = topic_model.hierarchical_topics(sentences_clean, topics)"
   ]
  },
  {
   "cell_type": "code",
   "execution_count": 257,
   "metadata": {},
   "outputs": [
    {
     "data": {
      "application/vnd.plotly.v1+json": {
       "config": {
        "plotlyServerURL": "https://plot.ly"
       },
       "data": [
        {
         "hoverinfo": "text",
         "marker": {
          "color": "rgb(61,153,112)"
         },
         "mode": "lines",
         "text": [
          "legal_case_program_supposed_forward",
          "",
          "",
          "government_sort_start_security_worked"
         ],
         "type": "scatter",
         "x": [
          0,
          0.6544195086721154,
          0.6544195086721154,
          0
         ],
         "xaxis": "x",
         "y": [
          -5,
          -5,
          -15,
          -15
         ],
         "yaxis": "y"
        },
        {
         "hoverinfo": "text",
         "marker": {
          "color": "rgb(255,65,54)"
         },
         "mode": "lines",
         "text": [
          "president_house_today_got_united state",
          "",
          "",
          "network_access_company_record_basis"
         ],
         "type": "scatter",
         "x": [
          0,
          0.976835661533238,
          0.976835661533238,
          0
         ],
         "xaxis": "x",
         "y": [
          -25,
          -25,
          -35,
          -35
         ],
         "yaxis": "y"
        },
        {
         "hoverinfo": "text",
         "marker": {
          "color": "rgb(0,116,217)"
         },
         "mode": "lines",
         "text": [
          "president_house_today_got_united state",
          "",
          "",
          "network_access_company_record_basis"
         ],
         "type": "scatter",
         "x": [
          0.6544195086721154,
          1.261209285643005,
          1.261209285643005,
          0.976835661533238
         ],
         "xaxis": "x",
         "y": [
          -10,
          -10,
          -30,
          -30
         ],
         "yaxis": "y"
        },
        {
         "hoverinfo": "text",
         "marker": {
          "color": "rgb(0,116,217)"
         },
         "mode": "lines",
         "text": [
          "work_company_happens_office_day",
          "",
          "",
          "sort_history_want say_clear_idea"
         ],
         "type": "scatter",
         "x": [
          0,
          1.1254671943952381,
          1.1254671943952381,
          0
         ],
         "xaxis": "x",
         "y": [
          -55,
          -55,
          -65,
          -65
         ],
         "yaxis": "y"
        },
        {
         "hoverinfo": "text",
         "marker": {
          "color": "rgb(0,116,217)"
         },
         "mode": "lines",
         "text": [
          "program_unless_access_word_need",
          "",
          "",
          "sort_history_want say_clear_idea"
         ],
         "type": "scatter",
         "x": [
          0,
          1.3535318083497314,
          1.3535318083497314,
          1.1254671943952381
         ],
         "xaxis": "x",
         "y": [
          -45,
          -45,
          -60,
          -60
         ],
         "yaxis": "y"
        },
        {
         "hoverinfo": "text",
         "marker": {
          "color": "rgb(0,116,217)"
         },
         "mode": "lines",
         "text": [
          "happening_kind_time_actively_chance",
          "",
          "",
          "people_instead_actively_told_wrong"
         ],
         "type": "scatter",
         "x": [
          0,
          1.2979337951067937,
          1.2979337951067937,
          0
         ],
         "xaxis": "x",
         "y": [
          -75,
          -75,
          -85,
          -85
         ],
         "yaxis": "y"
        },
        {
         "hoverinfo": "text",
         "marker": {
          "color": "rgb(0,116,217)"
         },
         "mode": "lines",
         "text": [
          "service_bad_group_today_talked",
          "",
          "",
          "security_network_believe_work_united state"
         ],
         "type": "scatter",
         "x": [
          0,
          1.2269304678551471,
          1.2269304678551471,
          0
         ],
         "xaxis": "x",
         "y": [
          -95,
          -95,
          -105,
          -105
         ],
         "yaxis": "y"
        },
        {
         "hoverinfo": "text",
         "marker": {
          "color": "rgb(0,116,217)"
         },
         "mode": "lines",
         "text": [
          "service_bad_group_today_talked",
          "",
          "",
          "security_network_believe_work_united state"
         ],
         "type": "scatter",
         "x": [
          1.2979337951067937,
          1.389160592663106,
          1.389160592663106,
          1.2269304678551471
         ],
         "xaxis": "x",
         "y": [
          -80,
          -80,
          -100,
          -100
         ],
         "yaxis": "y"
        },
        {
         "hoverinfo": "text",
         "marker": {
          "color": "rgb(0,116,217)"
         },
         "mode": "lines",
         "text": [
          "service_bad_group_today_talked",
          "",
          "",
          "security_network_believe_work_united state"
         ],
         "type": "scatter",
         "x": [
          1.3535318083497314,
          1.4372912851952833,
          1.4372912851952833,
          1.389160592663106
         ],
         "xaxis": "x",
         "y": [
          -52.5,
          -52.5,
          -90,
          -90
         ],
         "yaxis": "y"
        },
        {
         "hoverinfo": "text",
         "marker": {
          "color": "rgb(0,116,217)"
         },
         "mode": "lines",
         "text": [
          "think_changed_look_case_end",
          "",
          "",
          "body_good_pretty_man_job"
         ],
         "type": "scatter",
         "x": [
          0,
          1.1046637790733855,
          1.1046637790733855,
          0
         ],
         "xaxis": "x",
         "y": [
          -115,
          -115,
          -125,
          -125
         ],
         "yaxis": "y"
        },
        {
         "hoverinfo": "text",
         "marker": {
          "color": "rgb(0,116,217)"
         },
         "mode": "lines",
         "text": [
          "think_changed_look_case_end",
          "",
          "",
          "body_good_pretty_man_job"
         ],
         "type": "scatter",
         "x": [
          1.4372912851952833,
          1.663508642848106,
          1.663508642848106,
          1.1046637790733855
         ],
         "xaxis": "x",
         "y": [
          -71.25,
          -71.25,
          -120,
          -120
         ],
         "yaxis": "y"
        },
        {
         "hoverinfo": "text",
         "marker": {
          "color": "rgb(0,116,217)"
         },
         "mode": "lines",
         "text": [
          "right_yeah_wrong_supposed_maybe",
          "",
          "",
          "maybe_matter_knew_forward_world"
         ],
         "type": "scatter",
         "x": [
          0,
          1.2169013646332738,
          1.2169013646332738,
          0
         ],
         "xaxis": "x",
         "y": [
          -155,
          -155,
          -165,
          -165
         ],
         "yaxis": "y"
        },
        {
         "hoverinfo": "text",
         "marker": {
          "color": "rgb(0,116,217)"
         },
         "mode": "lines",
         "text": [
          "say_said_told_great_maybe",
          "",
          "",
          "maybe_matter_knew_forward_world"
         ],
         "type": "scatter",
         "x": [
          0,
          1.2669218267576723,
          1.2669218267576723,
          1.2169013646332738
         ],
         "xaxis": "x",
         "y": [
          -145,
          -145,
          -160,
          -160
         ],
         "yaxis": "y"
        },
        {
         "hoverinfo": "text",
         "marker": {
          "color": "rgb(0,116,217)"
         },
         "mode": "lines",
         "text": [
          "____",
          "",
          "",
          "okay_sorry_sure_completely_good"
         ],
         "type": "scatter",
         "x": [
          0,
          1.0455622482667852,
          1.0455622482667852,
          0
         ],
         "xaxis": "x",
         "y": [
          -175,
          -175,
          -185,
          -185
         ],
         "yaxis": "y"
        },
        {
         "hoverinfo": "text",
         "marker": {
          "color": "rgb(0,116,217)"
         },
         "mode": "lines",
         "text": [
          "____",
          "",
          "",
          "okay_sorry_sure_completely_good"
         ],
         "type": "scatter",
         "x": [
          1.2669218267576723,
          1.361212516991278,
          1.361212516991278,
          1.0455622482667852
         ],
         "xaxis": "x",
         "y": [
          -152.5,
          -152.5,
          -180,
          -180
         ],
         "yaxis": "y"
        },
        {
         "hoverinfo": "text",
         "marker": {
          "color": "rgb(0,116,217)"
         },
         "mode": "lines",
         "text": [
          "guy_want say_place_end_problem",
          "",
          "",
          "okay_sorry_sure_completely_good"
         ],
         "type": "scatter",
         "x": [
          0,
          1.3668264403296984,
          1.3668264403296984,
          1.361212516991278
         ],
         "xaxis": "x",
         "y": [
          -135,
          -135,
          -166.25,
          -166.25
         ],
         "yaxis": "y"
        },
        {
         "hoverinfo": "text",
         "marker": {
          "color": "rgb(0,116,217)"
         },
         "mode": "lines",
         "text": [
          "reason_beginning_big_suddenly_lot people",
          "",
          "",
          "american_make_lost_suddenly_moment"
         ],
         "type": "scatter",
         "x": [
          0,
          1.142880223512008,
          1.142880223512008,
          0
         ],
         "xaxis": "x",
         "y": [
          -195,
          -195,
          -205,
          -205
         ],
         "yaxis": "y"
        },
        {
         "hoverinfo": "text",
         "marker": {
          "color": "rgb(0,116,217)"
         },
         "mode": "lines",
         "text": [
          "post_story_lost_read_maybe",
          "",
          "",
          "journalist_story_context_case_public"
         ],
         "type": "scatter",
         "x": [
          0,
          1.1883619861464807,
          1.1883619861464807,
          0
         ],
         "xaxis": "x",
         "y": [
          -215,
          -215,
          -225,
          -225
         ],
         "yaxis": "y"
        },
        {
         "hoverinfo": "text",
         "marker": {
          "color": "rgb(0,116,217)"
         },
         "mode": "lines",
         "text": [
          "book_read_history_permanent_internet",
          "",
          "",
          "record_permanent_warrant_wanted_called"
         ],
         "type": "scatter",
         "x": [
          0,
          1.2828973330507678,
          1.2828973330507678,
          0
         ],
         "xaxis": "x",
         "y": [
          -235,
          -235,
          -245,
          -245
         ],
         "yaxis": "y"
        },
        {
         "hoverinfo": "text",
         "marker": {
          "color": "rgb(0,116,217)"
         },
         "mode": "lines",
         "text": [
          "book_read_history_permanent_internet",
          "",
          "",
          "record_permanent_warrant_wanted_called"
         ],
         "type": "scatter",
         "x": [
          1.1883619861464807,
          1.4938718821891948,
          1.4938718821891948,
          1.2828973330507678
         ],
         "xaxis": "x",
         "y": [
          -220,
          -220,
          -240,
          -240
         ],
         "yaxis": "y"
        },
        {
         "hoverinfo": "text",
         "marker": {
          "color": "rgb(0,116,217)"
         },
         "mode": "lines",
         "text": [
          "book_read_history_permanent_internet",
          "",
          "",
          "record_permanent_warrant_wanted_called"
         ],
         "type": "scatter",
         "x": [
          1.142880223512008,
          1.5174266224414028,
          1.5174266224414028,
          1.4938718821891948
         ],
         "xaxis": "x",
         "y": [
          -200,
          -200,
          -230,
          -230
         ],
         "yaxis": "y"
        },
        {
         "hoverinfo": "text",
         "marker": {
          "color": "rgb(0,116,217)"
         },
         "mode": "lines",
         "text": [
          "book_read_history_permanent_internet",
          "",
          "",
          "record_permanent_warrant_wanted_called"
         ],
         "type": "scatter",
         "x": [
          1.3668264403296984,
          1.6304814526291045,
          1.6304814526291045,
          1.5174266224414028
         ],
         "xaxis": "x",
         "y": [
          -150.625,
          -150.625,
          -215,
          -215
         ],
         "yaxis": "y"
        },
        {
         "hoverinfo": "text",
         "marker": {
          "color": "rgb(0,116,217)"
         },
         "mode": "lines",
         "text": [
          "book_read_history_permanent_internet",
          "",
          "",
          "record_permanent_warrant_wanted_called"
         ],
         "type": "scatter",
         "x": [
          1.663508642848106,
          1.8110737890338984,
          1.8110737890338984,
          1.6304814526291045
         ],
         "xaxis": "x",
         "y": [
          -95.625,
          -95.625,
          -182.8125,
          -182.8125
         ],
         "yaxis": "y"
        },
        {
         "hoverinfo": "text",
         "marker": {
          "color": "rgb(35,205,205)"
         },
         "mode": "lines",
         "text": [
          "google_talk_internet_want able_anybody",
          "",
          "",
          "google_allowed_anymore_know_lot people"
         ],
         "type": "scatter",
         "x": [
          0,
          0.93835642841113,
          0.93835642841113,
          0
         ],
         "xaxis": "x",
         "y": [
          -255,
          -255,
          -265,
          -265
         ],
         "yaxis": "y"
        },
        {
         "hoverinfo": "text",
         "marker": {
          "color": "rgb(0,116,217)"
         },
         "mode": "lines",
         "text": [
          "google_talk_internet_want able_anybody",
          "",
          "",
          "google_allowed_anymore_know_lot people"
         ],
         "type": "scatter",
         "x": [
          1.8110737890338984,
          1.8399670849058078,
          1.8399670849058078,
          0.93835642841113
         ],
         "xaxis": "x",
         "y": [
          -139.21875,
          -139.21875,
          -260,
          -260
         ],
         "yaxis": "y"
        },
        {
         "hoverinfo": "text",
         "marker": {
          "color": "rgb(0,116,217)"
         },
         "mode": "lines",
         "text": [
          "public_bad_mean_basis_simply",
          "",
          "",
          "turn_happy_took_bring_later"
         ],
         "type": "scatter",
         "x": [
          0,
          1.150318380219736,
          1.150318380219736,
          0
         ],
         "xaxis": "x",
         "y": [
          -275,
          -275,
          -285,
          -285
         ],
         "yaxis": "y"
        },
        {
         "hoverinfo": "text",
         "marker": {
          "color": "rgb(0,116,217)"
         },
         "mode": "lines",
         "text": [
          "listening_worst_right got_context_permanent",
          "",
          "",
          "running_building_moment_day_like"
         ],
         "type": "scatter",
         "x": [
          0,
          1.1293692399557835,
          1.1293692399557835,
          0
         ],
         "xaxis": "x",
         "y": [
          -295,
          -295,
          -305,
          -305
         ],
         "yaxis": "y"
        },
        {
         "hoverinfo": "text",
         "marker": {
          "color": "rgb(0,116,217)"
         },
         "mode": "lines",
         "text": [
          "listening_worst_right got_context_permanent",
          "",
          "",
          "running_building_moment_day_like"
         ],
         "type": "scatter",
         "x": [
          1.150318380219736,
          1.4055474448730614,
          1.4055474448730614,
          1.1293692399557835
         ],
         "xaxis": "x",
         "y": [
          -280,
          -280,
          -300,
          -300
         ],
         "yaxis": "y"
        },
        {
         "hoverinfo": "text",
         "marker": {
          "color": "rgb(0,116,217)"
         },
         "mode": "lines",
         "text": [
          "end_sign_got_couple_program",
          "",
          "",
          "month_le_change_year year_probably"
         ],
         "type": "scatter",
         "x": [
          0,
          1.0437810297607186,
          1.0437810297607186,
          0
         ],
         "xaxis": "x",
         "y": [
          -325,
          -325,
          -335,
          -335
         ],
         "yaxis": "y"
        },
        {
         "hoverinfo": "text",
         "marker": {
          "color": "rgb(0,116,217)"
         },
         "mode": "lines",
         "text": [
          "like_couple_warrant_listening_talked",
          "",
          "",
          "month_le_change_year year_probably"
         ],
         "type": "scatter",
         "x": [
          0,
          1.2393833284644709,
          1.2393833284644709,
          1.0437810297607186
         ],
         "xaxis": "x",
         "y": [
          -315,
          -315,
          -330,
          -330
         ],
         "yaxis": "y"
        },
        {
         "hoverinfo": "text",
         "marker": {
          "color": "rgb(0,116,217)"
         },
         "mode": "lines",
         "text": [
          "like_couple_warrant_listening_talked",
          "",
          "",
          "month_le_change_year year_probably"
         ],
         "type": "scatter",
         "x": [
          1.4055474448730614,
          1.580381296611684,
          1.580381296611684,
          1.2393833284644709
         ],
         "xaxis": "x",
         "y": [
          -290,
          -290,
          -322.5,
          -322.5
         ],
         "yaxis": "y"
        },
        {
         "hoverinfo": "text",
         "marker": {
          "color": "rgb(0,116,217)"
         },
         "mode": "lines",
         "text": [
          "like_couple_warrant_listening_talked",
          "",
          "",
          "month_le_change_year year_probably"
         ],
         "type": "scatter",
         "x": [
          1.8399670849058078,
          1.9094288633172598,
          1.9094288633172598,
          1.580381296611684
         ],
         "xaxis": "x",
         "y": [
          -199.609375,
          -199.609375,
          -306.25,
          -306.25
         ],
         "yaxis": "y"
        },
        {
         "hoverinfo": "text",
         "marker": {
          "color": "rgb(0,116,217)"
         },
         "mode": "lines",
         "text": [
          "like_couple_warrant_listening_talked",
          "",
          "",
          "month_le_change_year year_probably"
         ],
         "type": "scatter",
         "x": [
          1.261209285643005,
          2.3993107607194437,
          2.3993107607194437,
          1.9094288633172598
         ],
         "xaxis": "x",
         "y": [
          -20,
          -20,
          -252.9296875,
          -252.9296875
         ],
         "yaxis": "y"
        },
        {
         "hoverinfo": "text",
         "hovertext": [
          "president_house_today_got_united state",
          "service_bad_group_today_talked",
          "service_bad_group_today_talked",
          "think_changed_look_case_end",
          "____",
          "book_read_history_permanent_internet",
          "book_read_history_permanent_internet",
          "book_read_history_permanent_internet",
          "book_read_history_permanent_internet",
          "google_talk_internet_want able_anybody",
          "listening_worst_right got_context_permanent",
          "like_couple_warrant_listening_talked",
          "like_couple_warrant_listening_talked",
          "like_couple_warrant_listening_talked"
         ],
         "marker": {
          "color": "black"
         },
         "mode": "markers",
         "showlegend": false,
         "type": "scatter",
         "x": [
          0.6544195086721154,
          1.2979337951067937,
          1.3535318083497314,
          1.4372912851952833,
          1.2669218267576723,
          1.1883619861464807,
          1.142880223512008,
          1.3668264403296984,
          1.663508642848106,
          1.8110737890338984,
          1.150318380219736,
          1.4055474448730614,
          1.8399670849058078,
          1.261209285643005
         ],
         "y": [
          -10,
          -80,
          -52.5,
          -71.25,
          -152.5,
          -220,
          -200,
          -150.625,
          -95.625,
          -139.21875,
          -280,
          -290,
          -199.609375,
          -20
         ]
        },
        {
         "hoverinfo": "text",
         "hovertext": [
          "network_access_company_record_basis",
          "sort_history_want say_clear_idea",
          "security_network_believe_work_united state",
          "security_network_believe_work_united state",
          "body_good_pretty_man_job",
          "maybe_matter_knew_forward_world",
          "okay_sorry_sure_completely_good",
          "okay_sorry_sure_completely_good",
          "record_permanent_warrant_wanted_called",
          "record_permanent_warrant_wanted_called",
          "record_permanent_warrant_wanted_called",
          "record_permanent_warrant_wanted_called",
          "google_allowed_anymore_know_lot people",
          "running_building_moment_day_like",
          "month_le_change_year year_probably",
          "month_le_change_year year_probably",
          "month_le_change_year year_probably",
          "month_le_change_year year_probably"
         ],
         "marker": {
          "color": "black"
         },
         "mode": "markers",
         "showlegend": false,
         "type": "scatter",
         "x": [
          0.976835661533238,
          1.1254671943952381,
          1.2269304678551471,
          1.389160592663106,
          1.1046637790733855,
          1.2169013646332738,
          1.0455622482667852,
          1.361212516991278,
          1.2828973330507678,
          1.4938718821891948,
          1.5174266224414028,
          1.6304814526291045,
          0.93835642841113,
          1.1293692399557835,
          1.0437810297607186,
          1.2393833284644709,
          1.580381296611684,
          1.9094288633172598
         ],
         "y": [
          -30,
          -60,
          -100,
          -90,
          -120,
          -160,
          -180,
          -166.25,
          -240,
          -230,
          -215,
          -182.8125,
          -260,
          -300,
          -330,
          -322.5,
          -306.25,
          -252.9296875
         ]
        }
       ],
       "layout": {
        "autosize": false,
        "height": 710,
        "hoverlabel": {
         "bgcolor": "white",
         "font": {
          "family": "Rockwell",
          "size": 16
         }
        },
        "hovermode": "closest",
        "plot_bgcolor": "#ECEFF1",
        "showlegend": false,
        "template": {
         "data": {
          "bar": [
           {
            "error_x": {
             "color": "#2a3f5f"
            },
            "error_y": {
             "color": "#2a3f5f"
            },
            "marker": {
             "line": {
              "color": "white",
              "width": 0.5
             },
             "pattern": {
              "fillmode": "overlay",
              "size": 10,
              "solidity": 0.2
             }
            },
            "type": "bar"
           }
          ],
          "barpolar": [
           {
            "marker": {
             "line": {
              "color": "white",
              "width": 0.5
             },
             "pattern": {
              "fillmode": "overlay",
              "size": 10,
              "solidity": 0.2
             }
            },
            "type": "barpolar"
           }
          ],
          "carpet": [
           {
            "aaxis": {
             "endlinecolor": "#2a3f5f",
             "gridcolor": "#C8D4E3",
             "linecolor": "#C8D4E3",
             "minorgridcolor": "#C8D4E3",
             "startlinecolor": "#2a3f5f"
            },
            "baxis": {
             "endlinecolor": "#2a3f5f",
             "gridcolor": "#C8D4E3",
             "linecolor": "#C8D4E3",
             "minorgridcolor": "#C8D4E3",
             "startlinecolor": "#2a3f5f"
            },
            "type": "carpet"
           }
          ],
          "choropleth": [
           {
            "colorbar": {
             "outlinewidth": 0,
             "ticks": ""
            },
            "type": "choropleth"
           }
          ],
          "contour": [
           {
            "colorbar": {
             "outlinewidth": 0,
             "ticks": ""
            },
            "colorscale": [
             [
              0,
              "#0d0887"
             ],
             [
              0.1111111111111111,
              "#46039f"
             ],
             [
              0.2222222222222222,
              "#7201a8"
             ],
             [
              0.3333333333333333,
              "#9c179e"
             ],
             [
              0.4444444444444444,
              "#bd3786"
             ],
             [
              0.5555555555555556,
              "#d8576b"
             ],
             [
              0.6666666666666666,
              "#ed7953"
             ],
             [
              0.7777777777777778,
              "#fb9f3a"
             ],
             [
              0.8888888888888888,
              "#fdca26"
             ],
             [
              1,
              "#f0f921"
             ]
            ],
            "type": "contour"
           }
          ],
          "contourcarpet": [
           {
            "colorbar": {
             "outlinewidth": 0,
             "ticks": ""
            },
            "type": "contourcarpet"
           }
          ],
          "heatmap": [
           {
            "colorbar": {
             "outlinewidth": 0,
             "ticks": ""
            },
            "colorscale": [
             [
              0,
              "#0d0887"
             ],
             [
              0.1111111111111111,
              "#46039f"
             ],
             [
              0.2222222222222222,
              "#7201a8"
             ],
             [
              0.3333333333333333,
              "#9c179e"
             ],
             [
              0.4444444444444444,
              "#bd3786"
             ],
             [
              0.5555555555555556,
              "#d8576b"
             ],
             [
              0.6666666666666666,
              "#ed7953"
             ],
             [
              0.7777777777777778,
              "#fb9f3a"
             ],
             [
              0.8888888888888888,
              "#fdca26"
             ],
             [
              1,
              "#f0f921"
             ]
            ],
            "type": "heatmap"
           }
          ],
          "heatmapgl": [
           {
            "colorbar": {
             "outlinewidth": 0,
             "ticks": ""
            },
            "colorscale": [
             [
              0,
              "#0d0887"
             ],
             [
              0.1111111111111111,
              "#46039f"
             ],
             [
              0.2222222222222222,
              "#7201a8"
             ],
             [
              0.3333333333333333,
              "#9c179e"
             ],
             [
              0.4444444444444444,
              "#bd3786"
             ],
             [
              0.5555555555555556,
              "#d8576b"
             ],
             [
              0.6666666666666666,
              "#ed7953"
             ],
             [
              0.7777777777777778,
              "#fb9f3a"
             ],
             [
              0.8888888888888888,
              "#fdca26"
             ],
             [
              1,
              "#f0f921"
             ]
            ],
            "type": "heatmapgl"
           }
          ],
          "histogram": [
           {
            "marker": {
             "pattern": {
              "fillmode": "overlay",
              "size": 10,
              "solidity": 0.2
             }
            },
            "type": "histogram"
           }
          ],
          "histogram2d": [
           {
            "colorbar": {
             "outlinewidth": 0,
             "ticks": ""
            },
            "colorscale": [
             [
              0,
              "#0d0887"
             ],
             [
              0.1111111111111111,
              "#46039f"
             ],
             [
              0.2222222222222222,
              "#7201a8"
             ],
             [
              0.3333333333333333,
              "#9c179e"
             ],
             [
              0.4444444444444444,
              "#bd3786"
             ],
             [
              0.5555555555555556,
              "#d8576b"
             ],
             [
              0.6666666666666666,
              "#ed7953"
             ],
             [
              0.7777777777777778,
              "#fb9f3a"
             ],
             [
              0.8888888888888888,
              "#fdca26"
             ],
             [
              1,
              "#f0f921"
             ]
            ],
            "type": "histogram2d"
           }
          ],
          "histogram2dcontour": [
           {
            "colorbar": {
             "outlinewidth": 0,
             "ticks": ""
            },
            "colorscale": [
             [
              0,
              "#0d0887"
             ],
             [
              0.1111111111111111,
              "#46039f"
             ],
             [
              0.2222222222222222,
              "#7201a8"
             ],
             [
              0.3333333333333333,
              "#9c179e"
             ],
             [
              0.4444444444444444,
              "#bd3786"
             ],
             [
              0.5555555555555556,
              "#d8576b"
             ],
             [
              0.6666666666666666,
              "#ed7953"
             ],
             [
              0.7777777777777778,
              "#fb9f3a"
             ],
             [
              0.8888888888888888,
              "#fdca26"
             ],
             [
              1,
              "#f0f921"
             ]
            ],
            "type": "histogram2dcontour"
           }
          ],
          "mesh3d": [
           {
            "colorbar": {
             "outlinewidth": 0,
             "ticks": ""
            },
            "type": "mesh3d"
           }
          ],
          "parcoords": [
           {
            "line": {
             "colorbar": {
              "outlinewidth": 0,
              "ticks": ""
             }
            },
            "type": "parcoords"
           }
          ],
          "pie": [
           {
            "automargin": true,
            "type": "pie"
           }
          ],
          "scatter": [
           {
            "fillpattern": {
             "fillmode": "overlay",
             "size": 10,
             "solidity": 0.2
            },
            "type": "scatter"
           }
          ],
          "scatter3d": [
           {
            "line": {
             "colorbar": {
              "outlinewidth": 0,
              "ticks": ""
             }
            },
            "marker": {
             "colorbar": {
              "outlinewidth": 0,
              "ticks": ""
             }
            },
            "type": "scatter3d"
           }
          ],
          "scattercarpet": [
           {
            "marker": {
             "colorbar": {
              "outlinewidth": 0,
              "ticks": ""
             }
            },
            "type": "scattercarpet"
           }
          ],
          "scattergeo": [
           {
            "marker": {
             "colorbar": {
              "outlinewidth": 0,
              "ticks": ""
             }
            },
            "type": "scattergeo"
           }
          ],
          "scattergl": [
           {
            "marker": {
             "colorbar": {
              "outlinewidth": 0,
              "ticks": ""
             }
            },
            "type": "scattergl"
           }
          ],
          "scattermapbox": [
           {
            "marker": {
             "colorbar": {
              "outlinewidth": 0,
              "ticks": ""
             }
            },
            "type": "scattermapbox"
           }
          ],
          "scatterpolar": [
           {
            "marker": {
             "colorbar": {
              "outlinewidth": 0,
              "ticks": ""
             }
            },
            "type": "scatterpolar"
           }
          ],
          "scatterpolargl": [
           {
            "marker": {
             "colorbar": {
              "outlinewidth": 0,
              "ticks": ""
             }
            },
            "type": "scatterpolargl"
           }
          ],
          "scatterternary": [
           {
            "marker": {
             "colorbar": {
              "outlinewidth": 0,
              "ticks": ""
             }
            },
            "type": "scatterternary"
           }
          ],
          "surface": [
           {
            "colorbar": {
             "outlinewidth": 0,
             "ticks": ""
            },
            "colorscale": [
             [
              0,
              "#0d0887"
             ],
             [
              0.1111111111111111,
              "#46039f"
             ],
             [
              0.2222222222222222,
              "#7201a8"
             ],
             [
              0.3333333333333333,
              "#9c179e"
             ],
             [
              0.4444444444444444,
              "#bd3786"
             ],
             [
              0.5555555555555556,
              "#d8576b"
             ],
             [
              0.6666666666666666,
              "#ed7953"
             ],
             [
              0.7777777777777778,
              "#fb9f3a"
             ],
             [
              0.8888888888888888,
              "#fdca26"
             ],
             [
              1,
              "#f0f921"
             ]
            ],
            "type": "surface"
           }
          ],
          "table": [
           {
            "cells": {
             "fill": {
              "color": "#EBF0F8"
             },
             "line": {
              "color": "white"
             }
            },
            "header": {
             "fill": {
              "color": "#C8D4E3"
             },
             "line": {
              "color": "white"
             }
            },
            "type": "table"
           }
          ]
         },
         "layout": {
          "annotationdefaults": {
           "arrowcolor": "#2a3f5f",
           "arrowhead": 0,
           "arrowwidth": 1
          },
          "autotypenumbers": "strict",
          "coloraxis": {
           "colorbar": {
            "outlinewidth": 0,
            "ticks": ""
           }
          },
          "colorscale": {
           "diverging": [
            [
             0,
             "#8e0152"
            ],
            [
             0.1,
             "#c51b7d"
            ],
            [
             0.2,
             "#de77ae"
            ],
            [
             0.3,
             "#f1b6da"
            ],
            [
             0.4,
             "#fde0ef"
            ],
            [
             0.5,
             "#f7f7f7"
            ],
            [
             0.6,
             "#e6f5d0"
            ],
            [
             0.7,
             "#b8e186"
            ],
            [
             0.8,
             "#7fbc41"
            ],
            [
             0.9,
             "#4d9221"
            ],
            [
             1,
             "#276419"
            ]
           ],
           "sequential": [
            [
             0,
             "#0d0887"
            ],
            [
             0.1111111111111111,
             "#46039f"
            ],
            [
             0.2222222222222222,
             "#7201a8"
            ],
            [
             0.3333333333333333,
             "#9c179e"
            ],
            [
             0.4444444444444444,
             "#bd3786"
            ],
            [
             0.5555555555555556,
             "#d8576b"
            ],
            [
             0.6666666666666666,
             "#ed7953"
            ],
            [
             0.7777777777777778,
             "#fb9f3a"
            ],
            [
             0.8888888888888888,
             "#fdca26"
            ],
            [
             1,
             "#f0f921"
            ]
           ],
           "sequentialminus": [
            [
             0,
             "#0d0887"
            ],
            [
             0.1111111111111111,
             "#46039f"
            ],
            [
             0.2222222222222222,
             "#7201a8"
            ],
            [
             0.3333333333333333,
             "#9c179e"
            ],
            [
             0.4444444444444444,
             "#bd3786"
            ],
            [
             0.5555555555555556,
             "#d8576b"
            ],
            [
             0.6666666666666666,
             "#ed7953"
            ],
            [
             0.7777777777777778,
             "#fb9f3a"
            ],
            [
             0.8888888888888888,
             "#fdca26"
            ],
            [
             1,
             "#f0f921"
            ]
           ]
          },
          "colorway": [
           "#636efa",
           "#EF553B",
           "#00cc96",
           "#ab63fa",
           "#FFA15A",
           "#19d3f3",
           "#FF6692",
           "#B6E880",
           "#FF97FF",
           "#FECB52"
          ],
          "font": {
           "color": "#2a3f5f"
          },
          "geo": {
           "bgcolor": "white",
           "lakecolor": "white",
           "landcolor": "white",
           "showlakes": true,
           "showland": true,
           "subunitcolor": "#C8D4E3"
          },
          "hoverlabel": {
           "align": "left"
          },
          "hovermode": "closest",
          "mapbox": {
           "style": "light"
          },
          "paper_bgcolor": "white",
          "plot_bgcolor": "white",
          "polar": {
           "angularaxis": {
            "gridcolor": "#EBF0F8",
            "linecolor": "#EBF0F8",
            "ticks": ""
           },
           "bgcolor": "white",
           "radialaxis": {
            "gridcolor": "#EBF0F8",
            "linecolor": "#EBF0F8",
            "ticks": ""
           }
          },
          "scene": {
           "xaxis": {
            "backgroundcolor": "white",
            "gridcolor": "#DFE8F3",
            "gridwidth": 2,
            "linecolor": "#EBF0F8",
            "showbackground": true,
            "ticks": "",
            "zerolinecolor": "#EBF0F8"
           },
           "yaxis": {
            "backgroundcolor": "white",
            "gridcolor": "#DFE8F3",
            "gridwidth": 2,
            "linecolor": "#EBF0F8",
            "showbackground": true,
            "ticks": "",
            "zerolinecolor": "#EBF0F8"
           },
           "zaxis": {
            "backgroundcolor": "white",
            "gridcolor": "#DFE8F3",
            "gridwidth": 2,
            "linecolor": "#EBF0F8",
            "showbackground": true,
            "ticks": "",
            "zerolinecolor": "#EBF0F8"
           }
          },
          "shapedefaults": {
           "line": {
            "color": "#2a3f5f"
           }
          },
          "ternary": {
           "aaxis": {
            "gridcolor": "#DFE8F3",
            "linecolor": "#A2B1C6",
            "ticks": ""
           },
           "baxis": {
            "gridcolor": "#DFE8F3",
            "linecolor": "#A2B1C6",
            "ticks": ""
           },
           "bgcolor": "white",
           "caxis": {
            "gridcolor": "#DFE8F3",
            "linecolor": "#A2B1C6",
            "ticks": ""
           }
          },
          "title": {
           "x": 0.05
          },
          "xaxis": {
           "automargin": true,
           "gridcolor": "#EBF0F8",
           "linecolor": "#EBF0F8",
           "ticks": "",
           "title": {
            "standoff": 15
           },
           "zerolinecolor": "#EBF0F8",
           "zerolinewidth": 2
          },
          "yaxis": {
           "automargin": true,
           "gridcolor": "#EBF0F8",
           "linecolor": "#EBF0F8",
           "ticks": "",
           "title": {
            "standoff": 15
           },
           "zerolinecolor": "#EBF0F8",
           "zerolinewidth": 2
          }
         }
        },
        "title": {
         "font": {
          "color": "Black",
          "size": 22
         },
         "text": "<b>Hierarchical Clustering",
         "x": 0.5,
         "xanchor": "center",
         "yanchor": "top"
        },
        "width": 1000,
        "xaxis": {
         "mirror": "allticks",
         "rangemode": "tozero",
         "showgrid": false,
         "showline": true,
         "showticklabels": true,
         "ticks": "outside",
         "type": "linear",
         "zeroline": false
        },
        "yaxis": {
         "mirror": "allticks",
         "range": [
          -340,
          0
         ],
         "rangemode": "tozero",
         "showgrid": false,
         "showline": true,
         "showticklabels": true,
         "tickmode": "array",
         "ticks": "outside",
         "ticktext": [
          "2_legal_case_program",
          "0_government_sort_start",
          "1_president_house_today",
          "3_network_access_company",
          "33_program_unless_access",
          "20_work_company_happens",
          "17_sort_history_want say",
          "16_happening_kind_time",
          "28_people_instead_actively",
          "25_service_bad_group",
          "7_security_network_believe",
          "13_think_changed_look",
          "27_body_good_pretty",
          "21_guy_want say_place",
          "19_say_said_told",
          "5_right_yeah_wrong",
          "12_maybe_matter_knew",
          "14___",
          "11_okay_sorry_sure",
          "29_reason_beginning_big",
          "30_american_make_lost",
          "10_post_story_lost",
          "6_journalist_story_context",
          "8_book_read_history",
          "23_record_permanent_warrant",
          "32_google_talk_internet",
          "31_google_allowed_anymore",
          "18_public_bad_mean",
          "4_turn_happy_took",
          "24_listening_worst_right got",
          "9_running_building_moment",
          "22_like_couple_warrant",
          "15_end_sign_got",
          "26_month_le_change"
         ],
         "tickvals": [
          -5,
          -15,
          -25,
          -35,
          -45,
          -55,
          -65,
          -75,
          -85,
          -95,
          -105,
          -115,
          -125,
          -135,
          -145,
          -155,
          -165,
          -175,
          -185,
          -195,
          -205,
          -215,
          -225,
          -235,
          -245,
          -255,
          -265,
          -275,
          -285,
          -295,
          -305,
          -315,
          -325,
          -335
         ],
         "type": "linear",
         "zeroline": false
        }
       }
      },
      "text/html": [
       "<div>                            <div id=\"d310e578-1120-40da-b0fc-01a25ef7e25c\" class=\"plotly-graph-div\" style=\"height:710px; width:1000px;\"></div>            <script type=\"text/javascript\">                require([\"plotly\"], function(Plotly) {                    window.PLOTLYENV=window.PLOTLYENV || {};                                    if (document.getElementById(\"d310e578-1120-40da-b0fc-01a25ef7e25c\")) {                    Plotly.newPlot(                        \"d310e578-1120-40da-b0fc-01a25ef7e25c\",                        [{\"hoverinfo\":\"text\",\"marker\":{\"color\":\"rgb(61,153,112)\"},\"mode\":\"lines\",\"text\":[\"legal_case_program_supposed_forward\",\"\",\"\",\"government_sort_start_security_worked\"],\"x\":[0.0,0.6544195086721154,0.6544195086721154,0.0],\"xaxis\":\"x\",\"y\":[-5.0,-5.0,-15.0,-15.0],\"yaxis\":\"y\",\"type\":\"scatter\"},{\"hoverinfo\":\"text\",\"marker\":{\"color\":\"rgb(255,65,54)\"},\"mode\":\"lines\",\"text\":[\"president_house_today_got_united state\",\"\",\"\",\"network_access_company_record_basis\"],\"x\":[0.0,0.976835661533238,0.976835661533238,0.0],\"xaxis\":\"x\",\"y\":[-25.0,-25.0,-35.0,-35.0],\"yaxis\":\"y\",\"type\":\"scatter\"},{\"hoverinfo\":\"text\",\"marker\":{\"color\":\"rgb(0,116,217)\"},\"mode\":\"lines\",\"text\":[\"president_house_today_got_united state\",\"\",\"\",\"network_access_company_record_basis\"],\"x\":[0.6544195086721154,1.261209285643005,1.261209285643005,0.976835661533238],\"xaxis\":\"x\",\"y\":[-10.0,-10.0,-30.0,-30.0],\"yaxis\":\"y\",\"type\":\"scatter\"},{\"hoverinfo\":\"text\",\"marker\":{\"color\":\"rgb(0,116,217)\"},\"mode\":\"lines\",\"text\":[\"work_company_happens_office_day\",\"\",\"\",\"sort_history_want say_clear_idea\"],\"x\":[0.0,1.1254671943952381,1.1254671943952381,0.0],\"xaxis\":\"x\",\"y\":[-55.0,-55.0,-65.0,-65.0],\"yaxis\":\"y\",\"type\":\"scatter\"},{\"hoverinfo\":\"text\",\"marker\":{\"color\":\"rgb(0,116,217)\"},\"mode\":\"lines\",\"text\":[\"program_unless_access_word_need\",\"\",\"\",\"sort_history_want say_clear_idea\"],\"x\":[0.0,1.3535318083497314,1.3535318083497314,1.1254671943952381],\"xaxis\":\"x\",\"y\":[-45.0,-45.0,-60.0,-60.0],\"yaxis\":\"y\",\"type\":\"scatter\"},{\"hoverinfo\":\"text\",\"marker\":{\"color\":\"rgb(0,116,217)\"},\"mode\":\"lines\",\"text\":[\"happening_kind_time_actively_chance\",\"\",\"\",\"people_instead_actively_told_wrong\"],\"x\":[0.0,1.2979337951067937,1.2979337951067937,0.0],\"xaxis\":\"x\",\"y\":[-75.0,-75.0,-85.0,-85.0],\"yaxis\":\"y\",\"type\":\"scatter\"},{\"hoverinfo\":\"text\",\"marker\":{\"color\":\"rgb(0,116,217)\"},\"mode\":\"lines\",\"text\":[\"service_bad_group_today_talked\",\"\",\"\",\"security_network_believe_work_united state\"],\"x\":[0.0,1.2269304678551471,1.2269304678551471,0.0],\"xaxis\":\"x\",\"y\":[-95.0,-95.0,-105.0,-105.0],\"yaxis\":\"y\",\"type\":\"scatter\"},{\"hoverinfo\":\"text\",\"marker\":{\"color\":\"rgb(0,116,217)\"},\"mode\":\"lines\",\"text\":[\"service_bad_group_today_talked\",\"\",\"\",\"security_network_believe_work_united state\"],\"x\":[1.2979337951067937,1.389160592663106,1.389160592663106,1.2269304678551471],\"xaxis\":\"x\",\"y\":[-80.0,-80.0,-100.0,-100.0],\"yaxis\":\"y\",\"type\":\"scatter\"},{\"hoverinfo\":\"text\",\"marker\":{\"color\":\"rgb(0,116,217)\"},\"mode\":\"lines\",\"text\":[\"service_bad_group_today_talked\",\"\",\"\",\"security_network_believe_work_united state\"],\"x\":[1.3535318083497314,1.4372912851952833,1.4372912851952833,1.389160592663106],\"xaxis\":\"x\",\"y\":[-52.5,-52.5,-90.0,-90.0],\"yaxis\":\"y\",\"type\":\"scatter\"},{\"hoverinfo\":\"text\",\"marker\":{\"color\":\"rgb(0,116,217)\"},\"mode\":\"lines\",\"text\":[\"think_changed_look_case_end\",\"\",\"\",\"body_good_pretty_man_job\"],\"x\":[0.0,1.1046637790733855,1.1046637790733855,0.0],\"xaxis\":\"x\",\"y\":[-115.0,-115.0,-125.0,-125.0],\"yaxis\":\"y\",\"type\":\"scatter\"},{\"hoverinfo\":\"text\",\"marker\":{\"color\":\"rgb(0,116,217)\"},\"mode\":\"lines\",\"text\":[\"think_changed_look_case_end\",\"\",\"\",\"body_good_pretty_man_job\"],\"x\":[1.4372912851952833,1.663508642848106,1.663508642848106,1.1046637790733855],\"xaxis\":\"x\",\"y\":[-71.25,-71.25,-120.0,-120.0],\"yaxis\":\"y\",\"type\":\"scatter\"},{\"hoverinfo\":\"text\",\"marker\":{\"color\":\"rgb(0,116,217)\"},\"mode\":\"lines\",\"text\":[\"right_yeah_wrong_supposed_maybe\",\"\",\"\",\"maybe_matter_knew_forward_world\"],\"x\":[0.0,1.2169013646332738,1.2169013646332738,0.0],\"xaxis\":\"x\",\"y\":[-155.0,-155.0,-165.0,-165.0],\"yaxis\":\"y\",\"type\":\"scatter\"},{\"hoverinfo\":\"text\",\"marker\":{\"color\":\"rgb(0,116,217)\"},\"mode\":\"lines\",\"text\":[\"say_said_told_great_maybe\",\"\",\"\",\"maybe_matter_knew_forward_world\"],\"x\":[0.0,1.2669218267576723,1.2669218267576723,1.2169013646332738],\"xaxis\":\"x\",\"y\":[-145.0,-145.0,-160.0,-160.0],\"yaxis\":\"y\",\"type\":\"scatter\"},{\"hoverinfo\":\"text\",\"marker\":{\"color\":\"rgb(0,116,217)\"},\"mode\":\"lines\",\"text\":[\"____\",\"\",\"\",\"okay_sorry_sure_completely_good\"],\"x\":[0.0,1.0455622482667852,1.0455622482667852,0.0],\"xaxis\":\"x\",\"y\":[-175.0,-175.0,-185.0,-185.0],\"yaxis\":\"y\",\"type\":\"scatter\"},{\"hoverinfo\":\"text\",\"marker\":{\"color\":\"rgb(0,116,217)\"},\"mode\":\"lines\",\"text\":[\"____\",\"\",\"\",\"okay_sorry_sure_completely_good\"],\"x\":[1.2669218267576723,1.361212516991278,1.361212516991278,1.0455622482667852],\"xaxis\":\"x\",\"y\":[-152.5,-152.5,-180.0,-180.0],\"yaxis\":\"y\",\"type\":\"scatter\"},{\"hoverinfo\":\"text\",\"marker\":{\"color\":\"rgb(0,116,217)\"},\"mode\":\"lines\",\"text\":[\"guy_want say_place_end_problem\",\"\",\"\",\"okay_sorry_sure_completely_good\"],\"x\":[0.0,1.3668264403296984,1.3668264403296984,1.361212516991278],\"xaxis\":\"x\",\"y\":[-135.0,-135.0,-166.25,-166.25],\"yaxis\":\"y\",\"type\":\"scatter\"},{\"hoverinfo\":\"text\",\"marker\":{\"color\":\"rgb(0,116,217)\"},\"mode\":\"lines\",\"text\":[\"reason_beginning_big_suddenly_lot people\",\"\",\"\",\"american_make_lost_suddenly_moment\"],\"x\":[0.0,1.142880223512008,1.142880223512008,0.0],\"xaxis\":\"x\",\"y\":[-195.0,-195.0,-205.0,-205.0],\"yaxis\":\"y\",\"type\":\"scatter\"},{\"hoverinfo\":\"text\",\"marker\":{\"color\":\"rgb(0,116,217)\"},\"mode\":\"lines\",\"text\":[\"post_story_lost_read_maybe\",\"\",\"\",\"journalist_story_context_case_public\"],\"x\":[0.0,1.1883619861464807,1.1883619861464807,0.0],\"xaxis\":\"x\",\"y\":[-215.0,-215.0,-225.0,-225.0],\"yaxis\":\"y\",\"type\":\"scatter\"},{\"hoverinfo\":\"text\",\"marker\":{\"color\":\"rgb(0,116,217)\"},\"mode\":\"lines\",\"text\":[\"book_read_history_permanent_internet\",\"\",\"\",\"record_permanent_warrant_wanted_called\"],\"x\":[0.0,1.2828973330507678,1.2828973330507678,0.0],\"xaxis\":\"x\",\"y\":[-235.0,-235.0,-245.0,-245.0],\"yaxis\":\"y\",\"type\":\"scatter\"},{\"hoverinfo\":\"text\",\"marker\":{\"color\":\"rgb(0,116,217)\"},\"mode\":\"lines\",\"text\":[\"book_read_history_permanent_internet\",\"\",\"\",\"record_permanent_warrant_wanted_called\"],\"x\":[1.1883619861464807,1.4938718821891948,1.4938718821891948,1.2828973330507678],\"xaxis\":\"x\",\"y\":[-220.0,-220.0,-240.0,-240.0],\"yaxis\":\"y\",\"type\":\"scatter\"},{\"hoverinfo\":\"text\",\"marker\":{\"color\":\"rgb(0,116,217)\"},\"mode\":\"lines\",\"text\":[\"book_read_history_permanent_internet\",\"\",\"\",\"record_permanent_warrant_wanted_called\"],\"x\":[1.142880223512008,1.5174266224414028,1.5174266224414028,1.4938718821891948],\"xaxis\":\"x\",\"y\":[-200.0,-200.0,-230.0,-230.0],\"yaxis\":\"y\",\"type\":\"scatter\"},{\"hoverinfo\":\"text\",\"marker\":{\"color\":\"rgb(0,116,217)\"},\"mode\":\"lines\",\"text\":[\"book_read_history_permanent_internet\",\"\",\"\",\"record_permanent_warrant_wanted_called\"],\"x\":[1.3668264403296984,1.6304814526291045,1.6304814526291045,1.5174266224414028],\"xaxis\":\"x\",\"y\":[-150.625,-150.625,-215.0,-215.0],\"yaxis\":\"y\",\"type\":\"scatter\"},{\"hoverinfo\":\"text\",\"marker\":{\"color\":\"rgb(0,116,217)\"},\"mode\":\"lines\",\"text\":[\"book_read_history_permanent_internet\",\"\",\"\",\"record_permanent_warrant_wanted_called\"],\"x\":[1.663508642848106,1.8110737890338984,1.8110737890338984,1.6304814526291045],\"xaxis\":\"x\",\"y\":[-95.625,-95.625,-182.8125,-182.8125],\"yaxis\":\"y\",\"type\":\"scatter\"},{\"hoverinfo\":\"text\",\"marker\":{\"color\":\"rgb(35,205,205)\"},\"mode\":\"lines\",\"text\":[\"google_talk_internet_want able_anybody\",\"\",\"\",\"google_allowed_anymore_know_lot people\"],\"x\":[0.0,0.93835642841113,0.93835642841113,0.0],\"xaxis\":\"x\",\"y\":[-255.0,-255.0,-265.0,-265.0],\"yaxis\":\"y\",\"type\":\"scatter\"},{\"hoverinfo\":\"text\",\"marker\":{\"color\":\"rgb(0,116,217)\"},\"mode\":\"lines\",\"text\":[\"google_talk_internet_want able_anybody\",\"\",\"\",\"google_allowed_anymore_know_lot people\"],\"x\":[1.8110737890338984,1.8399670849058078,1.8399670849058078,0.93835642841113],\"xaxis\":\"x\",\"y\":[-139.21875,-139.21875,-260.0,-260.0],\"yaxis\":\"y\",\"type\":\"scatter\"},{\"hoverinfo\":\"text\",\"marker\":{\"color\":\"rgb(0,116,217)\"},\"mode\":\"lines\",\"text\":[\"public_bad_mean_basis_simply\",\"\",\"\",\"turn_happy_took_bring_later\"],\"x\":[0.0,1.150318380219736,1.150318380219736,0.0],\"xaxis\":\"x\",\"y\":[-275.0,-275.0,-285.0,-285.0],\"yaxis\":\"y\",\"type\":\"scatter\"},{\"hoverinfo\":\"text\",\"marker\":{\"color\":\"rgb(0,116,217)\"},\"mode\":\"lines\",\"text\":[\"listening_worst_right got_context_permanent\",\"\",\"\",\"running_building_moment_day_like\"],\"x\":[0.0,1.1293692399557835,1.1293692399557835,0.0],\"xaxis\":\"x\",\"y\":[-295.0,-295.0,-305.0,-305.0],\"yaxis\":\"y\",\"type\":\"scatter\"},{\"hoverinfo\":\"text\",\"marker\":{\"color\":\"rgb(0,116,217)\"},\"mode\":\"lines\",\"text\":[\"listening_worst_right got_context_permanent\",\"\",\"\",\"running_building_moment_day_like\"],\"x\":[1.150318380219736,1.4055474448730614,1.4055474448730614,1.1293692399557835],\"xaxis\":\"x\",\"y\":[-280.0,-280.0,-300.0,-300.0],\"yaxis\":\"y\",\"type\":\"scatter\"},{\"hoverinfo\":\"text\",\"marker\":{\"color\":\"rgb(0,116,217)\"},\"mode\":\"lines\",\"text\":[\"end_sign_got_couple_program\",\"\",\"\",\"month_le_change_year year_probably\"],\"x\":[0.0,1.0437810297607186,1.0437810297607186,0.0],\"xaxis\":\"x\",\"y\":[-325.0,-325.0,-335.0,-335.0],\"yaxis\":\"y\",\"type\":\"scatter\"},{\"hoverinfo\":\"text\",\"marker\":{\"color\":\"rgb(0,116,217)\"},\"mode\":\"lines\",\"text\":[\"like_couple_warrant_listening_talked\",\"\",\"\",\"month_le_change_year year_probably\"],\"x\":[0.0,1.2393833284644709,1.2393833284644709,1.0437810297607186],\"xaxis\":\"x\",\"y\":[-315.0,-315.0,-330.0,-330.0],\"yaxis\":\"y\",\"type\":\"scatter\"},{\"hoverinfo\":\"text\",\"marker\":{\"color\":\"rgb(0,116,217)\"},\"mode\":\"lines\",\"text\":[\"like_couple_warrant_listening_talked\",\"\",\"\",\"month_le_change_year year_probably\"],\"x\":[1.4055474448730614,1.580381296611684,1.580381296611684,1.2393833284644709],\"xaxis\":\"x\",\"y\":[-290.0,-290.0,-322.5,-322.5],\"yaxis\":\"y\",\"type\":\"scatter\"},{\"hoverinfo\":\"text\",\"marker\":{\"color\":\"rgb(0,116,217)\"},\"mode\":\"lines\",\"text\":[\"like_couple_warrant_listening_talked\",\"\",\"\",\"month_le_change_year year_probably\"],\"x\":[1.8399670849058078,1.9094288633172598,1.9094288633172598,1.580381296611684],\"xaxis\":\"x\",\"y\":[-199.609375,-199.609375,-306.25,-306.25],\"yaxis\":\"y\",\"type\":\"scatter\"},{\"hoverinfo\":\"text\",\"marker\":{\"color\":\"rgb(0,116,217)\"},\"mode\":\"lines\",\"text\":[\"like_couple_warrant_listening_talked\",\"\",\"\",\"month_le_change_year year_probably\"],\"x\":[1.261209285643005,2.3993107607194437,2.3993107607194437,1.9094288633172598],\"xaxis\":\"x\",\"y\":[-20.0,-20.0,-252.9296875,-252.9296875],\"yaxis\":\"y\",\"type\":\"scatter\"},{\"hoverinfo\":\"text\",\"hovertext\":[\"president_house_today_got_united state\",\"service_bad_group_today_talked\",\"service_bad_group_today_talked\",\"think_changed_look_case_end\",\"____\",\"book_read_history_permanent_internet\",\"book_read_history_permanent_internet\",\"book_read_history_permanent_internet\",\"book_read_history_permanent_internet\",\"google_talk_internet_want able_anybody\",\"listening_worst_right got_context_permanent\",\"like_couple_warrant_listening_talked\",\"like_couple_warrant_listening_talked\",\"like_couple_warrant_listening_talked\"],\"marker\":{\"color\":\"black\"},\"mode\":\"markers\",\"showlegend\":false,\"x\":[0.6544195086721154,1.2979337951067937,1.3535318083497314,1.4372912851952833,1.2669218267576723,1.1883619861464807,1.142880223512008,1.3668264403296984,1.663508642848106,1.8110737890338984,1.150318380219736,1.4055474448730614,1.8399670849058078,1.261209285643005],\"y\":[-10.0,-80.0,-52.5,-71.25,-152.5,-220.0,-200.0,-150.625,-95.625,-139.21875,-280.0,-290.0,-199.609375,-20.0],\"type\":\"scatter\"},{\"hoverinfo\":\"text\",\"hovertext\":[\"network_access_company_record_basis\",\"sort_history_want say_clear_idea\",\"security_network_believe_work_united state\",\"security_network_believe_work_united state\",\"body_good_pretty_man_job\",\"maybe_matter_knew_forward_world\",\"okay_sorry_sure_completely_good\",\"okay_sorry_sure_completely_good\",\"record_permanent_warrant_wanted_called\",\"record_permanent_warrant_wanted_called\",\"record_permanent_warrant_wanted_called\",\"record_permanent_warrant_wanted_called\",\"google_allowed_anymore_know_lot people\",\"running_building_moment_day_like\",\"month_le_change_year year_probably\",\"month_le_change_year year_probably\",\"month_le_change_year year_probably\",\"month_le_change_year year_probably\"],\"marker\":{\"color\":\"black\"},\"mode\":\"markers\",\"showlegend\":false,\"x\":[0.976835661533238,1.1254671943952381,1.2269304678551471,1.389160592663106,1.1046637790733855,1.2169013646332738,1.0455622482667852,1.361212516991278,1.2828973330507678,1.4938718821891948,1.5174266224414028,1.6304814526291045,0.93835642841113,1.1293692399557835,1.0437810297607186,1.2393833284644709,1.580381296611684,1.9094288633172598],\"y\":[-30.0,-60.0,-100.0,-90.0,-120.0,-160.0,-180.0,-166.25,-240.0,-230.0,-215.0,-182.8125,-260.0,-300.0,-330.0,-322.5,-306.25,-252.9296875],\"type\":\"scatter\"}],                        {\"autosize\":false,\"height\":710,\"hovermode\":\"closest\",\"showlegend\":false,\"width\":1000,\"xaxis\":{\"mirror\":\"allticks\",\"rangemode\":\"tozero\",\"showgrid\":false,\"showline\":true,\"showticklabels\":true,\"ticks\":\"outside\",\"type\":\"linear\",\"zeroline\":false},\"yaxis\":{\"mirror\":\"allticks\",\"rangemode\":\"tozero\",\"showgrid\":false,\"showline\":true,\"showticklabels\":true,\"tickmode\":\"array\",\"ticks\":\"outside\",\"ticktext\":[\"2_legal_case_program\",\"0_government_sort_start\",\"1_president_house_today\",\"3_network_access_company\",\"33_program_unless_access\",\"20_work_company_happens\",\"17_sort_history_want say\",\"16_happening_kind_time\",\"28_people_instead_actively\",\"25_service_bad_group\",\"7_security_network_believe\",\"13_think_changed_look\",\"27_body_good_pretty\",\"21_guy_want say_place\",\"19_say_said_told\",\"5_right_yeah_wrong\",\"12_maybe_matter_knew\",\"14___\",\"11_okay_sorry_sure\",\"29_reason_beginning_big\",\"30_american_make_lost\",\"10_post_story_lost\",\"6_journalist_story_context\",\"8_book_read_history\",\"23_record_permanent_warrant\",\"32_google_talk_internet\",\"31_google_allowed_anymore\",\"18_public_bad_mean\",\"4_turn_happy_took\",\"24_listening_worst_right got\",\"9_running_building_moment\",\"22_like_couple_warrant\",\"15_end_sign_got\",\"26_month_le_change\"],\"tickvals\":[-5.0,-15.0,-25.0,-35.0,-45.0,-55.0,-65.0,-75.0,-85.0,-95.0,-105.0,-115.0,-125.0,-135.0,-145.0,-155.0,-165.0,-175.0,-185.0,-195.0,-205.0,-215.0,-225.0,-235.0,-245.0,-255.0,-265.0,-275.0,-285.0,-295.0,-305.0,-315.0,-325.0,-335.0],\"type\":\"linear\",\"zeroline\":false,\"range\":[-340.0,0.0]},\"template\":{\"data\":{\"barpolar\":[{\"marker\":{\"line\":{\"color\":\"white\",\"width\":0.5},\"pattern\":{\"fillmode\":\"overlay\",\"size\":10,\"solidity\":0.2}},\"type\":\"barpolar\"}],\"bar\":[{\"error_x\":{\"color\":\"#2a3f5f\"},\"error_y\":{\"color\":\"#2a3f5f\"},\"marker\":{\"line\":{\"color\":\"white\",\"width\":0.5},\"pattern\":{\"fillmode\":\"overlay\",\"size\":10,\"solidity\":0.2}},\"type\":\"bar\"}],\"carpet\":[{\"aaxis\":{\"endlinecolor\":\"#2a3f5f\",\"gridcolor\":\"#C8D4E3\",\"linecolor\":\"#C8D4E3\",\"minorgridcolor\":\"#C8D4E3\",\"startlinecolor\":\"#2a3f5f\"},\"baxis\":{\"endlinecolor\":\"#2a3f5f\",\"gridcolor\":\"#C8D4E3\",\"linecolor\":\"#C8D4E3\",\"minorgridcolor\":\"#C8D4E3\",\"startlinecolor\":\"#2a3f5f\"},\"type\":\"carpet\"}],\"choropleth\":[{\"colorbar\":{\"outlinewidth\":0,\"ticks\":\"\"},\"type\":\"choropleth\"}],\"contourcarpet\":[{\"colorbar\":{\"outlinewidth\":0,\"ticks\":\"\"},\"type\":\"contourcarpet\"}],\"contour\":[{\"colorbar\":{\"outlinewidth\":0,\"ticks\":\"\"},\"colorscale\":[[0.0,\"#0d0887\"],[0.1111111111111111,\"#46039f\"],[0.2222222222222222,\"#7201a8\"],[0.3333333333333333,\"#9c179e\"],[0.4444444444444444,\"#bd3786\"],[0.5555555555555556,\"#d8576b\"],[0.6666666666666666,\"#ed7953\"],[0.7777777777777778,\"#fb9f3a\"],[0.8888888888888888,\"#fdca26\"],[1.0,\"#f0f921\"]],\"type\":\"contour\"}],\"heatmapgl\":[{\"colorbar\":{\"outlinewidth\":0,\"ticks\":\"\"},\"colorscale\":[[0.0,\"#0d0887\"],[0.1111111111111111,\"#46039f\"],[0.2222222222222222,\"#7201a8\"],[0.3333333333333333,\"#9c179e\"],[0.4444444444444444,\"#bd3786\"],[0.5555555555555556,\"#d8576b\"],[0.6666666666666666,\"#ed7953\"],[0.7777777777777778,\"#fb9f3a\"],[0.8888888888888888,\"#fdca26\"],[1.0,\"#f0f921\"]],\"type\":\"heatmapgl\"}],\"heatmap\":[{\"colorbar\":{\"outlinewidth\":0,\"ticks\":\"\"},\"colorscale\":[[0.0,\"#0d0887\"],[0.1111111111111111,\"#46039f\"],[0.2222222222222222,\"#7201a8\"],[0.3333333333333333,\"#9c179e\"],[0.4444444444444444,\"#bd3786\"],[0.5555555555555556,\"#d8576b\"],[0.6666666666666666,\"#ed7953\"],[0.7777777777777778,\"#fb9f3a\"],[0.8888888888888888,\"#fdca26\"],[1.0,\"#f0f921\"]],\"type\":\"heatmap\"}],\"histogram2dcontour\":[{\"colorbar\":{\"outlinewidth\":0,\"ticks\":\"\"},\"colorscale\":[[0.0,\"#0d0887\"],[0.1111111111111111,\"#46039f\"],[0.2222222222222222,\"#7201a8\"],[0.3333333333333333,\"#9c179e\"],[0.4444444444444444,\"#bd3786\"],[0.5555555555555556,\"#d8576b\"],[0.6666666666666666,\"#ed7953\"],[0.7777777777777778,\"#fb9f3a\"],[0.8888888888888888,\"#fdca26\"],[1.0,\"#f0f921\"]],\"type\":\"histogram2dcontour\"}],\"histogram2d\":[{\"colorbar\":{\"outlinewidth\":0,\"ticks\":\"\"},\"colorscale\":[[0.0,\"#0d0887\"],[0.1111111111111111,\"#46039f\"],[0.2222222222222222,\"#7201a8\"],[0.3333333333333333,\"#9c179e\"],[0.4444444444444444,\"#bd3786\"],[0.5555555555555556,\"#d8576b\"],[0.6666666666666666,\"#ed7953\"],[0.7777777777777778,\"#fb9f3a\"],[0.8888888888888888,\"#fdca26\"],[1.0,\"#f0f921\"]],\"type\":\"histogram2d\"}],\"histogram\":[{\"marker\":{\"pattern\":{\"fillmode\":\"overlay\",\"size\":10,\"solidity\":0.2}},\"type\":\"histogram\"}],\"mesh3d\":[{\"colorbar\":{\"outlinewidth\":0,\"ticks\":\"\"},\"type\":\"mesh3d\"}],\"parcoords\":[{\"line\":{\"colorbar\":{\"outlinewidth\":0,\"ticks\":\"\"}},\"type\":\"parcoords\"}],\"pie\":[{\"automargin\":true,\"type\":\"pie\"}],\"scatter3d\":[{\"line\":{\"colorbar\":{\"outlinewidth\":0,\"ticks\":\"\"}},\"marker\":{\"colorbar\":{\"outlinewidth\":0,\"ticks\":\"\"}},\"type\":\"scatter3d\"}],\"scattercarpet\":[{\"marker\":{\"colorbar\":{\"outlinewidth\":0,\"ticks\":\"\"}},\"type\":\"scattercarpet\"}],\"scattergeo\":[{\"marker\":{\"colorbar\":{\"outlinewidth\":0,\"ticks\":\"\"}},\"type\":\"scattergeo\"}],\"scattergl\":[{\"marker\":{\"colorbar\":{\"outlinewidth\":0,\"ticks\":\"\"}},\"type\":\"scattergl\"}],\"scattermapbox\":[{\"marker\":{\"colorbar\":{\"outlinewidth\":0,\"ticks\":\"\"}},\"type\":\"scattermapbox\"}],\"scatterpolargl\":[{\"marker\":{\"colorbar\":{\"outlinewidth\":0,\"ticks\":\"\"}},\"type\":\"scatterpolargl\"}],\"scatterpolar\":[{\"marker\":{\"colorbar\":{\"outlinewidth\":0,\"ticks\":\"\"}},\"type\":\"scatterpolar\"}],\"scatter\":[{\"fillpattern\":{\"fillmode\":\"overlay\",\"size\":10,\"solidity\":0.2},\"type\":\"scatter\"}],\"scatterternary\":[{\"marker\":{\"colorbar\":{\"outlinewidth\":0,\"ticks\":\"\"}},\"type\":\"scatterternary\"}],\"surface\":[{\"colorbar\":{\"outlinewidth\":0,\"ticks\":\"\"},\"colorscale\":[[0.0,\"#0d0887\"],[0.1111111111111111,\"#46039f\"],[0.2222222222222222,\"#7201a8\"],[0.3333333333333333,\"#9c179e\"],[0.4444444444444444,\"#bd3786\"],[0.5555555555555556,\"#d8576b\"],[0.6666666666666666,\"#ed7953\"],[0.7777777777777778,\"#fb9f3a\"],[0.8888888888888888,\"#fdca26\"],[1.0,\"#f0f921\"]],\"type\":\"surface\"}],\"table\":[{\"cells\":{\"fill\":{\"color\":\"#EBF0F8\"},\"line\":{\"color\":\"white\"}},\"header\":{\"fill\":{\"color\":\"#C8D4E3\"},\"line\":{\"color\":\"white\"}},\"type\":\"table\"}]},\"layout\":{\"annotationdefaults\":{\"arrowcolor\":\"#2a3f5f\",\"arrowhead\":0,\"arrowwidth\":1},\"autotypenumbers\":\"strict\",\"coloraxis\":{\"colorbar\":{\"outlinewidth\":0,\"ticks\":\"\"}},\"colorscale\":{\"diverging\":[[0,\"#8e0152\"],[0.1,\"#c51b7d\"],[0.2,\"#de77ae\"],[0.3,\"#f1b6da\"],[0.4,\"#fde0ef\"],[0.5,\"#f7f7f7\"],[0.6,\"#e6f5d0\"],[0.7,\"#b8e186\"],[0.8,\"#7fbc41\"],[0.9,\"#4d9221\"],[1,\"#276419\"]],\"sequential\":[[0.0,\"#0d0887\"],[0.1111111111111111,\"#46039f\"],[0.2222222222222222,\"#7201a8\"],[0.3333333333333333,\"#9c179e\"],[0.4444444444444444,\"#bd3786\"],[0.5555555555555556,\"#d8576b\"],[0.6666666666666666,\"#ed7953\"],[0.7777777777777778,\"#fb9f3a\"],[0.8888888888888888,\"#fdca26\"],[1.0,\"#f0f921\"]],\"sequentialminus\":[[0.0,\"#0d0887\"],[0.1111111111111111,\"#46039f\"],[0.2222222222222222,\"#7201a8\"],[0.3333333333333333,\"#9c179e\"],[0.4444444444444444,\"#bd3786\"],[0.5555555555555556,\"#d8576b\"],[0.6666666666666666,\"#ed7953\"],[0.7777777777777778,\"#fb9f3a\"],[0.8888888888888888,\"#fdca26\"],[1.0,\"#f0f921\"]]},\"colorway\":[\"#636efa\",\"#EF553B\",\"#00cc96\",\"#ab63fa\",\"#FFA15A\",\"#19d3f3\",\"#FF6692\",\"#B6E880\",\"#FF97FF\",\"#FECB52\"],\"font\":{\"color\":\"#2a3f5f\"},\"geo\":{\"bgcolor\":\"white\",\"lakecolor\":\"white\",\"landcolor\":\"white\",\"showlakes\":true,\"showland\":true,\"subunitcolor\":\"#C8D4E3\"},\"hoverlabel\":{\"align\":\"left\"},\"hovermode\":\"closest\",\"mapbox\":{\"style\":\"light\"},\"paper_bgcolor\":\"white\",\"plot_bgcolor\":\"white\",\"polar\":{\"angularaxis\":{\"gridcolor\":\"#EBF0F8\",\"linecolor\":\"#EBF0F8\",\"ticks\":\"\"},\"bgcolor\":\"white\",\"radialaxis\":{\"gridcolor\":\"#EBF0F8\",\"linecolor\":\"#EBF0F8\",\"ticks\":\"\"}},\"scene\":{\"xaxis\":{\"backgroundcolor\":\"white\",\"gridcolor\":\"#DFE8F3\",\"gridwidth\":2,\"linecolor\":\"#EBF0F8\",\"showbackground\":true,\"ticks\":\"\",\"zerolinecolor\":\"#EBF0F8\"},\"yaxis\":{\"backgroundcolor\":\"white\",\"gridcolor\":\"#DFE8F3\",\"gridwidth\":2,\"linecolor\":\"#EBF0F8\",\"showbackground\":true,\"ticks\":\"\",\"zerolinecolor\":\"#EBF0F8\"},\"zaxis\":{\"backgroundcolor\":\"white\",\"gridcolor\":\"#DFE8F3\",\"gridwidth\":2,\"linecolor\":\"#EBF0F8\",\"showbackground\":true,\"ticks\":\"\",\"zerolinecolor\":\"#EBF0F8\"}},\"shapedefaults\":{\"line\":{\"color\":\"#2a3f5f\"}},\"ternary\":{\"aaxis\":{\"gridcolor\":\"#DFE8F3\",\"linecolor\":\"#A2B1C6\",\"ticks\":\"\"},\"baxis\":{\"gridcolor\":\"#DFE8F3\",\"linecolor\":\"#A2B1C6\",\"ticks\":\"\"},\"bgcolor\":\"white\",\"caxis\":{\"gridcolor\":\"#DFE8F3\",\"linecolor\":\"#A2B1C6\",\"ticks\":\"\"}},\"title\":{\"x\":0.05},\"xaxis\":{\"automargin\":true,\"gridcolor\":\"#EBF0F8\",\"linecolor\":\"#EBF0F8\",\"ticks\":\"\",\"title\":{\"standoff\":15},\"zerolinecolor\":\"#EBF0F8\",\"zerolinewidth\":2},\"yaxis\":{\"automargin\":true,\"gridcolor\":\"#EBF0F8\",\"linecolor\":\"#EBF0F8\",\"ticks\":\"\",\"title\":{\"standoff\":15},\"zerolinecolor\":\"#EBF0F8\",\"zerolinewidth\":2}}},\"title\":{\"font\":{\"size\":22,\"color\":\"Black\"},\"text\":\"<b>Hierarchical Clustering\",\"x\":0.5,\"xanchor\":\"center\",\"yanchor\":\"top\"},\"hoverlabel\":{\"font\":{\"size\":16,\"family\":\"Rockwell\"},\"bgcolor\":\"white\"},\"plot_bgcolor\":\"#ECEFF1\"},                        {\"responsive\": true}                    ).then(function(){\n",
       "                            \n",
       "var gd = document.getElementById('d310e578-1120-40da-b0fc-01a25ef7e25c');\n",
       "var x = new MutationObserver(function (mutations, observer) {{\n",
       "        var display = window.getComputedStyle(gd).display;\n",
       "        if (!display || display === 'none') {{\n",
       "            console.log([gd, 'removed!']);\n",
       "            Plotly.purge(gd);\n",
       "            observer.disconnect();\n",
       "        }}\n",
       "}});\n",
       "\n",
       "// Listen for the removal of the full notebook cells\n",
       "var notebookContainer = gd.closest('#notebook-container');\n",
       "if (notebookContainer) {{\n",
       "    x.observe(notebookContainer, {childList: true});\n",
       "}}\n",
       "\n",
       "// Listen for the clearing of the current output cell\n",
       "var outputEl = gd.closest('.output');\n",
       "if (outputEl) {{\n",
       "    x.observe(outputEl, {childList: true});\n",
       "}}\n",
       "\n",
       "                        })                };                });            </script>        </div>"
      ]
     },
     "metadata": {},
     "output_type": "display_data"
    }
   ],
   "source": [
    "tree = topic_model.get_topic_tree(hierarchical_topics)\n",
    "topic_model.visualize_hierarchy(hierarchical_topics=hierarchical_topics)\n"
   ]
  },
  {
   "cell_type": "markdown",
   "metadata": {},
   "source": []
  },
  {
   "cell_type": "code",
   "execution_count": 63,
   "metadata": {},
   "outputs": [],
   "source": [
    "# topics_to_merge = [0, 1]\n",
    "# topic_model.merge_topics(sentences_clean, topics, topics_to_merge)"
   ]
  },
  {
   "cell_type": "code",
   "execution_count": 258,
   "metadata": {},
   "outputs": [
    {
     "data": {
      "application/vnd.plotly.v1+json": {
       "config": {
        "plotlyServerURL": "https://plot.ly"
       },
       "data": [
        {
         "customdata": [
          [
           0,
           "government | sort | start | security | worked",
           261
          ],
          [
           1,
           "president | house | today | got | united state",
           130
          ],
          [
           2,
           "legal | case | program | supposed | forward",
           103
          ],
          [
           3,
           "network | access | company | record | basis",
           85
          ],
          [
           4,
           "turn | happy | took | bring | later",
           43
          ],
          [
           5,
           "right | yeah | wrong | supposed | maybe",
           42
          ],
          [
           6,
           "journalist | story | context | case | public",
           34
          ],
          [
           7,
           "security | network | believe | work | united state",
           32
          ],
          [
           8,
           "book | read | history | permanent | internet",
           30
          ],
          [
           9,
           "running | building | moment | day | like",
           26
          ],
          [
           10,
           "post | story | lost | read | maybe",
           26
          ],
          [
           11,
           "okay | sorry | sure | completely | good",
           24
          ],
          [
           12,
           "maybe | matter | knew | forward | world",
           24
          ],
          [
           13,
           "think | changed | look | case | end",
           22
          ],
          [
           14,
           " |  |  |  | ",
           21
          ],
          [
           15,
           "end | sign | got | couple | program",
           21
          ],
          [
           16,
           "happening | kind | time | actively | chance",
           21
          ],
          [
           17,
           "sort | history | want say | clear | idea",
           20
          ],
          [
           18,
           "public | bad | mean | basis | simply",
           20
          ],
          [
           19,
           "say | said | told | great | maybe",
           18
          ],
          [
           20,
           "work | company | happens | office | day",
           18
          ],
          [
           21,
           "guy | want say | place | end | problem",
           16
          ],
          [
           22,
           "like | couple | warrant | listening | talked",
           14
          ],
          [
           23,
           "record | permanent | warrant | wanted | called",
           14
          ],
          [
           24,
           "listening | worst | right got | context | permanent",
           14
          ],
          [
           25,
           "service | bad | group | today | talked",
           14
          ],
          [
           26,
           "month | le | change | year year | probably",
           14
          ],
          [
           27,
           "body | good | pretty | man | job",
           12
          ],
          [
           28,
           "people | instead | actively | told | wrong",
           12
          ],
          [
           29,
           "reason | beginning | big | suddenly | lot people",
           12
          ],
          [
           30,
           "american | make | lost | suddenly | moment",
           12
          ],
          [
           31,
           "google | allowed | anymore | know | lot people",
           11
          ],
          [
           32,
           "google | talk | internet | want able | anybody",
           10
          ],
          [
           33,
           "program | unless | access | word | need",
           10
          ]
         ],
         "hovertemplate": "<b>Topic %{customdata[0]}</b><br>Words: %{customdata[1]}<br>Size: %{customdata[2]}",
         "legendgroup": "",
         "marker": {
          "color": "#B0BEC5",
          "line": {
           "color": "DarkSlateGrey",
           "width": 2
          },
          "size": [
           261,
           130,
           103,
           85,
           43,
           42,
           34,
           32,
           30,
           26,
           26,
           24,
           24,
           22,
           21,
           21,
           21,
           20,
           20,
           18,
           18,
           16,
           14,
           14,
           14,
           14,
           14,
           12,
           12,
           12,
           12,
           11,
           10,
           10
          ],
          "sizemode": "area",
          "sizeref": 0.163125,
          "symbol": "circle"
         },
         "mode": "markers",
         "name": "",
         "orientation": "v",
         "showlegend": false,
         "type": "scatter",
         "x": [
          10.435532569885254,
          7.754559516906738,
          9.937661170959473,
          7.034677028656006,
          7.635668754577637,
          5.059238910675049,
          9.009869575500488,
          10.19979476928711,
          7.864530563354492,
          10.107723236083984,
          8.592447280883789,
          18.35043716430664,
          9.844182014465332,
          18.757015228271484,
          null,
          9.296927452087402,
          10.050145149230957,
          9.628573417663574,
          8.821390151977539,
          5.037692070007324,
          9.799783706665039,
          9.34626293182373,
          11.366395950317383,
          7.638871669769287,
          6.860641956329346,
          9.471114158630371,
          9.492720603942871,
          18.636140823364258,
          4.792983531951904,
          11.740532875061035,
          11.86147403717041,
          9.061651229858398,
          9.244362831115723,
          8.32876205444336
         ],
         "xaxis": "x",
         "y": [
          14.477923393249512,
          15.141683578491211,
          13.825435638427734,
          13.949098587036133,
          15.075554847717285,
          20.549829483032227,
          14.612112045288086,
          15.286149978637695,
          16.730398178100586,
          14.896283149719238,
          14.048966407775879,
          6.1294403076171875,
          13.73752212524414,
          5.722993850708008,
          null,
          10.350372314453125,
          14.470376968383789,
          14.306763648986816,
          15.496747016906738,
          20.529502868652344,
          15.080568313598633,
          10.270148277282715,
          14.238753318786621,
          16.93570899963379,
          13.831296920776367,
          15.061891555786133,
          9.975298881530762,
          5.843825340270996,
          20.279403686523438,
          14.265378952026367,
          14.398286819458008,
          16.66246795654297,
          16.469865798950195,
          13.885629653930664
         ],
         "yaxis": "y"
        }
       ],
       "layout": {
        "annotations": [
         {
          "showarrow": false,
          "text": "D1",
          "x": 4.074036002159119,
          "y": 14.248424339294434,
          "yshift": 10
         },
         {
          "showarrow": false,
          "text": "D2",
          "x": 12.822301757335662,
          "xshift": 10,
          "y": 23.63230390548706
         }
        ],
        "height": 650,
        "hoverlabel": {
         "bgcolor": "white",
         "font": {
          "family": "Rockwell",
          "size": 16
         }
        },
        "legend": {
         "itemsizing": "constant",
         "tracegroupgap": 0
        },
        "margin": {
         "t": 60
        },
        "shapes": [
         {
          "line": {
           "color": "#CFD8DC",
           "width": 2
          },
          "type": "line",
          "x0": 12.822301757335662,
          "x1": 12.822301757335662,
          "y0": 4.864544773101807,
          "y1": 23.63230390548706
         },
         {
          "line": {
           "color": "#9E9E9E",
           "width": 2
          },
          "type": "line",
          "x0": 4.074036002159119,
          "x1": 21.570567512512206,
          "y0": 14.248424339294434,
          "y1": 14.248424339294434
         }
        ],
        "sliders": [
         {
          "active": 0,
          "pad": {
           "t": 50
          },
          "steps": [
           {
            "args": [
             {
              "marker.color": [
               [
                "red",
                "#B0BEC5",
                "#B0BEC5",
                "#B0BEC5",
                "#B0BEC5",
                "#B0BEC5",
                "#B0BEC5",
                "#B0BEC5",
                "#B0BEC5",
                "#B0BEC5",
                "#B0BEC5",
                "#B0BEC5",
                "#B0BEC5",
                "#B0BEC5",
                "#B0BEC5",
                "#B0BEC5",
                "#B0BEC5",
                "#B0BEC5",
                "#B0BEC5",
                "#B0BEC5",
                "#B0BEC5",
                "#B0BEC5",
                "#B0BEC5",
                "#B0BEC5",
                "#B0BEC5",
                "#B0BEC5",
                "#B0BEC5",
                "#B0BEC5",
                "#B0BEC5",
                "#B0BEC5",
                "#B0BEC5",
                "#B0BEC5",
                "#B0BEC5",
                "#B0BEC5"
               ]
              ]
             }
            ],
            "label": "Topic 0",
            "method": "update"
           },
           {
            "args": [
             {
              "marker.color": [
               [
                "#B0BEC5",
                "red",
                "#B0BEC5",
                "#B0BEC5",
                "#B0BEC5",
                "#B0BEC5",
                "#B0BEC5",
                "#B0BEC5",
                "#B0BEC5",
                "#B0BEC5",
                "#B0BEC5",
                "#B0BEC5",
                "#B0BEC5",
                "#B0BEC5",
                "#B0BEC5",
                "#B0BEC5",
                "#B0BEC5",
                "#B0BEC5",
                "#B0BEC5",
                "#B0BEC5",
                "#B0BEC5",
                "#B0BEC5",
                "#B0BEC5",
                "#B0BEC5",
                "#B0BEC5",
                "#B0BEC5",
                "#B0BEC5",
                "#B0BEC5",
                "#B0BEC5",
                "#B0BEC5",
                "#B0BEC5",
                "#B0BEC5",
                "#B0BEC5",
                "#B0BEC5"
               ]
              ]
             }
            ],
            "label": "Topic 1",
            "method": "update"
           },
           {
            "args": [
             {
              "marker.color": [
               [
                "#B0BEC5",
                "#B0BEC5",
                "red",
                "#B0BEC5",
                "#B0BEC5",
                "#B0BEC5",
                "#B0BEC5",
                "#B0BEC5",
                "#B0BEC5",
                "#B0BEC5",
                "#B0BEC5",
                "#B0BEC5",
                "#B0BEC5",
                "#B0BEC5",
                "#B0BEC5",
                "#B0BEC5",
                "#B0BEC5",
                "#B0BEC5",
                "#B0BEC5",
                "#B0BEC5",
                "#B0BEC5",
                "#B0BEC5",
                "#B0BEC5",
                "#B0BEC5",
                "#B0BEC5",
                "#B0BEC5",
                "#B0BEC5",
                "#B0BEC5",
                "#B0BEC5",
                "#B0BEC5",
                "#B0BEC5",
                "#B0BEC5",
                "#B0BEC5",
                "#B0BEC5"
               ]
              ]
             }
            ],
            "label": "Topic 2",
            "method": "update"
           },
           {
            "args": [
             {
              "marker.color": [
               [
                "#B0BEC5",
                "#B0BEC5",
                "#B0BEC5",
                "red",
                "#B0BEC5",
                "#B0BEC5",
                "#B0BEC5",
                "#B0BEC5",
                "#B0BEC5",
                "#B0BEC5",
                "#B0BEC5",
                "#B0BEC5",
                "#B0BEC5",
                "#B0BEC5",
                "#B0BEC5",
                "#B0BEC5",
                "#B0BEC5",
                "#B0BEC5",
                "#B0BEC5",
                "#B0BEC5",
                "#B0BEC5",
                "#B0BEC5",
                "#B0BEC5",
                "#B0BEC5",
                "#B0BEC5",
                "#B0BEC5",
                "#B0BEC5",
                "#B0BEC5",
                "#B0BEC5",
                "#B0BEC5",
                "#B0BEC5",
                "#B0BEC5",
                "#B0BEC5",
                "#B0BEC5"
               ]
              ]
             }
            ],
            "label": "Topic 3",
            "method": "update"
           },
           {
            "args": [
             {
              "marker.color": [
               [
                "#B0BEC5",
                "#B0BEC5",
                "#B0BEC5",
                "#B0BEC5",
                "red",
                "#B0BEC5",
                "#B0BEC5",
                "#B0BEC5",
                "#B0BEC5",
                "#B0BEC5",
                "#B0BEC5",
                "#B0BEC5",
                "#B0BEC5",
                "#B0BEC5",
                "#B0BEC5",
                "#B0BEC5",
                "#B0BEC5",
                "#B0BEC5",
                "#B0BEC5",
                "#B0BEC5",
                "#B0BEC5",
                "#B0BEC5",
                "#B0BEC5",
                "#B0BEC5",
                "#B0BEC5",
                "#B0BEC5",
                "#B0BEC5",
                "#B0BEC5",
                "#B0BEC5",
                "#B0BEC5",
                "#B0BEC5",
                "#B0BEC5",
                "#B0BEC5",
                "#B0BEC5"
               ]
              ]
             }
            ],
            "label": "Topic 4",
            "method": "update"
           },
           {
            "args": [
             {
              "marker.color": [
               [
                "#B0BEC5",
                "#B0BEC5",
                "#B0BEC5",
                "#B0BEC5",
                "#B0BEC5",
                "red",
                "#B0BEC5",
                "#B0BEC5",
                "#B0BEC5",
                "#B0BEC5",
                "#B0BEC5",
                "#B0BEC5",
                "#B0BEC5",
                "#B0BEC5",
                "#B0BEC5",
                "#B0BEC5",
                "#B0BEC5",
                "#B0BEC5",
                "#B0BEC5",
                "#B0BEC5",
                "#B0BEC5",
                "#B0BEC5",
                "#B0BEC5",
                "#B0BEC5",
                "#B0BEC5",
                "#B0BEC5",
                "#B0BEC5",
                "#B0BEC5",
                "#B0BEC5",
                "#B0BEC5",
                "#B0BEC5",
                "#B0BEC5",
                "#B0BEC5",
                "#B0BEC5"
               ]
              ]
             }
            ],
            "label": "Topic 5",
            "method": "update"
           },
           {
            "args": [
             {
              "marker.color": [
               [
                "#B0BEC5",
                "#B0BEC5",
                "#B0BEC5",
                "#B0BEC5",
                "#B0BEC5",
                "#B0BEC5",
                "red",
                "#B0BEC5",
                "#B0BEC5",
                "#B0BEC5",
                "#B0BEC5",
                "#B0BEC5",
                "#B0BEC5",
                "#B0BEC5",
                "#B0BEC5",
                "#B0BEC5",
                "#B0BEC5",
                "#B0BEC5",
                "#B0BEC5",
                "#B0BEC5",
                "#B0BEC5",
                "#B0BEC5",
                "#B0BEC5",
                "#B0BEC5",
                "#B0BEC5",
                "#B0BEC5",
                "#B0BEC5",
                "#B0BEC5",
                "#B0BEC5",
                "#B0BEC5",
                "#B0BEC5",
                "#B0BEC5",
                "#B0BEC5",
                "#B0BEC5"
               ]
              ]
             }
            ],
            "label": "Topic 6",
            "method": "update"
           },
           {
            "args": [
             {
              "marker.color": [
               [
                "#B0BEC5",
                "#B0BEC5",
                "#B0BEC5",
                "#B0BEC5",
                "#B0BEC5",
                "#B0BEC5",
                "#B0BEC5",
                "red",
                "#B0BEC5",
                "#B0BEC5",
                "#B0BEC5",
                "#B0BEC5",
                "#B0BEC5",
                "#B0BEC5",
                "#B0BEC5",
                "#B0BEC5",
                "#B0BEC5",
                "#B0BEC5",
                "#B0BEC5",
                "#B0BEC5",
                "#B0BEC5",
                "#B0BEC5",
                "#B0BEC5",
                "#B0BEC5",
                "#B0BEC5",
                "#B0BEC5",
                "#B0BEC5",
                "#B0BEC5",
                "#B0BEC5",
                "#B0BEC5",
                "#B0BEC5",
                "#B0BEC5",
                "#B0BEC5",
                "#B0BEC5"
               ]
              ]
             }
            ],
            "label": "Topic 7",
            "method": "update"
           },
           {
            "args": [
             {
              "marker.color": [
               [
                "#B0BEC5",
                "#B0BEC5",
                "#B0BEC5",
                "#B0BEC5",
                "#B0BEC5",
                "#B0BEC5",
                "#B0BEC5",
                "#B0BEC5",
                "red",
                "#B0BEC5",
                "#B0BEC5",
                "#B0BEC5",
                "#B0BEC5",
                "#B0BEC5",
                "#B0BEC5",
                "#B0BEC5",
                "#B0BEC5",
                "#B0BEC5",
                "#B0BEC5",
                "#B0BEC5",
                "#B0BEC5",
                "#B0BEC5",
                "#B0BEC5",
                "#B0BEC5",
                "#B0BEC5",
                "#B0BEC5",
                "#B0BEC5",
                "#B0BEC5",
                "#B0BEC5",
                "#B0BEC5",
                "#B0BEC5",
                "#B0BEC5",
                "#B0BEC5",
                "#B0BEC5"
               ]
              ]
             }
            ],
            "label": "Topic 8",
            "method": "update"
           },
           {
            "args": [
             {
              "marker.color": [
               [
                "#B0BEC5",
                "#B0BEC5",
                "#B0BEC5",
                "#B0BEC5",
                "#B0BEC5",
                "#B0BEC5",
                "#B0BEC5",
                "#B0BEC5",
                "#B0BEC5",
                "red",
                "#B0BEC5",
                "#B0BEC5",
                "#B0BEC5",
                "#B0BEC5",
                "#B0BEC5",
                "#B0BEC5",
                "#B0BEC5",
                "#B0BEC5",
                "#B0BEC5",
                "#B0BEC5",
                "#B0BEC5",
                "#B0BEC5",
                "#B0BEC5",
                "#B0BEC5",
                "#B0BEC5",
                "#B0BEC5",
                "#B0BEC5",
                "#B0BEC5",
                "#B0BEC5",
                "#B0BEC5",
                "#B0BEC5",
                "#B0BEC5",
                "#B0BEC5",
                "#B0BEC5"
               ]
              ]
             }
            ],
            "label": "Topic 9",
            "method": "update"
           },
           {
            "args": [
             {
              "marker.color": [
               [
                "#B0BEC5",
                "#B0BEC5",
                "#B0BEC5",
                "#B0BEC5",
                "#B0BEC5",
                "#B0BEC5",
                "#B0BEC5",
                "#B0BEC5",
                "#B0BEC5",
                "#B0BEC5",
                "red",
                "#B0BEC5",
                "#B0BEC5",
                "#B0BEC5",
                "#B0BEC5",
                "#B0BEC5",
                "#B0BEC5",
                "#B0BEC5",
                "#B0BEC5",
                "#B0BEC5",
                "#B0BEC5",
                "#B0BEC5",
                "#B0BEC5",
                "#B0BEC5",
                "#B0BEC5",
                "#B0BEC5",
                "#B0BEC5",
                "#B0BEC5",
                "#B0BEC5",
                "#B0BEC5",
                "#B0BEC5",
                "#B0BEC5",
                "#B0BEC5",
                "#B0BEC5"
               ]
              ]
             }
            ],
            "label": "Topic 10",
            "method": "update"
           },
           {
            "args": [
             {
              "marker.color": [
               [
                "#B0BEC5",
                "#B0BEC5",
                "#B0BEC5",
                "#B0BEC5",
                "#B0BEC5",
                "#B0BEC5",
                "#B0BEC5",
                "#B0BEC5",
                "#B0BEC5",
                "#B0BEC5",
                "#B0BEC5",
                "red",
                "#B0BEC5",
                "#B0BEC5",
                "#B0BEC5",
                "#B0BEC5",
                "#B0BEC5",
                "#B0BEC5",
                "#B0BEC5",
                "#B0BEC5",
                "#B0BEC5",
                "#B0BEC5",
                "#B0BEC5",
                "#B0BEC5",
                "#B0BEC5",
                "#B0BEC5",
                "#B0BEC5",
                "#B0BEC5",
                "#B0BEC5",
                "#B0BEC5",
                "#B0BEC5",
                "#B0BEC5",
                "#B0BEC5",
                "#B0BEC5"
               ]
              ]
             }
            ],
            "label": "Topic 11",
            "method": "update"
           },
           {
            "args": [
             {
              "marker.color": [
               [
                "#B0BEC5",
                "#B0BEC5",
                "#B0BEC5",
                "#B0BEC5",
                "#B0BEC5",
                "#B0BEC5",
                "#B0BEC5",
                "#B0BEC5",
                "#B0BEC5",
                "#B0BEC5",
                "#B0BEC5",
                "#B0BEC5",
                "red",
                "#B0BEC5",
                "#B0BEC5",
                "#B0BEC5",
                "#B0BEC5",
                "#B0BEC5",
                "#B0BEC5",
                "#B0BEC5",
                "#B0BEC5",
                "#B0BEC5",
                "#B0BEC5",
                "#B0BEC5",
                "#B0BEC5",
                "#B0BEC5",
                "#B0BEC5",
                "#B0BEC5",
                "#B0BEC5",
                "#B0BEC5",
                "#B0BEC5",
                "#B0BEC5",
                "#B0BEC5",
                "#B0BEC5"
               ]
              ]
             }
            ],
            "label": "Topic 12",
            "method": "update"
           },
           {
            "args": [
             {
              "marker.color": [
               [
                "#B0BEC5",
                "#B0BEC5",
                "#B0BEC5",
                "#B0BEC5",
                "#B0BEC5",
                "#B0BEC5",
                "#B0BEC5",
                "#B0BEC5",
                "#B0BEC5",
                "#B0BEC5",
                "#B0BEC5",
                "#B0BEC5",
                "#B0BEC5",
                "red",
                "#B0BEC5",
                "#B0BEC5",
                "#B0BEC5",
                "#B0BEC5",
                "#B0BEC5",
                "#B0BEC5",
                "#B0BEC5",
                "#B0BEC5",
                "#B0BEC5",
                "#B0BEC5",
                "#B0BEC5",
                "#B0BEC5",
                "#B0BEC5",
                "#B0BEC5",
                "#B0BEC5",
                "#B0BEC5",
                "#B0BEC5",
                "#B0BEC5",
                "#B0BEC5",
                "#B0BEC5"
               ]
              ]
             }
            ],
            "label": "Topic 13",
            "method": "update"
           },
           {
            "args": [
             {
              "marker.color": [
               [
                "#B0BEC5",
                "#B0BEC5",
                "#B0BEC5",
                "#B0BEC5",
                "#B0BEC5",
                "#B0BEC5",
                "#B0BEC5",
                "#B0BEC5",
                "#B0BEC5",
                "#B0BEC5",
                "#B0BEC5",
                "#B0BEC5",
                "#B0BEC5",
                "#B0BEC5",
                "red",
                "#B0BEC5",
                "#B0BEC5",
                "#B0BEC5",
                "#B0BEC5",
                "#B0BEC5",
                "#B0BEC5",
                "#B0BEC5",
                "#B0BEC5",
                "#B0BEC5",
                "#B0BEC5",
                "#B0BEC5",
                "#B0BEC5",
                "#B0BEC5",
                "#B0BEC5",
                "#B0BEC5",
                "#B0BEC5",
                "#B0BEC5",
                "#B0BEC5",
                "#B0BEC5"
               ]
              ]
             }
            ],
            "label": "Topic 14",
            "method": "update"
           },
           {
            "args": [
             {
              "marker.color": [
               [
                "#B0BEC5",
                "#B0BEC5",
                "#B0BEC5",
                "#B0BEC5",
                "#B0BEC5",
                "#B0BEC5",
                "#B0BEC5",
                "#B0BEC5",
                "#B0BEC5",
                "#B0BEC5",
                "#B0BEC5",
                "#B0BEC5",
                "#B0BEC5",
                "#B0BEC5",
                "#B0BEC5",
                "red",
                "#B0BEC5",
                "#B0BEC5",
                "#B0BEC5",
                "#B0BEC5",
                "#B0BEC5",
                "#B0BEC5",
                "#B0BEC5",
                "#B0BEC5",
                "#B0BEC5",
                "#B0BEC5",
                "#B0BEC5",
                "#B0BEC5",
                "#B0BEC5",
                "#B0BEC5",
                "#B0BEC5",
                "#B0BEC5",
                "#B0BEC5",
                "#B0BEC5"
               ]
              ]
             }
            ],
            "label": "Topic 15",
            "method": "update"
           },
           {
            "args": [
             {
              "marker.color": [
               [
                "#B0BEC5",
                "#B0BEC5",
                "#B0BEC5",
                "#B0BEC5",
                "#B0BEC5",
                "#B0BEC5",
                "#B0BEC5",
                "#B0BEC5",
                "#B0BEC5",
                "#B0BEC5",
                "#B0BEC5",
                "#B0BEC5",
                "#B0BEC5",
                "#B0BEC5",
                "#B0BEC5",
                "#B0BEC5",
                "red",
                "#B0BEC5",
                "#B0BEC5",
                "#B0BEC5",
                "#B0BEC5",
                "#B0BEC5",
                "#B0BEC5",
                "#B0BEC5",
                "#B0BEC5",
                "#B0BEC5",
                "#B0BEC5",
                "#B0BEC5",
                "#B0BEC5",
                "#B0BEC5",
                "#B0BEC5",
                "#B0BEC5",
                "#B0BEC5",
                "#B0BEC5"
               ]
              ]
             }
            ],
            "label": "Topic 16",
            "method": "update"
           },
           {
            "args": [
             {
              "marker.color": [
               [
                "#B0BEC5",
                "#B0BEC5",
                "#B0BEC5",
                "#B0BEC5",
                "#B0BEC5",
                "#B0BEC5",
                "#B0BEC5",
                "#B0BEC5",
                "#B0BEC5",
                "#B0BEC5",
                "#B0BEC5",
                "#B0BEC5",
                "#B0BEC5",
                "#B0BEC5",
                "#B0BEC5",
                "#B0BEC5",
                "#B0BEC5",
                "red",
                "#B0BEC5",
                "#B0BEC5",
                "#B0BEC5",
                "#B0BEC5",
                "#B0BEC5",
                "#B0BEC5",
                "#B0BEC5",
                "#B0BEC5",
                "#B0BEC5",
                "#B0BEC5",
                "#B0BEC5",
                "#B0BEC5",
                "#B0BEC5",
                "#B0BEC5",
                "#B0BEC5",
                "#B0BEC5"
               ]
              ]
             }
            ],
            "label": "Topic 17",
            "method": "update"
           },
           {
            "args": [
             {
              "marker.color": [
               [
                "#B0BEC5",
                "#B0BEC5",
                "#B0BEC5",
                "#B0BEC5",
                "#B0BEC5",
                "#B0BEC5",
                "#B0BEC5",
                "#B0BEC5",
                "#B0BEC5",
                "#B0BEC5",
                "#B0BEC5",
                "#B0BEC5",
                "#B0BEC5",
                "#B0BEC5",
                "#B0BEC5",
                "#B0BEC5",
                "#B0BEC5",
                "#B0BEC5",
                "red",
                "#B0BEC5",
                "#B0BEC5",
                "#B0BEC5",
                "#B0BEC5",
                "#B0BEC5",
                "#B0BEC5",
                "#B0BEC5",
                "#B0BEC5",
                "#B0BEC5",
                "#B0BEC5",
                "#B0BEC5",
                "#B0BEC5",
                "#B0BEC5",
                "#B0BEC5",
                "#B0BEC5"
               ]
              ]
             }
            ],
            "label": "Topic 18",
            "method": "update"
           },
           {
            "args": [
             {
              "marker.color": [
               [
                "#B0BEC5",
                "#B0BEC5",
                "#B0BEC5",
                "#B0BEC5",
                "#B0BEC5",
                "#B0BEC5",
                "#B0BEC5",
                "#B0BEC5",
                "#B0BEC5",
                "#B0BEC5",
                "#B0BEC5",
                "#B0BEC5",
                "#B0BEC5",
                "#B0BEC5",
                "#B0BEC5",
                "#B0BEC5",
                "#B0BEC5",
                "#B0BEC5",
                "#B0BEC5",
                "red",
                "#B0BEC5",
                "#B0BEC5",
                "#B0BEC5",
                "#B0BEC5",
                "#B0BEC5",
                "#B0BEC5",
                "#B0BEC5",
                "#B0BEC5",
                "#B0BEC5",
                "#B0BEC5",
                "#B0BEC5",
                "#B0BEC5",
                "#B0BEC5",
                "#B0BEC5"
               ]
              ]
             }
            ],
            "label": "Topic 19",
            "method": "update"
           },
           {
            "args": [
             {
              "marker.color": [
               [
                "#B0BEC5",
                "#B0BEC5",
                "#B0BEC5",
                "#B0BEC5",
                "#B0BEC5",
                "#B0BEC5",
                "#B0BEC5",
                "#B0BEC5",
                "#B0BEC5",
                "#B0BEC5",
                "#B0BEC5",
                "#B0BEC5",
                "#B0BEC5",
                "#B0BEC5",
                "#B0BEC5",
                "#B0BEC5",
                "#B0BEC5",
                "#B0BEC5",
                "#B0BEC5",
                "#B0BEC5",
                "red",
                "#B0BEC5",
                "#B0BEC5",
                "#B0BEC5",
                "#B0BEC5",
                "#B0BEC5",
                "#B0BEC5",
                "#B0BEC5",
                "#B0BEC5",
                "#B0BEC5",
                "#B0BEC5",
                "#B0BEC5",
                "#B0BEC5",
                "#B0BEC5"
               ]
              ]
             }
            ],
            "label": "Topic 20",
            "method": "update"
           },
           {
            "args": [
             {
              "marker.color": [
               [
                "#B0BEC5",
                "#B0BEC5",
                "#B0BEC5",
                "#B0BEC5",
                "#B0BEC5",
                "#B0BEC5",
                "#B0BEC5",
                "#B0BEC5",
                "#B0BEC5",
                "#B0BEC5",
                "#B0BEC5",
                "#B0BEC5",
                "#B0BEC5",
                "#B0BEC5",
                "#B0BEC5",
                "#B0BEC5",
                "#B0BEC5",
                "#B0BEC5",
                "#B0BEC5",
                "#B0BEC5",
                "#B0BEC5",
                "red",
                "#B0BEC5",
                "#B0BEC5",
                "#B0BEC5",
                "#B0BEC5",
                "#B0BEC5",
                "#B0BEC5",
                "#B0BEC5",
                "#B0BEC5",
                "#B0BEC5",
                "#B0BEC5",
                "#B0BEC5",
                "#B0BEC5"
               ]
              ]
             }
            ],
            "label": "Topic 21",
            "method": "update"
           },
           {
            "args": [
             {
              "marker.color": [
               [
                "#B0BEC5",
                "#B0BEC5",
                "#B0BEC5",
                "#B0BEC5",
                "#B0BEC5",
                "#B0BEC5",
                "#B0BEC5",
                "#B0BEC5",
                "#B0BEC5",
                "#B0BEC5",
                "#B0BEC5",
                "#B0BEC5",
                "#B0BEC5",
                "#B0BEC5",
                "#B0BEC5",
                "#B0BEC5",
                "#B0BEC5",
                "#B0BEC5",
                "#B0BEC5",
                "#B0BEC5",
                "#B0BEC5",
                "#B0BEC5",
                "red",
                "#B0BEC5",
                "#B0BEC5",
                "#B0BEC5",
                "#B0BEC5",
                "#B0BEC5",
                "#B0BEC5",
                "#B0BEC5",
                "#B0BEC5",
                "#B0BEC5",
                "#B0BEC5",
                "#B0BEC5"
               ]
              ]
             }
            ],
            "label": "Topic 22",
            "method": "update"
           },
           {
            "args": [
             {
              "marker.color": [
               [
                "#B0BEC5",
                "#B0BEC5",
                "#B0BEC5",
                "#B0BEC5",
                "#B0BEC5",
                "#B0BEC5",
                "#B0BEC5",
                "#B0BEC5",
                "#B0BEC5",
                "#B0BEC5",
                "#B0BEC5",
                "#B0BEC5",
                "#B0BEC5",
                "#B0BEC5",
                "#B0BEC5",
                "#B0BEC5",
                "#B0BEC5",
                "#B0BEC5",
                "#B0BEC5",
                "#B0BEC5",
                "#B0BEC5",
                "#B0BEC5",
                "#B0BEC5",
                "red",
                "#B0BEC5",
                "#B0BEC5",
                "#B0BEC5",
                "#B0BEC5",
                "#B0BEC5",
                "#B0BEC5",
                "#B0BEC5",
                "#B0BEC5",
                "#B0BEC5",
                "#B0BEC5"
               ]
              ]
             }
            ],
            "label": "Topic 23",
            "method": "update"
           },
           {
            "args": [
             {
              "marker.color": [
               [
                "#B0BEC5",
                "#B0BEC5",
                "#B0BEC5",
                "#B0BEC5",
                "#B0BEC5",
                "#B0BEC5",
                "#B0BEC5",
                "#B0BEC5",
                "#B0BEC5",
                "#B0BEC5",
                "#B0BEC5",
                "#B0BEC5",
                "#B0BEC5",
                "#B0BEC5",
                "#B0BEC5",
                "#B0BEC5",
                "#B0BEC5",
                "#B0BEC5",
                "#B0BEC5",
                "#B0BEC5",
                "#B0BEC5",
                "#B0BEC5",
                "#B0BEC5",
                "#B0BEC5",
                "red",
                "#B0BEC5",
                "#B0BEC5",
                "#B0BEC5",
                "#B0BEC5",
                "#B0BEC5",
                "#B0BEC5",
                "#B0BEC5",
                "#B0BEC5",
                "#B0BEC5"
               ]
              ]
             }
            ],
            "label": "Topic 24",
            "method": "update"
           },
           {
            "args": [
             {
              "marker.color": [
               [
                "#B0BEC5",
                "#B0BEC5",
                "#B0BEC5",
                "#B0BEC5",
                "#B0BEC5",
                "#B0BEC5",
                "#B0BEC5",
                "#B0BEC5",
                "#B0BEC5",
                "#B0BEC5",
                "#B0BEC5",
                "#B0BEC5",
                "#B0BEC5",
                "#B0BEC5",
                "#B0BEC5",
                "#B0BEC5",
                "#B0BEC5",
                "#B0BEC5",
                "#B0BEC5",
                "#B0BEC5",
                "#B0BEC5",
                "#B0BEC5",
                "#B0BEC5",
                "#B0BEC5",
                "#B0BEC5",
                "red",
                "#B0BEC5",
                "#B0BEC5",
                "#B0BEC5",
                "#B0BEC5",
                "#B0BEC5",
                "#B0BEC5",
                "#B0BEC5",
                "#B0BEC5"
               ]
              ]
             }
            ],
            "label": "Topic 25",
            "method": "update"
           },
           {
            "args": [
             {
              "marker.color": [
               [
                "#B0BEC5",
                "#B0BEC5",
                "#B0BEC5",
                "#B0BEC5",
                "#B0BEC5",
                "#B0BEC5",
                "#B0BEC5",
                "#B0BEC5",
                "#B0BEC5",
                "#B0BEC5",
                "#B0BEC5",
                "#B0BEC5",
                "#B0BEC5",
                "#B0BEC5",
                "#B0BEC5",
                "#B0BEC5",
                "#B0BEC5",
                "#B0BEC5",
                "#B0BEC5",
                "#B0BEC5",
                "#B0BEC5",
                "#B0BEC5",
                "#B0BEC5",
                "#B0BEC5",
                "#B0BEC5",
                "#B0BEC5",
                "red",
                "#B0BEC5",
                "#B0BEC5",
                "#B0BEC5",
                "#B0BEC5",
                "#B0BEC5",
                "#B0BEC5",
                "#B0BEC5"
               ]
              ]
             }
            ],
            "label": "Topic 26",
            "method": "update"
           },
           {
            "args": [
             {
              "marker.color": [
               [
                "#B0BEC5",
                "#B0BEC5",
                "#B0BEC5",
                "#B0BEC5",
                "#B0BEC5",
                "#B0BEC5",
                "#B0BEC5",
                "#B0BEC5",
                "#B0BEC5",
                "#B0BEC5",
                "#B0BEC5",
                "#B0BEC5",
                "#B0BEC5",
                "#B0BEC5",
                "#B0BEC5",
                "#B0BEC5",
                "#B0BEC5",
                "#B0BEC5",
                "#B0BEC5",
                "#B0BEC5",
                "#B0BEC5",
                "#B0BEC5",
                "#B0BEC5",
                "#B0BEC5",
                "#B0BEC5",
                "#B0BEC5",
                "#B0BEC5",
                "red",
                "#B0BEC5",
                "#B0BEC5",
                "#B0BEC5",
                "#B0BEC5",
                "#B0BEC5",
                "#B0BEC5"
               ]
              ]
             }
            ],
            "label": "Topic 27",
            "method": "update"
           },
           {
            "args": [
             {
              "marker.color": [
               [
                "#B0BEC5",
                "#B0BEC5",
                "#B0BEC5",
                "#B0BEC5",
                "#B0BEC5",
                "#B0BEC5",
                "#B0BEC5",
                "#B0BEC5",
                "#B0BEC5",
                "#B0BEC5",
                "#B0BEC5",
                "#B0BEC5",
                "#B0BEC5",
                "#B0BEC5",
                "#B0BEC5",
                "#B0BEC5",
                "#B0BEC5",
                "#B0BEC5",
                "#B0BEC5",
                "#B0BEC5",
                "#B0BEC5",
                "#B0BEC5",
                "#B0BEC5",
                "#B0BEC5",
                "#B0BEC5",
                "#B0BEC5",
                "#B0BEC5",
                "#B0BEC5",
                "red",
                "#B0BEC5",
                "#B0BEC5",
                "#B0BEC5",
                "#B0BEC5",
                "#B0BEC5"
               ]
              ]
             }
            ],
            "label": "Topic 28",
            "method": "update"
           },
           {
            "args": [
             {
              "marker.color": [
               [
                "#B0BEC5",
                "#B0BEC5",
                "#B0BEC5",
                "#B0BEC5",
                "#B0BEC5",
                "#B0BEC5",
                "#B0BEC5",
                "#B0BEC5",
                "#B0BEC5",
                "#B0BEC5",
                "#B0BEC5",
                "#B0BEC5",
                "#B0BEC5",
                "#B0BEC5",
                "#B0BEC5",
                "#B0BEC5",
                "#B0BEC5",
                "#B0BEC5",
                "#B0BEC5",
                "#B0BEC5",
                "#B0BEC5",
                "#B0BEC5",
                "#B0BEC5",
                "#B0BEC5",
                "#B0BEC5",
                "#B0BEC5",
                "#B0BEC5",
                "#B0BEC5",
                "#B0BEC5",
                "red",
                "#B0BEC5",
                "#B0BEC5",
                "#B0BEC5",
                "#B0BEC5"
               ]
              ]
             }
            ],
            "label": "Topic 29",
            "method": "update"
           },
           {
            "args": [
             {
              "marker.color": [
               [
                "#B0BEC5",
                "#B0BEC5",
                "#B0BEC5",
                "#B0BEC5",
                "#B0BEC5",
                "#B0BEC5",
                "#B0BEC5",
                "#B0BEC5",
                "#B0BEC5",
                "#B0BEC5",
                "#B0BEC5",
                "#B0BEC5",
                "#B0BEC5",
                "#B0BEC5",
                "#B0BEC5",
                "#B0BEC5",
                "#B0BEC5",
                "#B0BEC5",
                "#B0BEC5",
                "#B0BEC5",
                "#B0BEC5",
                "#B0BEC5",
                "#B0BEC5",
                "#B0BEC5",
                "#B0BEC5",
                "#B0BEC5",
                "#B0BEC5",
                "#B0BEC5",
                "#B0BEC5",
                "#B0BEC5",
                "red",
                "#B0BEC5",
                "#B0BEC5",
                "#B0BEC5"
               ]
              ]
             }
            ],
            "label": "Topic 30",
            "method": "update"
           },
           {
            "args": [
             {
              "marker.color": [
               [
                "#B0BEC5",
                "#B0BEC5",
                "#B0BEC5",
                "#B0BEC5",
                "#B0BEC5",
                "#B0BEC5",
                "#B0BEC5",
                "#B0BEC5",
                "#B0BEC5",
                "#B0BEC5",
                "#B0BEC5",
                "#B0BEC5",
                "#B0BEC5",
                "#B0BEC5",
                "#B0BEC5",
                "#B0BEC5",
                "#B0BEC5",
                "#B0BEC5",
                "#B0BEC5",
                "#B0BEC5",
                "#B0BEC5",
                "#B0BEC5",
                "#B0BEC5",
                "#B0BEC5",
                "#B0BEC5",
                "#B0BEC5",
                "#B0BEC5",
                "#B0BEC5",
                "#B0BEC5",
                "#B0BEC5",
                "#B0BEC5",
                "red",
                "#B0BEC5",
                "#B0BEC5"
               ]
              ]
             }
            ],
            "label": "Topic 31",
            "method": "update"
           },
           {
            "args": [
             {
              "marker.color": [
               [
                "#B0BEC5",
                "#B0BEC5",
                "#B0BEC5",
                "#B0BEC5",
                "#B0BEC5",
                "#B0BEC5",
                "#B0BEC5",
                "#B0BEC5",
                "#B0BEC5",
                "#B0BEC5",
                "#B0BEC5",
                "#B0BEC5",
                "#B0BEC5",
                "#B0BEC5",
                "#B0BEC5",
                "#B0BEC5",
                "#B0BEC5",
                "#B0BEC5",
                "#B0BEC5",
                "#B0BEC5",
                "#B0BEC5",
                "#B0BEC5",
                "#B0BEC5",
                "#B0BEC5",
                "#B0BEC5",
                "#B0BEC5",
                "#B0BEC5",
                "#B0BEC5",
                "#B0BEC5",
                "#B0BEC5",
                "#B0BEC5",
                "#B0BEC5",
                "red",
                "#B0BEC5"
               ]
              ]
             }
            ],
            "label": "Topic 32",
            "method": "update"
           },
           {
            "args": [
             {
              "marker.color": [
               [
                "#B0BEC5",
                "#B0BEC5",
                "#B0BEC5",
                "#B0BEC5",
                "#B0BEC5",
                "#B0BEC5",
                "#B0BEC5",
                "#B0BEC5",
                "#B0BEC5",
                "#B0BEC5",
                "#B0BEC5",
                "#B0BEC5",
                "#B0BEC5",
                "#B0BEC5",
                "#B0BEC5",
                "#B0BEC5",
                "#B0BEC5",
                "#B0BEC5",
                "#B0BEC5",
                "#B0BEC5",
                "#B0BEC5",
                "#B0BEC5",
                "#B0BEC5",
                "#B0BEC5",
                "#B0BEC5",
                "#B0BEC5",
                "#B0BEC5",
                "#B0BEC5",
                "#B0BEC5",
                "#B0BEC5",
                "#B0BEC5",
                "#B0BEC5",
                "#B0BEC5",
                "red"
               ]
              ]
             }
            ],
            "label": "Topic 33",
            "method": "update"
           }
          ]
         }
        ],
        "template": {
         "data": {
          "bar": [
           {
            "error_x": {
             "color": "rgb(36,36,36)"
            },
            "error_y": {
             "color": "rgb(36,36,36)"
            },
            "marker": {
             "line": {
              "color": "white",
              "width": 0.5
             },
             "pattern": {
              "fillmode": "overlay",
              "size": 10,
              "solidity": 0.2
             }
            },
            "type": "bar"
           }
          ],
          "barpolar": [
           {
            "marker": {
             "line": {
              "color": "white",
              "width": 0.5
             },
             "pattern": {
              "fillmode": "overlay",
              "size": 10,
              "solidity": 0.2
             }
            },
            "type": "barpolar"
           }
          ],
          "carpet": [
           {
            "aaxis": {
             "endlinecolor": "rgb(36,36,36)",
             "gridcolor": "white",
             "linecolor": "white",
             "minorgridcolor": "white",
             "startlinecolor": "rgb(36,36,36)"
            },
            "baxis": {
             "endlinecolor": "rgb(36,36,36)",
             "gridcolor": "white",
             "linecolor": "white",
             "minorgridcolor": "white",
             "startlinecolor": "rgb(36,36,36)"
            },
            "type": "carpet"
           }
          ],
          "choropleth": [
           {
            "colorbar": {
             "outlinewidth": 1,
             "tickcolor": "rgb(36,36,36)",
             "ticks": "outside"
            },
            "type": "choropleth"
           }
          ],
          "contour": [
           {
            "colorbar": {
             "outlinewidth": 1,
             "tickcolor": "rgb(36,36,36)",
             "ticks": "outside"
            },
            "colorscale": [
             [
              0,
              "#440154"
             ],
             [
              0.1111111111111111,
              "#482878"
             ],
             [
              0.2222222222222222,
              "#3e4989"
             ],
             [
              0.3333333333333333,
              "#31688e"
             ],
             [
              0.4444444444444444,
              "#26828e"
             ],
             [
              0.5555555555555556,
              "#1f9e89"
             ],
             [
              0.6666666666666666,
              "#35b779"
             ],
             [
              0.7777777777777778,
              "#6ece58"
             ],
             [
              0.8888888888888888,
              "#b5de2b"
             ],
             [
              1,
              "#fde725"
             ]
            ],
            "type": "contour"
           }
          ],
          "contourcarpet": [
           {
            "colorbar": {
             "outlinewidth": 1,
             "tickcolor": "rgb(36,36,36)",
             "ticks": "outside"
            },
            "type": "contourcarpet"
           }
          ],
          "heatmap": [
           {
            "colorbar": {
             "outlinewidth": 1,
             "tickcolor": "rgb(36,36,36)",
             "ticks": "outside"
            },
            "colorscale": [
             [
              0,
              "#440154"
             ],
             [
              0.1111111111111111,
              "#482878"
             ],
             [
              0.2222222222222222,
              "#3e4989"
             ],
             [
              0.3333333333333333,
              "#31688e"
             ],
             [
              0.4444444444444444,
              "#26828e"
             ],
             [
              0.5555555555555556,
              "#1f9e89"
             ],
             [
              0.6666666666666666,
              "#35b779"
             ],
             [
              0.7777777777777778,
              "#6ece58"
             ],
             [
              0.8888888888888888,
              "#b5de2b"
             ],
             [
              1,
              "#fde725"
             ]
            ],
            "type": "heatmap"
           }
          ],
          "heatmapgl": [
           {
            "colorbar": {
             "outlinewidth": 1,
             "tickcolor": "rgb(36,36,36)",
             "ticks": "outside"
            },
            "colorscale": [
             [
              0,
              "#440154"
             ],
             [
              0.1111111111111111,
              "#482878"
             ],
             [
              0.2222222222222222,
              "#3e4989"
             ],
             [
              0.3333333333333333,
              "#31688e"
             ],
             [
              0.4444444444444444,
              "#26828e"
             ],
             [
              0.5555555555555556,
              "#1f9e89"
             ],
             [
              0.6666666666666666,
              "#35b779"
             ],
             [
              0.7777777777777778,
              "#6ece58"
             ],
             [
              0.8888888888888888,
              "#b5de2b"
             ],
             [
              1,
              "#fde725"
             ]
            ],
            "type": "heatmapgl"
           }
          ],
          "histogram": [
           {
            "marker": {
             "line": {
              "color": "white",
              "width": 0.6
             }
            },
            "type": "histogram"
           }
          ],
          "histogram2d": [
           {
            "colorbar": {
             "outlinewidth": 1,
             "tickcolor": "rgb(36,36,36)",
             "ticks": "outside"
            },
            "colorscale": [
             [
              0,
              "#440154"
             ],
             [
              0.1111111111111111,
              "#482878"
             ],
             [
              0.2222222222222222,
              "#3e4989"
             ],
             [
              0.3333333333333333,
              "#31688e"
             ],
             [
              0.4444444444444444,
              "#26828e"
             ],
             [
              0.5555555555555556,
              "#1f9e89"
             ],
             [
              0.6666666666666666,
              "#35b779"
             ],
             [
              0.7777777777777778,
              "#6ece58"
             ],
             [
              0.8888888888888888,
              "#b5de2b"
             ],
             [
              1,
              "#fde725"
             ]
            ],
            "type": "histogram2d"
           }
          ],
          "histogram2dcontour": [
           {
            "colorbar": {
             "outlinewidth": 1,
             "tickcolor": "rgb(36,36,36)",
             "ticks": "outside"
            },
            "colorscale": [
             [
              0,
              "#440154"
             ],
             [
              0.1111111111111111,
              "#482878"
             ],
             [
              0.2222222222222222,
              "#3e4989"
             ],
             [
              0.3333333333333333,
              "#31688e"
             ],
             [
              0.4444444444444444,
              "#26828e"
             ],
             [
              0.5555555555555556,
              "#1f9e89"
             ],
             [
              0.6666666666666666,
              "#35b779"
             ],
             [
              0.7777777777777778,
              "#6ece58"
             ],
             [
              0.8888888888888888,
              "#b5de2b"
             ],
             [
              1,
              "#fde725"
             ]
            ],
            "type": "histogram2dcontour"
           }
          ],
          "mesh3d": [
           {
            "colorbar": {
             "outlinewidth": 1,
             "tickcolor": "rgb(36,36,36)",
             "ticks": "outside"
            },
            "type": "mesh3d"
           }
          ],
          "parcoords": [
           {
            "line": {
             "colorbar": {
              "outlinewidth": 1,
              "tickcolor": "rgb(36,36,36)",
              "ticks": "outside"
             }
            },
            "type": "parcoords"
           }
          ],
          "pie": [
           {
            "automargin": true,
            "type": "pie"
           }
          ],
          "scatter": [
           {
            "fillpattern": {
             "fillmode": "overlay",
             "size": 10,
             "solidity": 0.2
            },
            "type": "scatter"
           }
          ],
          "scatter3d": [
           {
            "line": {
             "colorbar": {
              "outlinewidth": 1,
              "tickcolor": "rgb(36,36,36)",
              "ticks": "outside"
             }
            },
            "marker": {
             "colorbar": {
              "outlinewidth": 1,
              "tickcolor": "rgb(36,36,36)",
              "ticks": "outside"
             }
            },
            "type": "scatter3d"
           }
          ],
          "scattercarpet": [
           {
            "marker": {
             "colorbar": {
              "outlinewidth": 1,
              "tickcolor": "rgb(36,36,36)",
              "ticks": "outside"
             }
            },
            "type": "scattercarpet"
           }
          ],
          "scattergeo": [
           {
            "marker": {
             "colorbar": {
              "outlinewidth": 1,
              "tickcolor": "rgb(36,36,36)",
              "ticks": "outside"
             }
            },
            "type": "scattergeo"
           }
          ],
          "scattergl": [
           {
            "marker": {
             "colorbar": {
              "outlinewidth": 1,
              "tickcolor": "rgb(36,36,36)",
              "ticks": "outside"
             }
            },
            "type": "scattergl"
           }
          ],
          "scattermapbox": [
           {
            "marker": {
             "colorbar": {
              "outlinewidth": 1,
              "tickcolor": "rgb(36,36,36)",
              "ticks": "outside"
             }
            },
            "type": "scattermapbox"
           }
          ],
          "scatterpolar": [
           {
            "marker": {
             "colorbar": {
              "outlinewidth": 1,
              "tickcolor": "rgb(36,36,36)",
              "ticks": "outside"
             }
            },
            "type": "scatterpolar"
           }
          ],
          "scatterpolargl": [
           {
            "marker": {
             "colorbar": {
              "outlinewidth": 1,
              "tickcolor": "rgb(36,36,36)",
              "ticks": "outside"
             }
            },
            "type": "scatterpolargl"
           }
          ],
          "scatterternary": [
           {
            "marker": {
             "colorbar": {
              "outlinewidth": 1,
              "tickcolor": "rgb(36,36,36)",
              "ticks": "outside"
             }
            },
            "type": "scatterternary"
           }
          ],
          "surface": [
           {
            "colorbar": {
             "outlinewidth": 1,
             "tickcolor": "rgb(36,36,36)",
             "ticks": "outside"
            },
            "colorscale": [
             [
              0,
              "#440154"
             ],
             [
              0.1111111111111111,
              "#482878"
             ],
             [
              0.2222222222222222,
              "#3e4989"
             ],
             [
              0.3333333333333333,
              "#31688e"
             ],
             [
              0.4444444444444444,
              "#26828e"
             ],
             [
              0.5555555555555556,
              "#1f9e89"
             ],
             [
              0.6666666666666666,
              "#35b779"
             ],
             [
              0.7777777777777778,
              "#6ece58"
             ],
             [
              0.8888888888888888,
              "#b5de2b"
             ],
             [
              1,
              "#fde725"
             ]
            ],
            "type": "surface"
           }
          ],
          "table": [
           {
            "cells": {
             "fill": {
              "color": "rgb(237,237,237)"
             },
             "line": {
              "color": "white"
             }
            },
            "header": {
             "fill": {
              "color": "rgb(217,217,217)"
             },
             "line": {
              "color": "white"
             }
            },
            "type": "table"
           }
          ]
         },
         "layout": {
          "annotationdefaults": {
           "arrowhead": 0,
           "arrowwidth": 1
          },
          "autotypenumbers": "strict",
          "coloraxis": {
           "colorbar": {
            "outlinewidth": 1,
            "tickcolor": "rgb(36,36,36)",
            "ticks": "outside"
           }
          },
          "colorscale": {
           "diverging": [
            [
             0,
             "rgb(103,0,31)"
            ],
            [
             0.1,
             "rgb(178,24,43)"
            ],
            [
             0.2,
             "rgb(214,96,77)"
            ],
            [
             0.3,
             "rgb(244,165,130)"
            ],
            [
             0.4,
             "rgb(253,219,199)"
            ],
            [
             0.5,
             "rgb(247,247,247)"
            ],
            [
             0.6,
             "rgb(209,229,240)"
            ],
            [
             0.7,
             "rgb(146,197,222)"
            ],
            [
             0.8,
             "rgb(67,147,195)"
            ],
            [
             0.9,
             "rgb(33,102,172)"
            ],
            [
             1,
             "rgb(5,48,97)"
            ]
           ],
           "sequential": [
            [
             0,
             "#440154"
            ],
            [
             0.1111111111111111,
             "#482878"
            ],
            [
             0.2222222222222222,
             "#3e4989"
            ],
            [
             0.3333333333333333,
             "#31688e"
            ],
            [
             0.4444444444444444,
             "#26828e"
            ],
            [
             0.5555555555555556,
             "#1f9e89"
            ],
            [
             0.6666666666666666,
             "#35b779"
            ],
            [
             0.7777777777777778,
             "#6ece58"
            ],
            [
             0.8888888888888888,
             "#b5de2b"
            ],
            [
             1,
             "#fde725"
            ]
           ],
           "sequentialminus": [
            [
             0,
             "#440154"
            ],
            [
             0.1111111111111111,
             "#482878"
            ],
            [
             0.2222222222222222,
             "#3e4989"
            ],
            [
             0.3333333333333333,
             "#31688e"
            ],
            [
             0.4444444444444444,
             "#26828e"
            ],
            [
             0.5555555555555556,
             "#1f9e89"
            ],
            [
             0.6666666666666666,
             "#35b779"
            ],
            [
             0.7777777777777778,
             "#6ece58"
            ],
            [
             0.8888888888888888,
             "#b5de2b"
            ],
            [
             1,
             "#fde725"
            ]
           ]
          },
          "colorway": [
           "#1F77B4",
           "#FF7F0E",
           "#2CA02C",
           "#D62728",
           "#9467BD",
           "#8C564B",
           "#E377C2",
           "#7F7F7F",
           "#BCBD22",
           "#17BECF"
          ],
          "font": {
           "color": "rgb(36,36,36)"
          },
          "geo": {
           "bgcolor": "white",
           "lakecolor": "white",
           "landcolor": "white",
           "showlakes": true,
           "showland": true,
           "subunitcolor": "white"
          },
          "hoverlabel": {
           "align": "left"
          },
          "hovermode": "closest",
          "mapbox": {
           "style": "light"
          },
          "paper_bgcolor": "white",
          "plot_bgcolor": "white",
          "polar": {
           "angularaxis": {
            "gridcolor": "rgb(232,232,232)",
            "linecolor": "rgb(36,36,36)",
            "showgrid": false,
            "showline": true,
            "ticks": "outside"
           },
           "bgcolor": "white",
           "radialaxis": {
            "gridcolor": "rgb(232,232,232)",
            "linecolor": "rgb(36,36,36)",
            "showgrid": false,
            "showline": true,
            "ticks": "outside"
           }
          },
          "scene": {
           "xaxis": {
            "backgroundcolor": "white",
            "gridcolor": "rgb(232,232,232)",
            "gridwidth": 2,
            "linecolor": "rgb(36,36,36)",
            "showbackground": true,
            "showgrid": false,
            "showline": true,
            "ticks": "outside",
            "zeroline": false,
            "zerolinecolor": "rgb(36,36,36)"
           },
           "yaxis": {
            "backgroundcolor": "white",
            "gridcolor": "rgb(232,232,232)",
            "gridwidth": 2,
            "linecolor": "rgb(36,36,36)",
            "showbackground": true,
            "showgrid": false,
            "showline": true,
            "ticks": "outside",
            "zeroline": false,
            "zerolinecolor": "rgb(36,36,36)"
           },
           "zaxis": {
            "backgroundcolor": "white",
            "gridcolor": "rgb(232,232,232)",
            "gridwidth": 2,
            "linecolor": "rgb(36,36,36)",
            "showbackground": true,
            "showgrid": false,
            "showline": true,
            "ticks": "outside",
            "zeroline": false,
            "zerolinecolor": "rgb(36,36,36)"
           }
          },
          "shapedefaults": {
           "fillcolor": "black",
           "line": {
            "width": 0
           },
           "opacity": 0.3
          },
          "ternary": {
           "aaxis": {
            "gridcolor": "rgb(232,232,232)",
            "linecolor": "rgb(36,36,36)",
            "showgrid": false,
            "showline": true,
            "ticks": "outside"
           },
           "baxis": {
            "gridcolor": "rgb(232,232,232)",
            "linecolor": "rgb(36,36,36)",
            "showgrid": false,
            "showline": true,
            "ticks": "outside"
           },
           "bgcolor": "white",
           "caxis": {
            "gridcolor": "rgb(232,232,232)",
            "linecolor": "rgb(36,36,36)",
            "showgrid": false,
            "showline": true,
            "ticks": "outside"
           }
          },
          "title": {
           "x": 0.05
          },
          "xaxis": {
           "automargin": true,
           "gridcolor": "rgb(232,232,232)",
           "linecolor": "rgb(36,36,36)",
           "showgrid": false,
           "showline": true,
           "ticks": "outside",
           "title": {
            "standoff": 15
           },
           "zeroline": false,
           "zerolinecolor": "rgb(36,36,36)"
          },
          "yaxis": {
           "automargin": true,
           "gridcolor": "rgb(232,232,232)",
           "linecolor": "rgb(36,36,36)",
           "showgrid": false,
           "showline": true,
           "ticks": "outside",
           "title": {
            "standoff": 15
           },
           "zeroline": false,
           "zerolinecolor": "rgb(36,36,36)"
          }
         }
        },
        "title": {
         "font": {
          "color": "Black",
          "size": 22
         },
         "text": "<b>Intertopic Distance Map",
         "x": 0.5,
         "xanchor": "center",
         "y": 0.95,
         "yanchor": "top"
        },
        "width": 650,
        "xaxis": {
         "anchor": "y",
         "domain": [
          0,
          1
         ],
         "range": [
          4.074036002159119,
          21.570567512512206
         ],
         "title": {
          "text": ""
         },
         "visible": false
        },
        "yaxis": {
         "anchor": "x",
         "domain": [
          0,
          1
         ],
         "range": [
          4.864544773101807,
          23.63230390548706
         ],
         "title": {
          "text": ""
         },
         "visible": false
        }
       }
      },
      "text/html": [
       "<div>                            <div id=\"ea58ffb2-1954-4d50-aa1d-f0d94f334a6d\" class=\"plotly-graph-div\" style=\"height:650px; width:650px;\"></div>            <script type=\"text/javascript\">                require([\"plotly\"], function(Plotly) {                    window.PLOTLYENV=window.PLOTLYENV || {};                                    if (document.getElementById(\"ea58ffb2-1954-4d50-aa1d-f0d94f334a6d\")) {                    Plotly.newPlot(                        \"ea58ffb2-1954-4d50-aa1d-f0d94f334a6d\",                        [{\"customdata\":[[0,\"government | sort | start | security | worked\",261],[1,\"president | house | today | got | united state\",130],[2,\"legal | case | program | supposed | forward\",103],[3,\"network | access | company | record | basis\",85],[4,\"turn | happy | took | bring | later\",43],[5,\"right | yeah | wrong | supposed | maybe\",42],[6,\"journalist | story | context | case | public\",34],[7,\"security | network | believe | work | united state\",32],[8,\"book | read | history | permanent | internet\",30],[9,\"running | building | moment | day | like\",26],[10,\"post | story | lost | read | maybe\",26],[11,\"okay | sorry | sure | completely | good\",24],[12,\"maybe | matter | knew | forward | world\",24],[13,\"think | changed | look | case | end\",22],[14,\" |  |  |  | \",21],[15,\"end | sign | got | couple | program\",21],[16,\"happening | kind | time | actively | chance\",21],[17,\"sort | history | want say | clear | idea\",20],[18,\"public | bad | mean | basis | simply\",20],[19,\"say | said | told | great | maybe\",18],[20,\"work | company | happens | office | day\",18],[21,\"guy | want say | place | end | problem\",16],[22,\"like | couple | warrant | listening | talked\",14],[23,\"record | permanent | warrant | wanted | called\",14],[24,\"listening | worst | right got | context | permanent\",14],[25,\"service | bad | group | today | talked\",14],[26,\"month | le | change | year year | probably\",14],[27,\"body | good | pretty | man | job\",12],[28,\"people | instead | actively | told | wrong\",12],[29,\"reason | beginning | big | suddenly | lot people\",12],[30,\"american | make | lost | suddenly | moment\",12],[31,\"google | allowed | anymore | know | lot people\",11],[32,\"google | talk | internet | want able | anybody\",10],[33,\"program | unless | access | word | need\",10]],\"hovertemplate\":\"<b>Topic %{customdata[0]}</b><br>Words: %{customdata[1]}<br>Size: %{customdata[2]}\",\"legendgroup\":\"\",\"marker\":{\"color\":\"#B0BEC5\",\"size\":[261,130,103,85,43,42,34,32,30,26,26,24,24,22,21,21,21,20,20,18,18,16,14,14,14,14,14,12,12,12,12,11,10,10],\"sizemode\":\"area\",\"sizeref\":0.163125,\"symbol\":\"circle\",\"line\":{\"color\":\"DarkSlateGrey\",\"width\":2}},\"mode\":\"markers\",\"name\":\"\",\"orientation\":\"v\",\"showlegend\":false,\"x\":[10.435532569885254,7.754559516906738,9.937661170959473,7.034677028656006,7.635668754577637,5.059238910675049,9.009869575500488,10.19979476928711,7.864530563354492,10.107723236083984,8.592447280883789,18.35043716430664,9.844182014465332,18.757015228271484,null,9.296927452087402,10.050145149230957,9.628573417663574,8.821390151977539,5.037692070007324,9.799783706665039,9.34626293182373,11.366395950317383,7.638871669769287,6.860641956329346,9.471114158630371,9.492720603942871,18.636140823364258,4.792983531951904,11.740532875061035,11.86147403717041,9.061651229858398,9.244362831115723,8.32876205444336],\"xaxis\":\"x\",\"y\":[14.477923393249512,15.141683578491211,13.825435638427734,13.949098587036133,15.075554847717285,20.549829483032227,14.612112045288086,15.286149978637695,16.730398178100586,14.896283149719238,14.048966407775879,6.1294403076171875,13.73752212524414,5.722993850708008,null,10.350372314453125,14.470376968383789,14.306763648986816,15.496747016906738,20.529502868652344,15.080568313598633,10.270148277282715,14.238753318786621,16.93570899963379,13.831296920776367,15.061891555786133,9.975298881530762,5.843825340270996,20.279403686523438,14.265378952026367,14.398286819458008,16.66246795654297,16.469865798950195,13.885629653930664],\"yaxis\":\"y\",\"type\":\"scatter\"}],                        {\"template\":{\"data\":{\"barpolar\":[{\"marker\":{\"line\":{\"color\":\"white\",\"width\":0.5},\"pattern\":{\"fillmode\":\"overlay\",\"size\":10,\"solidity\":0.2}},\"type\":\"barpolar\"}],\"bar\":[{\"error_x\":{\"color\":\"rgb(36,36,36)\"},\"error_y\":{\"color\":\"rgb(36,36,36)\"},\"marker\":{\"line\":{\"color\":\"white\",\"width\":0.5},\"pattern\":{\"fillmode\":\"overlay\",\"size\":10,\"solidity\":0.2}},\"type\":\"bar\"}],\"carpet\":[{\"aaxis\":{\"endlinecolor\":\"rgb(36,36,36)\",\"gridcolor\":\"white\",\"linecolor\":\"white\",\"minorgridcolor\":\"white\",\"startlinecolor\":\"rgb(36,36,36)\"},\"baxis\":{\"endlinecolor\":\"rgb(36,36,36)\",\"gridcolor\":\"white\",\"linecolor\":\"white\",\"minorgridcolor\":\"white\",\"startlinecolor\":\"rgb(36,36,36)\"},\"type\":\"carpet\"}],\"choropleth\":[{\"colorbar\":{\"outlinewidth\":1,\"tickcolor\":\"rgb(36,36,36)\",\"ticks\":\"outside\"},\"type\":\"choropleth\"}],\"contourcarpet\":[{\"colorbar\":{\"outlinewidth\":1,\"tickcolor\":\"rgb(36,36,36)\",\"ticks\":\"outside\"},\"type\":\"contourcarpet\"}],\"contour\":[{\"colorbar\":{\"outlinewidth\":1,\"tickcolor\":\"rgb(36,36,36)\",\"ticks\":\"outside\"},\"colorscale\":[[0.0,\"#440154\"],[0.1111111111111111,\"#482878\"],[0.2222222222222222,\"#3e4989\"],[0.3333333333333333,\"#31688e\"],[0.4444444444444444,\"#26828e\"],[0.5555555555555556,\"#1f9e89\"],[0.6666666666666666,\"#35b779\"],[0.7777777777777778,\"#6ece58\"],[0.8888888888888888,\"#b5de2b\"],[1.0,\"#fde725\"]],\"type\":\"contour\"}],\"heatmapgl\":[{\"colorbar\":{\"outlinewidth\":1,\"tickcolor\":\"rgb(36,36,36)\",\"ticks\":\"outside\"},\"colorscale\":[[0.0,\"#440154\"],[0.1111111111111111,\"#482878\"],[0.2222222222222222,\"#3e4989\"],[0.3333333333333333,\"#31688e\"],[0.4444444444444444,\"#26828e\"],[0.5555555555555556,\"#1f9e89\"],[0.6666666666666666,\"#35b779\"],[0.7777777777777778,\"#6ece58\"],[0.8888888888888888,\"#b5de2b\"],[1.0,\"#fde725\"]],\"type\":\"heatmapgl\"}],\"heatmap\":[{\"colorbar\":{\"outlinewidth\":1,\"tickcolor\":\"rgb(36,36,36)\",\"ticks\":\"outside\"},\"colorscale\":[[0.0,\"#440154\"],[0.1111111111111111,\"#482878\"],[0.2222222222222222,\"#3e4989\"],[0.3333333333333333,\"#31688e\"],[0.4444444444444444,\"#26828e\"],[0.5555555555555556,\"#1f9e89\"],[0.6666666666666666,\"#35b779\"],[0.7777777777777778,\"#6ece58\"],[0.8888888888888888,\"#b5de2b\"],[1.0,\"#fde725\"]],\"type\":\"heatmap\"}],\"histogram2dcontour\":[{\"colorbar\":{\"outlinewidth\":1,\"tickcolor\":\"rgb(36,36,36)\",\"ticks\":\"outside\"},\"colorscale\":[[0.0,\"#440154\"],[0.1111111111111111,\"#482878\"],[0.2222222222222222,\"#3e4989\"],[0.3333333333333333,\"#31688e\"],[0.4444444444444444,\"#26828e\"],[0.5555555555555556,\"#1f9e89\"],[0.6666666666666666,\"#35b779\"],[0.7777777777777778,\"#6ece58\"],[0.8888888888888888,\"#b5de2b\"],[1.0,\"#fde725\"]],\"type\":\"histogram2dcontour\"}],\"histogram2d\":[{\"colorbar\":{\"outlinewidth\":1,\"tickcolor\":\"rgb(36,36,36)\",\"ticks\":\"outside\"},\"colorscale\":[[0.0,\"#440154\"],[0.1111111111111111,\"#482878\"],[0.2222222222222222,\"#3e4989\"],[0.3333333333333333,\"#31688e\"],[0.4444444444444444,\"#26828e\"],[0.5555555555555556,\"#1f9e89\"],[0.6666666666666666,\"#35b779\"],[0.7777777777777778,\"#6ece58\"],[0.8888888888888888,\"#b5de2b\"],[1.0,\"#fde725\"]],\"type\":\"histogram2d\"}],\"histogram\":[{\"marker\":{\"line\":{\"color\":\"white\",\"width\":0.6}},\"type\":\"histogram\"}],\"mesh3d\":[{\"colorbar\":{\"outlinewidth\":1,\"tickcolor\":\"rgb(36,36,36)\",\"ticks\":\"outside\"},\"type\":\"mesh3d\"}],\"parcoords\":[{\"line\":{\"colorbar\":{\"outlinewidth\":1,\"tickcolor\":\"rgb(36,36,36)\",\"ticks\":\"outside\"}},\"type\":\"parcoords\"}],\"pie\":[{\"automargin\":true,\"type\":\"pie\"}],\"scatter3d\":[{\"line\":{\"colorbar\":{\"outlinewidth\":1,\"tickcolor\":\"rgb(36,36,36)\",\"ticks\":\"outside\"}},\"marker\":{\"colorbar\":{\"outlinewidth\":1,\"tickcolor\":\"rgb(36,36,36)\",\"ticks\":\"outside\"}},\"type\":\"scatter3d\"}],\"scattercarpet\":[{\"marker\":{\"colorbar\":{\"outlinewidth\":1,\"tickcolor\":\"rgb(36,36,36)\",\"ticks\":\"outside\"}},\"type\":\"scattercarpet\"}],\"scattergeo\":[{\"marker\":{\"colorbar\":{\"outlinewidth\":1,\"tickcolor\":\"rgb(36,36,36)\",\"ticks\":\"outside\"}},\"type\":\"scattergeo\"}],\"scattergl\":[{\"marker\":{\"colorbar\":{\"outlinewidth\":1,\"tickcolor\":\"rgb(36,36,36)\",\"ticks\":\"outside\"}},\"type\":\"scattergl\"}],\"scattermapbox\":[{\"marker\":{\"colorbar\":{\"outlinewidth\":1,\"tickcolor\":\"rgb(36,36,36)\",\"ticks\":\"outside\"}},\"type\":\"scattermapbox\"}],\"scatterpolargl\":[{\"marker\":{\"colorbar\":{\"outlinewidth\":1,\"tickcolor\":\"rgb(36,36,36)\",\"ticks\":\"outside\"}},\"type\":\"scatterpolargl\"}],\"scatterpolar\":[{\"marker\":{\"colorbar\":{\"outlinewidth\":1,\"tickcolor\":\"rgb(36,36,36)\",\"ticks\":\"outside\"}},\"type\":\"scatterpolar\"}],\"scatter\":[{\"fillpattern\":{\"fillmode\":\"overlay\",\"size\":10,\"solidity\":0.2},\"type\":\"scatter\"}],\"scatterternary\":[{\"marker\":{\"colorbar\":{\"outlinewidth\":1,\"tickcolor\":\"rgb(36,36,36)\",\"ticks\":\"outside\"}},\"type\":\"scatterternary\"}],\"surface\":[{\"colorbar\":{\"outlinewidth\":1,\"tickcolor\":\"rgb(36,36,36)\",\"ticks\":\"outside\"},\"colorscale\":[[0.0,\"#440154\"],[0.1111111111111111,\"#482878\"],[0.2222222222222222,\"#3e4989\"],[0.3333333333333333,\"#31688e\"],[0.4444444444444444,\"#26828e\"],[0.5555555555555556,\"#1f9e89\"],[0.6666666666666666,\"#35b779\"],[0.7777777777777778,\"#6ece58\"],[0.8888888888888888,\"#b5de2b\"],[1.0,\"#fde725\"]],\"type\":\"surface\"}],\"table\":[{\"cells\":{\"fill\":{\"color\":\"rgb(237,237,237)\"},\"line\":{\"color\":\"white\"}},\"header\":{\"fill\":{\"color\":\"rgb(217,217,217)\"},\"line\":{\"color\":\"white\"}},\"type\":\"table\"}]},\"layout\":{\"annotationdefaults\":{\"arrowhead\":0,\"arrowwidth\":1},\"autotypenumbers\":\"strict\",\"coloraxis\":{\"colorbar\":{\"outlinewidth\":1,\"tickcolor\":\"rgb(36,36,36)\",\"ticks\":\"outside\"}},\"colorscale\":{\"diverging\":[[0.0,\"rgb(103,0,31)\"],[0.1,\"rgb(178,24,43)\"],[0.2,\"rgb(214,96,77)\"],[0.3,\"rgb(244,165,130)\"],[0.4,\"rgb(253,219,199)\"],[0.5,\"rgb(247,247,247)\"],[0.6,\"rgb(209,229,240)\"],[0.7,\"rgb(146,197,222)\"],[0.8,\"rgb(67,147,195)\"],[0.9,\"rgb(33,102,172)\"],[1.0,\"rgb(5,48,97)\"]],\"sequential\":[[0.0,\"#440154\"],[0.1111111111111111,\"#482878\"],[0.2222222222222222,\"#3e4989\"],[0.3333333333333333,\"#31688e\"],[0.4444444444444444,\"#26828e\"],[0.5555555555555556,\"#1f9e89\"],[0.6666666666666666,\"#35b779\"],[0.7777777777777778,\"#6ece58\"],[0.8888888888888888,\"#b5de2b\"],[1.0,\"#fde725\"]],\"sequentialminus\":[[0.0,\"#440154\"],[0.1111111111111111,\"#482878\"],[0.2222222222222222,\"#3e4989\"],[0.3333333333333333,\"#31688e\"],[0.4444444444444444,\"#26828e\"],[0.5555555555555556,\"#1f9e89\"],[0.6666666666666666,\"#35b779\"],[0.7777777777777778,\"#6ece58\"],[0.8888888888888888,\"#b5de2b\"],[1.0,\"#fde725\"]]},\"colorway\":[\"#1F77B4\",\"#FF7F0E\",\"#2CA02C\",\"#D62728\",\"#9467BD\",\"#8C564B\",\"#E377C2\",\"#7F7F7F\",\"#BCBD22\",\"#17BECF\"],\"font\":{\"color\":\"rgb(36,36,36)\"},\"geo\":{\"bgcolor\":\"white\",\"lakecolor\":\"white\",\"landcolor\":\"white\",\"showlakes\":true,\"showland\":true,\"subunitcolor\":\"white\"},\"hoverlabel\":{\"align\":\"left\"},\"hovermode\":\"closest\",\"mapbox\":{\"style\":\"light\"},\"paper_bgcolor\":\"white\",\"plot_bgcolor\":\"white\",\"polar\":{\"angularaxis\":{\"gridcolor\":\"rgb(232,232,232)\",\"linecolor\":\"rgb(36,36,36)\",\"showgrid\":false,\"showline\":true,\"ticks\":\"outside\"},\"bgcolor\":\"white\",\"radialaxis\":{\"gridcolor\":\"rgb(232,232,232)\",\"linecolor\":\"rgb(36,36,36)\",\"showgrid\":false,\"showline\":true,\"ticks\":\"outside\"}},\"scene\":{\"xaxis\":{\"backgroundcolor\":\"white\",\"gridcolor\":\"rgb(232,232,232)\",\"gridwidth\":2,\"linecolor\":\"rgb(36,36,36)\",\"showbackground\":true,\"showgrid\":false,\"showline\":true,\"ticks\":\"outside\",\"zeroline\":false,\"zerolinecolor\":\"rgb(36,36,36)\"},\"yaxis\":{\"backgroundcolor\":\"white\",\"gridcolor\":\"rgb(232,232,232)\",\"gridwidth\":2,\"linecolor\":\"rgb(36,36,36)\",\"showbackground\":true,\"showgrid\":false,\"showline\":true,\"ticks\":\"outside\",\"zeroline\":false,\"zerolinecolor\":\"rgb(36,36,36)\"},\"zaxis\":{\"backgroundcolor\":\"white\",\"gridcolor\":\"rgb(232,232,232)\",\"gridwidth\":2,\"linecolor\":\"rgb(36,36,36)\",\"showbackground\":true,\"showgrid\":false,\"showline\":true,\"ticks\":\"outside\",\"zeroline\":false,\"zerolinecolor\":\"rgb(36,36,36)\"}},\"shapedefaults\":{\"fillcolor\":\"black\",\"line\":{\"width\":0},\"opacity\":0.3},\"ternary\":{\"aaxis\":{\"gridcolor\":\"rgb(232,232,232)\",\"linecolor\":\"rgb(36,36,36)\",\"showgrid\":false,\"showline\":true,\"ticks\":\"outside\"},\"baxis\":{\"gridcolor\":\"rgb(232,232,232)\",\"linecolor\":\"rgb(36,36,36)\",\"showgrid\":false,\"showline\":true,\"ticks\":\"outside\"},\"bgcolor\":\"white\",\"caxis\":{\"gridcolor\":\"rgb(232,232,232)\",\"linecolor\":\"rgb(36,36,36)\",\"showgrid\":false,\"showline\":true,\"ticks\":\"outside\"}},\"title\":{\"x\":0.05},\"xaxis\":{\"automargin\":true,\"gridcolor\":\"rgb(232,232,232)\",\"linecolor\":\"rgb(36,36,36)\",\"showgrid\":false,\"showline\":true,\"ticks\":\"outside\",\"title\":{\"standoff\":15},\"zeroline\":false,\"zerolinecolor\":\"rgb(36,36,36)\"},\"yaxis\":{\"automargin\":true,\"gridcolor\":\"rgb(232,232,232)\",\"linecolor\":\"rgb(36,36,36)\",\"showgrid\":false,\"showline\":true,\"ticks\":\"outside\",\"title\":{\"standoff\":15},\"zeroline\":false,\"zerolinecolor\":\"rgb(36,36,36)\"}}},\"xaxis\":{\"anchor\":\"y\",\"domain\":[0.0,1.0],\"title\":{\"text\":\"\"},\"visible\":false,\"range\":[4.074036002159119,21.570567512512206]},\"yaxis\":{\"anchor\":\"x\",\"domain\":[0.0,1.0],\"title\":{\"text\":\"\"},\"visible\":false,\"range\":[4.864544773101807,23.63230390548706]},\"legend\":{\"tracegroupgap\":0,\"itemsizing\":\"constant\"},\"margin\":{\"t\":60},\"title\":{\"font\":{\"size\":22,\"color\":\"Black\"},\"text\":\"<b>Intertopic Distance Map\",\"y\":0.95,\"x\":0.5,\"xanchor\":\"center\",\"yanchor\":\"top\"},\"hoverlabel\":{\"font\":{\"size\":16,\"family\":\"Rockwell\"},\"bgcolor\":\"white\"},\"width\":650,\"height\":650,\"sliders\":[{\"active\":0,\"pad\":{\"t\":50},\"steps\":[{\"args\":[{\"marker.color\":[[\"red\",\"#B0BEC5\",\"#B0BEC5\",\"#B0BEC5\",\"#B0BEC5\",\"#B0BEC5\",\"#B0BEC5\",\"#B0BEC5\",\"#B0BEC5\",\"#B0BEC5\",\"#B0BEC5\",\"#B0BEC5\",\"#B0BEC5\",\"#B0BEC5\",\"#B0BEC5\",\"#B0BEC5\",\"#B0BEC5\",\"#B0BEC5\",\"#B0BEC5\",\"#B0BEC5\",\"#B0BEC5\",\"#B0BEC5\",\"#B0BEC5\",\"#B0BEC5\",\"#B0BEC5\",\"#B0BEC5\",\"#B0BEC5\",\"#B0BEC5\",\"#B0BEC5\",\"#B0BEC5\",\"#B0BEC5\",\"#B0BEC5\",\"#B0BEC5\",\"#B0BEC5\"]]}],\"label\":\"Topic 0\",\"method\":\"update\"},{\"args\":[{\"marker.color\":[[\"#B0BEC5\",\"red\",\"#B0BEC5\",\"#B0BEC5\",\"#B0BEC5\",\"#B0BEC5\",\"#B0BEC5\",\"#B0BEC5\",\"#B0BEC5\",\"#B0BEC5\",\"#B0BEC5\",\"#B0BEC5\",\"#B0BEC5\",\"#B0BEC5\",\"#B0BEC5\",\"#B0BEC5\",\"#B0BEC5\",\"#B0BEC5\",\"#B0BEC5\",\"#B0BEC5\",\"#B0BEC5\",\"#B0BEC5\",\"#B0BEC5\",\"#B0BEC5\",\"#B0BEC5\",\"#B0BEC5\",\"#B0BEC5\",\"#B0BEC5\",\"#B0BEC5\",\"#B0BEC5\",\"#B0BEC5\",\"#B0BEC5\",\"#B0BEC5\",\"#B0BEC5\"]]}],\"label\":\"Topic 1\",\"method\":\"update\"},{\"args\":[{\"marker.color\":[[\"#B0BEC5\",\"#B0BEC5\",\"red\",\"#B0BEC5\",\"#B0BEC5\",\"#B0BEC5\",\"#B0BEC5\",\"#B0BEC5\",\"#B0BEC5\",\"#B0BEC5\",\"#B0BEC5\",\"#B0BEC5\",\"#B0BEC5\",\"#B0BEC5\",\"#B0BEC5\",\"#B0BEC5\",\"#B0BEC5\",\"#B0BEC5\",\"#B0BEC5\",\"#B0BEC5\",\"#B0BEC5\",\"#B0BEC5\",\"#B0BEC5\",\"#B0BEC5\",\"#B0BEC5\",\"#B0BEC5\",\"#B0BEC5\",\"#B0BEC5\",\"#B0BEC5\",\"#B0BEC5\",\"#B0BEC5\",\"#B0BEC5\",\"#B0BEC5\",\"#B0BEC5\"]]}],\"label\":\"Topic 2\",\"method\":\"update\"},{\"args\":[{\"marker.color\":[[\"#B0BEC5\",\"#B0BEC5\",\"#B0BEC5\",\"red\",\"#B0BEC5\",\"#B0BEC5\",\"#B0BEC5\",\"#B0BEC5\",\"#B0BEC5\",\"#B0BEC5\",\"#B0BEC5\",\"#B0BEC5\",\"#B0BEC5\",\"#B0BEC5\",\"#B0BEC5\",\"#B0BEC5\",\"#B0BEC5\",\"#B0BEC5\",\"#B0BEC5\",\"#B0BEC5\",\"#B0BEC5\",\"#B0BEC5\",\"#B0BEC5\",\"#B0BEC5\",\"#B0BEC5\",\"#B0BEC5\",\"#B0BEC5\",\"#B0BEC5\",\"#B0BEC5\",\"#B0BEC5\",\"#B0BEC5\",\"#B0BEC5\",\"#B0BEC5\",\"#B0BEC5\"]]}],\"label\":\"Topic 3\",\"method\":\"update\"},{\"args\":[{\"marker.color\":[[\"#B0BEC5\",\"#B0BEC5\",\"#B0BEC5\",\"#B0BEC5\",\"red\",\"#B0BEC5\",\"#B0BEC5\",\"#B0BEC5\",\"#B0BEC5\",\"#B0BEC5\",\"#B0BEC5\",\"#B0BEC5\",\"#B0BEC5\",\"#B0BEC5\",\"#B0BEC5\",\"#B0BEC5\",\"#B0BEC5\",\"#B0BEC5\",\"#B0BEC5\",\"#B0BEC5\",\"#B0BEC5\",\"#B0BEC5\",\"#B0BEC5\",\"#B0BEC5\",\"#B0BEC5\",\"#B0BEC5\",\"#B0BEC5\",\"#B0BEC5\",\"#B0BEC5\",\"#B0BEC5\",\"#B0BEC5\",\"#B0BEC5\",\"#B0BEC5\",\"#B0BEC5\"]]}],\"label\":\"Topic 4\",\"method\":\"update\"},{\"args\":[{\"marker.color\":[[\"#B0BEC5\",\"#B0BEC5\",\"#B0BEC5\",\"#B0BEC5\",\"#B0BEC5\",\"red\",\"#B0BEC5\",\"#B0BEC5\",\"#B0BEC5\",\"#B0BEC5\",\"#B0BEC5\",\"#B0BEC5\",\"#B0BEC5\",\"#B0BEC5\",\"#B0BEC5\",\"#B0BEC5\",\"#B0BEC5\",\"#B0BEC5\",\"#B0BEC5\",\"#B0BEC5\",\"#B0BEC5\",\"#B0BEC5\",\"#B0BEC5\",\"#B0BEC5\",\"#B0BEC5\",\"#B0BEC5\",\"#B0BEC5\",\"#B0BEC5\",\"#B0BEC5\",\"#B0BEC5\",\"#B0BEC5\",\"#B0BEC5\",\"#B0BEC5\",\"#B0BEC5\"]]}],\"label\":\"Topic 5\",\"method\":\"update\"},{\"args\":[{\"marker.color\":[[\"#B0BEC5\",\"#B0BEC5\",\"#B0BEC5\",\"#B0BEC5\",\"#B0BEC5\",\"#B0BEC5\",\"red\",\"#B0BEC5\",\"#B0BEC5\",\"#B0BEC5\",\"#B0BEC5\",\"#B0BEC5\",\"#B0BEC5\",\"#B0BEC5\",\"#B0BEC5\",\"#B0BEC5\",\"#B0BEC5\",\"#B0BEC5\",\"#B0BEC5\",\"#B0BEC5\",\"#B0BEC5\",\"#B0BEC5\",\"#B0BEC5\",\"#B0BEC5\",\"#B0BEC5\",\"#B0BEC5\",\"#B0BEC5\",\"#B0BEC5\",\"#B0BEC5\",\"#B0BEC5\",\"#B0BEC5\",\"#B0BEC5\",\"#B0BEC5\",\"#B0BEC5\"]]}],\"label\":\"Topic 6\",\"method\":\"update\"},{\"args\":[{\"marker.color\":[[\"#B0BEC5\",\"#B0BEC5\",\"#B0BEC5\",\"#B0BEC5\",\"#B0BEC5\",\"#B0BEC5\",\"#B0BEC5\",\"red\",\"#B0BEC5\",\"#B0BEC5\",\"#B0BEC5\",\"#B0BEC5\",\"#B0BEC5\",\"#B0BEC5\",\"#B0BEC5\",\"#B0BEC5\",\"#B0BEC5\",\"#B0BEC5\",\"#B0BEC5\",\"#B0BEC5\",\"#B0BEC5\",\"#B0BEC5\",\"#B0BEC5\",\"#B0BEC5\",\"#B0BEC5\",\"#B0BEC5\",\"#B0BEC5\",\"#B0BEC5\",\"#B0BEC5\",\"#B0BEC5\",\"#B0BEC5\",\"#B0BEC5\",\"#B0BEC5\",\"#B0BEC5\"]]}],\"label\":\"Topic 7\",\"method\":\"update\"},{\"args\":[{\"marker.color\":[[\"#B0BEC5\",\"#B0BEC5\",\"#B0BEC5\",\"#B0BEC5\",\"#B0BEC5\",\"#B0BEC5\",\"#B0BEC5\",\"#B0BEC5\",\"red\",\"#B0BEC5\",\"#B0BEC5\",\"#B0BEC5\",\"#B0BEC5\",\"#B0BEC5\",\"#B0BEC5\",\"#B0BEC5\",\"#B0BEC5\",\"#B0BEC5\",\"#B0BEC5\",\"#B0BEC5\",\"#B0BEC5\",\"#B0BEC5\",\"#B0BEC5\",\"#B0BEC5\",\"#B0BEC5\",\"#B0BEC5\",\"#B0BEC5\",\"#B0BEC5\",\"#B0BEC5\",\"#B0BEC5\",\"#B0BEC5\",\"#B0BEC5\",\"#B0BEC5\",\"#B0BEC5\"]]}],\"label\":\"Topic 8\",\"method\":\"update\"},{\"args\":[{\"marker.color\":[[\"#B0BEC5\",\"#B0BEC5\",\"#B0BEC5\",\"#B0BEC5\",\"#B0BEC5\",\"#B0BEC5\",\"#B0BEC5\",\"#B0BEC5\",\"#B0BEC5\",\"red\",\"#B0BEC5\",\"#B0BEC5\",\"#B0BEC5\",\"#B0BEC5\",\"#B0BEC5\",\"#B0BEC5\",\"#B0BEC5\",\"#B0BEC5\",\"#B0BEC5\",\"#B0BEC5\",\"#B0BEC5\",\"#B0BEC5\",\"#B0BEC5\",\"#B0BEC5\",\"#B0BEC5\",\"#B0BEC5\",\"#B0BEC5\",\"#B0BEC5\",\"#B0BEC5\",\"#B0BEC5\",\"#B0BEC5\",\"#B0BEC5\",\"#B0BEC5\",\"#B0BEC5\"]]}],\"label\":\"Topic 9\",\"method\":\"update\"},{\"args\":[{\"marker.color\":[[\"#B0BEC5\",\"#B0BEC5\",\"#B0BEC5\",\"#B0BEC5\",\"#B0BEC5\",\"#B0BEC5\",\"#B0BEC5\",\"#B0BEC5\",\"#B0BEC5\",\"#B0BEC5\",\"red\",\"#B0BEC5\",\"#B0BEC5\",\"#B0BEC5\",\"#B0BEC5\",\"#B0BEC5\",\"#B0BEC5\",\"#B0BEC5\",\"#B0BEC5\",\"#B0BEC5\",\"#B0BEC5\",\"#B0BEC5\",\"#B0BEC5\",\"#B0BEC5\",\"#B0BEC5\",\"#B0BEC5\",\"#B0BEC5\",\"#B0BEC5\",\"#B0BEC5\",\"#B0BEC5\",\"#B0BEC5\",\"#B0BEC5\",\"#B0BEC5\",\"#B0BEC5\"]]}],\"label\":\"Topic 10\",\"method\":\"update\"},{\"args\":[{\"marker.color\":[[\"#B0BEC5\",\"#B0BEC5\",\"#B0BEC5\",\"#B0BEC5\",\"#B0BEC5\",\"#B0BEC5\",\"#B0BEC5\",\"#B0BEC5\",\"#B0BEC5\",\"#B0BEC5\",\"#B0BEC5\",\"red\",\"#B0BEC5\",\"#B0BEC5\",\"#B0BEC5\",\"#B0BEC5\",\"#B0BEC5\",\"#B0BEC5\",\"#B0BEC5\",\"#B0BEC5\",\"#B0BEC5\",\"#B0BEC5\",\"#B0BEC5\",\"#B0BEC5\",\"#B0BEC5\",\"#B0BEC5\",\"#B0BEC5\",\"#B0BEC5\",\"#B0BEC5\",\"#B0BEC5\",\"#B0BEC5\",\"#B0BEC5\",\"#B0BEC5\",\"#B0BEC5\"]]}],\"label\":\"Topic 11\",\"method\":\"update\"},{\"args\":[{\"marker.color\":[[\"#B0BEC5\",\"#B0BEC5\",\"#B0BEC5\",\"#B0BEC5\",\"#B0BEC5\",\"#B0BEC5\",\"#B0BEC5\",\"#B0BEC5\",\"#B0BEC5\",\"#B0BEC5\",\"#B0BEC5\",\"#B0BEC5\",\"red\",\"#B0BEC5\",\"#B0BEC5\",\"#B0BEC5\",\"#B0BEC5\",\"#B0BEC5\",\"#B0BEC5\",\"#B0BEC5\",\"#B0BEC5\",\"#B0BEC5\",\"#B0BEC5\",\"#B0BEC5\",\"#B0BEC5\",\"#B0BEC5\",\"#B0BEC5\",\"#B0BEC5\",\"#B0BEC5\",\"#B0BEC5\",\"#B0BEC5\",\"#B0BEC5\",\"#B0BEC5\",\"#B0BEC5\"]]}],\"label\":\"Topic 12\",\"method\":\"update\"},{\"args\":[{\"marker.color\":[[\"#B0BEC5\",\"#B0BEC5\",\"#B0BEC5\",\"#B0BEC5\",\"#B0BEC5\",\"#B0BEC5\",\"#B0BEC5\",\"#B0BEC5\",\"#B0BEC5\",\"#B0BEC5\",\"#B0BEC5\",\"#B0BEC5\",\"#B0BEC5\",\"red\",\"#B0BEC5\",\"#B0BEC5\",\"#B0BEC5\",\"#B0BEC5\",\"#B0BEC5\",\"#B0BEC5\",\"#B0BEC5\",\"#B0BEC5\",\"#B0BEC5\",\"#B0BEC5\",\"#B0BEC5\",\"#B0BEC5\",\"#B0BEC5\",\"#B0BEC5\",\"#B0BEC5\",\"#B0BEC5\",\"#B0BEC5\",\"#B0BEC5\",\"#B0BEC5\",\"#B0BEC5\"]]}],\"label\":\"Topic 13\",\"method\":\"update\"},{\"args\":[{\"marker.color\":[[\"#B0BEC5\",\"#B0BEC5\",\"#B0BEC5\",\"#B0BEC5\",\"#B0BEC5\",\"#B0BEC5\",\"#B0BEC5\",\"#B0BEC5\",\"#B0BEC5\",\"#B0BEC5\",\"#B0BEC5\",\"#B0BEC5\",\"#B0BEC5\",\"#B0BEC5\",\"red\",\"#B0BEC5\",\"#B0BEC5\",\"#B0BEC5\",\"#B0BEC5\",\"#B0BEC5\",\"#B0BEC5\",\"#B0BEC5\",\"#B0BEC5\",\"#B0BEC5\",\"#B0BEC5\",\"#B0BEC5\",\"#B0BEC5\",\"#B0BEC5\",\"#B0BEC5\",\"#B0BEC5\",\"#B0BEC5\",\"#B0BEC5\",\"#B0BEC5\",\"#B0BEC5\"]]}],\"label\":\"Topic 14\",\"method\":\"update\"},{\"args\":[{\"marker.color\":[[\"#B0BEC5\",\"#B0BEC5\",\"#B0BEC5\",\"#B0BEC5\",\"#B0BEC5\",\"#B0BEC5\",\"#B0BEC5\",\"#B0BEC5\",\"#B0BEC5\",\"#B0BEC5\",\"#B0BEC5\",\"#B0BEC5\",\"#B0BEC5\",\"#B0BEC5\",\"#B0BEC5\",\"red\",\"#B0BEC5\",\"#B0BEC5\",\"#B0BEC5\",\"#B0BEC5\",\"#B0BEC5\",\"#B0BEC5\",\"#B0BEC5\",\"#B0BEC5\",\"#B0BEC5\",\"#B0BEC5\",\"#B0BEC5\",\"#B0BEC5\",\"#B0BEC5\",\"#B0BEC5\",\"#B0BEC5\",\"#B0BEC5\",\"#B0BEC5\",\"#B0BEC5\"]]}],\"label\":\"Topic 15\",\"method\":\"update\"},{\"args\":[{\"marker.color\":[[\"#B0BEC5\",\"#B0BEC5\",\"#B0BEC5\",\"#B0BEC5\",\"#B0BEC5\",\"#B0BEC5\",\"#B0BEC5\",\"#B0BEC5\",\"#B0BEC5\",\"#B0BEC5\",\"#B0BEC5\",\"#B0BEC5\",\"#B0BEC5\",\"#B0BEC5\",\"#B0BEC5\",\"#B0BEC5\",\"red\",\"#B0BEC5\",\"#B0BEC5\",\"#B0BEC5\",\"#B0BEC5\",\"#B0BEC5\",\"#B0BEC5\",\"#B0BEC5\",\"#B0BEC5\",\"#B0BEC5\",\"#B0BEC5\",\"#B0BEC5\",\"#B0BEC5\",\"#B0BEC5\",\"#B0BEC5\",\"#B0BEC5\",\"#B0BEC5\",\"#B0BEC5\"]]}],\"label\":\"Topic 16\",\"method\":\"update\"},{\"args\":[{\"marker.color\":[[\"#B0BEC5\",\"#B0BEC5\",\"#B0BEC5\",\"#B0BEC5\",\"#B0BEC5\",\"#B0BEC5\",\"#B0BEC5\",\"#B0BEC5\",\"#B0BEC5\",\"#B0BEC5\",\"#B0BEC5\",\"#B0BEC5\",\"#B0BEC5\",\"#B0BEC5\",\"#B0BEC5\",\"#B0BEC5\",\"#B0BEC5\",\"red\",\"#B0BEC5\",\"#B0BEC5\",\"#B0BEC5\",\"#B0BEC5\",\"#B0BEC5\",\"#B0BEC5\",\"#B0BEC5\",\"#B0BEC5\",\"#B0BEC5\",\"#B0BEC5\",\"#B0BEC5\",\"#B0BEC5\",\"#B0BEC5\",\"#B0BEC5\",\"#B0BEC5\",\"#B0BEC5\"]]}],\"label\":\"Topic 17\",\"method\":\"update\"},{\"args\":[{\"marker.color\":[[\"#B0BEC5\",\"#B0BEC5\",\"#B0BEC5\",\"#B0BEC5\",\"#B0BEC5\",\"#B0BEC5\",\"#B0BEC5\",\"#B0BEC5\",\"#B0BEC5\",\"#B0BEC5\",\"#B0BEC5\",\"#B0BEC5\",\"#B0BEC5\",\"#B0BEC5\",\"#B0BEC5\",\"#B0BEC5\",\"#B0BEC5\",\"#B0BEC5\",\"red\",\"#B0BEC5\",\"#B0BEC5\",\"#B0BEC5\",\"#B0BEC5\",\"#B0BEC5\",\"#B0BEC5\",\"#B0BEC5\",\"#B0BEC5\",\"#B0BEC5\",\"#B0BEC5\",\"#B0BEC5\",\"#B0BEC5\",\"#B0BEC5\",\"#B0BEC5\",\"#B0BEC5\"]]}],\"label\":\"Topic 18\",\"method\":\"update\"},{\"args\":[{\"marker.color\":[[\"#B0BEC5\",\"#B0BEC5\",\"#B0BEC5\",\"#B0BEC5\",\"#B0BEC5\",\"#B0BEC5\",\"#B0BEC5\",\"#B0BEC5\",\"#B0BEC5\",\"#B0BEC5\",\"#B0BEC5\",\"#B0BEC5\",\"#B0BEC5\",\"#B0BEC5\",\"#B0BEC5\",\"#B0BEC5\",\"#B0BEC5\",\"#B0BEC5\",\"#B0BEC5\",\"red\",\"#B0BEC5\",\"#B0BEC5\",\"#B0BEC5\",\"#B0BEC5\",\"#B0BEC5\",\"#B0BEC5\",\"#B0BEC5\",\"#B0BEC5\",\"#B0BEC5\",\"#B0BEC5\",\"#B0BEC5\",\"#B0BEC5\",\"#B0BEC5\",\"#B0BEC5\"]]}],\"label\":\"Topic 19\",\"method\":\"update\"},{\"args\":[{\"marker.color\":[[\"#B0BEC5\",\"#B0BEC5\",\"#B0BEC5\",\"#B0BEC5\",\"#B0BEC5\",\"#B0BEC5\",\"#B0BEC5\",\"#B0BEC5\",\"#B0BEC5\",\"#B0BEC5\",\"#B0BEC5\",\"#B0BEC5\",\"#B0BEC5\",\"#B0BEC5\",\"#B0BEC5\",\"#B0BEC5\",\"#B0BEC5\",\"#B0BEC5\",\"#B0BEC5\",\"#B0BEC5\",\"red\",\"#B0BEC5\",\"#B0BEC5\",\"#B0BEC5\",\"#B0BEC5\",\"#B0BEC5\",\"#B0BEC5\",\"#B0BEC5\",\"#B0BEC5\",\"#B0BEC5\",\"#B0BEC5\",\"#B0BEC5\",\"#B0BEC5\",\"#B0BEC5\"]]}],\"label\":\"Topic 20\",\"method\":\"update\"},{\"args\":[{\"marker.color\":[[\"#B0BEC5\",\"#B0BEC5\",\"#B0BEC5\",\"#B0BEC5\",\"#B0BEC5\",\"#B0BEC5\",\"#B0BEC5\",\"#B0BEC5\",\"#B0BEC5\",\"#B0BEC5\",\"#B0BEC5\",\"#B0BEC5\",\"#B0BEC5\",\"#B0BEC5\",\"#B0BEC5\",\"#B0BEC5\",\"#B0BEC5\",\"#B0BEC5\",\"#B0BEC5\",\"#B0BEC5\",\"#B0BEC5\",\"red\",\"#B0BEC5\",\"#B0BEC5\",\"#B0BEC5\",\"#B0BEC5\",\"#B0BEC5\",\"#B0BEC5\",\"#B0BEC5\",\"#B0BEC5\",\"#B0BEC5\",\"#B0BEC5\",\"#B0BEC5\",\"#B0BEC5\"]]}],\"label\":\"Topic 21\",\"method\":\"update\"},{\"args\":[{\"marker.color\":[[\"#B0BEC5\",\"#B0BEC5\",\"#B0BEC5\",\"#B0BEC5\",\"#B0BEC5\",\"#B0BEC5\",\"#B0BEC5\",\"#B0BEC5\",\"#B0BEC5\",\"#B0BEC5\",\"#B0BEC5\",\"#B0BEC5\",\"#B0BEC5\",\"#B0BEC5\",\"#B0BEC5\",\"#B0BEC5\",\"#B0BEC5\",\"#B0BEC5\",\"#B0BEC5\",\"#B0BEC5\",\"#B0BEC5\",\"#B0BEC5\",\"red\",\"#B0BEC5\",\"#B0BEC5\",\"#B0BEC5\",\"#B0BEC5\",\"#B0BEC5\",\"#B0BEC5\",\"#B0BEC5\",\"#B0BEC5\",\"#B0BEC5\",\"#B0BEC5\",\"#B0BEC5\"]]}],\"label\":\"Topic 22\",\"method\":\"update\"},{\"args\":[{\"marker.color\":[[\"#B0BEC5\",\"#B0BEC5\",\"#B0BEC5\",\"#B0BEC5\",\"#B0BEC5\",\"#B0BEC5\",\"#B0BEC5\",\"#B0BEC5\",\"#B0BEC5\",\"#B0BEC5\",\"#B0BEC5\",\"#B0BEC5\",\"#B0BEC5\",\"#B0BEC5\",\"#B0BEC5\",\"#B0BEC5\",\"#B0BEC5\",\"#B0BEC5\",\"#B0BEC5\",\"#B0BEC5\",\"#B0BEC5\",\"#B0BEC5\",\"#B0BEC5\",\"red\",\"#B0BEC5\",\"#B0BEC5\",\"#B0BEC5\",\"#B0BEC5\",\"#B0BEC5\",\"#B0BEC5\",\"#B0BEC5\",\"#B0BEC5\",\"#B0BEC5\",\"#B0BEC5\"]]}],\"label\":\"Topic 23\",\"method\":\"update\"},{\"args\":[{\"marker.color\":[[\"#B0BEC5\",\"#B0BEC5\",\"#B0BEC5\",\"#B0BEC5\",\"#B0BEC5\",\"#B0BEC5\",\"#B0BEC5\",\"#B0BEC5\",\"#B0BEC5\",\"#B0BEC5\",\"#B0BEC5\",\"#B0BEC5\",\"#B0BEC5\",\"#B0BEC5\",\"#B0BEC5\",\"#B0BEC5\",\"#B0BEC5\",\"#B0BEC5\",\"#B0BEC5\",\"#B0BEC5\",\"#B0BEC5\",\"#B0BEC5\",\"#B0BEC5\",\"#B0BEC5\",\"red\",\"#B0BEC5\",\"#B0BEC5\",\"#B0BEC5\",\"#B0BEC5\",\"#B0BEC5\",\"#B0BEC5\",\"#B0BEC5\",\"#B0BEC5\",\"#B0BEC5\"]]}],\"label\":\"Topic 24\",\"method\":\"update\"},{\"args\":[{\"marker.color\":[[\"#B0BEC5\",\"#B0BEC5\",\"#B0BEC5\",\"#B0BEC5\",\"#B0BEC5\",\"#B0BEC5\",\"#B0BEC5\",\"#B0BEC5\",\"#B0BEC5\",\"#B0BEC5\",\"#B0BEC5\",\"#B0BEC5\",\"#B0BEC5\",\"#B0BEC5\",\"#B0BEC5\",\"#B0BEC5\",\"#B0BEC5\",\"#B0BEC5\",\"#B0BEC5\",\"#B0BEC5\",\"#B0BEC5\",\"#B0BEC5\",\"#B0BEC5\",\"#B0BEC5\",\"#B0BEC5\",\"red\",\"#B0BEC5\",\"#B0BEC5\",\"#B0BEC5\",\"#B0BEC5\",\"#B0BEC5\",\"#B0BEC5\",\"#B0BEC5\",\"#B0BEC5\"]]}],\"label\":\"Topic 25\",\"method\":\"update\"},{\"args\":[{\"marker.color\":[[\"#B0BEC5\",\"#B0BEC5\",\"#B0BEC5\",\"#B0BEC5\",\"#B0BEC5\",\"#B0BEC5\",\"#B0BEC5\",\"#B0BEC5\",\"#B0BEC5\",\"#B0BEC5\",\"#B0BEC5\",\"#B0BEC5\",\"#B0BEC5\",\"#B0BEC5\",\"#B0BEC5\",\"#B0BEC5\",\"#B0BEC5\",\"#B0BEC5\",\"#B0BEC5\",\"#B0BEC5\",\"#B0BEC5\",\"#B0BEC5\",\"#B0BEC5\",\"#B0BEC5\",\"#B0BEC5\",\"#B0BEC5\",\"red\",\"#B0BEC5\",\"#B0BEC5\",\"#B0BEC5\",\"#B0BEC5\",\"#B0BEC5\",\"#B0BEC5\",\"#B0BEC5\"]]}],\"label\":\"Topic 26\",\"method\":\"update\"},{\"args\":[{\"marker.color\":[[\"#B0BEC5\",\"#B0BEC5\",\"#B0BEC5\",\"#B0BEC5\",\"#B0BEC5\",\"#B0BEC5\",\"#B0BEC5\",\"#B0BEC5\",\"#B0BEC5\",\"#B0BEC5\",\"#B0BEC5\",\"#B0BEC5\",\"#B0BEC5\",\"#B0BEC5\",\"#B0BEC5\",\"#B0BEC5\",\"#B0BEC5\",\"#B0BEC5\",\"#B0BEC5\",\"#B0BEC5\",\"#B0BEC5\",\"#B0BEC5\",\"#B0BEC5\",\"#B0BEC5\",\"#B0BEC5\",\"#B0BEC5\",\"#B0BEC5\",\"red\",\"#B0BEC5\",\"#B0BEC5\",\"#B0BEC5\",\"#B0BEC5\",\"#B0BEC5\",\"#B0BEC5\"]]}],\"label\":\"Topic 27\",\"method\":\"update\"},{\"args\":[{\"marker.color\":[[\"#B0BEC5\",\"#B0BEC5\",\"#B0BEC5\",\"#B0BEC5\",\"#B0BEC5\",\"#B0BEC5\",\"#B0BEC5\",\"#B0BEC5\",\"#B0BEC5\",\"#B0BEC5\",\"#B0BEC5\",\"#B0BEC5\",\"#B0BEC5\",\"#B0BEC5\",\"#B0BEC5\",\"#B0BEC5\",\"#B0BEC5\",\"#B0BEC5\",\"#B0BEC5\",\"#B0BEC5\",\"#B0BEC5\",\"#B0BEC5\",\"#B0BEC5\",\"#B0BEC5\",\"#B0BEC5\",\"#B0BEC5\",\"#B0BEC5\",\"#B0BEC5\",\"red\",\"#B0BEC5\",\"#B0BEC5\",\"#B0BEC5\",\"#B0BEC5\",\"#B0BEC5\"]]}],\"label\":\"Topic 28\",\"method\":\"update\"},{\"args\":[{\"marker.color\":[[\"#B0BEC5\",\"#B0BEC5\",\"#B0BEC5\",\"#B0BEC5\",\"#B0BEC5\",\"#B0BEC5\",\"#B0BEC5\",\"#B0BEC5\",\"#B0BEC5\",\"#B0BEC5\",\"#B0BEC5\",\"#B0BEC5\",\"#B0BEC5\",\"#B0BEC5\",\"#B0BEC5\",\"#B0BEC5\",\"#B0BEC5\",\"#B0BEC5\",\"#B0BEC5\",\"#B0BEC5\",\"#B0BEC5\",\"#B0BEC5\",\"#B0BEC5\",\"#B0BEC5\",\"#B0BEC5\",\"#B0BEC5\",\"#B0BEC5\",\"#B0BEC5\",\"#B0BEC5\",\"red\",\"#B0BEC5\",\"#B0BEC5\",\"#B0BEC5\",\"#B0BEC5\"]]}],\"label\":\"Topic 29\",\"method\":\"update\"},{\"args\":[{\"marker.color\":[[\"#B0BEC5\",\"#B0BEC5\",\"#B0BEC5\",\"#B0BEC5\",\"#B0BEC5\",\"#B0BEC5\",\"#B0BEC5\",\"#B0BEC5\",\"#B0BEC5\",\"#B0BEC5\",\"#B0BEC5\",\"#B0BEC5\",\"#B0BEC5\",\"#B0BEC5\",\"#B0BEC5\",\"#B0BEC5\",\"#B0BEC5\",\"#B0BEC5\",\"#B0BEC5\",\"#B0BEC5\",\"#B0BEC5\",\"#B0BEC5\",\"#B0BEC5\",\"#B0BEC5\",\"#B0BEC5\",\"#B0BEC5\",\"#B0BEC5\",\"#B0BEC5\",\"#B0BEC5\",\"#B0BEC5\",\"red\",\"#B0BEC5\",\"#B0BEC5\",\"#B0BEC5\"]]}],\"label\":\"Topic 30\",\"method\":\"update\"},{\"args\":[{\"marker.color\":[[\"#B0BEC5\",\"#B0BEC5\",\"#B0BEC5\",\"#B0BEC5\",\"#B0BEC5\",\"#B0BEC5\",\"#B0BEC5\",\"#B0BEC5\",\"#B0BEC5\",\"#B0BEC5\",\"#B0BEC5\",\"#B0BEC5\",\"#B0BEC5\",\"#B0BEC5\",\"#B0BEC5\",\"#B0BEC5\",\"#B0BEC5\",\"#B0BEC5\",\"#B0BEC5\",\"#B0BEC5\",\"#B0BEC5\",\"#B0BEC5\",\"#B0BEC5\",\"#B0BEC5\",\"#B0BEC5\",\"#B0BEC5\",\"#B0BEC5\",\"#B0BEC5\",\"#B0BEC5\",\"#B0BEC5\",\"#B0BEC5\",\"red\",\"#B0BEC5\",\"#B0BEC5\"]]}],\"label\":\"Topic 31\",\"method\":\"update\"},{\"args\":[{\"marker.color\":[[\"#B0BEC5\",\"#B0BEC5\",\"#B0BEC5\",\"#B0BEC5\",\"#B0BEC5\",\"#B0BEC5\",\"#B0BEC5\",\"#B0BEC5\",\"#B0BEC5\",\"#B0BEC5\",\"#B0BEC5\",\"#B0BEC5\",\"#B0BEC5\",\"#B0BEC5\",\"#B0BEC5\",\"#B0BEC5\",\"#B0BEC5\",\"#B0BEC5\",\"#B0BEC5\",\"#B0BEC5\",\"#B0BEC5\",\"#B0BEC5\",\"#B0BEC5\",\"#B0BEC5\",\"#B0BEC5\",\"#B0BEC5\",\"#B0BEC5\",\"#B0BEC5\",\"#B0BEC5\",\"#B0BEC5\",\"#B0BEC5\",\"#B0BEC5\",\"red\",\"#B0BEC5\"]]}],\"label\":\"Topic 32\",\"method\":\"update\"},{\"args\":[{\"marker.color\":[[\"#B0BEC5\",\"#B0BEC5\",\"#B0BEC5\",\"#B0BEC5\",\"#B0BEC5\",\"#B0BEC5\",\"#B0BEC5\",\"#B0BEC5\",\"#B0BEC5\",\"#B0BEC5\",\"#B0BEC5\",\"#B0BEC5\",\"#B0BEC5\",\"#B0BEC5\",\"#B0BEC5\",\"#B0BEC5\",\"#B0BEC5\",\"#B0BEC5\",\"#B0BEC5\",\"#B0BEC5\",\"#B0BEC5\",\"#B0BEC5\",\"#B0BEC5\",\"#B0BEC5\",\"#B0BEC5\",\"#B0BEC5\",\"#B0BEC5\",\"#B0BEC5\",\"#B0BEC5\",\"#B0BEC5\",\"#B0BEC5\",\"#B0BEC5\",\"#B0BEC5\",\"red\"]]}],\"label\":\"Topic 33\",\"method\":\"update\"}]}],\"shapes\":[{\"line\":{\"color\":\"#CFD8DC\",\"width\":2},\"type\":\"line\",\"x0\":12.822301757335662,\"x1\":12.822301757335662,\"y0\":4.864544773101807,\"y1\":23.63230390548706},{\"line\":{\"color\":\"#9E9E9E\",\"width\":2},\"type\":\"line\",\"x0\":4.074036002159119,\"x1\":21.570567512512206,\"y0\":14.248424339294434,\"y1\":14.248424339294434}],\"annotations\":[{\"showarrow\":false,\"text\":\"D1\",\"x\":4.074036002159119,\"y\":14.248424339294434,\"yshift\":10},{\"showarrow\":false,\"text\":\"D2\",\"x\":12.822301757335662,\"xshift\":10,\"y\":23.63230390548706}]},                        {\"responsive\": true}                    ).then(function(){\n",
       "                            \n",
       "var gd = document.getElementById('ea58ffb2-1954-4d50-aa1d-f0d94f334a6d');\n",
       "var x = new MutationObserver(function (mutations, observer) {{\n",
       "        var display = window.getComputedStyle(gd).display;\n",
       "        if (!display || display === 'none') {{\n",
       "            console.log([gd, 'removed!']);\n",
       "            Plotly.purge(gd);\n",
       "            observer.disconnect();\n",
       "        }}\n",
       "}});\n",
       "\n",
       "// Listen for the removal of the full notebook cells\n",
       "var notebookContainer = gd.closest('#notebook-container');\n",
       "if (notebookContainer) {{\n",
       "    x.observe(notebookContainer, {childList: true});\n",
       "}}\n",
       "\n",
       "// Listen for the clearing of the current output cell\n",
       "var outputEl = gd.closest('.output');\n",
       "if (outputEl) {{\n",
       "    x.observe(outputEl, {childList: true});\n",
       "}}\n",
       "\n",
       "                        })                };                });            </script>        </div>"
      ]
     },
     "metadata": {},
     "output_type": "display_data"
    }
   ],
   "source": [
    "topic_model.visualize_topics()"
   ]
  },
  {
   "cell_type": "code",
   "execution_count": 126,
   "metadata": {},
   "outputs": [],
   "source": [
    "df = pd.DataFrame(sentences, topics).reset_index()\n",
    "df.columns = ['topics', 'docs']\n",
    "#df = df.loc[df['topics']!=-1]"
   ]
  },
  {
   "cell_type": "code",
   "execution_count": 127,
   "metadata": {},
   "outputs": [
    {
     "data": {
      "text/plain": [
       "-1    0.740603\n",
       " 0    0.093700\n",
       " 1    0.051879\n",
       " 2    0.049762\n",
       " 3    0.033880\n",
       " 4    0.030175\n",
       "Name: topics, dtype: float64"
      ]
     },
     "execution_count": 127,
     "metadata": {},
     "output_type": "execute_result"
    }
   ],
   "source": [
    "from locale import normalize\n",
    "df.topics.value_counts(normalize=True)"
   ]
  },
  {
   "cell_type": "code",
   "execution_count": 128,
   "metadata": {},
   "outputs": [],
   "source": [
    "from scipy.stats import mode\n",
    "\n",
    "\n",
    "df['rolling'] = df['topics'].rolling(20).apply(lambda x: mode(x)[0])\n",
    "#df[['len_cum', 'rolling']].head(100).plot('rolling')\n",
    "\n",
    "df= df.fillna(-1)"
   ]
  },
  {
   "cell_type": "code",
   "execution_count": 132,
   "metadata": {},
   "outputs": [
    {
     "data": {
      "text/html": [
       "<div>\n",
       "<style scoped>\n",
       "    .dataframe tbody tr th:only-of-type {\n",
       "        vertical-align: middle;\n",
       "    }\n",
       "\n",
       "    .dataframe tbody tr th {\n",
       "        vertical-align: top;\n",
       "    }\n",
       "\n",
       "    .dataframe thead th {\n",
       "        text-align: right;\n",
       "    }\n",
       "</style>\n",
       "<table border=\"1\" class=\"dataframe\">\n",
       "  <thead>\n",
       "    <tr style=\"text-align: right;\">\n",
       "      <th></th>\n",
       "      <th>topics</th>\n",
       "      <th>docs</th>\n",
       "      <th>rolling</th>\n",
       "    </tr>\n",
       "  </thead>\n",
       "  <tbody>\n",
       "    <tr>\n",
       "      <th>0</th>\n",
       "      <td>-1</td>\n",
       "      <td>Okay</td>\n",
       "      <td>-1.0</td>\n",
       "    </tr>\n",
       "    <tr>\n",
       "      <th>2</th>\n",
       "      <td>-1</td>\n",
       "      <td>People are like, how do you live</td>\n",
       "      <td>-1.0</td>\n",
       "    </tr>\n",
       "    <tr>\n",
       "      <th>4</th>\n",
       "      <td>-1</td>\n",
       "      <td>They're taking money from the russians</td>\n",
       "      <td>-1.0</td>\n",
       "    </tr>\n",
       "    <tr>\n",
       "      <th>5</th>\n",
       "      <td>-1</td>\n",
       "      <td>And of course the answer is no, but I do this...</td>\n",
       "      <td>-1.0</td>\n",
       "    </tr>\n",
       "    <tr>\n",
       "      <th>9</th>\n",
       "      <td>-1</td>\n",
       "      <td>My own setup</td>\n",
       "      <td>-1.0</td>\n",
       "    </tr>\n",
       "    <tr>\n",
       "      <th>...</th>\n",
       "      <td>...</td>\n",
       "      <td>...</td>\n",
       "      <td>...</td>\n",
       "    </tr>\n",
       "    <tr>\n",
       "      <th>1884</th>\n",
       "      <td>-1</td>\n",
       "      <td>Open the possibility</td>\n",
       "      <td>-1.0</td>\n",
       "    </tr>\n",
       "    <tr>\n",
       "      <th>1885</th>\n",
       "      <td>-1</td>\n",
       "      <td>Take care</td>\n",
       "      <td>-1.0</td>\n",
       "    </tr>\n",
       "    <tr>\n",
       "      <th>1886</th>\n",
       "      <td>-1</td>\n",
       "      <td>Bye</td>\n",
       "      <td>-1.0</td>\n",
       "    </tr>\n",
       "    <tr>\n",
       "      <th>1887</th>\n",
       "      <td>-1</td>\n",
       "      <td>Take care</td>\n",
       "      <td>-1.0</td>\n",
       "    </tr>\n",
       "    <tr>\n",
       "      <th>1888</th>\n",
       "      <td>-1</td>\n",
       "      <td>\\n</td>\n",
       "      <td>-1.0</td>\n",
       "    </tr>\n",
       "  </tbody>\n",
       "</table>\n",
       "<p>1399 rows × 3 columns</p>\n",
       "</div>"
      ],
      "text/plain": [
       "      topics                                               docs  rolling\n",
       "0         -1                                               Okay     -1.0\n",
       "2         -1                   People are like, how do you live     -1.0\n",
       "4         -1             They're taking money from the russians     -1.0\n",
       "5         -1   And of course the answer is no, but I do this...     -1.0\n",
       "9         -1                                       My own setup     -1.0\n",
       "...      ...                                                ...      ...\n",
       "1884      -1                               Open the possibility     -1.0\n",
       "1885      -1                                          Take care     -1.0\n",
       "1886      -1                                                Bye     -1.0\n",
       "1887      -1                                          Take care     -1.0\n",
       "1888      -1                                                 \\n     -1.0\n",
       "\n",
       "[1399 rows x 3 columns]"
      ]
     },
     "execution_count": 132,
     "metadata": {},
     "output_type": "execute_result"
    }
   ],
   "source": [
    "df = df.loc[df.topics==-1]\n",
    "df"
   ]
  },
  {
   "cell_type": "code",
   "execution_count": 133,
   "metadata": {},
   "outputs": [],
   "source": [
    "\n",
    "text = ''\n",
    "for num, each in enumerate(df['docs']):\n",
    "    if df['rolling'].iloc[num] != df['rolling'].iloc[num-1]:\n",
    "        text+=f' \\n \\n  {each}. '\n",
    "    else:\n",
    "        text+=f'{each}. '"
   ]
  },
  {
   "cell_type": "code",
   "execution_count": null,
   "metadata": {},
   "outputs": [],
   "source": [
    "print(text)"
   ]
  },
  {
   "cell_type": "code",
   "execution_count": 124,
   "metadata": {},
   "outputs": [
    {
     "data": {
      "text/plain": [
       "'.\\n├─■──right_yeah_make_good_need ── Topic: 2\\n└─thing_like_think_go_time\\n     ├─thing_right_got_get_time\\n     │    ├─■──thing_time_say_said_got ── Topic: 4\\n     │    └─right_going_get_every_like\\n     │         ├─■──get_going_like_want_one ── Topic: 0\\n     │         └─■──right_every_little_know_even ── Topic: 1\\n     └─■──think_like_go_good_long ── Topic: 3\\n'"
      ]
     },
     "execution_count": 124,
     "metadata": {},
     "output_type": "execute_result"
    }
   ],
   "source": [
    "topic_model.get_topic_tree(hierarchical_topics)"
   ]
  },
  {
   "cell_type": "code",
   "execution_count": 166,
   "metadata": {},
   "outputs": [
    {
     "name": "stderr",
     "output_type": "stream",
     "text": [
      "2022-08-31 09:02:09.007777: I tensorflow/core/util/util.cc:169] oneDNN custom operations are on. You may see slightly different numerical results due to floating-point round-off errors from different computation orders. To turn them off, set the environment variable `TF_ENABLE_ONEDNN_OPTS=0`.\n",
      "2022-08-31 09:02:09.024383: W tensorflow/stream_executor/platform/default/dso_loader.cc:64] Could not load dynamic library 'libcudart.so.11.0'; dlerror: libcudart.so.11.0: cannot open shared object file: No such file or directory\n",
      "2022-08-31 09:02:09.024406: I tensorflow/stream_executor/cuda/cudart_stub.cc:29] Ignore above cudart dlerror if you do not have a GPU set up on your machine.\n"
     ]
    },
    {
     "name": "stdout",
     "output_type": "stream",
     "text": [
      "Shape of initial_state_logits: (10, 10)\n",
      "Shape of transition probs: (10, 10, 10)\n",
      "Example initial state logits for num_states==3:\n",
      "[  -0.   -0.   -0. -100. -100. -100. -100. -100. -100. -100.]\n",
      "Example transition_probs for num_states==3:\n",
      "[[0.95  0.025 0.025 0.    0.    0.    0.    0.    0.    0.   ]\n",
      " [0.025 0.95  0.025 0.    0.    0.    0.    0.    0.    0.   ]\n",
      " [0.025 0.025 0.95  0.    0.    0.    0.    0.    0.    0.   ]\n",
      " [0.    0.    0.    1.    0.    0.    0.    0.    0.    0.   ]\n",
      " [0.    0.    0.    0.    1.    0.    0.    0.    0.    0.   ]\n",
      " [0.    0.    0.    0.    0.    1.    0.    0.    0.    0.   ]\n",
      " [0.    0.    0.    0.    0.    0.    1.    0.    0.    0.   ]\n",
      " [0.    0.    0.    0.    0.    0.    0.    1.    0.    0.   ]\n",
      " [0.    0.    0.    0.    0.    0.    0.    0.    1.    0.   ]\n",
      " [0.    0.    0.    0.    0.    0.    0.    0.    0.    1.   ]]\n"
     ]
    },
    {
     "name": "stderr",
     "output_type": "stream",
     "text": [
      "2022-08-31 09:02:12.015508: W tensorflow/stream_executor/platform/default/dso_loader.cc:64] Could not load dynamic library 'libcuda.so.1'; dlerror: libcuda.so.1: cannot open shared object file: No such file or directory\n",
      "2022-08-31 09:02:12.015569: W tensorflow/stream_executor/cuda/cuda_driver.cc:269] failed call to cuInit: UNKNOWN ERROR (303)\n",
      "2022-08-31 09:02:12.015611: I tensorflow/stream_executor/cuda/cuda_diagnostics.cc:156] kernel driver does not appear to be running on this host (DESKTOP-533EO63): /proc/driver/nvidia/version does not exist\n",
      "2022-08-31 09:02:12.017494: I tensorflow/core/platform/cpu_feature_guard.cc:193] This TensorFlow binary is optimized with oneAPI Deep Neural Network Library (oneDNN) to use the following CPU instructions in performance-critical operations:  AVX2 AVX512F AVX512_VNNI FMA\n",
      "To enable them in other operations, rebuild TensorFlow with the appropriate compiler flags.\n"
     ]
    }
   ],
   "source": []
  },
  {
   "cell_type": "code",
   "execution_count": null,
   "metadata": {},
   "outputs": [],
   "source": []
  }
 ],
 "metadata": {
  "kernelspec": {
   "display_name": "Python 3.8.12 64-bit ('quint')",
   "language": "python",
   "name": "python3"
  },
  "language_info": {
   "codemirror_mode": {
    "name": "ipython",
    "version": 3
   },
   "file_extension": ".py",
   "mimetype": "text/x-python",
   "name": "python",
   "nbconvert_exporter": "python",
   "pygments_lexer": "ipython3",
   "version": "3.8.12"
  },
  "orig_nbformat": 4,
  "vscode": {
   "interpreter": {
    "hash": "8d98f679e85918cf6df43a016c8cf832b102b395abdc24b4f6327e5d97b9a7f4"
   }
  }
 },
 "nbformat": 4,
 "nbformat_minor": 2
}
